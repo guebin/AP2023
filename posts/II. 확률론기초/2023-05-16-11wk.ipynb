{
 "cells": [
  {
   "cell_type": "raw",
   "id": "ee76b2b7-f75c-4d9d-91bc-054aa28664a5",
   "metadata": {},
   "source": [
    "---\n",
    "title: \"11wk: 적분 (1)\"\n",
    "author: \"최규빈\"\n",
    "date: \"05/16/2023\"\n",
    "bibliography: ref.bib\n",
    "reference-location: margin\n",
    "citation-location: margin\n",
    "---"
   ]
  },
  {
   "cell_type": "markdown",
   "id": "69d6d944-e200-4122-93c9-78af90cb0d8b",
   "metadata": {},
   "source": [
    "# 강의영상 "
   ]
  },
  {
   "cell_type": "markdown",
   "id": "ad8d8e4c-2a70-4abc-b78b-72f6b801c503",
   "metadata": {},
   "source": [
    "> youtube: <https://youtube.com/playlist?list=PLQqh36zP38-wE3YLAgBkDd80KhdCztqy4>"
   ]
  },
  {
   "cell_type": "markdown",
   "id": "f73d8476-7f9e-4c0a-8353-a5913d254571",
   "metadata": {},
   "source": [
    "# 약속 "
   ]
  },
  {
   "cell_type": "markdown",
   "id": "fe8526b4-53ca-4cb6-b928-43ba8ebbb9c0",
   "metadata": {},
   "source": [
    "## 기호에 대한 암묵적 약속 "
   ]
  },
  {
   "cell_type": "markdown",
   "id": "4fc84e7c-3232-414c-9345-b0c4714ca3ab",
   "metadata": {},
   "source": [
    "`-` 르벡메져: 르벡메져는 지금까지 $m$으로 표현 $\\Rightarrow$ 앞으로는 $\\lambda$로 표현. "
   ]
  },
  {
   "cell_type": "markdown",
   "id": "2a0b24d3-53ff-49da-aa24-f3d7806aef05",
   "metadata": {},
   "source": [
    "`-` 메져: $\\mu,\\nu$ 등으로 표현."
   ]
  },
  {
   "cell_type": "markdown",
   "id": "39984a9b-151f-44a6-b02c-b26de4b1fcac",
   "metadata": {},
   "source": [
    "`-` 분포, 분포함수, 밀도함수: 확률공간 $(\\Omega, {\\cal F}, P)$에서 정의된 확률변수 $X$에 대응하는 분포는 $\\mu_X$, 그에 대응하는 분포함수는 $F_X$, 그에 대응하는 밀도함수는 $f_X$라고 표현. "
   ]
  },
  {
   "cell_type": "markdown",
   "id": "c47d8e0e-a2ed-4303-91fd-b8d215e545c9",
   "metadata": {},
   "source": [
    "`-` 일반적인 교재의 표기법 \n",
    "\n",
    "- 르벡메져: $\\mu$, $\\lambda$, $m$\n",
    "- 메져: $\\mu$, $\\nu$, $m$ \n",
    "- 분포: $\\mu$ \n",
    "- 분포함수: $F$, $F_X$\n",
    "- 밀도함수: $f$, $f_X$ "
   ]
  },
  {
   "cell_type": "markdown",
   "id": "fae3aba7-2e6b-448d-ad8e-eab473b0c30c",
   "metadata": {},
   "source": [
    "`-` 잴 수 있는 함수의 표현 (아래는 모두 같은말) \n",
    "\n",
    "- 두 개의 가측공간 $(\\Omega, {\\cal F})$, $(S, {\\cal S})$을 고려하자. 함수 $f:\\Omega \\to S$는 $\\forall B \\in {\\cal S}:~\\{\\omega: f(\\omega) \\in B\\} \\in {\\cal F}$ 을 만족한다. \n",
    "- 두 개의 가측공간 $(\\Omega, {\\cal F})$, $(S, {\\cal S})$을 고려하자. $f:\\Omega \\to S$는 잴 수 있는 함수이다. \n",
    "- $f:(\\Omega,{\\cal F}) \\to (S, {\\cal S})$ \n",
    "- $f$는 ${\\cal F}-{\\cal S}$ measurable 하다.\n",
    "- $f \\in {\\cal F}$, 이 표기법은 $(S,{\\cal S})=(\\mathbb{R}, {\\cal R})$일 경우에 한정하여 사용할 수 있음. \n",
    "- $f$는 $S$-valued measurable map "
   ]
  },
  {
   "cell_type": "markdown",
   "id": "b290f2be-b32c-4c83-9af8-dc9061a8cf31",
   "metadata": {},
   "source": [
    "## 확장된 실수공간 "
   ]
  },
  {
   "cell_type": "markdown",
   "id": "0c9dcc59-c9ad-4c5d-99a6-8a02b1f814b0",
   "metadata": {},
   "source": [
    "`-` 교재에 따라서 확장된 실수공간 $\\bar{\\mathbb{R}}$를 고려하기도 한다. [@durrett2019probability, p 14]\n",
    "\n",
    "$$\\bar{\\mathbb{R}} = \\mathbb{R} \\cup \\{-\\infty\\} \\cup \\{\\infty\\}$$ "
   ]
  },
  {
   "cell_type": "markdown",
   "id": "16c2eba9-546c-401f-adb1-417b1a838845",
   "metadata": {},
   "source": [
    "`-` 또한 확장된 실수공간에 대응하는 보렐셋을 정의하기도 한다. \n",
    "\n",
    "$${\\cal B}(\\bar{\\mathbb{R}})=\\bar{\\cal R}$$"
   ]
  },
  {
   "cell_type": "markdown",
   "id": "8bcac279-b538-45e9-95ac-cde519aa24f1",
   "metadata": {},
   "source": [
    "`-` $\\infty$, $-\\infty$는 실수가 아니다. 따라서 $x\\in \\mathbb{R}$ 인 경우는 $x$를 ***real-valued*** 라고 표현하지만 $x \\in \\bar{\\mathbb{R}}$ 인 경우는 $x$를 ***$\\bar{\\mathbb{R}}$-valued*** 라고 표현한다. "
   ]
  },
  {
   "cell_type": "markdown",
   "id": "06ced7ad-6d08-4c9c-a100-c120c711ceb5",
   "metadata": {},
   "source": [
    "# 로드맵 "
   ]
  },
  {
   "cell_type": "markdown",
   "id": "9618a841-ebd1-424a-be2e-288955488df9",
   "metadata": {},
   "source": [
    "`-` 목표: 밀도함수에 대한 소개"
   ]
  },
  {
   "cell_type": "markdown",
   "id": "069f5b7f-5330-408e-99e7-8e4bb3ec0aa0",
   "metadata": {},
   "source": [
    "`-` 로드맵: (적분, 칸토어집합) $\\to$ 밀도함수 "
   ]
  },
  {
   "cell_type": "markdown",
   "id": "e4fc321f-8569-4362-a75f-bc396826b9df",
   "metadata": {},
   "source": [
    "# 예비학습 "
   ]
  },
  {
   "cell_type": "markdown",
   "id": "fad296a9-fd9a-4219-ad60-d0338f5f78e0",
   "metadata": {},
   "source": [
    "## $(\\mathbb{R}^d, {\\cal R}^d)$"
   ]
  },
  {
   "cell_type": "markdown",
   "id": "3463de1e-4e50-4940-85de-9b6261027cdf",
   "metadata": {},
   "source": [
    "`-` **정의**: 두개의 집합 $A$, $B$가 있을때 두집합의 곱집합 (cartesian product) $A\\times B$를 아래와 같이 정의한다. \n",
    "\n",
    "$$A\\times B=\\{(a,b): a \\in A, b \\in B\\}$$"
   ]
  },
  {
   "cell_type": "markdown",
   "id": "a283dd46-e327-4a32-9768-ae52c30944f0",
   "metadata": {},
   "source": [
    "`-` **정의**: 수직선상의 두 열린구간 $(a_1,b_1)$, $(a_2,b_2)$ 의 곱집합 \n",
    "\n",
    "$$({\\boldsymbol a},{\\boldsymbol b}) = \\bigtimes_{i=1}^{2}(a_i,b_i)= (a_1,b_1) \\times (a_2,b_2)$$ \n",
    "\n",
    "을 open rantangle 이라고 한다. 비슷한 논리전개로 $({\\boldsymbol a},{\\boldsymbol b}],[{\\boldsymbol a},{\\boldsymbol b}),[{\\boldsymbol a},{\\boldsymbol b}]$ 역시 정의할 수 있다. "
   ]
  },
  {
   "cell_type": "markdown",
   "id": "7d1e0908-58ac-45b3-9990-f8e97b6646c5",
   "metadata": {},
   "source": [
    "`-` **이론**: 아래와 같은 집합들의 모임 ${\\cal A}$를 생각하자. "
   ]
  },
  {
   "cell_type": "markdown",
   "id": "98bf4239-7bf4-453e-a196-725ab555392c",
   "metadata": {},
   "source": [
    "$${\\cal A}=\\{({\\boldsymbol a}, {\\boldsymbol b}]: {\\boldsymbol a} < {\\boldsymbol b},~ {\\boldsymbol a}, {\\boldsymbol b} \\in \\mathbb{R}^2\\}$$ "
   ]
  },
  {
   "cell_type": "markdown",
   "id": "a658324d-2443-4ded-9b6b-7d1834726801",
   "metadata": {},
   "source": [
    "여기에서 ${\\boldsymbol a}< {\\boldsymbol b}$는 \"$a_1<b_1$ and $a_2 < b_2$\" 를 의미한다. "
   ]
  },
  {
   "cell_type": "markdown",
   "id": "c4a840e9-9a1e-4d2b-b845-fde21d9a6d4b",
   "metadata": {},
   "source": [
    "1. 시그마필드 $\\sigma({\\cal A})$는 잘 정의된다. (귀찮아서 만든 이론1)\n",
    "2. $\\sigma({\\cal A})$은 ${\\cal R}$의 2차원버전이라 해석할 수 있다. \n",
    "3. 이러한 의미에서 ${\\cal R}^2=\\sigma({\\cal A})$라는 기호를 쓰기도 한다. \n",
    "4. $(\\mathbb{R}^2, {\\cal R}^2)$ 는 잴 수 있는 공간이다. \n",
    "5. 함수 $\\tilde{\\lambda}: {\\cal A} \\to [0,\\infty]$를 아래와 같이 정의하자. 카라테오도리의 확장정리에 의하여 $\\tilde{\\lambda}$는 $(\\mathbb{R}^2,{\\cal R}^2)$ 에서의 메져가 된다. \n",
    "$$\\tilde{\\lambda}(({\\boldsymbol a},{\\boldsymbol b}])=\\prod_{i=1}^{2}(b_i-a_i)$$\n",
    "6. 08주차에 정리된 모든 ${\\cal A}_i$에 대하여, $\\sigma({\\cal A}_i)={\\cal R}^2$ 을 만족한다. "
   ]
  },
  {
   "cell_type": "markdown",
   "id": "0aef95ca-4f72-48f9-a092-c59c07399ac1",
   "metadata": {},
   "source": [
    "`-` 체크: $(\\mathbb{R}^2, {\\cal R}^2)$ 와 동일한 논리전개가 $(\\mathbb{R}^d, {\\cal R}^d)$ 에서도 성립한다. "
   ]
  },
  {
   "cell_type": "markdown",
   "id": "8b123287-c6a4-4533-930c-f991a7e56d3b",
   "metadata": {},
   "source": [
    "## sup, inf "
   ]
  },
  {
   "cell_type": "markdown",
   "id": "d0844128-8f6d-47ff-b00e-52183bf5dfdc",
   "metadata": {},
   "source": [
    "`-` 집합 $A=\\{1,2,3\\}$에 대하여 아래의 표현을 살펴보자. \n",
    "\n",
    "- $\\max A =3$ \n",
    "- $\\min A =1$"
   ]
  },
  {
   "cell_type": "markdown",
   "id": "89c720d8-eed8-449c-acb3-0fcad257619a",
   "metadata": {},
   "source": [
    "`-` 집합 $A=[0,2]$에 대하여 아래의 표현을 살펴보자. \n",
    "\n",
    "- $\\max A =2$ \n",
    "- $\\min A =0$"
   ]
  },
  {
   "cell_type": "markdown",
   "id": "259db810-e7be-49ca-be17-cc8f204caf01",
   "metadata": {},
   "source": [
    "`-` 집합 $A=(0,2)$라면? \n",
    "\n",
    "- $\\max A =???$^[2라고 하고싶은데 2라고 할 수 없다. (즉 정의할 수 없다.)]\n",
    "- $\\min A =???$^[0이라 하고싶은데 0이라고 할 수 없다. (즉 정의할 수 없다.)] \n",
    "- $\\sup A = 2$ \n",
    "- $\\inf A = 0$ "
   ]
  },
  {
   "cell_type": "markdown",
   "id": "5f995bef-2d25-4214-9798-8d8d231e213f",
   "metadata": {},
   "source": [
    "`-` 가짜정의: 어떠한 집합 $A$가 있다고 할떄 $\\sup A$와 $\\inf A$는 각각 $\\max A$와 $\\min A$의 개념을 좀 더 업그레이드 한것이다. $\\max A$는 $A$의 원소중 최대값을 의미하는데 이러한 $\\max$의 정의는 구간 $[0,2)$의 최대값은 $2$라고 주장할 수 없어 쓰기에 불편할 때가 있다. $\\min$ 역시 마찬가지의 불편함이 있다. 이를 보완하기 위해 등장한 개념이 $\\sup$과 $\\inf$이다. "
   ]
  },
  {
   "cell_type": "markdown",
   "id": "7f365610-0831-49b1-b5c9-658c19c9ecc7",
   "metadata": {},
   "source": [
    "`-` 트릭: 증가하는 수열 $a_n$의 경우 $\\sup\\{a_n\\}$은 수열 $\\{a_n\\}$의 극한을 의미하기도 한다. 반대로 감소하는 수열 $\\{a_n\\}$의 경우 $\\inf \\{a_n\\}$이 $\\{a_n\\}$의 극한을 의미하기도 한다. "
   ]
  },
  {
   "cell_type": "markdown",
   "id": "92c1af6f-874f-4dc3-a94c-73aa1ab209ff",
   "metadata": {},
   "source": [
    "***잘못된 사용***"
   ]
  },
  {
   "cell_type": "markdown",
   "id": "47884ac4-d3a5-4537-b8b0-34b547e5bf40",
   "metadata": {},
   "source": [
    "`1`. 집합들의 집합에서 $\\inf,\\sup$의 잘못된 사용: 부등호 $<$를 $\\subset$으로 해석 \n",
    "\n",
    "- 예시1: $\\inf\\big\\{(-\\frac{1}{n},0]: n \\in \\mathbb{N}\\big\\}=\\{0\\}$ // 틀린표현\n",
    "- 예시2: $\\sup\\big\\{[0,1-\\frac{1}{n}]: n \\in \\mathbb{N}\\big\\}=[0,1)$ // 틀린표현"
   ]
  },
  {
   "cell_type": "markdown",
   "id": "4345a76d-850d-4ae9-ab24-9d2b001a8c74",
   "metadata": {},
   "source": [
    "`2` 함수들의 집합에서 $\\inf,\\sup$의 잘못된 사용: 부등호 $f<g$ 를 \"$\\forall x: f(x)<g(x)$\" 로 해석 \n",
    "\n",
    "- 예시1: $f(x)=x$ 일때, $\\sup\\big\\{f_n: f_n(x)=x-\\frac{1}{n}, n \\in \\mathbb{n} \\big\\}=f$ // 틀린표현"
   ]
  },
  {
   "cell_type": "markdown",
   "id": "cec131fb-127a-4504-bd78-29c132a028ac",
   "metadata": {},
   "source": [
    "## 잴 수 있는 함수들"
   ]
  },
  {
   "cell_type": "markdown",
   "id": "b19297e9-c036-4055-a5d4-075821abe910",
   "metadata": {},
   "source": [
    "`-` 이론: 두 개의 잴 수 있는 공간 $(\\Omega, {\\cal F})$, $(\\mathbb{R}, {\\cal R})$을 고려하자. ${\\cal F}$-measurable 한 집합 $A$에 대하여^[$A \\in {\\cal F}$이라는 뜻] 함수 $f:\\Omega \\to \\mathbb{R}$을 아래와 같이 정의한다고 하자. \n",
    "\n",
    "$$f(\\omega) = \\begin{cases} 1 & \\omega \\in A \\\\ 0 & \\omega \\not \\in A \\end{cases}$$ \n",
    "\n",
    "함수 $f$는 ${\\cal F}-{\\cal R}$ measurable function 이다. "
   ]
  },
  {
   "cell_type": "markdown",
   "id": "9b89e431-d891-4067-9e27-b5cf38179a0e",
   "metadata": {},
   "source": [
    "(해설) \n",
    "\n",
    "1. $B \\in {\\cal R}$를 고정하자. \n",
    "2. 만약에 $\\{1,0\\} \\not \\subset B$ 이라면 $\\{\\omega: f(\\omega) \\in B\\}=\\emptyset \\in {\\cal F}$ 이다. \n",
    "3. 만약에 $\\{1\\} \\subset B, \\{0\\} \\not \\subset B$ 이라면 $B=\\{1\\} \\cup (B-\\{1\\})$ 와 같이 분해한다. \n",
    "4. $f$는 함수이므로 $f^{-1}(B)=f^{-1}(\\{1\\}) \\cup f^{-1}(B-\\{1\\})$를 만족한다. \n",
    "5. $f^{-1}(\\{1\\})=A$이고 $f^{-1}(B-\\{1\\})=\\emptyset$ 이므로 $f^{-1}(B)=A \\in {\\cal F}$ 를 만족한다. \n",
    "6. 3-5의 논의가 $\\{0\\} \\subset B, \\{1\\} \\not \\subset B$ 에 대해서도 성립한다. \n",
    "7. $\\{0,1\\} \\subset B$ 인 경우에는 $f^{-1}(B) =\\Omega$가 되므로 $f^{-1}(B) \\in {\\cal F}$ 를 만족한다. \n",
    "8. 1-7의 논의가 임의의 $B$에 대하여 모두 성립하므로 $\\forall B \\in {\\cal R}:~f^{-1}(B) \\in {\\cal F}$ 이다. \n",
    "9. 따라서 $f$는 ${\\cal F}-{\\cal R}$ measurable function 이다. "
   ]
  },
  {
   "cell_type": "markdown",
   "id": "a2b2d9c1-bc3e-4a3c-847f-dd2e58f99bb2",
   "metadata": {},
   "source": [
    "`-` 이론: 두 개의 잴 수 있는 공간 $(\\Omega, {\\cal F})$, $(\\mathbb{R}, {\\cal R})$을 고려하자. 함수 $f$가 ***$\\mathbb{R}$-valued measurable function*** 이라면 임의의 $\\alpha \\in \\mathbb{R}$에 대하여 함수 \n",
    "\n",
    "$$g(\\omega)=\\alpha f(\\omega)$$ \n",
    "\n",
    "역시 ***$\\mathbb{R}$-valued measurable function*** 이다. "
   ]
  },
  {
   "cell_type": "markdown",
   "id": "eb943483-4c59-451a-b4dc-3bfcb25e507f",
   "metadata": {},
   "source": [
    "(해설) "
   ]
  },
  {
   "cell_type": "markdown",
   "id": "732f574c-9ac6-4713-bbaf-09ca3114e2ab",
   "metadata": {},
   "source": [
    "1. $\\alpha=0$ 이라면, 자명하게 성립. 따라서 $\\alpha\\neq 0$ 일 경우만 증명하면 된다. \n",
    "2. $B \\in {\\cal R}$를 고정하자. \n",
    "3. $g^{-1}(B)=f^{-1}(\\frac{1}{\\alpha}B)$ 가 성립한다. 여기에서 $\\frac{1}{\\alpha}B =: \\{x: x=\\frac{y}{\\alpha}, y\\in B\\}$. \n",
    "4. $f$는 ***$\\mathbb{R}$-valued measurable map*** 이므로 $f^{-1}(\\frac{1}{\\alpha}B) \\in {\\cal F}$. \n",
    "5. 임의의 $B$에 대하여 2-4의 논의가 성립하므로 $g$ 역시 ${\\cal F}-{\\cal R}$ measurable 이다. "
   ]
  },
  {
   "cell_type": "markdown",
   "id": "52cd9ec8-61ac-4eb3-a858-d84d43e8d2ad",
   "metadata": {},
   "source": [
    "`-` **Thm** [@durrett2019probability, Thm 1.3.2]: 세 개의 잴 수 있는 공간 $(\\Omega,{\\cal F})$, $(S,{\\cal S})$, $(T,{\\cal T})$를 고려하자. $f:(\\Omega,{\\cal F}) \\to (S,{\\cal S})$ 이고 $g:(S,{\\cal S}) \\to (T,{\\cal T})$ 이면 $g\\circ f: (\\Omega, {\\cal F}) \\to (T,{\\cal T})$ 이다. "
   ]
  },
  {
   "cell_type": "markdown",
   "id": "221618c2-e85c-4e69-84f5-469d7f6c7b76",
   "metadata": {},
   "source": [
    "`-` 이론: 함수 $f:\\mathbb{R} \\to \\mathbb{R}$가 연속함수라면 $f:(\\mathbb{R},{\\cal R}) \\to (\\mathbb{R},{\\cal R})$ 이다."
   ]
  },
  {
   "cell_type": "markdown",
   "id": "bd3b69ee-ebb3-4443-b2ed-0e442e3116fa",
   "metadata": {},
   "source": [
    "(해설) -- 연속함수의 정의 + [@durrett2019probability, Thm 1.3.1] 를 알면 이해하기 쉬운데... "
   ]
  },
  {
   "cell_type": "markdown",
   "id": "ac8e2c5d-ab2e-4cce-9e1d-16e3693dc91f",
   "metadata": {},
   "source": [
    "`-` 이론: 두 개의 잴 수 있는 공간 $(\\Omega, {\\cal F})$, $(\\mathbb{R}, {\\cal R})$을 고려하자. 함수 $f,g$가 ***$\\mathbb{R}$-valued measurable function*** 이라고 하자. 아래는 모두 ***$\\mathbb{R}$-valued measurable function*** 이다. \n",
    "\n",
    "1. $h:=f+g$ \n",
    "2. $h:=f-g$\n",
    "3. $h:=\\max(f,g)$, where $h: \\omega \\mapsto \\max(f(\\omega),g(\\omega))$\n",
    "4. $h:=\\min(f,g)$, where $h: \\omega \\mapsto \\min(f(\\omega),g(\\omega))$"
   ]
  },
  {
   "cell_type": "markdown",
   "id": "ed9e880e-cfee-4dbd-b7f4-b1612302614a",
   "metadata": {},
   "source": [
    "`-` **이론** [@durrett2019probability, Thm 1.3.5]: 두 개의 잴 수 있는 공간 $(\\Omega, {\\cal F})$, $(\\mathbb{R}, {\\cal R})$을 고려하자. 함수열 $\\{f_n: n \\in \\mathbb{N}\\}$의 모든 원소가 ***$\\mathbb{R}$-valued measurable function*** 이라고 하자. 그렇다면 아래는 모두 ***${\\cal F}-{\\cal R}$ measurable*** 한 함수이다. \n",
    "\n",
    "- $h:=\\inf f_n$, where $h: \\omega \\mapsto \\inf\\big\\{f_1(\\omega),f_2(\\omega),\\dots \\big\\}$\n",
    "- $h:=\\sup f_n$, where $h: \\omega \\mapsto \\sup\\big\\{f_1(\\omega),f_2(\\omega),\\dots \\big\\}$"
   ]
  },
  {
   "cell_type": "markdown",
   "id": "10f67e2a-b776-4990-8233-8307e8ccc1b0",
   "metadata": {},
   "source": [
    "# 적분 intro "
   ]
  },
  {
   "cell_type": "markdown",
   "id": "551ce21b-7815-4a18-b911-1655c8361371",
   "metadata": {},
   "source": [
    "## 르벡적분 맛보기 "
   ]
  },
  {
   "cell_type": "markdown",
   "id": "9d3dd3f2-7c95-4222-a5f7-31c658603fac",
   "metadata": {},
   "source": [
    "`-` **(예제1)** -- 사각형의 넓이 "
   ]
  },
  {
   "cell_type": "markdown",
   "id": "d418ae0d-115f-4129-8ab3-fde1ea19d2fa",
   "metadata": {},
   "source": [
    "아래와 같은 함수의 밑면적을 계산해보자. "
   ]
  },
  {
   "cell_type": "markdown",
   "id": "aa34b892-b573-4b1f-a61f-fe890264a1c7",
   "metadata": {},
   "source": [
    "$$f(x)= \\begin{cases} 1 &  0 \\leq x \\leq 1 \\\\ 0 & o.w. \\end{cases}$$ "
   ]
  },
  {
   "cell_type": "markdown",
   "id": "22462dfc-b28a-49c2-81d1-e88f5873c19e",
   "metadata": {},
   "source": [
    "답은 1이다. 이것을 적분을 이용하여 구하는 과정을 서술해라. "
   ]
  },
  {
   "cell_type": "markdown",
   "id": "cff7e6f0-d67f-479a-a04d-089ab7e04677",
   "metadata": {},
   "source": [
    "(서술1) "
   ]
  },
  {
   "cell_type": "markdown",
   "id": "1fbee483-6744-4eb3-90b2-bb19cc417c00",
   "metadata": {},
   "source": [
    "$$\\int_{-\\infty}^{\\infty} f(x)dx = \\int_0^1 f(x) dx = \\int_{0}^{1}dx = 1$$"
   ]
  },
  {
   "cell_type": "markdown",
   "id": "cb0fed83-5811-44c8-8d85-cae9f454a210",
   "metadata": {},
   "source": [
    "(서술2) "
   ]
  },
  {
   "cell_type": "markdown",
   "id": "77eeee03-a873-42f1-95f0-a1f25cbbb085",
   "metadata": {},
   "source": [
    "그런데 이 예제의 경우 구간 $[0,1]$에서 함수 $f(x)$의 값이 모두 $f(x)=1$로 같고 그 외의 구간에서는 모두 $f(x)=0$이므로 아래와 같이 수식을 쓰는 것도 가능하다. "
   ]
  },
  {
   "cell_type": "markdown",
   "id": "3de95cb6-bb7c-4fcd-b326-4a7aa6795665",
   "metadata": {},
   "source": [
    "$$\\lambda([0,1]) \\times 1= 1$$"
   ]
  },
  {
   "cell_type": "markdown",
   "id": "60450970-1055-4f91-94e3-89dcec35bae9",
   "metadata": {},
   "source": [
    "`-` **(예제2)** -- 사각형의 넓이 (2)"
   ]
  },
  {
   "cell_type": "markdown",
   "id": "919ba9da-5ad0-4594-9eff-e32c70e26c94",
   "metadata": {},
   "source": [
    "이제 아래와 같은 함수의 밑면적을 고려하자. "
   ]
  },
  {
   "cell_type": "markdown",
   "id": "4da65ff2-c3a4-46eb-b9d7-b18ff418de3f",
   "metadata": {},
   "source": [
    "$$g(x)= \\begin{cases} 1 &  0 < x < 1 \\\\ 0 & o.w. \\end{cases}$$ "
   ]
  },
  {
   "cell_type": "markdown",
   "id": "c17461a5-5504-470c-8d02-48e31d2080eb",
   "metadata": {},
   "source": [
    "이것을 적분을 이용하여 구하는 과정을 서술하고 기호를 살펴보자. "
   ]
  },
  {
   "cell_type": "markdown",
   "id": "bc1bf018-405b-4d90-9ce0-7baaa0d81dc5",
   "metadata": {},
   "source": [
    "(틀린서술) "
   ]
  },
  {
   "cell_type": "markdown",
   "id": "ab4fa748-0303-49f9-9512-a9d886185685",
   "metadata": {},
   "source": [
    "$$\\int_{-\\infty}^{\\infty} g(x)dx=\\int_0^1 g(x)dx = \\int_0^1dx=1$$ "
   ]
  },
  {
   "cell_type": "markdown",
   "id": "9741cd02-612d-4d43-adab-760730398cc1",
   "metadata": {},
   "source": [
    "-- 틀린이유? $\\int_0^1$은 폐구간 $[0,1]$를 의미함. 이러한 구간에서는 $g(x)$의 값이 일괄적으로 1이라고 주장할 수 없다. "
   ]
  },
  {
   "cell_type": "markdown",
   "id": "fd49526c-cd0a-4763-8fb7-80f891545b8f",
   "metadata": {},
   "source": [
    "(서술1)"
   ]
  },
  {
   "cell_type": "markdown",
   "id": "bef70625-463f-4894-9d55-659b208416a2",
   "metadata": {},
   "source": [
    "구간 $[0,1]$에서 $g(x)$의 밑면적은 구간 $[0,1]$에서 $f(x)$의 밑면적과 같으므로 1이다. "
   ]
  },
  {
   "cell_type": "markdown",
   "id": "4ed0ea03-beac-42ef-8a73-bccd35a7bd84",
   "metadata": {},
   "source": [
    "(서술2) "
   ]
  },
  {
   "cell_type": "markdown",
   "id": "272364ca-864e-411c-acd6-4752dfb09546",
   "metadata": {},
   "source": [
    "이 예제의 경우 구간 $(0,1)$에서 함수 $g(x)$의 값이 모두 $g(x)=1$로 같고 그 외의 구간에서는 모두 $g(x)=0$이므로 아래와 같이 수식을 쓸 수 있다. "
   ]
  },
  {
   "cell_type": "markdown",
   "id": "7802fc69-b9e9-40bc-b808-79920d63542e",
   "metadata": {},
   "source": [
    "$$\\lambda((0,1)) \\times 1= 1$$"
   ]
  },
  {
   "cell_type": "markdown",
   "id": "f44e53f5-f7ad-48c6-920a-dffbce8d60ab",
   "metadata": {},
   "source": [
    "`-` **(예제3)** -- 사각형의 넓이 (3)"
   ]
  },
  {
   "cell_type": "markdown",
   "id": "d68964d5-48f5-4bbd-a25e-acf5297b6d8e",
   "metadata": {},
   "source": [
    "이제 아래와 같은 함수 $f(x)$에 대한 밑면적을 계산하고 싶다고 생각해보자. \n",
    "\n",
    "$$f(x)= \\begin{cases} \n",
    "1 & 0<x<1/2 \\\\ \n",
    "2 & 1/2 \\leq x < 1 \\\\ \n",
    "\\frac{1}{3} & 1<x<3 \\\\ \n",
    "0 & o.w \n",
    "\\end{cases}$$ "
   ]
  },
  {
   "cell_type": "markdown",
   "id": "549421c7-5fca-41ee-b402-e65ad37c63d4",
   "metadata": {},
   "source": [
    "예제1,2에서 소개한 서술1,2에 근거하여 $f$의 밑면적을 구하는 방법을 논의하라. "
   ]
  },
  {
   "cell_type": "markdown",
   "id": "8c50dbf1-8500-4f53-bbf6-3f3c3e2813aa",
   "metadata": {},
   "source": [
    "(서술1)"
   ]
  },
  {
   "cell_type": "markdown",
   "id": "eb465d78-7483-4b97-955b-8457e68c054e",
   "metadata": {},
   "source": [
    "$f$의 밑면적 $S$를 적분으로 나타내면 "
   ]
  },
  {
   "cell_type": "markdown",
   "id": "4a4bd614-2f59-430e-a631-f2881d9aaeaa",
   "metadata": {},
   "source": [
    "$$S=\\int_{0}^{\\frac{1}{2}}dx + \\int_{\\frac{1}{2}}^{1} 2dx + \\int_{1}^{3} \\frac{1}{3}dx$$ "
   ]
  },
  {
   "cell_type": "markdown",
   "id": "f5800feb-b411-4061-b127-e07dc108ae7c",
   "metadata": {},
   "source": [
    "사실 $\\int_{a}^{b}f(x)dx$ 와 같은 형태는 일반적으로 함수가 $f$가 폐구간 $[a,b]$ 에서 정의된다고 가정하고 사용하므로 위의 기호는 정확하지 않다. \n",
    "\n",
    "1. $x=\\frac{1}{2},1,3$에 해당하는 영역은 중복혜서 계산된다. \n",
    "2. $x=\\frac{1}{2}$에 해당하는 영역은 함수값을 1로 보기도 하고 2로 보기도 한다. \n",
    "3. $x=1$에 해당하는 영역은 함수값을 2로 보기도 하고 3으로 보기도 한다. \n",
    "4. $x=0$에 해당하는 영역은 실제로는 함수값이 0이지만 계산상으로는 1로 생각한다. \n",
    "5. $x=1$에 해당하는 영역은 실제로는 함수값이 0이지만 계산상으로는 2 혹은 $\\frac{1}{3}$로 생각한다. \n",
    "6. $x=3$에 해당하는 영역은 실제로는 함수값이 0이지만 계산상으로는 $\\frac{1}{3}$로 생각한다. "
   ]
  },
  {
   "cell_type": "markdown",
   "id": "d74a0754-b0c0-402c-b58f-ea95f9694f6d",
   "metadata": {},
   "source": [
    "하지만 이러한 사소한점을 무시해도 계산결과는 여전히 $S$이다. "
   ]
  },
  {
   "cell_type": "markdown",
   "id": "d7a90594-0a8d-4bae-b423-ae49e158cddc",
   "metadata": {},
   "source": [
    "(서술2) "
   ]
  },
  {
   "cell_type": "markdown",
   "id": "4dc096dc-7f2d-465b-a1ba-da0ac0c0a679",
   "metadata": {},
   "source": [
    "함수 $f$의 면적 $S$는 아래와 같이 나타낼 수 있다. "
   ]
  },
  {
   "cell_type": "markdown",
   "id": "c23b58ef-bdcd-4711-bde4-5297457937e6",
   "metadata": {},
   "source": [
    "$$S = 1\\times \\lambda(A_1) + 2 \\times \\lambda(A_2) + \\frac{1}{3} \\lambda(A_3)$$"
   ]
  },
  {
   "cell_type": "markdown",
   "id": "4b1b244f-5b59-40a8-bf2b-acc08d53394b",
   "metadata": {},
   "source": [
    "단, 여기에서 $A_1=(0,\\frac{1}{2}), A_2=[\\frac{1}{2},1), A_3=(1,3)$ 이다. "
   ]
  },
  {
   "cell_type": "markdown",
   "id": "b1062143-9dfb-4f76-84e1-28bef147b20b",
   "metadata": {},
   "source": [
    "(소감) "
   ]
  },
  {
   "cell_type": "markdown",
   "id": "58e1c836-7e78-4e23-b35a-31f6a2fe4e82",
   "metadata": {},
   "source": [
    "르벡메져를 이용하여 넓이를 정의하니까 애매한 점 없이 매우 깔끔하다. 단지 $A_1,A_2,A_3$이 르벡측도로 잴 수 있는 집합이어야 하므로 $A_1,A_2,A_3 \\in {\\cal R}$ 정도만 체크해주면 될 것 같다. "
   ]
  },
  {
   "cell_type": "markdown",
   "id": "0b55c38e-328c-4432-af16-8c0acaa88656",
   "metadata": {},
   "source": [
    "`-` **(예제4)** -- 리만적분 vs 르벡적분 "
   ]
  },
  {
   "cell_type": "markdown",
   "id": "aae8e8ef-53ad-4319-9f59-e9d02b42ca07",
   "metadata": {},
   "source": [
    "이제 아래와 같은 함수 $f$의 밑면적을 계산하는 방식을 고려하여 보자. "
   ]
  },
  {
   "cell_type": "markdown",
   "id": "bb0849b5-8349-4e1f-be44-2c7698353a68",
   "metadata": {},
   "source": [
    "$$f(x) = \\begin{cases} 1 & x \\in [0,1] \\cap \\mathbb{Q}  \\\\ 2 & x \\in [0,1] \\cap \\mathbb{Q}^c \\\\ 0 & o.w. \\end{cases}$$ "
   ]
  },
  {
   "cell_type": "markdown",
   "id": "3da5fd41-be16-41b3-9d27-163107e54915",
   "metadata": {},
   "source": [
    "(서술1) -- 리만적분 "
   ]
  },
  {
   "cell_type": "markdown",
   "id": "e3b25a4c-e437-4cf6-bf00-460684b28f87",
   "metadata": {},
   "source": [
    "***적분이 불가능하다. 그 이유를 엄밀하지 않게 서술하면 아래와 같다.***"
   ]
  },
  {
   "cell_type": "markdown",
   "id": "f65567d0-cb05-4d72-8580-b6bb6db04548",
   "metadata": {},
   "source": [
    "1. 우리가 알고 있는 \"적분\"이라는 것은 본래 $x$축을 잘게 쪼개서 아주 작은 구간을 만든뒤에 그 구간에서 $f(x)$의 값들이 비슷함을 이용하여 $f(x)$의 밑면적을 사각형넓이들의 합으로 근사시키는 방식이다. \n",
    "2. 이것은 아주 작은 구간에서는 $f(x)$의 값이 다른값을 가져봤자 그 차이는 미미하고 그래서 거의 상수처럼 생각할 수 있다는 직관을 이용하는 것이다. \n",
    "3. 일반적인 함수는 구간의 크기를 작게 만들수록 $f(x)$의 값은 점점 상수화되고 그 결과 사각형들의 합으로 근사된 넓이는 함수 $f$의 밑면적으로 수렴한다. \n",
    "4. 그런데 이 예제의 경우 아무리 작은 구간을 잡아도 그 사이에는 수많은 유리수와 수많은 무리수가 있으므로 함수값 $f(x)$은 안정화 되지 않으며 1과 2사이를 \"널뛴다.\"\n",
    "5. 따라서 적분값은 안정화되지 않는다. "
   ]
  },
  {
   "cell_type": "markdown",
   "id": "64a97098-354d-49cf-bbf1-33e991448410",
   "metadata": {},
   "source": [
    "> 구간에서의 $f(x)$의 대표값을 양 끝점중 하나로 설정한다고 하자. 만약 구간의 양끝점을 유리수로만 설정하면 넓이는 1로 계산되고, 무리수로만 설정하면넓이는 2로 계산될 것이다. "
   ]
  },
  {
   "cell_type": "markdown",
   "id": "27a37b25-b7a3-4e90-8314-4b1f7823fb06",
   "metadata": {},
   "source": [
    "(서술2) -- 르벡적분 "
   ]
  },
  {
   "cell_type": "markdown",
   "id": "494cbb06-a5c9-4dd3-bc9d-32921e647de8",
   "metadata": {},
   "source": [
    "함수 $f$의 면적 $S$는 아래와 같이 나타낼 수 있다. "
   ]
  },
  {
   "cell_type": "markdown",
   "id": "22c4a081-3cb6-4687-bfd5-48bdf23a8ecd",
   "metadata": {},
   "source": [
    "$$S = 1\\times \\lambda(A_1) + 2 \\times \\lambda(A_2)$$"
   ]
  },
  {
   "cell_type": "markdown",
   "id": "edfc2908-499c-4a60-b08f-4d9380a9785e",
   "metadata": {},
   "source": [
    "단, 여기에서 $A_1=[0,1] \\cap \\mathbb{Q}, A_2=[0,1] \\cap \\mathbb{Q}^c$ 이다. 집합 $A_1,A_2$ 는 모두 ${\\cal R}$-measurable 하므로 $\\lambda(A_1), \\lambda(A_2)$의 값이 각각 0과 1로 잘 정의된다. 따라서 $S=2$로 계산할 수 있다. "
   ]
  },
  {
   "cell_type": "markdown",
   "id": "42b99677-de00-4508-aa96-660e391d0b36",
   "metadata": {},
   "source": [
    "## 그림을 통한 이해 "
   ]
  },
  {
   "cell_type": "markdown",
   "id": "05f02441-453b-491c-9548-914b93ca86dd",
   "metadata": {},
   "source": [
    "`-` 느낌: 리만적분은 정의역을 잘게 쪼개는 느낌이지만, 르벡적분은 치역을 잘게 쪼개는 느낌이다. (리만적분을 밑넓이를 세로나누어 계산하고, 르벡적분은 가로로 나누어 계산한다.) "
   ]
  },
  {
   "cell_type": "markdown",
   "id": "82bd04fc-98e2-4a4a-bb8f-1fc2927f532a",
   "metadata": {},
   "source": [
    "![위키에서 긁은 그림: 왼쪽이 리만적분, 오른쪽이 르벡적분](https://upload.wikimedia.org/wikipedia/commons/thumb/d/d3/Riemann_vs_lebesgue_integration_of_serbian_covid_case_data.svg/800px-Riemann_vs_lebesgue_integration_of_serbian_covid_case_data.svg.png)"
   ]
  },
  {
   "cell_type": "markdown",
   "id": "52e22d99-6d6a-4b20-adf6-c007cf5573de",
   "metadata": {},
   "source": [
    "![위키에서 긁은 그림: 위쪽이 리만적분, 아래가 르벡적분](https://upload.wikimedia.org/wikipedia/commons/thumb/a/af/RandLintegrals.svg/1024px-RandLintegrals.svg.png)"
   ]
  },
  {
   "cell_type": "markdown",
   "id": "5bac285d-2470-4e7b-b2ff-7c0abb168c75",
   "metadata": {},
   "source": [
    "## $dx$ 대신 $d\\lambda$를 "
   ]
  },
  {
   "cell_type": "markdown",
   "id": "b44ed743-3bd6-4953-aae8-21cc7c82e5a7",
   "metadata": {},
   "source": [
    "`-` 리만적분($dx$)과 르벡적분($d\\lambda$)를 연결하여 보자. "
   ]
  },
  {
   "cell_type": "markdown",
   "id": "29928800-8cca-4d1f-b1a7-1c3d0af715f7",
   "metadata": {},
   "source": [
    "`-` 참고: 아래와 같은 함수 $f(x)$를 고려하자. \n",
    "\n",
    "$$f(x) = \\begin{cases} \\alpha & x \\in [0,1]  \\\\  o.w \\end{cases}$$"
   ]
  },
  {
   "cell_type": "markdown",
   "id": "998f7688-244f-4695-aef7-ccf3ad4e19b9",
   "metadata": {},
   "source": [
    "그리고 $\\lambda$를 르벡메져라고 하자. 아래는 모두 같은 표현이다. \n",
    "\n",
    "1. $\\int_{-\\infty}^{\\infty} f(x) dx$ \n",
    "2. $\\int_0^1f(x)dx$ \n",
    "3. $\\int_0^1 \\alpha dx$ \n",
    "4. $\\alpha \\int_0^1 dx$ \n",
    "5. $\\alpha\\lambda(A)$ \n",
    "6. $\\alpha\\int_{A}d\\lambda$ \n",
    "7. $\\int_{A}\\alpha d\\lambda$ \n",
    "8. $\\int_{A}f d\\lambda$ \n",
    "9. $\\int f d\\lambda$ \n"
   ]
  },
  {
   "cell_type": "markdown",
   "id": "b7c72cda-da6b-4236-b6b7-57135d46ecd3",
   "metadata": {},
   "source": [
    "## $d\\lambda$ 대신 $d\\mu$를"
   ]
  },
  {
   "cell_type": "markdown",
   "id": "597a8631-ecc7-49c1-ab9a-4836ae4b66dd",
   "metadata": {},
   "source": [
    "`-` 위의 표현들에서 $d\\lambda$와 같은 표현은 르벡메져가 아닌 일반적인 메져에서도 표현가능하다. 만약 가측공간 $(\\mathbb{R},{\\cal R})$에 아래와 같은 메져 $\\nu$가 존재한다고 하자. \n",
    "\n",
    "$$\\nu = 2\\lambda$$\n",
    "\n",
    "여기에서 $\\lambda$는 르벡메져이다. 그렇다면, 임의의 $A \\in {\\cal R}$에 대하여 아래가 성립한다. \n",
    "\n",
    "$$\\int_A d\\nu = 2\\int_A d\\lambda $$ "
   ]
  },
  {
   "cell_type": "markdown",
   "id": "14943f5e-31e0-41ff-ba8b-b3c3d60f1ba7",
   "metadata": {},
   "source": [
    "## 모든 곳에서, 거의 모든 곳에서 "
   ]
  },
  {
   "cell_type": "markdown",
   "id": "f8b10376-7a8c-41ec-9507-81dfbcb675d6",
   "metadata": {},
   "source": [
    "`-` 르벡측도 0인 곳을 제외하고는 어떠한 명제가 성립할때 ***거의 모든 곳에서*** 라는 수식어를 붙인다. 영어로는 ***almost everywhere*** 라고 하며 기호로는 ***a.e.*** 라고 표현한다. "
   ]
  },
  {
   "cell_type": "markdown",
   "id": "4dd00526-91d8-4d4b-819b-24915f00d30d",
   "metadata": {},
   "source": [
    "`-` 예시1: 아래와 같은 함수 $f$를 고려하자. \n",
    "\n",
    "$$f(x) = \\begin{cases} 1 & x\\in \\mathbb{Q} \\\\ 0 & x\\in \\mathbb{R}-\\mathbb{Q} \\end{cases}$$\n",
    "\n",
    "이 함수는 ***거의 모든 곳에서*** 0이다. "
   ]
  },
  {
   "cell_type": "markdown",
   "id": "c9f0fe3e-1a1a-41f6-ba81-be809c3731a2",
   "metadata": {},
   "source": [
    "> 기호로는 $f \\overset{a.e.}{=} 0$ 혹은 $f \\overset{a.e.}{=} 0$ ***w.r.t. $\\lambda$*** 와 같이 표현한다. "
   ]
  },
  {
   "cell_type": "markdown",
   "id": "d8f91e46-3b14-4d38-9529-19746376cba0",
   "metadata": {},
   "source": [
    "`-` 예시2: 아래와 같은 함수 $f,g$를 고려하자. \n",
    "\n",
    "$$f(x) = \\begin{cases} 1 & x\\in \\mathbb{Q} \\\\ 0 & x\\in \\mathbb{R}-\\mathbb{Q} \\end{cases}$$\n",
    "\n",
    "$$g(x) = \\begin{cases} 2 & x\\in \\mathbb{Q} \\\\ 0 & x \\in \\mathbb{R}-\\mathbb{Q} \\end{cases}$$\n",
    "\n",
    "함수 $f$와 $g$는 ***거의 모든 곳에서*** 같다. "
   ]
  },
  {
   "cell_type": "markdown",
   "id": "427feaba-de97-4388-b746-44a5a216e003",
   "metadata": {},
   "source": [
    "> 기호로는 $f\\overset{a.e.}{=} g$ 혹은 $f\\overset{a.e.}{=} g$ ***w.r.t. $\\lambda$*** 와 같이 표현한다. "
   ]
  },
  {
   "cell_type": "markdown",
   "id": "b03ab682-65fc-417f-9732-1a7ae30e7626",
   "metadata": {},
   "source": [
    "`-` 예시3: 아래와 같은 함수 $f,g$를 고려하자. \n",
    "\n",
    "$$f(x) = \\begin{cases} 0 & x\\in \\mathbb{Q} \\\\ 1 & x\\in \\mathbb{R}-\\mathbb{Q} \\end{cases}$$\n",
    "\n",
    "함수 $f$는 ***거의 모든 곳에서 양수이다.*** "
   ]
  },
  {
   "cell_type": "markdown",
   "id": "8d7d2a95-62c6-4d0d-9e1b-17156080b1da",
   "metadata": {},
   "source": [
    "> 기호로는 $f\\overset{a.e.}{>} 0$ 혹은 $f\\overset{a.e.}{>} g$ ***w.r.t. $\\lambda$*** 와 같이 표현한다. "
   ]
  },
  {
   "cell_type": "markdown",
   "id": "f26d99b2-0383-45cc-8d05-718f4b704135",
   "metadata": {},
   "source": [
    "`-` 예시4: 아래와 같은 함수 $f,g$를 고려하자. \n",
    "\n",
    "$$f(x) = \\begin{cases} 0 & x\\in \\mathbb{Q} \\\\ 1 & x\\in \\mathbb{R}-\\mathbb{Q} \\end{cases}$$\n",
    "\n",
    "$$g(x) = \\begin{cases} 0 & x\\in \\mathbb{Q} \\\\ 2 & x \\in \\mathbb{R}-\\mathbb{Q} \\end{cases}$$\n",
    "\n",
    "함수 $f$는 ***거의 모든 곳에서*** $g$보다 작다. "
   ]
  },
  {
   "cell_type": "markdown",
   "id": "8fd37218-64ec-4236-badd-8433e1ae42c5",
   "metadata": {},
   "source": [
    "> 기호로는 $f\\overset{a.e.}{<} g$ 혹은 $f\\overset{a.e.}{<} g$ ***w.r.t. $\\lambda$*** 와 같이 표현한다. "
   ]
  },
  {
   "cell_type": "markdown",
   "id": "a2dd54e8-b61c-4b3e-940f-f834b2d2c6ea",
   "metadata": {},
   "source": [
    "`-` 예시4: 만약에 아래와 같은 함수 $f,g$가 있다면 \n",
    "\n",
    "$$f(x) = \\begin{cases} 1 & x\\in \\mathbb{Q} \\\\ 0 & x\\in \\mathbb{R}-\\mathbb{Q} \\end{cases}$$\n",
    "\n",
    "$$g(x) = \\begin{cases} 1 & x\\in \\mathbb{Q} \\\\ 0 & x \\in \\mathbb{R}-\\mathbb{Q} \\end{cases}$$\n",
    "\n",
    "함수 $f$와 $g$는 ***모든 곳에서*** 같다라고 할 수 있겠다. (보통 그냥 같다라고 하죠..)"
   ]
  }
 ],
 "metadata": {
  "kernelspec": {
   "display_name": "Python 3",
   "language": "python",
   "name": "python3"
  },
  "language_info": {
   "codemirror_mode": {
    "name": "ipython",
    "version": 3
   },
   "file_extension": ".py",
   "mimetype": "text/x-python",
   "name": "python",
   "nbconvert_exporter": "python",
   "pygments_lexer": "ipython3",
   "version": "3.8.16"
  }
 },
 "nbformat": 4,
 "nbformat_minor": 5
}
