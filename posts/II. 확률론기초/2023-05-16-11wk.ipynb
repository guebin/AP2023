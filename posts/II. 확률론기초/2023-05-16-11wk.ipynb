{
 "cells": [
  {
   "cell_type": "raw",
   "id": "ee76b2b7-f75c-4d9d-91bc-054aa28664a5",
   "metadata": {},
   "source": [
    "---\n",
    "title: \"11wk: 적분\"\n",
    "author: \"최규빈\"\n",
    "date: \"05/16/2023\"\n",
    "bibliography: ref.bib\n",
    "---"
   ]
  },
  {
   "cell_type": "markdown",
   "id": "f73d8476-7f9e-4c0a-8353-a5913d254571",
   "metadata": {},
   "source": [
    "# 약속 "
   ]
  },
  {
   "cell_type": "markdown",
   "id": "fe8526b4-53ca-4cb6-b928-43ba8ebbb9c0",
   "metadata": {},
   "source": [
    "## 기호에 대한 암묵적 약속 "
   ]
  },
  {
   "cell_type": "markdown",
   "id": "4fc84e7c-3232-414c-9345-b0c4714ca3ab",
   "metadata": {},
   "source": [
    "`-` 르벡메져: 르벡메져는 지금까지 $m$으로 표현 $\\Rightarrow$ 앞으로는 $\\lambda$로 표현. "
   ]
  },
  {
   "cell_type": "markdown",
   "id": "2a0b24d3-53ff-49da-aa24-f3d7806aef05",
   "metadata": {},
   "source": [
    "`-` 메져: $\\mu,\\nu$ 등으로 표현."
   ]
  },
  {
   "cell_type": "markdown",
   "id": "39984a9b-151f-44a6-b02c-b26de4b1fcac",
   "metadata": {},
   "source": [
    "`-` 분포, 분포함수, 밀도함수: 확률공간 $(\\Omega, {\\cal F}, P)$에서 정의된 확률변수 $X$에 대응하는 분포는 $\\mu_X$, 그에 대응하는 분포함수는 $F_X$, 그에 대응하는 밀도함수는 $f_X$라고 표현. "
   ]
  },
  {
   "cell_type": "markdown",
   "id": "c47d8e0e-a2ed-4303-91fd-b8d215e545c9",
   "metadata": {},
   "source": [
    "`-` 일반적인 교재의 표기법 \n",
    "\n",
    "- 르벡메져: $\\mu$, $\\lambda$, $m$\n",
    "- 메져: $\\mu$, $\\nu$, $m$ \n",
    "- 분포: $\\mu$ \n",
    "- 분포함수: $F$, $F_X$\n",
    "- 밀도함수: $f$, $f_X$ "
   ]
  },
  {
   "cell_type": "markdown",
   "id": "fae3aba7-2e6b-448d-ad8e-eab473b0c30c",
   "metadata": {},
   "source": [
    "`-` 잴 수 있는 함수의 표현 (아래는 모두 같은말) \n",
    "\n",
    "- 두 개의 가측공간 $(\\Omega, {\\cal F})$, $(S, {\\cal S})$을 고려하자. 함수 $f:\\Omega \\to S$는 $\\forall B \\in {\\cal S}:~\\{\\omega: f(\\omega) \\in B\\} \\in {\\cal F}$ 을 만족한다. \n",
    "- 두 개의 가측공간 $(\\Omega, {\\cal F})$, $(S, {\\cal S})$을 고려하자. $f:\\Omega \\to S$는 잴 수 있는 함수이다. \n",
    "- $f:(\\Omega,{\\cal F}) \\to (S, {\\cal S})$ \n",
    "- $f$는 ${\\cal F}-{\\cal S}$ measurable 하다.\n",
    "- $f \\in {\\cal F}$, 이 표기법은 $(S,{\\cal S})=(\\mathbb{R}, {\\cal R})$일 경우에 한정하여 사용할 수 있음. \n",
    "- $f$는 $S$-valued measurable map "
   ]
  },
  {
   "cell_type": "markdown",
   "id": "b290f2be-b32c-4c83-9af8-dc9061a8cf31",
   "metadata": {},
   "source": [
    "## 확장된 실수공간 "
   ]
  },
  {
   "cell_type": "markdown",
   "id": "0c9dcc59-c9ad-4c5d-99a6-8a02b1f814b0",
   "metadata": {},
   "source": [
    "`-` 교재에 따라서 확장된 실수공간 $\\bar{\\mathbb{R}}$를 고려하기도 한다. [@durrett2019probability, p 14]\n",
    "\n",
    "$$\\bar{\\mathbb{R}} = \\mathbb{R} \\cup \\{-\\infty\\} \\cup \\{\\infty\\}$$ "
   ]
  },
  {
   "cell_type": "markdown",
   "id": "16c2eba9-546c-401f-adb1-417b1a838845",
   "metadata": {},
   "source": [
    "`-` 또한 확장된 실수공간에 대응하는 보렐셋을 정의하기도 한다. \n",
    "\n",
    "$${\\cal B}(\\bar{\\mathbb{R}})=\\bar{\\cal R}$$"
   ]
  },
  {
   "cell_type": "markdown",
   "id": "8bcac279-b538-45e9-95ac-cde519aa24f1",
   "metadata": {},
   "source": [
    "`-` $\\infty$, $-\\infty$는 실수가 아니다. 따라서 $x\\in \\mathbb{R}$ 인 경우는 $x$를 ***real-valued*** 라고 표현하지만 $x \\in \\bar{\\mathbb{R}}$ 인 경우는 $x$를 ***$\\bar{\\mathbb{R}}$-valued*** 라고 표현한다. "
   ]
  },
  {
   "cell_type": "markdown",
   "id": "06ced7ad-6d08-4c9c-a100-c120c711ceb5",
   "metadata": {},
   "source": [
    "# 로드맵 "
   ]
  },
  {
   "cell_type": "markdown",
   "id": "9618a841-ebd1-424a-be2e-288955488df9",
   "metadata": {},
   "source": [
    "`-` 목표: 밀도함수에 대한 소개"
   ]
  },
  {
   "cell_type": "markdown",
   "id": "069f5b7f-5330-408e-99e7-8e4bb3ec0aa0",
   "metadata": {},
   "source": [
    "`-` 로드맵: (적분, 칸토어집합) $\\to$ 밀도함수 "
   ]
  },
  {
   "cell_type": "markdown",
   "id": "e4fc321f-8569-4362-a75f-bc396826b9df",
   "metadata": {},
   "source": [
    "# 예비학습 "
   ]
  },
  {
   "cell_type": "markdown",
   "id": "fad296a9-fd9a-4219-ad60-d0338f5f78e0",
   "metadata": {},
   "source": [
    "## $(\\mathbb{R}^d, {\\cal R}^d)$"
   ]
  },
  {
   "cell_type": "markdown",
   "id": "3463de1e-4e50-4940-85de-9b6261027cdf",
   "metadata": {},
   "source": [
    "`-` **정의**: 두개의 집합 $A$, $B$가 있을때 두집합의 곱집합 (cartesian product) $A\\times B$를 아래와 같이 정의한다. \n",
    "\n",
    "$$A\\times B=\\{(a,b): a \\in A, b \\in B\\}$$"
   ]
  },
  {
   "cell_type": "markdown",
   "id": "a283dd46-e327-4a32-9768-ae52c30944f0",
   "metadata": {},
   "source": [
    "`-` **정의**: 수직선상의 두 열린구간 $(a_1,b_1)$, $(a_2,b_2)$ 의 곱집합 \n",
    "\n",
    "$$({\\boldsymbol a},{\\boldsymbol b}) = \\bigtimes_{i=1}^{2}(a_i,b_i)= (a_1,b_1) \\times (a_2,b_2)$$ \n",
    "\n",
    "을 open rantangle 이라고 한다. 비슷한 논리전개로 $({\\boldsymbol a},{\\boldsymbol b}],[{\\boldsymbol a},{\\boldsymbol b}),[{\\boldsymbol a},{\\boldsymbol b}]$ 역시 정의할 수 있다. "
   ]
  },
  {
   "cell_type": "markdown",
   "id": "7d1e0908-58ac-45b3-9990-f8e97b6646c5",
   "metadata": {},
   "source": [
    "`-` **이론**: 아래와 같은 집합들의 모임 ${\\cal A}$를 생각하자. "
   ]
  },
  {
   "cell_type": "markdown",
   "id": "98bf4239-7bf4-453e-a196-725ab555392c",
   "metadata": {},
   "source": [
    "$${\\cal A}=\\{({\\boldsymbol a}, {\\boldsymbol b}]: {\\boldsymbol a} < {\\boldsymbol b},~ {\\boldsymbol a}, {\\boldsymbol b} \\in \\mathbb{R}^2\\}$$ "
   ]
  },
  {
   "cell_type": "markdown",
   "id": "a658324d-2443-4ded-9b6b-7d1834726801",
   "metadata": {},
   "source": [
    "여기에서 ${\\boldsymbol a}< {\\boldsymbol b}$는 \"$a_1<b_1$ and $a_2 < b_2$\" 를 의미한다. "
   ]
  },
  {
   "cell_type": "markdown",
   "id": "c4a840e9-9a1e-4d2b-b845-fde21d9a6d4b",
   "metadata": {},
   "source": [
    "1. 시그마필드 $\\sigma({\\cal A})$는 잘 정의된다. (귀찮아서 만든 이론1)\n",
    "2. $\\sigma({\\cal A})$은 ${\\cal R}$의 2차원버전이라 해석할 수 있다. \n",
    "3. 이러한 의미에서 ${\\cal R}^2=\\sigma({\\cal A})$라는 기호를 쓰기도 한다. \n",
    "4. $(\\mathbb{R}^2, {\\cal R}^2)$ 는 잴 수 있는 공간이다. \n",
    "5. 함수 $\\tilde{\\lambda}: {\\cal A} \\to [0,\\infty]$를 아래와 같이 정의하자. 카라테오도리의 확장정리에 의하여 $\\tilde{\\lambda}$는 $(\\mathbb{R}^2,{\\cal R}^2)$ 에서의 메져가 된다. \n",
    "$$\\tilde{\\lambda}(({\\boldsymbol a},{\\boldsymbol b}])=\\prod_{i=1}^{2}(b_i-a_i)$$\n",
    "6. 08주차에 정리된 모든 ${\\cal A}_i$에 대하여, $\\sigma({\\cal A}_i)={\\cal R}^2$ 을 만족한다. "
   ]
  },
  {
   "cell_type": "markdown",
   "id": "0aef95ca-4f72-48f9-a092-c59c07399ac1",
   "metadata": {},
   "source": [
    "`-` 체크: $(\\mathbb{R}^2, {\\cal R}^2)$ 와 동일한 논리전개가 $(\\mathbb{R}^d, {\\cal R}^d)$ 에서도 성립한다. "
   ]
  },
  {
   "cell_type": "markdown",
   "id": "8b123287-c6a4-4533-930c-f991a7e56d3b",
   "metadata": {},
   "source": [
    "## sup, inf "
   ]
  },
  {
   "cell_type": "markdown",
   "id": "d0844128-8f6d-47ff-b00e-52183bf5dfdc",
   "metadata": {},
   "source": [
    "`-` 집합 $A=\\{1,2,3\\}$에 대하여 아래의 표현을 살펴보자. \n",
    "\n",
    "- $\\max A =3$ \n",
    "- $\\min A =1$"
   ]
  },
  {
   "cell_type": "markdown",
   "id": "89c720d8-eed8-449c-acb3-0fcad257619a",
   "metadata": {},
   "source": [
    "`-` 집합 $A=[0,2]$에 대하여 아래의 표현을 살펴보자. \n",
    "\n",
    "- $\\max A =2$ \n",
    "- $\\min A =0$"
   ]
  },
  {
   "cell_type": "markdown",
   "id": "259db810-e7be-49ca-be17-cc8f204caf01",
   "metadata": {},
   "source": [
    "`-` 집합 $A=(0,2)$라면? \n",
    "\n",
    "- $\\max A =???$^[2라고 하고싶은데 2라고 할 수 없다. (즉 정의할 수 없다.)]\n",
    "- $\\min A =???$^[0이라 하고싶은데 0이라고 할 수 없다. (즉 정의할 수 없다.)] \n",
    "- $\\sup A = 2$ \n",
    "- $\\inf A = 0$ "
   ]
  },
  {
   "cell_type": "markdown",
   "id": "5f995bef-2d25-4214-9798-8d8d231e213f",
   "metadata": {},
   "source": [
    "`-` 가짜정의: 어떠한 집합 $A$가 있다고 할떄 $\\sup A$와 $\\inf A$는 각각 $\\max A$와 $\\min A$의 개념을 좀 더 업그레이드 한것이다. $\\max A$는 $A$의 원소중 최대값을 의미하는데 이러한 $\\max$의 정의는 구간 $[0,2)$의 최대값은 $2$라고 주장할 수 없어 쓰기에 불편할 때가 있다. $\\min$ 역시 마찬가지의 불편함이 있다. 이를 보완하기 위해 등장한 개념이 $\\sup$과 $\\inf$이다. "
   ]
  },
  {
   "cell_type": "markdown",
   "id": "7f365610-0831-49b1-b5c9-658c19c9ecc7",
   "metadata": {},
   "source": [
    "`-` 트릭: 증가하는 수열 $a_n$의 경우 $\\sup\\{a_n\\}$은 수열 $\\{a_n\\}$의 극한을 의미하기도 한다. 반대로 감소하는 수열 $\\{a_n\\}$의 경우 $\\inf \\{a_n\\}$이 $\\{a_n\\}$의 극한을 의미하기도 한다. "
   ]
  },
  {
   "cell_type": "markdown",
   "id": "47884ac4-d3a5-4537-b8b0-34b547e5bf40",
   "metadata": {},
   "source": [
    "`-` 집합들의 집합에서 $\\inf,\\sup$의 의미: 부등호 $<$를 $\\subset$으로 해석 \n",
    "\n",
    "- 예시1: $\\inf\\big\\{(-\\frac{1}{n},0]: n \\in \\mathbb{N}\\big\\}=\\{0\\}$\n",
    "- 예시2: $\\sup\\big\\{[0,1-\\frac{1}{n}]: n \\in \\mathbb{N}\\big\\}=[0,1]$"
   ]
  },
  {
   "cell_type": "markdown",
   "id": "4345a76d-850d-4ae9-ab24-9d2b001a8c74",
   "metadata": {},
   "source": [
    "`-` 함수들의 집합에서 $\\inf,\\sup$의 의미: 부등호 $f<g$ 를 \"$\\forall x: f(x)<g(x)$\" 로 해석 \n",
    "\n",
    "- 예시1: $f(x)=x$ 일때, $\\sup\\big\\{f_n: f_n(x)=x-\\frac{1}{n}, n \\in \\mathbb{n} \\big\\}=f$"
   ]
  },
  {
   "cell_type": "markdown",
   "id": "cec131fb-127a-4504-bd78-29c132a028ac",
   "metadata": {},
   "source": [
    "## 잴 수 있는 함수들"
   ]
  },
  {
   "cell_type": "markdown",
   "id": "b19297e9-c036-4055-a5d4-075821abe910",
   "metadata": {},
   "source": [
    "`-` 이론: 두 개의 잴 수 있는 공간 $(\\Omega, {\\cal F})$, $(\\mathbb{R}, {\\cal R})$을 고려하자. ${\\cal F}$-measurable 한 집합 $A$에 대하여^[$A \\in {\\cal F}$이라는 뜻] 함수 $f:\\Omega \\to \\mathbb{R}$을 아래와 같이 정의한다고 하자. \n",
    "\n",
    "$$f(\\omega) = \\begin{cases} 1 & \\omega \\in A \\\\ 0 & \\omega \\not \\in A \\end{cases}$$ \n",
    "\n",
    "함수 $f$는 ${\\cal F}-{\\cal R}$ measurable function 이다. "
   ]
  },
  {
   "cell_type": "markdown",
   "id": "9b89e431-d891-4067-9e27-b5cf38179a0e",
   "metadata": {},
   "source": [
    "(해설) \n",
    "\n",
    "1. $B \\in {\\cal R}$를 고정하자. \n",
    "2. 만약에 $\\{1\\} \\notin B$ 이라면 $\\{\\omega: f(\\omega) \\in B\\}=\\emptyset \\in {\\cal F}$ 이다. \n",
    "3. 만약에 $\\{1\\} \\in B$ 이라면 $B=\\{1\\} \\cup (B-\\{1\\})$ 와 같이 분해한다. \n",
    "4. $f$는 함수이므로 $f^{-1}(B)=f^{-1}(\\{1\\}) \\cup f^{-1}(B-\\{1\\})$를 만족한다. \n",
    "5. $f^{-1}(\\{1\\})=A$이고 $f^{-1}(B-\\{1\\})=\\emptyset$ 이므로 $f^{-1}(B)=A \\in {\\cal F}$ 를 만족한다. \n",
    "6. 2와 5를 종합하면 $B$가 1을 포함하든 포함하지 않든 $f^{-1}(B) \\in {\\cal F}$ 이다. \n",
    "7. 1-6의 논의가 임의의 $B$에 대하여 모두 성립하므로 $\\forall B \\in {\\cal R}:~f^{-1}(B) \\in {\\cal F}$ 이다. \n",
    "8. 따라서 $f$는 ${\\cal F}-{\\cal R}$ measurable function 이다. "
   ]
  },
  {
   "cell_type": "markdown",
   "id": "a2b2d9c1-bc3e-4a3c-847f-dd2e58f99bb2",
   "metadata": {},
   "source": [
    "`-` 이론: 두 개의 잴 수 있는 공간 $(\\Omega, {\\cal F})$, $(\\mathbb{R}, {\\cal R})$을 고려하자. 함수 $f$가 ***$\\mathbb{R}$-valued measurable function*** 이라면 임의의 $\\alpha \\in \\mathbb{R}$에 대하여 함수 \n",
    "\n",
    "$$g(\\omega)=\\alpha f(\\omega)$$ \n",
    "\n",
    "역시 ***$\\mathbb{R}$-valued measurable function*** 이다. "
   ]
  },
  {
   "cell_type": "markdown",
   "id": "eb943483-4c59-451a-b4dc-3bfcb25e507f",
   "metadata": {},
   "source": [
    "(해설) "
   ]
  },
  {
   "cell_type": "markdown",
   "id": "732f574c-9ac6-4713-bbaf-09ca3114e2ab",
   "metadata": {},
   "source": [
    "1. $\\alpha=0$ 이라면, 자명하게 성립. 따라서 $\\alpha\\neq 0$ 일 경우만 증명하면 된다. \n",
    "2. $B \\in {\\cal R}$를 고정하자. \n",
    "3. $g^{-1}(B)=f^{-1}(\\frac{1}{\\alpha}B)$ 가 성립한다. 여기에서 $\\frac{1}{\\alpha}B =: \\{x: x=\\frac{y}{\\alpha}, y\\in B\\}$. \n",
    "4. $f$는 ***$\\mathbb{R}$-valued measurable map*** 이므로 $f^{-1}(\\frac{1}{\\alpha}B) \\in {\\cal F}$. \n",
    "5. 임의의 $B$에 대하여 2-4의 논의가 성립하므로 $g$ 역시 ${\\cal F}-{\\cal R}$ measurable 이다. "
   ]
  },
  {
   "cell_type": "markdown",
   "id": "b288a7f9-fec9-45bd-be19-f9c744d18c71",
   "metadata": {},
   "source": [
    "`-` 이론: 두 개의 잴 수 있는 공간 $(\\Omega, {\\cal F})$, $(\\mathbb{R}, {\\cal R})$을 고려하자. 함수 $f,g$가 ***$\\mathbb{R}$-valued measurable function*** 이라면 $f+g$ 역시 ***$\\mathbb{R}$-valued measurable function*** 이다. "
   ]
  },
  {
   "cell_type": "markdown",
   "id": "f0cec4d1-d152-4693-9f05-359cb8978295",
   "metadata": {},
   "source": [
    "(해설) -- 그냥 외우세여. (정의대로 넣고 따지면 되기는하는데 더 쉽게 따지는 테크닉이 있어요) "
   ]
  },
  {
   "cell_type": "markdown",
   "id": "52cd9ec8-61ac-4eb3-a858-d84d43e8d2ad",
   "metadata": {},
   "source": [
    "`-` **Thm** [@durrett2019probability, Thm 1.3.2]: 세 개의 잴 수 있는 공간 $(\\Omega,{\\cal F})$, $(S,{\\cal S})$, $(T,{\\cal T})$를 고려하자. $f:(\\Omega,{\\cal F}) \\to (S,{\\cal S})$ 이고 $g:(S,{\\cal S}) \\to (T,{\\cal T})$ 이면 $g\\circ f: (\\Omega, {\\cal F}) \\to (T,{\\cal T})$ 이다. "
   ]
  },
  {
   "cell_type": "markdown",
   "id": "221618c2-e85c-4e69-84f5-469d7f6c7b76",
   "metadata": {},
   "source": [
    "`-` 이론: 함수 $f:\\mathbb{R} \\to \\mathbb{R}$가 연속함수라면 $f:(\\mathbb{R},{\\cal R}) \\to (\\mathbb{R},{\\cal R})$ 이다."
   ]
  },
  {
   "cell_type": "markdown",
   "id": "bd3b69ee-ebb3-4443-b2ed-0e442e3116fa",
   "metadata": {},
   "source": [
    "(해설) -- 연속함수의 정의 + [@durrett2019probability, Thm 1.3.1] 를 알면 이해하기 쉬운데... "
   ]
  },
  {
   "cell_type": "markdown",
   "id": "f9612abb-0c58-4de1-9d69-49e953c8f3ad",
   "metadata": {},
   "source": [
    "`-` 이론: 두 개의 잴 수 있는 공간 $(\\Omega, {\\cal F})$, $(\\mathbb{R}, {\\cal R})$을 고려하자. 함수 $f,g$가 ***$\\mathbb{R}$-valued measurable function*** 이라고 하자. 아래는 모두 ***$\\mathbb{R}$-valued measurable function*** 이다. \n",
    "\n",
    "1. $f+g$ \n",
    "2. $f-g$\n",
    "3. $\\max(f,g)$\n",
    "4. $\\min(f,g)$"
   ]
  },
  {
   "cell_type": "markdown",
   "id": "1d789570-5cee-475c-8227-9e868c900ce9",
   "metadata": {},
   "source": [
    "`-` **이론** [@durrett2019probability, Thm 1.3.5]: 두 개의 잴 수 있는 공간 $(\\Omega, {\\cal F})$, $(\\mathbb{R}, {\\cal R})$을 고려하자. 함수열 $\\{f_n: n \\in \\mathbb{N}\\}$의 모든 원소가 ***$\\mathbb{R}$-valued measurable function*** 이라고 하자. 그렇다면 아래는 모두 ***${\\cal F}-{\\cal R}$ measurable*** 한 함수이다. \n",
    "\n",
    "- $\\inf\\{f_n\\}$\n",
    "- $\\sup\\{f_n\\}$"
   ]
  },
  {
   "cell_type": "markdown",
   "id": "10f67e2a-b776-4990-8233-8307e8ccc1b0",
   "metadata": {},
   "source": [
    "# 적분 intro "
   ]
  },
  {
   "cell_type": "markdown",
   "id": "551ce21b-7815-4a18-b911-1655c8361371",
   "metadata": {},
   "source": [
    "## 르벡적분 맛보기 "
   ]
  },
  {
   "cell_type": "markdown",
   "id": "9d3dd3f2-7c95-4222-a5f7-31c658603fac",
   "metadata": {},
   "source": [
    "`-` **(예제1)** -- 사각형의 넓이 "
   ]
  },
  {
   "cell_type": "markdown",
   "id": "4d5ef278-de49-4511-9923-f0b47db9b519",
   "metadata": {},
   "source": [
    "좌표평면위에 아래와 같은 영역 $R$을 생각하자. "
   ]
  },
  {
   "cell_type": "markdown",
   "id": "8bf9d76e-e3ef-4abb-841e-f52ab66c9367",
   "metadata": {},
   "source": [
    "$$R_1 = \\{(a,b): 0 \\leq a \\leq 1, 0 \\leq b \\leq 1\\}$$ "
   ]
  },
  {
   "cell_type": "markdown",
   "id": "22462dfc-b28a-49c2-81d1-e88f5873c19e",
   "metadata": {},
   "source": [
    "이 영역의 넓이는 1이다. 이것을 적분을 이용하여 구하는 과정을 서술하고 기호를 살펴보자. "
   ]
  },
  {
   "cell_type": "markdown",
   "id": "cff7e6f0-d67f-479a-a04d-089ab7e04677",
   "metadata": {},
   "source": [
    "(서술1) "
   ]
  },
  {
   "cell_type": "markdown",
   "id": "4331bae6-c66e-486e-be95-c8d7f30ac1a5",
   "metadata": {},
   "source": [
    "적분을 사용하기 위해 아래와 같은 함수를 정의하고 밑면적을 계산하자. "
   ]
  },
  {
   "cell_type": "markdown",
   "id": "0caf2930-ccd3-4c49-ad8d-d6b821f5699c",
   "metadata": {},
   "source": [
    "$$f(x)= \\begin{cases} 1 &  0 \\leq x \\leq 1 \\\\ 0 & o.w. \\end{cases}$$ "
   ]
  },
  {
   "cell_type": "markdown",
   "id": "101fd9ae-c20f-4735-b4c3-7ee095b4e21b",
   "metadata": {},
   "source": [
    "여기에서 집합 $R'=\\{(x,y): 0\\leq x \\leq 1, 0\\leq y \\leq f(x)\\}$ 는 집합 $R_1$과 같다고 볼 수 있다. 즉 $R_1=R'$이다. 이제 $R_1$의 면적을 구하는 과정을 기호로 표현하면 아래와 같이 쓸 수 있다. "
   ]
  },
  {
   "cell_type": "markdown",
   "id": "1fbee483-6744-4eb3-90b2-bb19cc417c00",
   "metadata": {},
   "source": [
    "$$S(R_1)=S(R')=\\int_{-\\infty}^{\\infty} f(x)dx = \\int_0^1 f(x) dx = \\int_{0}^{1}dx = 1$$"
   ]
  },
  {
   "cell_type": "markdown",
   "id": "9ef0414e-3195-425c-809a-1afa886cb0f3",
   "metadata": {},
   "source": [
    "여기에서 $S(R_1),S(R')$는 각각 $R_1$과 $R'$의 넓이를 뜻하는 기호이다. "
   ]
  },
  {
   "cell_type": "markdown",
   "id": "cb0fed83-5811-44c8-8d85-cae9f454a210",
   "metadata": {},
   "source": [
    "(서술2) "
   ]
  },
  {
   "cell_type": "markdown",
   "id": "77eeee03-a873-42f1-95f0-a1f25cbbb085",
   "metadata": {},
   "source": [
    "그런데 이 예제의 경우 구간 $[0,1]$에서 함수 $f(x)$의 값이 모두 $f(x)=1$로 같고 그 외의 구간에서는 모두 $f(x)=0$이므로 아래와 같이 수식을 쓰는 것도 가능하다. "
   ]
  },
  {
   "cell_type": "markdown",
   "id": "3de95cb6-bb7c-4fcd-b326-4a7aa6795665",
   "metadata": {},
   "source": [
    "$$\\lambda([0,1]) \\times 1= 1$$"
   ]
  },
  {
   "cell_type": "markdown",
   "id": "60450970-1055-4f91-94e3-89dcec35bae9",
   "metadata": {},
   "source": [
    "`-` **(예제2)** -- 사각형의 넓이 (2)"
   ]
  },
  {
   "cell_type": "markdown",
   "id": "a64f0aec-76fd-4ba9-b91d-a684381fc259",
   "metadata": {},
   "source": [
    "좌표평면위에 아래와 같은 영역 $R_2$을 생각하자. "
   ]
  },
  {
   "cell_type": "markdown",
   "id": "68d8c1a6-b5b4-4508-9a96-385ab353f76e",
   "metadata": {},
   "source": [
    "$$R_2 = \\{(x,y): 0< x < 1, 0 < y < 1\\}$$ "
   ]
  },
  {
   "cell_type": "markdown",
   "id": "c17461a5-5504-470c-8d02-48e31d2080eb",
   "metadata": {},
   "source": [
    "이 영역의 넓이 역시 1이다. 이것을 적분을 이용하여 구하는 과정을 서술하고 기호를 살펴보자. "
   ]
  },
  {
   "cell_type": "markdown",
   "id": "fd49526c-cd0a-4763-8fb7-80f891545b8f",
   "metadata": {},
   "source": [
    "(서술1)"
   ]
  },
  {
   "cell_type": "markdown",
   "id": "7bfee019-0fea-4ee7-b403-861cbae985d5",
   "metadata": {},
   "source": [
    "$R_2\\neq R'$ 이지만, 어차피 경계의 넓이는 0이라고 생각할 수 있으므로 아래과 같이 생각해도 무방하다. "
   ]
  },
  {
   "cell_type": "markdown",
   "id": "425310d7-bf0e-430e-afa3-24c591c94c33",
   "metadata": {},
   "source": [
    "$$S(R_2)=S(R')$$"
   ]
  },
  {
   "cell_type": "markdown",
   "id": "caca230f-45b0-4ba9-ad04-a362cb5d84da",
   "metadata": {},
   "source": [
    "따라서 "
   ]
  },
  {
   "cell_type": "markdown",
   "id": "063f895c-4146-49d4-bf8d-1d731621175c",
   "metadata": {},
   "source": [
    "$$S(R_2)=S(R')=\\int_{-\\infty}^{\\infty} f(x)dx = \\int_0^1 f(x) dx = \\int_{0}^{1}dx = 1$$"
   ]
  },
  {
   "cell_type": "markdown",
   "id": "4ed0ea03-beac-42ef-8a73-bccd35a7bd84",
   "metadata": {},
   "source": [
    "(서술2) "
   ]
  },
  {
   "cell_type": "markdown",
   "id": "2c89c492-be6c-461d-b282-d398b456e9da",
   "metadata": {},
   "source": [
    "아래와 같은 새로운 함수를 정의하자. "
   ]
  },
  {
   "cell_type": "markdown",
   "id": "158c236e-a5a3-4bcc-9a86-2e1915f4eb32",
   "metadata": {},
   "source": [
    "$$g(x)= \\begin{cases} 1 &  0 < x < 1 \\\\ 0 & o.w. \\end{cases}$$ "
   ]
  },
  {
   "cell_type": "markdown",
   "id": "272364ca-864e-411c-acd6-4752dfb09546",
   "metadata": {},
   "source": [
    "이 예제의 경우 구간 $(0,1)$에서 함수 $g(x)$의 값이 모두 $g(x)=1$로 같고 그 외의 구간에서는 모두 $g(x)=0$이므로 아래와 같이 수식을 쓸 수 있다. "
   ]
  },
  {
   "cell_type": "markdown",
   "id": "7802fc69-b9e9-40bc-b808-79920d63542e",
   "metadata": {},
   "source": [
    "$$\\lambda((0,1)) \\times 1= 1$$"
   ]
  },
  {
   "cell_type": "markdown",
   "id": "f44e53f5-f7ad-48c6-920a-dffbce8d60ab",
   "metadata": {},
   "source": [
    "`-` **(예제3)** -- 사각형의 넓이 (3)"
   ]
  },
  {
   "cell_type": "markdown",
   "id": "d68964d5-48f5-4bbd-a25e-acf5297b6d8e",
   "metadata": {},
   "source": [
    "이제 아래와 같은 함수 $f(x)$에 대한 밑면적을 계산하고 싶다고 생각해보자. \n",
    "\n",
    "$$f(x)= \\begin{cases} \n",
    "1 & 0<x<1/2 \\\\ \n",
    "2 & 1/2 \\leq x < 1 \\\\ \n",
    "\\frac{1}{3} & 1<x<3 \\\\ \n",
    "0 & o.w \n",
    "\\end{cases}$$ "
   ]
  },
  {
   "cell_type": "markdown",
   "id": "549421c7-5fca-41ee-b402-e65ad37c63d4",
   "metadata": {},
   "source": [
    "예제1,2에서 소개한 서술1,2에 근거하여 $f$의 밑면적을 구하는 방법을 논의하라. "
   ]
  },
  {
   "cell_type": "markdown",
   "id": "8c50dbf1-8500-4f53-bbf6-3f3c3e2813aa",
   "metadata": {},
   "source": [
    "(서술1)"
   ]
  },
  {
   "cell_type": "markdown",
   "id": "eb465d78-7483-4b97-955b-8457e68c054e",
   "metadata": {},
   "source": [
    "$f$의 밑면적 $S$를 적분으로 나타내면 "
   ]
  },
  {
   "cell_type": "markdown",
   "id": "4a4bd614-2f59-430e-a631-f2881d9aaeaa",
   "metadata": {},
   "source": [
    "$$S=\\int_{0}^{\\frac{1}{2}}dx + \\int_{\\frac{1}{2}}^{1} 2dx + \\int_{1}^{3} \\frac{1}{3}dx$$ "
   ]
  },
  {
   "cell_type": "markdown",
   "id": "f5800feb-b411-4061-b127-e07dc108ae7c",
   "metadata": {},
   "source": [
    "사실 $\\int_{a}^{b}f(x)dx$ 와 같은 형태는 일반적으로 함수가 $f$가 폐구간 $[a,b]$ 에서 정의된다고 가정하고 사용하므로 위의 기호는 정확하지 않다. \n",
    "\n",
    "1. $x=\\frac{1}{2},1,3$에 해당하는 영역은 중복혜서 계산된다. \n",
    "2. $x=\\frac{1}{2}$에 해당하는 영역은 함수값을 1로 보기도 하고 2로 보기도 한다. \n",
    "3. $x=1$에 해당하는 영역은 함수값을 2로 보기도 하고 3으로 보기도 한다. \n",
    "4. $x=0$에 해당하는 영역은 실제로는 함수값이 0이지만 계산상으로는 1로 생각한다. \n",
    "5. $x=1$에 해당하는 영역은 실제로는 함수값이 0이지만 계산상으로는 2 혹은 $\\frac{1}{3}$로 생각한다. \n",
    "6. $x=3$에 해당하는 영역은 실제로는 함수값이 0이지만 계산상으로는 $\\frac{1}{3}$로 생각한다. "
   ]
  },
  {
   "cell_type": "markdown",
   "id": "d74a0754-b0c0-402c-b58f-ea95f9694f6d",
   "metadata": {},
   "source": [
    "하지만 이러한 사소한점을 무시해도 계산결과는 여전히 $S$이다. "
   ]
  },
  {
   "cell_type": "markdown",
   "id": "d7a90594-0a8d-4bae-b423-ae49e158cddc",
   "metadata": {},
   "source": [
    "(서술2) "
   ]
  },
  {
   "cell_type": "markdown",
   "id": "4dc096dc-7f2d-465b-a1ba-da0ac0c0a679",
   "metadata": {},
   "source": [
    "함수 $f$의 면적 $S$는 아래와 같이 나타낼 수 있다. "
   ]
  },
  {
   "cell_type": "markdown",
   "id": "c23b58ef-bdcd-4711-bde4-5297457937e6",
   "metadata": {},
   "source": [
    "$$S = 1\\times \\lambda(A_1) + 2 \\times \\lambda(A_2) + \\frac{1}{3} \\lambda(A_3)$$"
   ]
  },
  {
   "cell_type": "markdown",
   "id": "4b1b244f-5b59-40a8-bf2b-acc08d53394b",
   "metadata": {},
   "source": [
    "단, 여기에서 $A_1=(0,\\frac{1}{2}), A_2=[\\frac{1}{2},1), A_3=(1,3)$ 이다. "
   ]
  },
  {
   "cell_type": "markdown",
   "id": "b1062143-9dfb-4f76-84e1-28bef147b20b",
   "metadata": {},
   "source": [
    "(소감) "
   ]
  },
  {
   "cell_type": "markdown",
   "id": "58e1c836-7e78-4e23-b35a-31f6a2fe4e82",
   "metadata": {},
   "source": [
    "르벡메져를 이용하여 넓이를 정의하니까 애매한 점 없이 매우 깔끔하다. 단지 $A_1,A_2,A_3$이 르벡측도로 잴 수 있는 집합이어야 하므로 $A_1,A_2,A_3 \\in {\\cal R}$ 정도만 체크해주면 될 것 같다. "
   ]
  },
  {
   "cell_type": "markdown",
   "id": "0b55c38e-328c-4432-af16-8c0acaa88656",
   "metadata": {},
   "source": [
    "`-` **(예제4)** -- 리만적분 vs 르벡적분 "
   ]
  },
  {
   "cell_type": "markdown",
   "id": "aae8e8ef-53ad-4319-9f59-e9d02b42ca07",
   "metadata": {},
   "source": [
    "이제 아래와 같은 함수 $f$의 밑면적을 계산하는 방식을 고려하여 보자. "
   ]
  },
  {
   "cell_type": "markdown",
   "id": "bb0849b5-8349-4e1f-be44-2c7698353a68",
   "metadata": {},
   "source": [
    "$$f(x) = \\begin{cases} 1 & x \\in [0,1] \\cap \\mathbb{Q}  \\\\ 2 & x \\in [0,1] \\cap \\mathbb{Q}^c \\\\ 0 & o.w. \\end{cases}$$ "
   ]
  },
  {
   "cell_type": "markdown",
   "id": "3da5fd41-be16-41b3-9d27-163107e54915",
   "metadata": {},
   "source": [
    "(서술1) -- 리만적분 "
   ]
  },
  {
   "cell_type": "markdown",
   "id": "e3b25a4c-e437-4cf6-bf00-460684b28f87",
   "metadata": {},
   "source": [
    "***적분이 불가능하다. 그 이유를 엄밀하지 않게 서술하면 아래와 같다.***"
   ]
  },
  {
   "cell_type": "markdown",
   "id": "f65567d0-cb05-4d72-8580-b6bb6db04548",
   "metadata": {},
   "source": [
    "1. 우리가 알고 있는 \"적분\"이라는 것은 본래 $x$축을 잘게 쪼개서 아주 작은 구간을 만든뒤에 그 구간에서 $f(x)$의 값들이 비슷함을 이용하여 $f(x)$의 밑면적을 그림과 같이 사각형넓이들의 합으로 근사시키는 방식이다. \n",
    "2. 이것은 아주 작은 구간에서는 $f(x)$의 값이 다른값을 가져봤자 그 차이는 미미하고 그래서 거의 상수처럼 생각할 수 있다는 직관을 이용하는 것이다. \n",
    "3. 일반적인 함수는 구간의 크기를 작게 만들수록 $f(x)$의 값은 점점 상수화되고 그 결과 사각형들의 합으로 근사된 넓이는 함수 $f$의 밑면적으로 수렴한다. \n",
    "4. 그런데 이 예제의 경우 아무리 작은 구간을 잡아도 그 사이에는 수많은 유리수와 수많은 무리수가 있으므로 함수값 $f(x)$은 안정화 되지 않으며 1과 2사이를 \"널뛴다.\"\n",
    "5. 따라서 적분값은 안정화되지 않는다. "
   ]
  },
  {
   "cell_type": "markdown",
   "id": "64a97098-354d-49cf-bbf1-33e991448410",
   "metadata": {},
   "source": [
    "> 구간에서의 $f(x)$의 대표값을 양 끝점중 하나로 설정한다고 하자. 만약 구간이 유리수를 타고오면 넓이는 1로 계산되고, 무리수를 타고오면 0으로 계산될 것이다. "
   ]
  },
  {
   "cell_type": "markdown",
   "id": "27a37b25-b7a3-4e90-8314-4b1f7823fb06",
   "metadata": {},
   "source": [
    "(서술2) -- 르벡적분 "
   ]
  },
  {
   "cell_type": "markdown",
   "id": "494cbb06-a5c9-4dd3-bc9d-32921e647de8",
   "metadata": {},
   "source": [
    "함수 $f$의 면적 $S$는 아래와 같이 나타낼 수 있다. "
   ]
  },
  {
   "cell_type": "markdown",
   "id": "22c4a081-3cb6-4687-bfd5-48bdf23a8ecd",
   "metadata": {},
   "source": [
    "$$S = 1\\times \\lambda(A_1) + 2 \\times \\lambda(A_2)$$"
   ]
  },
  {
   "cell_type": "markdown",
   "id": "edfc2908-499c-4a60-b08f-4d9380a9785e",
   "metadata": {},
   "source": [
    "단, 여기에서 $A_1=[0,1] \\cap \\mathbb{Q}, A_2=[0,1] \\cap \\mathbb{Q}^c$ 이다. 집합 $A_1,A_2$ 는 모두 ${\\cal R}$-measurable 하므로 $\\lambda(A_1), \\lambda(A_2)$의 값이 각각 0과 1로 잘 정의된다. 따라서 $S=2$로 계산할 수 있다. "
   ]
  },
  {
   "cell_type": "markdown",
   "id": "42b99677-de00-4508-aa96-660e391d0b36",
   "metadata": {},
   "source": [
    "## 그림을 통한 이해 "
   ]
  },
  {
   "cell_type": "markdown",
   "id": "05f02441-453b-491c-9548-914b93ca86dd",
   "metadata": {},
   "source": [
    "`-` 느낌: 리만적분은 정의역을 잘게 쪼개는 느낌이지만, 르벡적분은 치역을 잘게 쪼개는 느낌이다. (리만적분을 밑넓이를 세로나누어 계산하고, 르벡적분은 가로로 나누어 계산한다.) "
   ]
  },
  {
   "cell_type": "markdown",
   "id": "82bd04fc-98e2-4a4a-bb8f-1fc2927f532a",
   "metadata": {},
   "source": [
    "![위키에서 긁은 그림: 왼쪽이 리만적분, 오른쪽이 르벡적분](https://upload.wikimedia.org/wikipedia/commons/thumb/d/d3/Riemann_vs_lebesgue_integration_of_serbian_covid_case_data.svg/800px-Riemann_vs_lebesgue_integration_of_serbian_covid_case_data.svg.png)"
   ]
  },
  {
   "cell_type": "markdown",
   "id": "52e22d99-6d6a-4b20-adf6-c007cf5573de",
   "metadata": {},
   "source": [
    "![위키에서 긁은 그림: 위쪽이 리만적분, 아래가 르벡적분](https://upload.wikimedia.org/wikipedia/commons/thumb/a/af/RandLintegrals.svg/1024px-RandLintegrals.svg.png)"
   ]
  },
  {
   "cell_type": "markdown",
   "id": "5bac285d-2470-4e7b-b2ff-7c0abb168c75",
   "metadata": {},
   "source": [
    "## $dx$ 대신 $d\\lambda$를 "
   ]
  },
  {
   "cell_type": "markdown",
   "id": "b44ed743-3bd6-4953-aae8-21cc7c82e5a7",
   "metadata": {},
   "source": [
    "`-` 리만적분($dx$)과 르벡적분($d\\lambda$)를 연결하여 보자. "
   ]
  },
  {
   "cell_type": "markdown",
   "id": "29928800-8cca-4d1f-b1a7-1c3d0af715f7",
   "metadata": {},
   "source": [
    "`-` 참고: 아래와 같은 함수 $f(x)$를 고려하자. \n",
    "\n",
    "$$f(x) = \\begin{cases} \\alpha & x \\in [0,1]  \\\\  o.w \\end{cases}$$"
   ]
  },
  {
   "cell_type": "markdown",
   "id": "998f7688-244f-4695-aef7-ccf3ad4e19b9",
   "metadata": {},
   "source": [
    "그리고 $\\lambda$를 르벡메져라고 하자. 아래는 모두 같은 표현이다. \n",
    "\n",
    "1. $\\int_{-\\infty}^{\\infty} f(x) dx$ \n",
    "2. $\\int_0^1f(x)dx$ \n",
    "3. $\\int_0^1 \\alpha dx$ \n",
    "4. $\\alpha \\int_0^1 dx$ \n",
    "5. $\\alpha\\lambda(A)$ \n",
    "6. $\\alpha\\int_{A}d\\lambda$ \n",
    "7. $\\int_{A}\\alpha d\\lambda$ \n",
    "8. $\\int_{A}f d\\lambda$ \n",
    "9. $\\int f d\\lambda$ \n"
   ]
  },
  {
   "cell_type": "markdown",
   "id": "b7c72cda-da6b-4236-b6b7-57135d46ecd3",
   "metadata": {},
   "source": [
    "## $d\\lambda$ 대신 $d\\mu$를"
   ]
  },
  {
   "cell_type": "markdown",
   "id": "597a8631-ecc7-49c1-ab9a-4836ae4b66dd",
   "metadata": {},
   "source": [
    "`-` 위의 표현들에서 $d\\lambda$와 같은 표현은 르벡메져가 아닌 일반적인 메져에서도 표현가능하다. 만약 가측공간 $(\\mathbb{R},{\\cal R})$에 아래와 같은 메져 $\\nu$가 존재한다고 하자. \n",
    "\n",
    "$$\\nu = 2\\lambda$$\n",
    "\n",
    "여기에서 $\\lambda$는 르벡메져이다. 그렇다면, 임의의 $A \\in {\\cal R}$에 대하여 아래가 성립한다. \n",
    "\n",
    "$$\\int_A d\\nu = 2\\int_A d\\lambda $$ "
   ]
  },
  {
   "cell_type": "markdown",
   "id": "14943f5e-31e0-41ff-ba8b-b3c3d60f1ba7",
   "metadata": {},
   "source": [
    "## 모든 곳에서, 거의 모든 곳에서 "
   ]
  },
  {
   "cell_type": "markdown",
   "id": "f8b10376-7a8c-41ec-9507-81dfbcb675d6",
   "metadata": {},
   "source": [
    "`-` 르벡측도 0인 곳을 제외하고는 어떠한 명제가 성립할때 ***거의 모든 곳에서*** 라는 수식어를 붙인다. 영어로는 ***almost everywhere*** 라고 하며 기호로는 ***a.e.*** 라고 표현한다. "
   ]
  },
  {
   "cell_type": "markdown",
   "id": "4dd00526-91d8-4d4b-819b-24915f00d30d",
   "metadata": {},
   "source": [
    "`-` 예시1: 아래와 같은 함수 $f$를 고려하자. \n",
    "\n",
    "$$f(x) = \\begin{cases} 1 & x\\in \\mathbb{Q} \\\\ 0 & x\\in \\mathbb{R}-\\mathbb{Q} \\end{cases}$$\n",
    "\n",
    "이 함수는 ***거의 모든 곳에서*** 0이다. "
   ]
  },
  {
   "cell_type": "markdown",
   "id": "c9f0fe3e-1a1a-41f6-ba81-be809c3731a2",
   "metadata": {},
   "source": [
    "> 기호로는 $f \\overset{a.e.}{=} 0$ 혹은 $f \\overset{a.e.}{=} 0$ ***w.r.t. $\\lambda$*** 와 같이 표현한다. "
   ]
  },
  {
   "cell_type": "markdown",
   "id": "d8f91e46-3b14-4d38-9529-19746376cba0",
   "metadata": {},
   "source": [
    "`-` 예시2: 아래와 같은 함수 $f,g$를 고려하자. \n",
    "\n",
    "$$f(x) = \\begin{cases} 1 & x\\in \\mathbb{Q} \\\\ 0 & x\\in \\mathbb{R}-\\mathbb{Q} \\end{cases}$$\n",
    "\n",
    "$$g(x) = \\begin{cases} 2 & x\\in \\mathbb{Q} \\\\ 0 & x \\in \\mathbb{R}-\\mathbb{Q} \\end{cases}$$\n",
    "\n",
    "함수 $f$와 $g$는 ***거의 모든 곳에서*** 같다. "
   ]
  },
  {
   "cell_type": "markdown",
   "id": "427feaba-de97-4388-b746-44a5a216e003",
   "metadata": {},
   "source": [
    "> 기호로는 $f\\overset{a.e.}{=} g$ 혹은 $f\\overset{a.e.}{=} g$ ***w.r.t. $\\lambda$*** 와 같이 표현한다. "
   ]
  },
  {
   "cell_type": "markdown",
   "id": "b03ab682-65fc-417f-9732-1a7ae30e7626",
   "metadata": {},
   "source": [
    "`-` 예시3: 아래와 같은 함수 $f,g$를 고려하자. \n",
    "\n",
    "$$f(x) = \\begin{cases} 0 & x\\in \\mathbb{Q} \\\\ 1 & x\\in \\mathbb{R}-\\mathbb{Q} \\end{cases}$$\n",
    "\n",
    "함수 $f$는 ***거의 모든 곳에서 양수이다.*** "
   ]
  },
  {
   "cell_type": "markdown",
   "id": "8d7d2a95-62c6-4d0d-9e1b-17156080b1da",
   "metadata": {},
   "source": [
    "> 기호로는 $f\\overset{a.e.}{>} 0$ 혹은 $f\\overset{a.e.}{>} g$ ***w.r.t. $\\lambda$*** 와 같이 표현한다. "
   ]
  },
  {
   "cell_type": "markdown",
   "id": "f26d99b2-0383-45cc-8d05-718f4b704135",
   "metadata": {},
   "source": [
    "`-` 예시4: 아래와 같은 함수 $f,g$를 고려하자. \n",
    "\n",
    "$$f(x) = \\begin{cases} 0 & x\\in \\mathbb{Q} \\\\ 1 & x\\in \\mathbb{R}-\\mathbb{Q} \\end{cases}$$\n",
    "\n",
    "$$g(x) = \\begin{cases} 0 & x\\in \\mathbb{Q} \\\\ 2 & x \\in \\mathbb{R}-\\mathbb{Q} \\end{cases}$$\n",
    "\n",
    "함수 $f$는 ***거의 모든 곳에서*** $g$보다 작다. "
   ]
  },
  {
   "cell_type": "markdown",
   "id": "8fd37218-64ec-4236-badd-8433e1ae42c5",
   "metadata": {},
   "source": [
    "> 기호로는 $f\\overset{a.e.}{<} g$ 혹은 $f\\overset{a.e.}{<} g$ ***w.r.t. $\\lambda$*** 와 같이 표현한다. "
   ]
  },
  {
   "cell_type": "markdown",
   "id": "a2dd54e8-b61c-4b3e-940f-f834b2d2c6ea",
   "metadata": {},
   "source": [
    "`-` 예시4: 만약에 아래와 같은 함수 $f,g$가 있다면 \n",
    "\n",
    "$$f(x) = \\begin{cases} 1 & x\\in \\mathbb{Q} \\\\ 0 & x\\in \\mathbb{R}-\\mathbb{Q} \\end{cases}$$\n",
    "\n",
    "$$g(x) = \\begin{cases} 1 & x\\in \\mathbb{Q} \\\\ 0 & x \\in \\mathbb{R}-\\mathbb{Q} \\end{cases}$$\n",
    "\n",
    "함수 $f$와 $g$는 ***모든 곳에서*** 같다라고 할 수 있겠다. (보통 그냥 같다라고 하죠..)"
   ]
  },
  {
   "cell_type": "markdown",
   "id": "6f7de15b-123b-4285-bdcf-4425bc9e4186",
   "metadata": {},
   "source": [
    "# 적분 "
   ]
  },
  {
   "cell_type": "markdown",
   "id": "bea383d0-7c25-45e1-bced-25b072490084",
   "metadata": {},
   "source": [
    "`-` ref: @durrett2019probability, Sec 1.4"
   ]
  },
  {
   "cell_type": "markdown",
   "id": "0a8223fb-6ed8-4849-b833-499db593696c",
   "metadata": {},
   "source": [
    "`-` 개론: 두 개의 잴 수 있는 공간 $(\\Omega, {\\cal F})$, $(\\mathbb{R}, {\\cal R})$을 고려하자. 함수 $\\mu:{\\cal F} \\to [0,\\infty]$을 $(\\Omega, {\\cal F})$에서 정의된 $\\sigma$-finite measure 라고 하자. 또한 함수 $f$를 ${\\cal F}-{\\cal R}$ measurable fucntion 이라고 하자. 이러한 공간에서 아래와 같은 표현 \n",
    "\n",
    "$$\\int f d\\mu$$ \n",
    "\n",
    "을 정의하고자 한다. "
   ]
  },
  {
   "cell_type": "markdown",
   "id": "b2385b8f-cb10-4a3f-9e7f-9d89fb3b82c3",
   "metadata": {},
   "source": [
    "## simple function "
   ]
  },
  {
   "cell_type": "markdown",
   "id": "49472357-f37f-41c8-9456-12dff8748936",
   "metadata": {},
   "source": [
    "`-` **정의**: $(\\Omega,{\\cal F})$가 잴 수 있는 공간이라고 하자. 함수 $f:\\Omega \\to \\mathbb{R}$가 아래와 같이 표현된다면 $f$를 simple function 이라고 한다. \n",
    "\n",
    "$$f(\\omega)=\\sum_{i=1}^{n} \\alpha_i \\mathbb{1}_{A_i}(\\omega)$$\n",
    "\n",
    "여기에서 $A_1,A_2,\\dots, A_n \\in {\\cal F}$ 은 서로소인 집합열, $\\mathbb{1}_{A_1} = \\begin{cases} 1 & \\omega \\in A_1 \\\\ 0 & \\omega \\not \\in A_1 \\end{cases}$, 그리고  $\\alpha_1,\\alpha_2,\\dots, \\alpha_n \\in \\mathbb{R}$ 이다. 보통은 위를 간단하게 아래와 같이 사용한다. \n",
    "\n",
    "$$f = \\sum_{i=1}^{n} \\alpha_i \\mathbb{1}_{A_i}$$\n",
    "\n"
   ]
  },
  {
   "cell_type": "markdown",
   "id": "11719407-b5d2-428b-ac82-5c4989546bed",
   "metadata": {},
   "source": [
    "`-` 이론: $f$는 ${\\cal F}-{\\cal R}$ measurable map 이다. "
   ]
  },
  {
   "cell_type": "markdown",
   "id": "afd60616-74d0-44f7-97b3-a8f22d22b9ca",
   "metadata": {},
   "source": [
    "`-` Note: 가측공간 $(\\Omega, {\\cal F})$에서 정의된 가측함수 $f$가 finite한 치역을 가진다면 $f$는 simple function 이다. "
   ]
  },
  {
   "cell_type": "markdown",
   "id": "704d8e59-7c84-4c3d-9eac-ddb33da9226f",
   "metadata": {},
   "source": [
    "`-` **정의**: $(\\Omega,{\\cal F})$가 잴 수 있는 공간이라고 하자. 함수 $\\mu:{\\cal F} \\to [0,\\infty]$을 $(\\Omega, {\\cal F})$에서 정의된 $\\sigma$-finite measure 라고 하자. 또한 함수 $f$를 ${\\cal F}-{\\cal R}$ measurable fucntion 이라고 하자. 만약 $f$가 아래와 같이 표현된다면\n",
    "\n",
    "$$f=\\sum_{i=1}^{n}\\alpha_i \\mathbb{1}_{A_i}$$ \n",
    "\n",
    "즉, $f$가 simple function 이라면 \"$f$의 $\\mu$에 대한 적분 ***(intergral of $f$ w.r.t. $\\mu$)***\"을 아래와 같이 정의한다. \n",
    "\n",
    "$$\\int f d\\mu = \\sum_{i=1}^{n}\\alpha_i \\mu(A_i)$$ "
   ]
  },
  {
   "cell_type": "markdown",
   "id": "37c93543-1418-4335-a1b0-4eb0495a9ac8",
   "metadata": {},
   "source": [
    "`-` 참고: 동일한 simple function $f$에 대한 표현 $\\sum_{i=1}^{n}\\alpha_i \\mu(A_i)$ 는 유일하지 않다. (왜냐하면 $\\alpha_i$가 서로 다른값이라는 가정을 한 것은 아니므로) 아래를 관찰하면 그 이유를 쉽게 알 수 있다. \n",
    "\n",
    "$$\\alpha\\mathbb{1}_{(0,2]}=\\alpha\\mathbb{1}_{(0,1]}+\\alpha\\mathbb{1}_{(1,2]}$$ \n",
    "\n",
    "하지만 앞으로의 논리전개에서 이러한 점은 별로 문제되지 않는다. 찝찝하다면 아래의 이론을 확인하고 넘어가도 무방. "
   ]
  },
  {
   "cell_type": "markdown",
   "id": "03012c41-8ba6-41f2-a1b8-dca866eb4090",
   "metadata": {},
   "source": [
    "`-` **이론**:  $(\\Omega,{\\cal F})$가 잴 수 있는 공간이라고 하자. 함수 $\\mu:{\\cal F} \\to [0,\\infty]$을 $(\\Omega, {\\cal F})$에서 정의된 $\\sigma$-finite measure 라고 하자. 또한 함수 $f$를 ${\\cal F}-{\\cal R}$ measurable fucntion 이라고 하자. 만약 $f$를 아래와 같은 두가지 방법으로 표현 가능하다면 \n",
    "\n",
    "$$f=\\sum_{i=1}^{m}\\alpha_i \\mathbb{1}_{A_i}=\\sum_{j=1}^{n}\\beta_j \\mathbb{1}_{B_j}$$ \n",
    "\n",
    "아래가 성립한다. \n",
    "\n",
    "$$\\sum_{i=1}^{m}\\alpha_i\\mu(A_i)=\\sum_{j=1}^{n}\\beta_j \\mu(B_j)$$ \n",
    "\n",
    "즉 $f$가 서로 다른 형태의 simple function으로 표현될 수 있으나 $\\int f d\\mu$가 지칭하는 값은 같다."
   ]
  },
  {
   "cell_type": "markdown",
   "id": "39bc8272-4a73-4169-a298-e0b34d460c63",
   "metadata": {},
   "source": [
    "`-` 이 챕터의 결론: 아무튼 $f$가 simple function일 경우는 $\\int f d\\mu$ 가 의미하는 것이 아주 명확하다는 의미. "
   ]
  },
  {
   "cell_type": "markdown",
   "id": "cb49e13f-6c2a-466a-be3c-59cec5ec5e11",
   "metadata": {},
   "source": [
    "`-` **(예제1)** -- 사각형의 넓이 "
   ]
  },
  {
   "cell_type": "markdown",
   "id": "ea7a5523-20fb-4706-9441-f15a1fb72721",
   "metadata": {},
   "source": [
    "두개의 잴 수 있는 공간 $(\\mathbb{R}, {\\cal R})$와 $(\\mathbb{R}, {\\cal R})$을 고려하자. $\\lambda:{\\cal R} \\to [0,\\infty]$를 르벡메져라고 하자. 함수 $f:\\mathbb{R} \\to \\mathbb{R}$를 아래와 같이 표현하자. \n",
    "\n",
    "$$f(x) = \\begin{cases} 1 & 0\\leq x \\leq 1 \\\\ 0 & o.w. \\end{cases}$$"
   ]
  },
  {
   "cell_type": "markdown",
   "id": "5eab96fc-9ab8-48a6-9c64-08c358489822",
   "metadata": {},
   "source": [
    "이 함수는 잴 수 있는 함수인가? 즉 ${\\cal R}-{\\cal R}$ measurable function 인가? 만약에 잴 수 있는 함수라면 $f$의 $\\lambda$에 대한 적분값은 어떻게 되는가? "
   ]
  },
  {
   "cell_type": "markdown",
   "id": "403e769f-eb83-435e-aba1-f219424fcf78",
   "metadata": {},
   "source": [
    "note: 현재는 $(\\Omega, {\\cal F})=(\\mathbb{R}, {\\cal R})$인 상황이다. "
   ]
  },
  {
   "cell_type": "markdown",
   "id": "efbfd6ac-5426-4a6c-a620-c4d1bd2f57e5",
   "metadata": {},
   "source": [
    "(해설)"
   ]
  },
  {
   "cell_type": "markdown",
   "id": "8a89a67a-dbef-4d26-82e5-f51784fc0b08",
   "metadata": {},
   "source": [
    "step1 -- 잴 수 있는 함수를 따지자. $A=[0,1]$ 일때 함수 $f$는 "
   ]
  },
  {
   "cell_type": "markdown",
   "id": "fbc01672-833b-42af-af40-642b55daaf96",
   "metadata": {},
   "source": [
    "$$f(x) = 1\\times \\mathbb{1}_A $$ "
   ]
  },
  {
   "cell_type": "markdown",
   "id": "072fe54b-285e-4b13-bd50-78f19353c3f2",
   "metadata": {},
   "source": [
    "이므로 잴 수 있는 함수이다. "
   ]
  },
  {
   "cell_type": "markdown",
   "id": "afc357f3-ba3f-46d7-91dc-c88b61470db9",
   "metadata": {},
   "source": [
    "step2 -- $\\int f d\\lambda$는 아래와 같이 계산할 수 있다. "
   ]
  },
  {
   "cell_type": "markdown",
   "id": "158135b9-7dcc-4d78-9a49-293be6e560ec",
   "metadata": {},
   "source": [
    "$$\\int f d\\lambda = 1\\times \\lambda(A)  = \\lambda([0,1])=1$$ "
   ]
  },
  {
   "cell_type": "markdown",
   "id": "9016f3bb-0f86-4e7d-a106-316916a0fdd5",
   "metadata": {},
   "source": [
    "이는 $\\int_0^1 f(x)dx$ 의 계산결과와 일치한다. "
   ]
  },
  {
   "cell_type": "markdown",
   "id": "2ac0269b-7508-48e1-8dd2-212ec73a4c1d",
   "metadata": {},
   "source": [
    "`-` **(예제2)** -- "
   ]
  },
  {
   "cell_type": "markdown",
   "id": "9648da47-dab9-4a50-b791-5f47f33e86b0",
   "metadata": {},
   "source": [
    "두개의 잴 수 있는 공간 $(\\mathbb{R}, {\\cal R})$와 $(\\mathbb{R}, {\\cal R})$을 고려하자. $\\lambda:{\\cal R} \\to [0,\\infty]$를 르벡메져라고 하자. 함수 $f:\\mathbb{R} \\to \\mathbb{R}$를 아래와 같이 표현하자. "
   ]
  },
  {
   "cell_type": "markdown",
   "id": "0a8fc6fa-dbb4-4b35-980a-1f9506c9bd2a",
   "metadata": {},
   "source": [
    "$$f(x) = \\begin{cases} 1 & x \\in [0,1] \\cap \\mathbb{Q}  \\\\ 2 & x \\in [0,1] \\cap \\mathbb{Q}^c \\end{cases}$$ "
   ]
  },
  {
   "cell_type": "markdown",
   "id": "df7f2a6c-8238-4a05-8192-00e1dfaf3e04",
   "metadata": {},
   "source": [
    "이 함수는 잴 수 있는 함수인가? 즉 ${\\cal R}-{\\cal R}$ measurable function 인가? 만약에 잴 수 있는 함수라면 $f$의 $\\lambda$에 대한 적분값은 어떻게 되는가? "
   ]
  },
  {
   "cell_type": "markdown",
   "id": "fc0a3dfe-eda1-4d49-8641-031d83a6320c",
   "metadata": {},
   "source": [
    "(해설) "
   ]
  },
  {
   "cell_type": "markdown",
   "id": "248c45cc-0fe9-4b21-a43c-54bb3f48223c",
   "metadata": {},
   "source": [
    "step1 -- \n",
    "\n",
    "$A_1 = [0,1] \\cap \\mathbb{Q}$, $A_1 = [0,1] \\cap \\mathbb{Q}^c$ 일때 함수 $f$는 \n",
    "\n",
    "$$f=1 \\times \\mathbb{1}_{A_1} + 2 \\times \\mathbb{1}_{A_2}$$\n",
    "\n",
    "와 같이 표현가능하다. $A_1,A_2 \\in {\\cal R}$ 이고 $A_1,A_2$ 는 서로소이며 $1,2 \\in \\mathbb{R}$ 이므로 $f$는 simple function 이다. 따라서 ${\\cal R}-{\\cal R}$ measurable function 이다. "
   ]
  },
  {
   "cell_type": "markdown",
   "id": "3b5ecb55-7807-40e3-b881-a2ec0a9e1e99",
   "metadata": {},
   "source": [
    "step2 -- "
   ]
  },
  {
   "cell_type": "markdown",
   "id": "2df2314a-6338-48b9-9ec5-bb113a963cf3",
   "metadata": {},
   "source": [
    "$$\\int f d\\lambda = 1\\times \\lambda(A_1) + 2\\times \\lambda(A_2) = 1\\times 0 + 2 \\times 1 =2$$ "
   ]
  },
  {
   "cell_type": "markdown",
   "id": "18dff8ff-9374-4982-9d84-5875cbf57bd2",
   "metadata": {},
   "source": [
    "이미 살펴보았듯이 $\\int_0^1 f(x)dx$는 계산불가능하지만 $\\int f d\\lambda$는 계산가능함. "
   ]
  },
  {
   "cell_type": "markdown",
   "id": "9d5de2e4-c41d-44a0-ae41-0a73c62499ae",
   "metadata": {},
   "source": [
    "`-` 앞으로의 논리전개: $f$를 simple function을 이용하여 근사할 수 있을 경우 르벡적분값 $\\int f d\\mu$가 모순없이 잘 정의됨. "
   ]
  },
  {
   "cell_type": "markdown",
   "id": "8b4c0261-5ee3-46ab-888f-c2610f89519d",
   "metadata": {},
   "source": [
    "![위키에서 긁은 그림: 구불구불한 $f$를 simple function의 합으로 근사할 수 있다.](https://upload.wikimedia.org/wikipedia/commons/thumb/2/2f/Lebesgueintegralsimplefunctions_finer-dotted.svg/800px-Lebesgueintegralsimplefunctions_finer-dotted.svg.png)"
   ]
  },
  {
   "cell_type": "markdown",
   "id": "b2b06198-3835-49bf-a9b7-cedab4c4a8a7",
   "metadata": {},
   "source": [
    "## non-negative function "
   ]
  },
  {
   "cell_type": "markdown",
   "id": "33fcfdd6-9752-4aab-9643-a4c049ddaeff",
   "metadata": {},
   "source": [
    "`-` **정의**: $(\\Omega,{\\cal F})$가 잴 수 있는 공간이라고 하자. 함수 $\\mu:{\\cal F} \\to [0,\\infty]$을 $(\\Omega, {\\cal F})$에서 정의된 $\\sigma$-finite measure 라고 하자. 또한 함수 $f:(\\Omega,{\\cal F})\\to(\\mathbb{R},\\bar{\\cal R})$ non-negative (***w.r.t. $\\mu$***) function 이라고 하고 $\\varphi:(\\Omega,{\\cal F})\\to(\\mathbb{R},{\\cal R})$ simple function이라고 하자. 그러면 \"$f$의 $\\mu$에 대한 적분 ***(intergral of $f$ w.r.t. $\\mu$)***\"을 아래와 같이 정의할 수 있다. \n",
    "\n",
    "$$\\int f d\\mu := \\sup\\Big\\{\\int \\varphi d\\mu: 0\\leq \\varphi \\leq f, ~\\text{a.e. with respect to } \\mu \\Big\\}$$"
   ]
  },
  {
   "cell_type": "markdown",
   "id": "d68d482f-509c-49d6-807b-9cae732e230e",
   "metadata": {},
   "source": [
    "`-` 정의상 $\\int f d\\mu$는 무한대의 값을 가질 수 있다. 이 경우에도 $\\int f d\\mu$의 값은 모순 없이 잘 정의된다. "
   ]
  },
  {
   "cell_type": "markdown",
   "id": "0058cd99-a369-47aa-95ed-c67e2a39ebee",
   "metadata": {},
   "source": [
    "## measurable function "
   ]
  },
  {
   "cell_type": "markdown",
   "id": "034a33d1-85d6-4b9e-9022-d220d703490d",
   "metadata": {},
   "source": [
    "`-` 지금까지의 스토리: $\\sigma$-finite measurable space $(\\Omega, {\\cal F}, \\mu)$ 를 고려하자. 아래의 경우 $\\int f d\\mu$ 의 값이 모순없이 잘 정의되었다. \n",
    "\n",
    "1. $f:(\\Omega, {\\cal F}) \\to (\\mathbb{R}, {\\cal R})$인 simple function \n",
    "2. $f:(\\Omega, {\\cal F}) \\to (\\bar{\\mathbb{R}}, \\bar{{\\cal R}})$인 non-negative (***w.r.t. $\\mu$***) function "
   ]
  },
  {
   "cell_type": "markdown",
   "id": "c756a51c-c21f-4c20-b5fb-58f924ebb7b0",
   "metadata": {},
   "source": [
    "이제 일반적인 $f:(\\Omega,{\\cal F}) \\to (\\bar{\\mathbb{R}}, \\bar{\\cal{R}})$ 에 대하여 $\\int f d\\mu$ 의 값이 모순없이 잘 정의되는 조건을 살펴보겠다. "
   ]
  },
  {
   "cell_type": "markdown",
   "id": "7af1eddf-c7f1-4e70-ae91-ead3cc8d636a",
   "metadata": {},
   "source": [
    "`-` 임의의 함수 $f:\\Omega \\to \\bar{\\mathbb{R}}$에 대하여 아래와 같은 함수를 관찰하자. \n",
    "\n",
    "- $f^+ = \\max(0,f)$ \n",
    "- $f^- = \\max(0,-f)$ \n",
    "\n",
    "함수 $f^+$ 와 $f^-$는 아래의 성질이 성립한다. \n",
    "\n",
    "1. $f^+, f^-$ 는 모두 양수이다. \n",
    "2. $|f| = f^+ + f^-$\n",
    "3. $f = f^+ - f^-$ \n"
   ]
  },
  {
   "cell_type": "markdown",
   "id": "67dca221-43f3-4bc3-9303-17c7885058d9",
   "metadata": {},
   "source": [
    "`-` **이론** 만약에 $f:(\\Omega, {\\cal F}) \\to (\\bar{\\mathbb{R}},\\bar{\\cal R})$ 이면 \n",
    "\n",
    "- $f^+: (\\Omega, {\\cal F}) \\to (\\bar{\\mathbb{R}},\\bar{\\cal R})$\n",
    "- $f^: (\\Omega, {\\cal F}) \\to (\\bar{\\mathbb{R}},\\bar{\\cal R})$\n",
    "\n",
    "이다. "
   ]
  },
  {
   "cell_type": "markdown",
   "id": "45eb1e55-9005-44f3-9682-0fed1f92b210",
   "metadata": {},
   "source": [
    "`-` **정의**: $\\sigma$-finite measurable space $(\\Omega, {\\cal F}, \\mu)$ 를 고려하자. 일반적인 가측함수 $f:(\\Omega, {\\cal F}) \\to (\\bar{\\mathbb{R}},\\bar{\\cal R})$의 $\\mu$에 대한 적분 ***(intergral of $f$ w.r.t. $\\mu$)*** 은 아래와 같이 생각할 수 있다. \n",
    "\n",
    "$$\\int f d\\mu := \\int f^+ d\\mu - \\int f^- d\\mu$$\n",
    "\n",
    "이 값은 잘 정의될 수도 있고, 그렇지 않을 수도 있다. 구체적으로 아래와 같다. \n",
    "\n",
    "1. $\\int f^+ d\\mu < \\infty$ and $\\int f^- d\\mu < \\infty$ $\\Rightarrow$ $\\int f d\\mu = \\int f^+ d\\mu - \\int f^- d\\mu$ 로 정의 \n",
    "2. $\\int f^+ d\\mu = \\infty$ and $\\int f^- d\\mu < \\infty$ $\\Rightarrow$ $\\int f d\\mu = \\infty$ 로 정의 \n",
    "3. $\\int f^+ d\\mu < \\infty$ and $\\int f^- d\\mu = \\infty$ $\\Rightarrow$ $\\int f d\\mu = -\\infty$ 로 정의 \n",
    "4. $\\int f^+ d\\mu = \\infty$ and $\\int f^- d\\mu = \\infty$ $\\Rightarrow$ $\\int f d\\mu$ 는 정의할 수 없음. \n",
    "\n",
    "이중에서 1,2,3에 해당하는 경우는 ***\"$\\int f d\\mu$가 존재한다 (exist)\"*** 고 표현하며, 4의 경우는 ***\"$\\int f d\\mu$ 가 존재하지 않는다\"***고 표현한다. 이때 1의 경우를 특별하게 ***\"$f$ is integrable w.r.t. $\\mu$\"*** 라고 표현한다. "
   ]
  },
  {
   "cell_type": "markdown",
   "id": "a0d8565e-8e98-4500-a9d1-4ca17c197968",
   "metadata": {},
   "source": [
    "> 헷갈려: 언뜻 생각하면 \"$f$가 $\\mu$에 대하여 적분가능하지 않다\"라는 의미가 \"$\\int f d\\mu$ 의 값을 모순없이 잘 정의할 수 없다\" 라는 의미로 이해할 수 있는데 그렇지 않다."
   ]
  },
  {
   "cell_type": "markdown",
   "id": "a102c447-2015-422f-88d2-ea1f9862c1ca",
   "metadata": {},
   "source": [
    "`-` 위의 정의에서 $\\int f^+ d\\mu$ 혹은 $\\int f^- d\\mu$ 라는 표현이 잘 정의되는 이유는 $f^+, f^-$이 모두 $(\\Omega, {\\cal F}) \\to (\\bar{\\mathbb{R}}, \\bar{{\\cal R}})$인 non-negative (***w.r.t. $\\mu$***) function 이기 때문이다. "
   ]
  },
  {
   "cell_type": "markdown",
   "id": "0440a1b8-1454-4807-a502-2841136e833a",
   "metadata": {},
   "source": [
    "## NOTATIONS ($\\star\\star\\star\\star\\star$) "
   ]
  },
  {
   "cell_type": "markdown",
   "id": "2aae73be-7005-4271-899e-bf8ea8b707f1",
   "metadata": {},
   "source": [
    "`-` $(\\Omega, {\\cal F}, \\mu)$ 가 $(\\mathbb{R}, {\\cal R}, \\lambda)$ 이면\n",
    "\n",
    "1. $\\int f(x)dx = \\int f d\\lambda$ \n",
    "2. $\\int_a^b f(x)dx = \\int_E fd\\lambda$\n",
    "\n",
    "와 같이 사용한다. [@durrett2019probability, p 23]"
   ]
  },
  {
   "cell_type": "markdown",
   "id": "eda64c92-94a7-4dd8-9cf5-a69879756f5b",
   "metadata": {},
   "source": [
    "`-` $\\int_E fd\\lambda$는 종종 \n",
    "\n",
    "- $\\int_E f(x)d\\lambda(x)$ \n",
    "- $\\int_E f(y)d\\lambda(y)$ \n",
    "\n",
    "와 같이 표현하기도 한다. 이러한 표현은 너무 명시적일 떄도 있지만 때때로 유용하다. 예를들어 \n",
    "\n",
    "- $\\int_{(0,1)}x^y d\\lambda(x)$ 는 함수 $x \\mapsto x^y$ 에 대한 적분을 \n",
    "- $\\int_{(0,1)}x^y d\\lambda(y)$ 는 함수 $y \\mapsto x^y$ 에 대한 적분을\n",
    "\n",
    "의미한다. [@makarov2013real, p 125]"
   ]
  },
  {
   "cell_type": "markdown",
   "id": "ad418a2f-d102-40eb-8540-e4f74c2c33f0",
   "metadata": {},
   "source": [
    "`-` $(\\Omega, {\\cal F}, \\mu)$ 가 $(\\mathbb{R}, {\\cal R}, \\mu_X)$ 이고 $F_X = \\mu_X((-\\infty,x])$ 라면\n",
    "\n",
    "- $\\int g d\\mu_X= \\int g dF_X= \\int g(x) dF_X(x)$ \n",
    "\n",
    "와 같이 사용할 수 있다. 만약에 $F_X(x)$가 ***density function*** $f_X(x)$를 가진다면 \n",
    "\n",
    "- $\\int g(x) dF_X(x) = \\int g(x)f_X(x)dx$ \n",
    "\n",
    "와 같이 사용할 수 있다. 표현 $\\int g(x) dF_X(x)$ 와 $\\int g(x)f_X(x)dx$ 는 모두 $\\mathbb{E}(X)$ 를 의미하지만 $\\int g(x) dF_X(x)$는 확률변수 $X$의 density가 존재하지 않을 때에도 표현가능하다는 장점이 있다. [@durrett2019probability, p 23]"
   ]
  },
  {
   "cell_type": "markdown",
   "id": "5d7ef4f1-482d-44ac-8de0-575e291e4e50",
   "metadata": {},
   "source": [
    "`-` $(\\Omega,{\\cal F},\\mu)$ 에서 \n",
    "\n",
    "1. $\\Omega$: a countable set\n",
    "2. ${\\cal F}$: $2^\\Omega$\n",
    "3. $\\mu$: counting measure \n",
    "\n",
    "라고 하자. 그러면 \n",
    "\n",
    "- $\\int f \\mu = \\sum_{i \\in \\Omega} f(i)$ \n",
    "\n",
    "이 성립한다. [@durrett2019probability, p 23]"
   ]
  },
  {
   "cell_type": "markdown",
   "id": "466a0a07-01e5-4c82-adec-db48ba00c19b",
   "metadata": {},
   "source": [
    "`-` 예시1: $(\\mathbb{N}, 2^{\\mathbb{N}}, \\mu)$ 를 고려하자. 여기에서 $\\mu$는 counting measure 이다. 그렇다면 \n",
    "           \n",
    "$$\\sum_{i=1}^{\\infty} 1/2^n = \\int 1/2^n d\\mu$$\n",
    "\n",
    "와 같이 표현할 수 있다. 이는 르벡메져가 \n",
    "\n",
    "1. 치역을 쪼갠다. \n",
    "2. 쪼개진 치역에 대한 정의역의 길이를 측정한다. \n",
    "3. 1과 2를 곱한뒤 모두 더한다\n",
    "\n",
    "의 과정을 수행한다는 사실을 떠올리면 쉽게 이해할 수 있다."
   ]
  },
  {
   "cell_type": "markdown",
   "id": "ef333c70-f8e5-47bc-b762-c93d66035e1c",
   "metadata": {},
   "source": [
    "`-` 가장 중요한 응용: $(\\Omega, {\\cal F}, \\mu)$가 확률공간일 경우! (이건 다음에..)"
   ]
  }
 ],
 "metadata": {
  "kernelspec": {
   "display_name": "Python 3",
   "language": "python",
   "name": "python3"
  },
  "language_info": {
   "codemirror_mode": {
    "name": "ipython",
    "version": 3
   },
   "file_extension": ".py",
   "mimetype": "text/x-python",
   "name": "python",
   "nbconvert_exporter": "python",
   "pygments_lexer": "ipython3",
   "version": "3.8.16"
  }
 },
 "nbformat": 4,
 "nbformat_minor": 5
}
