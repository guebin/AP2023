{
 "cells": [
  {
   "cell_type": "raw",
   "id": "a0ec786e-73ab-47dd-8d35-7632764e2937",
   "metadata": {},
   "source": [
    "---\n",
    "title: \"13wk: 밀도함수\"\n",
    "author: \"최규빈\"\n",
    "date: \"05/30/2023\"\n",
    "bibliography: ref.bib\n",
    "---"
   ]
  },
  {
   "cell_type": "markdown",
   "id": "43bad583-2a8d-49b0-97d2-51fcb8ca0827",
   "metadata": {},
   "source": [
    "# 강의영상 "
   ]
  },
  {
   "cell_type": "markdown",
   "id": "3f623752-483b-4c14-a1a0-4b8aa3245758",
   "metadata": {},
   "source": [
    "> youtube: <https://youtube.com/playlist?list=PLQqh36zP38-xzs1sJhhsXTzssLICsc9t6>"
   ]
  },
  {
   "cell_type": "markdown",
   "id": "26999275-09ae-44b6-a711-cf526290b610",
   "metadata": {},
   "source": [
    "# 칸토어집합  "
   ]
  },
  {
   "cell_type": "markdown",
   "id": "30e3315d-3296-4e06-ae6d-8384b35be724",
   "metadata": {},
   "source": [
    "ref: <https://en.wikipedia.org/wiki/Cantor_set>"
   ]
  },
  {
   "cell_type": "markdown",
   "id": "3f0d72b0-911c-45f2-a542-b86c68390213",
   "metadata": {},
   "source": [
    "## 정의"
   ]
  },
  {
   "cell_type": "markdown",
   "id": "0c6ffe1c-8dfc-4110-b5d0-63a06684490b",
   "metadata": {},
   "source": [
    "`-` 아래의 집합열 $C_n$의 극한 ${\\cal C}=\\lim_{n\\to\\infty} C_n$를 생각하자. "
   ]
  },
  {
   "cell_type": "markdown",
   "id": "10a7d598-76d5-4af4-856a-fe039e1f819e",
   "metadata": {},
   "source": [
    "**실제수열** "
   ]
  },
  {
   "cell_type": "markdown",
   "id": "96d4a15c-bbb4-452d-9ee1-a33a8835b557",
   "metadata": {},
   "source": [
    "- $C_0=[0,1]$\n",
    "- $C_1=[0,\\frac{1}{3}] \\cup [\\frac{2}{3},1]$\n",
    "- $C_2=\\big([0,\\frac{1}{9}]\\cup[\\frac{2}{9},\\frac{1}{3}] \\big) \\cup \\big([\\frac{2}{3},\\frac{7}{9}]\\cup [\\frac{8}{9},1] \\big)$\n",
    "- $\\dots$ "
   ]
  },
  {
   "cell_type": "markdown",
   "id": "04782e70-33e5-40a3-98d6-6843d2a9f768",
   "metadata": {},
   "source": [
    "**언어버전:** created by iteratively deleting the open middle third from a set of line segments. "
   ]
  },
  {
   "cell_type": "markdown",
   "id": "eb258326-8da2-4308-bf28-78ee0c5038e3",
   "metadata": {},
   "source": [
    "- $C_0$: $[0,1]$\n",
    "- $C_1$: $C_0$에서 정의된 line을 3등분한뒤 가운데를 제거\n",
    "- $C_2$: $C_1$에서 정의된 line segments를 각각 3등분한뒤 각각 가운데를 제거 \n",
    "- $\\dots$ "
   ]
  },
  {
   "cell_type": "markdown",
   "id": "219e01e5-d9a9-4272-8aac-773110ac2338",
   "metadata": {},
   "source": [
    "**수식버전** "
   ]
  },
  {
   "cell_type": "markdown",
   "id": "75874b38-608f-4da8-95ec-87a41f1cdac1",
   "metadata": {},
   "source": [
    "- $C_0=[0,1]$\n",
    "- $C_1=\\frac{C_{0}}{3}\\cup(\\frac{2}{3}+\\frac{C_{0}}{3})$\n",
    "- $C_2=\\frac{C_{1}}{3}\\cup(\\frac{2}{3}+\\frac{C_{1}}{3})$\n",
    "- $\\dots$\n",
    "- $C_n=\\frac{C_{n-1}}{3}\\cup(\\frac{2}{3}+\\frac{C_{n-1}}{3})$ "
   ]
  },
  {
   "cell_type": "markdown",
   "id": "bd36fe5f-33eb-4705-b8ca-d2dae338b2c2",
   "metadata": {},
   "source": [
    "단, 여기에서 \n",
    "\n",
    "- $\\frac{1}{3}[a,b]= [\\frac{a}{3},\\frac{b}{3}]$\n",
    "- $\\frac{2}{3}+[a,b]= [\\frac{2}{3}+a,\\frac{2}{3}+b]$\n",
    "\n",
    "와 같이 정의한다. "
   ]
  },
  {
   "cell_type": "markdown",
   "id": "01da8aa9-3cd2-4bd9-8925-be8516190125",
   "metadata": {},
   "source": [
    "**그림버전**"
   ]
  },
  {
   "cell_type": "markdown",
   "id": "cf4f2c9a-0c6a-493d-a2d1-b05c63072a49",
   "metadata": {},
   "source": [
    "![그림1: 칸토어 집합](https://upload.wikimedia.org/wikipedia/commons/thumb/5/56/Cantor_set_in_seven_iterations.svg/2880px-Cantor_set_in_seven_iterations.svg.png)"
   ]
  },
  {
   "cell_type": "markdown",
   "id": "a180f507-717c-4275-9c51-58391120f4ff",
   "metadata": {},
   "source": [
    "## 성질"
   ]
  },
  {
   "cell_type": "markdown",
   "id": "19412050-1435-408d-a765-740f3a650281",
   "metadata": {},
   "source": [
    "`-` 3진법의 표기: 칸토어 집합의 원소는 $[0,1]$사이의 원소를 삼진법으로 표현할때 모든 자리수가 0 또는 2가 되는 수만 모은 집합이다. \n",
    "\n",
    "1. $[0,1]$ 사이의 모든 실수를 3진법을 표현한다고 생각하자. \n",
    "2. $C_1$은 $0.1xxxx\\dots_{3}$와 같은 숫자가 빠지고, $C_2$에서는 $0.01xxx\\dots_{3}$ 혹은 $0.21xxx\\dots_{3}$ 에 대응하는 숫자가 빠지는 과정이 반복적으로 일어난다고 볼 수 있다. \n",
    "3. 2의 결과를 잘 생각하면 칸토어 집합에 포함되는 수는 삼전법 소수로 표기했을 때 모든 자리수가 0 또는 2가 된다는 점을 쉽게 눈치챌 수 있다. "
   ]
  },
  {
   "cell_type": "markdown",
   "id": "371ba508-518e-4924-a3d1-ac22e4fd2e0f",
   "metadata": {},
   "source": [
    "`-` 카디널리티: 칸토어 집합의 카디널리티는 구간 $[0,1]$의 카디널리티와 같다. 즉 $2^{\\aleph_0}$ 이다. \n",
    "\n",
    "1. $y\\in [0,1]$ 사이의 모든 실수는 임의의 2진수로 표현할 수 있다. \n",
    "2. 예를들어 $y=\\frac{3}{5}=0.100110011001..._{2}$와 같이 표현할 수 있다.\n",
    "3. 만약에 2의 결과에서 $1$을 모두 $2$로 바꾸어 3진법수를 만들면 $0.200220022002..._{3}=\\frac{7}{10}$와 같이 쓸 수 있는데, 이는 칸토르 집합의 원소가 된다. \n",
    "4. 3을 2의 출력으로 바꾸는 과정을 수행하는 함수 $f$를 정의하자. 즉 이 예제의 경우 $f(\\frac{7}{10})=\\frac{3}{5}$. \n",
    "5. $f$는 전사함수이므로 ${\\sf card}([0,1]) \\leq {\\sf card}({\\cal C})$. \n"
   ]
  },
  {
   "cell_type": "markdown",
   "id": "3eae0346-2905-4403-bf4e-25544188d725",
   "metadata": {},
   "source": [
    "`-` 잴 수 있는 집합: ${\\cal C} \\in {\\cal R}$ \n",
    "\n",
    "1. $C_0,C_1,C_2\\dots \\in {\\cal R}$\n",
    "2. ${\\cal C} = \\lim_{n\\to \\infty} C_n = \\cap_{n=0}^{\\infty} C_n$ ($C_0,C_1,C_2,\\dots$ 이 감소하는 집합열임을 이용) \n",
    "3. 시그마필드 ${\\cal R}$은 countable intersection에 닫혀있으므로 ${\\cal C} \\in {\\cal R}$ "
   ]
  },
  {
   "cell_type": "markdown",
   "id": "bb87d687-ab43-4d6d-ac93-4a57220625ad",
   "metadata": {},
   "source": [
    "`-` 르벡측도값(길이): $\\lambda({\\cal C})=0$이다. 여기에서 $\\lambda$은 르벡측도이다. 즉 칸토어집합의 길이는 0이다. \n",
    "\n",
    "1. 칸토어 집합을 만드는 과정에서 제외되는 집합의 길이는 순서대로 $\\frac{1}{3}, \\frac{2}{9}, \\frac{4}{27} \\dots$ 이다. \n",
    "2. 이것은 첫째항이 $\\frac{1}{3}$이고 공비가 $\\frac{2}{3}$인 등비수열이므로 무한등비급수의 합을 이용하면 제외되는 길이의 합은 $1$이 됨을 계산할 수 있다. "
   ]
  },
  {
   "cell_type": "markdown",
   "id": "9da96c69-0b58-4a87-81b7-bf1f3648994a",
   "metadata": {},
   "source": [
    "`-` 굉장히 오래전에 만들었던 표 "
   ]
  },
  {
   "cell_type": "markdown",
   "id": "33fe7fef-e3b4-4dab-a373-2c4ac086ab1a",
   "metadata": {},
   "source": [
    "|집합|카디널리티|분류|르벡메져|\n",
    "|:-:|:-:|:-:|:-:|\n",
    "|$\\{1,2,3\\}$|3|가산집합|0|\n",
    "|$\\mathbb{N}$|$\\aleph_0$|가산집합|0|\n",
    "|$\\mathbb{Z}$|$\\aleph_0$|가산집합|0|\n",
    "|$\\mathbb{Q}$|$\\aleph_0$|가산집합|0|\n",
    "|$[0,1]$|$2^{\\aleph_0}$|비가산집합|1|\n",
    "|$[0,1]\\cap \\mathbb{Q}$|$\\aleph_0$|가산집합|0|\n",
    "|$[0,1]\\cup \\mathbb{Q}$|$2^{\\aleph_0}$|비가산집합|1|\n",
    "|$[0,1]\\cap \\mathbb{Q}^c$|$2^{\\aleph_0}$|비가산집합|1|\n",
    "|$[0,\\infty)$|$2^{\\aleph_0}$|비가산집합|$\\infty$|\n",
    "|비탈리집합|$2^{\\aleph_0}$|비가산집합|NA|\n",
    "|칸토어집합|$2^{\\aleph_0}$|비가산집합|0|"
   ]
  },
  {
   "cell_type": "markdown",
   "id": "59187ac1-4348-4e25-8a1d-0407f048efab",
   "metadata": {},
   "source": [
    "::: {.callout-warning}\n",
    "## 강의설명 오류 정정\n",
    "\n",
    "이부분의 설명에서 제가 “가산집합이면 대부분 르벡메져가 0이다” 라는 식으로 설명했는데요, 이는 잘못된 설명입니다. 대부분의 가산집합이 르벡메져가 0이 아니고 “모든 가산집합은 무조건 르벡메져가 0입니다.” 왜냐하면 임의의 가산집합 $A$는 아래와 같이 한점의 집합의 countable union으로 \n",
    "\n",
    "$$A = \\cup_{i=1}^{\\infty} \\{a_i\\}$$\n",
    "\n",
    "으로 표현가능한데요, 여기에 르벡메져를 취하면 \n",
    "\n",
    "$$\\lambda(A) = \\lambda\\big(\\cup_{i=1}^{\\infty} \\{a_i\\}\\big)=\\sum_{i=1}^{\\infty}\\lambda( \\{a_i\\})=0$$\n",
    "\n",
    "와 같이 됩니다. 두번째 등호는 메져의 정의 ($\\sigma$-additivity) 에 의하여 성립합니다. 강의오류에 발견에 도움을 준 김보람학생 감사합니다.\n",
    "\n",
    ":::"
   ]
  },
  {
   "cell_type": "markdown",
   "id": "d6b259f1-7f9f-466b-b0a5-80b9a9f8ab0e",
   "metadata": {},
   "source": [
    "# 밀도함수 (density function) "
   ]
  },
  {
   "cell_type": "markdown",
   "id": "57dbbb03-0b27-493f-aa9d-b7e9fba62170",
   "metadata": {
    "tags": []
   },
   "source": [
    "## 정의 "
   ]
  },
  {
   "cell_type": "markdown",
   "id": "5d4f09b4-aec9-4740-b69a-6bd45a8c2ddd",
   "metadata": {},
   "source": [
    "`-` **(정의)** $X$를 확률공간 $(\\Omega, {\\cal F}, P)$에서 정의된 확률변수라고 하고 $F_X$를 $X$의 분포함수 라고 하자. 만약에 $F_X$가 아래와 같은 방식으로 표현된다면 $f_X$를 $X$를 밀도함수 (density function) 이라고 한다. \n",
    "\n",
    "$$F_X(x)=\\int_{-\\infty}^xf_X(y)dy$$ \n",
    "\n"
   ]
  },
  {
   "cell_type": "markdown",
   "id": "955c295d-056c-480f-9feb-f5e833c2ce5e",
   "metadata": {},
   "source": [
    "`-` 저런 표현이 존재하지 않는다면 어쩌지? \n",
    "\n",
    "- $F_X(x)$가 불연속인 경우: 미분 불가능 \n",
    "- $F_X(x)$가 연속인 경우: 미분가능할 수도 있고, 아닐 수도 있고"
   ]
  },
  {
   "cell_type": "markdown",
   "id": "4347cb96-44a4-43ab-b00d-550196210229",
   "metadata": {},
   "source": [
    "## 다양한 밀도함수 예시"
   ]
  },
  {
   "cell_type": "markdown",
   "id": "071c182e-c9bf-4480-bab4-d551f260ef46",
   "metadata": {},
   "source": [
    "`-` 교양: 함수 $F_X(x)$가 연속인 경우는 연속확률변수 $X$의 분포함수 (distribution fucntion) 혹은 CDF라고 하고 함수 $F_X(x)$가 jump만 존재하는 불연속인 경우는 이산확률변수의 분포함수 (distribution function) 혹은 CDF라고 한다."
   ]
  },
  {
   "cell_type": "markdown",
   "id": "ed1ff089-aeee-40d6-9eb0-1876b6edb694",
   "metadata": {},
   "source": [
    "**(예제1)** -- 균등분포\n",
    "\n",
    "아래와 같은 distribution function $F_X$을 가지는 확률변수 $X$를 고려하자. "
   ]
  },
  {
   "cell_type": "markdown",
   "id": "6fc335be-9e4f-4707-8ca2-a5c91019b16f",
   "metadata": {},
   "source": [
    "$$F_X(x) = \\begin{cases} 0 & x<0\\\\ x & 0\\leq x \\leq 1 \\\\ 1 & 1<x\\end{cases}$$"
   ]
  },
  {
   "cell_type": "markdown",
   "id": "f67794a5-d365-4fdf-8c7a-43ef9c43e229",
   "metadata": {},
   "source": [
    "이러한 함수 $F_X$의 density가 존재하는가? "
   ]
  },
  {
   "cell_type": "markdown",
   "id": "b186245a-da00-41f3-b2cf-493ca65db0f0",
   "metadata": {},
   "source": [
    "체크: 일단 $F_x(x)$는 (1) 비감소하며 (2) $\\lim_{x\\to -\\infty}F_X(x) = F_X(0) = 0$, $\\lim_{x\\to \\infty}F_X(x) = F_X(1) = 1$ (3) 오른쪽연속 (그냥 연속임) 이므로 분포함수의 정의를 만족한다. 따라서 $F_X(x)$에 대응하는 확률변수 $X$가 있다. "
   ]
  },
  {
   "cell_type": "markdown",
   "id": "4bec96d0-5165-4482-9047-0ecd00821261",
   "metadata": {},
   "source": [
    "(해설) "
   ]
  },
  {
   "cell_type": "markdown",
   "id": "1b62da88-6aac-465f-88bc-9aaf28c6d524",
   "metadata": {},
   "source": [
    "1. 대충 생각하면 (진짜 말 그대로 대충) 아래와 같이 생각할 수 있다. \n",
    "\n",
    "$$f_X(x) = \\frac{d}{dx}F_x(x)$$\n",
    "\n",
    "2. 즉 $f_X(x)$는 $F_x(x)$의 도함수 같은 것으로 생각할 수 있다. \n",
    "3. 문제는 $F_X(x)$는 연속이지만 $x=0$과 $x=1$에서 미분가능하지는 않다는 점이다. \n",
    "4. 그래서 $F_X(x)$는 미분가능하지 않다. \n",
    "5. 하지만 미분가능의 개념을 \"함수\"에 적용하는 것이 아니라 \"하나의 포인트\"에 적용한다면 어떨까? \n",
    "6. $F_X(x)$는 $x=0$과 $x=1$을 제외한 모든 점에서 미분가능하며 그 도함수는 대략적으로 아래와 같이 표현할 수 있다. \n",
    "\n",
    "$$f_X(x) = \\begin{cases} 0 & x<0 \\\\ ?? & x=0 \\\\ 1 & 0<x<1 \\\\ ?? & x=1 \\\\ 0 & 1<x \\end{cases}$$\n",
    "\n",
    "7. 어차피 유한개의 점을 제외하여도 적분값에 영향이 없으므로 ??의 값은 아무값이나 넣어도 상관없다. 편의상 아래와 같은 $f_X(x)$를 고려하자. \n",
    "\n",
    "$$f_X(x) = \\begin{cases}  1 & 0\\leq x \\leq 1 \\\\ 0 & o.w. \\end{cases}$$\n",
    "\n",
    "8. 위와 같은 $f_X(x)$에 대하여 아래식이 성립한다고 볼 수 있다. \n",
    "$$F_X(x) = \\int_{-\\infty}^x f_X(y)dy$$ "
   ]
  },
  {
   "cell_type": "markdown",
   "id": "d3d8b19a-4d46-4849-a29d-3b1037cf3f2c",
   "metadata": {},
   "source": [
    "> $F_X(x)$는 미분불가능하지만 또 어떠한 의미에서는 가능하다고 볼 수 도 있다. "
   ]
  },
  {
   "cell_type": "markdown",
   "id": "1bf1f9aa-b655-4ae7-8fa3-ffda3292ce1d",
   "metadata": {},
   "source": [
    "::: {layout=\"[[1,1],[1]]\"}\n",
    "\n",
    "![(a) 균등분포의 cdf](https://upload.wikimedia.org/wikipedia/commons/thumb/6/63/Uniform_cdf.svg/1920px-Uniform_cdf.svg.png)\n",
    "\n",
    "![(b) 균등분포의 pdf](https://upload.wikimedia.org/wikipedia/commons/thumb/9/96/Uniform_Distribution_PDF_SVG.svg/1920px-Uniform_Distribution_PDF_SVG.svg.png)\n",
    "\n",
    "그림2: 위키에서 긁어온 균등분포의 pdf, cdf 그림. 실제로는 $x=0,1$에서 $F_X'(x)$의 값이 존재하지 않으나 편의상 정의함.\n",
    "\n",
    ":::"
   ]
  },
  {
   "cell_type": "markdown",
   "id": "748377d4-c4e8-414b-a92e-c995be098d47",
   "metadata": {},
   "source": [
    "**(예제1의 정답에 대한 의문)** "
   ]
  },
  {
   "cell_type": "markdown",
   "id": "f08eb359-b0f8-4e52-a1a1-c4ec0223655c",
   "metadata": {},
   "source": [
    "만약에 누군가가 아래와 같은 $f_X(x)$들이 pdf라고 주장한다면? "
   ]
  },
  {
   "cell_type": "markdown",
   "id": "4a3de432-e228-4a46-8e7d-b234c140cd54",
   "metadata": {},
   "source": [
    "1. $f_X(x) = \\begin{cases}  1 & 0< x <1 \\\\ 0 & o.w. \\end{cases}$\n",
    "2. $f_X(x) = \\begin{cases}  1 & 0\\leq x < 1 \\\\ 0 & o.w. \\end{cases}$\n",
    "3. $f_X(x) = \\begin{cases}  1 & 0< x \\leq 1 \\\\ 0 & o.w. \\end{cases}$"
   ]
  },
  {
   "cell_type": "markdown",
   "id": "1840602d-fe33-4a92-97da-0345a12aff93",
   "metadata": {},
   "source": [
    "별로 상관없을듯 하다. 어차피 $\\lambda(\\{0\\})=\\lambda(\\{1\\})=0$ 이므로 넓이에 영향이 없다. 위의 함수는 $x=0,1$을 제외한 모든곳에서는 함수값이 일치하므로 거의 같다고 보아도 무방하다. 즉 아래의 함수들은 ***거의 모든 곳에서 같다.***"
   ]
  },
  {
   "cell_type": "markdown",
   "id": "291cb3ed-98ae-4081-beda-537d26bea7cb",
   "metadata": {},
   "source": [
    "1. $f_X(x) = \\begin{cases}  1 & 0< x <1 \\\\ 0 & o.w. \\end{cases}$\n",
    "2. $f_X(x) = \\begin{cases}  1 & 0\\leq x < 1 \\\\ 0 & o.w. \\end{cases}$\n",
    "3. $f_X(x) = \\begin{cases}  1 & 0< x \\leq 1 \\\\ 0 & o.w. \\end{cases}$\n",
    "4. $f_X(x) = \\begin{cases}  1 & 0\\leq  x \\leq 1 \\\\ 0 & o.w. \\end{cases}$"
   ]
  },
  {
   "cell_type": "markdown",
   "id": "c2c6e229-5546-48cf-932b-d621129277cc",
   "metadata": {
    "tags": []
   },
   "source": [
    "여기에서 ***두 함수 $f$, $g$가 거의 모든 곳에서 같다***라는 표현은 \n",
    "\n",
    "$$\\lambda\\big(\\{x: f(x) \\neq g(x)\\}\\big)=0$$\n",
    "\n",
    "을 의미한다. 즉 함수값이 다른 집합의 르벡측도값이 0이라는 의미이다. "
   ]
  },
  {
   "cell_type": "markdown",
   "id": "af6c4695-3c67-4c7c-917d-772601abe4e1",
   "metadata": {},
   "source": [
    "**(예제2)** -- 혼합된 균등분포\n",
    "\n",
    "아래와 같은 distribution function $F_X$을 가지는 확률변수 $X$를 고려하자. "
   ]
  },
  {
   "cell_type": "markdown",
   "id": "10b72947-b9e4-4761-a79b-3e2550f55018",
   "metadata": {},
   "source": [
    "$$F_X(x) = \\begin{cases} 0 & x<0\\\\ \\frac{3}{2}x & 0\\leq x < \\frac{1}{2} \\\\ \\frac{1}{2}+\\frac{1}{2}x & \\frac{1}{2}\\leq x<1 \\\\ 1 & 1\\leq x\\end{cases}$$"
   ]
  },
  {
   "cell_type": "markdown",
   "id": "cf6bcb98-3a0c-4864-8582-a6619921d230",
   "metadata": {},
   "source": [
    "이러한 함수 $F_X$의 density가 존재하는가? "
   ]
  },
  {
   "cell_type": "markdown",
   "id": "52889c03-0368-4b0b-9d02-49238a095d9a",
   "metadata": {},
   "source": [
    "체크: 일단 $F_x(x)$는 (1) 비감소하며 (2) $\\lim_{x\\to -\\infty}F_X(x) = F_X(0) = 0$, $\\lim_{x\\to \\infty}F_X(x) = F_X(1) = 1$ (3) 오른쪽연속 (그냥 연속임) 이므로 분포함수의 정의를 만족한다. 따라서 $F_X(x)$에 대응하는 확률변수 $X$가 있다. "
   ]
  },
  {
   "cell_type": "markdown",
   "id": "68ea4636-423d-4ab1-be4a-da066175ebcf",
   "metadata": {},
   "source": [
    "(해설) "
   ]
  },
  {
   "cell_type": "markdown",
   "id": "9dade45f-4d4a-4b32-ae43-9b7fcbdc74b5",
   "metadata": {},
   "source": [
    "함수 $F_X(x)$는 $x=0,\\frac{1}{2},1$ 에서 미분불가능하지만 어차피 미분불가능한 점이 countable 하므로 여기에서는 무시하고 $f_X(x)$ 값을 편의상 정의하여도 무방하다. 따라서 아래와 같은 함수 $f_X(x)$가 pdf가 될 수 있다. "
   ]
  },
  {
   "cell_type": "markdown",
   "id": "b495b9d7-d06b-48d2-ab60-a507966c925d",
   "metadata": {},
   "source": [
    "$$f_X(x) = \\begin{cases}  \\frac{3}{2} & 0 \\leq x <\\frac{1}{2} \\\\ \\frac{1}{2} & \\frac{1}{2}< x < 1 \\end{cases}$$"
   ]
  },
  {
   "cell_type": "markdown",
   "id": "8748afbe-a029-4846-9407-7014fc74a030",
   "metadata": {},
   "source": [
    "그 외에도 $x=0,\\frac{1}{2}, 1$에서의 함수값을 어떻게 정의하느냐에 따라서 여러개의 정답이 있을 수 있지만, 그러한 함수들은 $f_X(x)$와 ***거의 모든 곳에서 같은*** 함수이다. "
   ]
  },
  {
   "cell_type": "markdown",
   "id": "a963459d-6efa-4112-b97d-5af627544f0f",
   "metadata": {},
   "source": [
    "> 여기서도 $F_X(x)$는 미분불가능하지만 또 어떠한 의미에서는 가능하다고 볼 수 도 있다. "
   ]
  },
  {
   "cell_type": "markdown",
   "id": "862e47fb-dcbf-4796-830f-8889aead3d51",
   "metadata": {},
   "source": [
    "`-` 주장: $F_X(x)$가 ***모든 곳에서 연속*** 이고 ***거의 모든 곳에서*** 미분가능하다고 가능하면 아래를 만족하는 (도함수 비스무리한) $f_X(x)$가 존재한다. \n",
    "\n",
    "$$F_X(x) = \\int_{-\\infty}^{x} f_X(x) dx$$ \n",
    "\n",
    "이때 $F_X(x)$가 미분가능하지 않은 집합에 대하여서는 적분을 정의함에 있어서 제외하고 정의해도 무방하다. "
   ]
  },
  {
   "cell_type": "markdown",
   "id": "3bd1d0ce-deda-4935-93fa-e2725d55c1da",
   "metadata": {},
   "source": [
    "> 엄청 그럴듯해보이지만 칸토어함수의 존재로 인하여 이 주장은 틀렸다. "
   ]
  },
  {
   "cell_type": "markdown",
   "id": "0f6d3956-e85f-4659-b1e7-03f5e273c1e3",
   "metadata": {},
   "source": [
    "## 칸토어함수, 칸토어분포"
   ]
  },
  {
   "cell_type": "markdown",
   "id": "fe64c475-66f8-4c75-87e1-18b583c6c659",
   "metadata": {},
   "source": [
    "`-` 아래와 같은 과정으로 얻어지는 함수 $F_0, F_1, F_2, \\dots$를 고려하자. "
   ]
  },
  {
   "cell_type": "markdown",
   "id": "273fdc6d-dcf4-46c3-a590-53181a8baacd",
   "metadata": {},
   "source": [
    "![그림3: 위키에서 긁어온 칸토어함수의 생성예제](https://upload.wikimedia.org/wikipedia/commons/e/e1/Cantor_function_sequence.png)"
   ]
  },
  {
   "cell_type": "markdown",
   "id": "6410e243-a6c7-4133-a7f4-c2a88e02a3db",
   "metadata": {},
   "source": [
    "그림에서는 $f_0, f_1, f_2$ 와 같이 표현하였지만 우리는 편의상 $F_0, F_1, F_2$와 같이 표현하도록 하겠다. "
   ]
  },
  {
   "cell_type": "markdown",
   "id": "adf4e96f-40f1-4dbe-9364-2a0b1abeceb8",
   "metadata": {},
   "source": [
    "`-` 이제 이러한 함수의 극한을 $F$라고 하자. 즉 \n",
    "\n",
    "$$F(x) = \\lim_{n\\to \\infty} F_n(x)$$ \n",
    "\n",
    "이다. 이것을 기호로 간단하기 $F_n \\to F$ 와 같이 표현하기도 한다. 여기에서 $F_n \\to F$의 의미는 $F_n$의 임의의 고정된 점 $x^\\star$에 대하여 $F_n(x^\\star) \\to F(x^\\star)$라는 의미이다. "
   ]
  },
  {
   "cell_type": "markdown",
   "id": "e0616abb-4d09-4d69-b68f-a11fb26d7e7f",
   "metadata": {},
   "source": [
    "`-` 함수 $F_n$의 정의역을 칸토르 집합 ${\\cal C}$와 연계하여 이해하면 아래와 같은 사실을 관찰할 수 있다.\n",
    "\n",
    "1. $F_0$은 $C_0$에서는 양의 기울기를 가지고 $[0,1]-C_0$ 에서는 기울기가 0이다. \n",
    "2. $F_1$은 $C_1$에서는 양의 기울기를 가지고 $[0,1]-C_1$ 에서는 기울기가 0이다. \n",
    "3. $F_2$은 $C_2$에서는 양의 기울기를 가지고 $[0,1]-C_2$ 에서는 기울기가 0이다. \n",
    "\n",
    "따라서 아래의 사실을 유추할 수 있다. \n",
    "\n",
    "- $F$는 ${\\cal C}$에서는 양의 기울기를 가지고 $[0,1]-{\\cal C}$ 에서는 기울기가 0이다. "
   ]
  },
  {
   "cell_type": "markdown",
   "id": "1c986b7b-cf77-485b-aa10-daec850c6512",
   "metadata": {},
   "source": [
    "`-` 함수 $F$를 칸토어 함수라고 부른다. 칸토어함수는 아래와 같은 특징이 있다. \n",
    "\n",
    "1. 칸토어 함수는 ***모든 곳에서*** 연속이다. \n",
    "2. 칸토어 집합의 외부 $[0,1]-{\\cal C}$에서는 상수함수이다. 즉 칸토어집합의 외부에서는 기울기가 0이다. $m({\\cal C})=0$ 이므로 이 함수는 ***거의 모든 곳에서*** 기울기가 0이다. \n",
    "3. $F$는 비감소함수이다. \n",
    "4. $F(0)=0$ 이고 $F(1)=1$이다. "
   ]
  },
  {
   "cell_type": "markdown",
   "id": "f8e3a207-2e30-4222-8a4f-182f25738671",
   "metadata": {},
   "source": [
    "`-` 1,3,4에 의하여 $F$는 분포함수의 정의를 만족한다. 1에 의하여 $F$는 연속형확률변수의 분포함수가 된다. 칸토어 집합의 외부에서 (그러니까 ***[0,1]의 거의 모든 점에서***) 도함수는 $0$ 이므로 \n",
    "\n",
    "$$\\frac{d}{dx}F(x)=f(x)=0,\\quad \\sf{a.e.}$$\n",
    "\n",
    "이다. 하지만 $f(x)$는 pdf의 정의를 만족하지 않는다. "
   ]
  },
  {
   "cell_type": "markdown",
   "id": "5368f607-a24a-41f4-bdf4-8942033c679d",
   "metadata": {},
   "source": [
    "`-` 요약\n",
    "\n",
    "- 칸토어함수 $F$는 분포함수의 정의를 만족한다. 따라서 $F$에 대응하는 확률변수 $X$가 반드시 있다.\n",
    "- 심지어 칸토어함수는 연속함수이므로, $F$에 대응하는 확률변수 $X$는 연속형 확률변수가 된다. \n",
    "- $F$는 ***거의 모든 점에서 도함수가 존재하지만*** 그 도함수의 적분이 아니다. \n",
    "- 그래서 $X$의 pdf는 존재하지 않는다. "
   ]
  },
  {
   "cell_type": "markdown",
   "id": "b68ac9f2-8663-4f32-a3a2-17116366f619",
   "metadata": {},
   "source": [
    "> 칸토어함수는 미적분학의 기본정리 성립하지 않는 반례를 찾기 위해 고안되었다. 즉 어떠한 함수 $F$가 ***거의 모든 곳에서*** 미분가능하며, 그 도함수를 $f$가 ***르벡적분 가능*** 할지라도 $\\int_{-\\infty}^{x} f(y) dy= F(x)$ 가 성립하지 않을 수 있다. "
   ]
  },
  {
   "cell_type": "markdown",
   "id": "057ee34b-9f1f-46fb-a851-a25867144401",
   "metadata": {},
   "source": [
    "## 절대연속"
   ]
  },
  {
   "cell_type": "markdown",
   "id": "3ee5c43b-1d14-4c4c-92d3-668ed976e5ea",
   "metadata": {},
   "source": [
    "`-` 모티브\n",
    "\n",
    "1. $F_X$의 \"도함수 비슷한 함수\"를 일반화 할 수 없을까? $\\Rightarrow$ 라돈니코딤 도함수\n",
    "2. $F_X$의 1과 같이 도함수 비슷한 함수가 언제 존재하는지 조건을 알 수 있을까? $\\Rightarrow$ 절대연속 "
   ]
  },
  {
   "cell_type": "markdown",
   "id": "6f7693c4-ab7a-4dc0-a644-b465ad5c8c38",
   "metadata": {},
   "source": [
    "|함수|도함수|라돈니코딤 도함수|\n",
    "|:-:|:-:|:-:|\n",
    "|연속|X|X^[칸토어함수!!!]|\n",
    "|절대연속|X|O|\n",
    "|미분가능|O|O|"
   ]
  },
  {
   "cell_type": "markdown",
   "id": "9f31a81b-5e22-4ab7-86e2-20ce60d61e96",
   "metadata": {},
   "source": [
    "> 암기: 절대연속은 연속보다 강하고, 미분가능보다 약한 조건이다. "
   ]
  },
  {
   "cell_type": "markdown",
   "id": "3c5afe55-8c2f-4aab-b906-eeaf80bd8b43",
   "metadata": {},
   "source": [
    "`-` **정의**: 함수 $F_X(x)$가 분포함수의 정의를 만족한다고 가정하자.^[원래는 이러한 가정이 없음] $F_X(x)$에 대응하는 분포 $\\mu_X:{\\cal R} \\to [0,1]$를 생각하자. $F_X(x)$가 절대연속이라는 뜻은 아래가 성립한다는 의미이다. \n",
    "\n",
    "$$\\forall B \\in {\\cal R}: \\lambda(B) =0 \\Rightarrow \\mu_X(B)=0$$"
   ]
  },
  {
   "cell_type": "markdown",
   "id": "6333bcca-fa14-4f24-bec9-debf38b84def",
   "metadata": {},
   "source": [
    "이럴 경우 아래와 같이 표현한다. \n",
    "\n",
    "- A measure $\\mu_X$ is abosolutely continous with respect to Lebesgue measure $\\lambda$\n",
    "- $\\mu_X << \\lambda$"
   ]
  },
  {
   "cell_type": "markdown",
   "id": "276c87bb-2e7d-4c56-b5d7-bb493b93d780",
   "metadata": {},
   "source": [
    "`-` **정의:** 좀 더 일반적으로는 아래와 같이 정의할 수 있다. [@durrett2019probability, p 470]"
   ]
  },
  {
   "cell_type": "markdown",
   "id": "0c7c8977-9f62-4a92-a5d2-fecbdcc7f66f",
   "metadata": {},
   "source": [
    "가측공간 $(\\mathbb{R},{\\cal R})$를 고려하고 $\\mu$, $\\lambda$를 $(\\mathbb{R},{\\cal R})$에서의 메져라고 하자. $\\mu$가 ***absolutely continuous w.r.t. $\\lambda$*** 라는 의미는 \n",
    "\n",
    "$$\\forall B \\in {\\cal R}:~ \\lambda(B) =0 \\Rightarrow \\mu(B)=0$$\n",
    "\n",
    "라는 의미이며 기호로는 $\\mu << \\lambda$ 와 같이 나타낸다. "
   ]
  },
  {
   "cell_type": "markdown",
   "id": "8e0cd80b-93d5-494c-8eea-121121ffdfb9",
   "metadata": {},
   "source": [
    "> 여기에서 공간 $(\\mathbb{R},{\\cal R})$ 은 이해를 돕기위해서 제한한 것이며, 대부분 교재에서는 좀 더 일반적인 가측공간에서 절대연속을 정의한다. "
   ]
  },
  {
   "cell_type": "markdown",
   "id": "1a77e093-a234-4397-b707-c56b85411fb9",
   "metadata": {},
   "source": [
    "`-` 절대연속의 예제를 살펴보기전에 필요한 예비학습 "
   ]
  },
  {
   "cell_type": "markdown",
   "id": "0a7677d5-2615-463b-9efe-9e13757bc1ef",
   "metadata": {},
   "source": [
    "이런게 있었거든요.. // 7주차 강의노트 \n",
    "\n",
    "함수 $\\mu$가 잴 수 있는 공간 $(\\Omega, {\\cal F})$에서 정의된 메져라고 하자. \n",
    "\n",
    "- $A_i \\uparrow A$ $\\Rightarrow$ $\\mu(\\lim_{n\\to \\infty}A_n) = \\lim_{n \\to \\infty}\\mu(A_n)$ \n",
    "- $A_i \\downarrow A$ with $\\mu(A_1)<\\infty$ $\\Rightarrow$ $\\mu(\\lim_{n\\to \\infty}A_n) = \\lim_{n \\to \\infty}\\mu(A_n)$\n",
    "- 감소하거나 증가하는 집합열에서는 $\\lim$을 넣거나 뺼 수 있다. (정확하지 않은 state, 그냥 기억을 위한 문장) "
   ]
  },
  {
   "cell_type": "markdown",
   "id": "c7839850-3538-45e1-99a8-ab8edf2da694",
   "metadata": {},
   "source": [
    "`-` 예제1: -- 베르누이\n",
    "\n",
    "아래와 같은 함수를 고려하자. \n",
    "\n",
    "$$F_X(x) = \\begin{cases} \n",
    "0 & x<0 \\\\ \n",
    "\\frac{1}{2} & 0\\leq x< 1 \\\\ \n",
    "1 & x \\geq 1 \\\\ \n",
    "\\end{cases}$$"
   ]
  },
  {
   "cell_type": "markdown",
   "id": "a4f458aa-def4-4c75-b6c3-3c74168f890f",
   "metadata": {},
   "source": [
    "이 함수는 르벡메져에 대하여 ***absolutely continuous*** 하지 않다. "
   ]
  },
  {
   "cell_type": "markdown",
   "id": "4b18d6a9-623b-4b74-b34a-0bdee99475da",
   "metadata": {},
   "source": [
    "(해설1) "
   ]
  },
  {
   "cell_type": "markdown",
   "id": "574b4326-5c7f-4712-995b-2c9a15d15d8b",
   "metadata": {},
   "source": [
    "연속이 아니므로 절대연속이 아니다. "
   ]
  },
  {
   "cell_type": "markdown",
   "id": "63e41652-7228-4e24-97f5-ad14e1ead492",
   "metadata": {},
   "source": [
    "(해설2)"
   ]
  },
  {
   "cell_type": "markdown",
   "id": "521e3cce-2ac3-4b40-b32d-e46a85c86175",
   "metadata": {},
   "source": [
    "임의의 $\\{x\\}$에 대하여 $\\mu_X(\\{x\\})$를 계산하기 위해서는 아래와 같이 하면 된다. "
   ]
  },
  {
   "cell_type": "markdown",
   "id": "be93e97d-5e0a-4985-93ab-05ad27ca9eb9",
   "metadata": {},
   "source": [
    "1. $\\mu_{X}(\\{x\\})=\\mu_{X}\\big(\\lim_{n\\to\\infty}(x-\\frac{1}{n},x]\\big)=\\lim_{n\\to\\infty}\\mu_{X}\\big((x-\\frac{1}{n},x]\\big)$\n",
    "2. $(x-\\frac{1}{n}, x]= (-\\infty, x] - (-\\infty,x-\\frac{1}{n}]$ \n",
    "3. $\\mu_{X}\\big((x-\\frac{1}{n},x]\\big)=F_X(x)-F_X(x-\\frac{1}{n})$\n",
    "4. $\\mu_{X}(\\{x\\})=F_X(x)-\\lim_{n\\to\\infty}F_X(x-\\frac{1}{n})$"
   ]
  },
  {
   "cell_type": "markdown",
   "id": "634e1a13-7524-4e0a-befa-6083762892a1",
   "metadata": {},
   "source": [
    "이를 이용하면 "
   ]
  },
  {
   "cell_type": "markdown",
   "id": "0c6b8e91-0b7a-4621-81fe-8429afe9913c",
   "metadata": {},
   "source": [
    "- $\\lambda(\\{0\\})=0 \\not \\Rightarrow \\mu_X(\\{0\\})=F_X(0)-\\lim_{n\\to\\infty}F_X(-\\frac{1}{n})=\\frac{1}{2}-0$ \n",
    "- $\\lambda(\\{1\\})=0 \\not \\Rightarrow \\mu_X(\\{1\\})=F_X(1)-\\lim_{n\\to\\infty}F_X(1-\\frac{1}{n})=1-\\frac{1}{2}$ \n",
    "- $\\lambda(\\{0,1\\})=0 \\not \\Rightarrow \\mu_X(\\{0,1\\}) =\\mu_X(\\{0\\})+\\mu_X(\\{1\\})=1$\n",
    "\n",
    "> 위에서 언급한 경우 이외에서는 연속임. $\\lambda(\\{0.77\\})=0 \\Rightarrow \\mu_X(\\{0.77\\})=F_X(0.77)-\\lim_{n\\to\\infty}F_X(0.77-\\frac{1}{n})=\\frac{1}{2}-\\frac{1}{2}$ \n"
   ]
  },
  {
   "cell_type": "markdown",
   "id": "2ac10954-6bd5-42a6-9f5b-f35206ea2403",
   "metadata": {},
   "source": [
    "`-` 예제2: -- 균등분포 \n",
    "\n",
    "아래와 같은 함수를 고려하자. \n",
    "\n",
    "$$F_X(x) = \\begin{cases} \n",
    "0 & x<0 \\\\ \n",
    "x & 0\\leq  x \\leq  1 \\\\ \n",
    "1 & x> 1 \\\\ \n",
    "\\end{cases}$$"
   ]
  },
  {
   "cell_type": "markdown",
   "id": "f352ea8c-0ec2-4266-ab11-b751fd33ba24",
   "metadata": {},
   "source": [
    "이 함수는 르벡메져에 대하여 ***absolutely continuous*** 하다. "
   ]
  },
  {
   "cell_type": "markdown",
   "id": "e10dd325-3f9f-4e60-817f-2317d74ff1a4",
   "metadata": {},
   "source": [
    "(해설) "
   ]
  },
  {
   "cell_type": "markdown",
   "id": "025f73b0-3872-441a-9a64-d84366daf5f7",
   "metadata": {},
   "source": [
    "$\\forall B\\in {\\cal R}: \\mu_X(B) \\leq \\lambda(B)$ 이므로 자명함"
   ]
  },
  {
   "cell_type": "markdown",
   "id": "7fe15401-b841-4e94-a6b1-b95f9a9884c1",
   "metadata": {},
   "source": [
    "`-` 예제3 -- 혼합된 균등분포\n",
    "\n",
    "아래와 같은 distribution function $F_X$을 가지는 확률변수 $X$를 고려하자. "
   ]
  },
  {
   "cell_type": "markdown",
   "id": "ded651fc-7636-481a-8cd1-b4ffb569f8fb",
   "metadata": {},
   "source": [
    "$$F_X(x) = \\begin{cases} 0 & x<0\\\\ \\frac{3}{2}x & 0\\leq x < \\frac{1}{2} \\\\ \\frac{1}{2}+\\frac{1}{2}x & \\frac{1}{2}\\leq x<1 \\\\ 1 & 1\\leq x\\end{cases}$$"
   ]
  },
  {
   "cell_type": "markdown",
   "id": "8a3c66ce-5af1-4115-9def-843cbea8eef9",
   "metadata": {},
   "source": [
    "이러한 함수 $F_X$는 르벡메져에 대하여 absolutely continuous 한가?"
   ]
  },
  {
   "cell_type": "markdown",
   "id": "d76ec755-cb0d-41fe-8c84-419c05f3fe81",
   "metadata": {},
   "source": [
    "(해설) "
   ]
  },
  {
   "cell_type": "markdown",
   "id": "bda2d2fc-59a1-4758-9d2a-e1c93532847c",
   "metadata": {},
   "source": [
    "$\\forall B \\in {\\cal R}: \\mu_X(B) \\leq \\frac{3}{2}\\lambda(B)$ 이므로 자명함. "
   ]
  },
  {
   "cell_type": "markdown",
   "id": "3a8c1901-fa0e-4c25-aa16-8d37afb1f63a",
   "metadata": {},
   "source": [
    "> 예제2,3으로 관찰하고 착각할 수 있는 것: 그냥 연속이면 다 절대연속 아니야? "
   ]
  },
  {
   "cell_type": "markdown",
   "id": "03800ab6-ccb4-4edb-84ba-9fbc17d79728",
   "metadata": {},
   "source": [
    "`-` 예제3 -- 칸토어함수\n",
    "\n",
    "칸토어함수 $F_X$는 르벡메져에 대하여 ***absolutely continuous*** 하지 않다. "
   ]
  },
  {
   "cell_type": "markdown",
   "id": "64c833eb-cb75-4370-be4c-4c6533b44d9d",
   "metadata": {},
   "source": [
    "(해설)"
   ]
  },
  {
   "cell_type": "markdown",
   "id": "1e538ac3-6ff2-4a10-9749-2ebadb8d769a",
   "metadata": {},
   "source": [
    "칸토어함수 $F_X$가 ***absolutely continuous*** 하다고 하자. 그러면 $\\mu_X((a,b]) = \\mu_X([a,b])$ 가 성립한다. "
   ]
  },
  {
   "cell_type": "markdown",
   "id": "456c7475-baea-4ab0-82bb-6f5e1634104b",
   "metadata": {},
   "source": [
    "$n=0$: \n",
    "\n",
    "- $C_0=[0,1]$\n",
    "- $\\mu_X(C_0)=\\mu_X((0,1])=F_X(1)-F_X(0)=1$ "
   ]
  },
  {
   "cell_type": "markdown",
   "id": "c933bfa5-16c0-4c64-a43c-f5e999329a40",
   "metadata": {},
   "source": [
    "$n=1$: \n",
    "\n",
    "- $C_1=[0,\\frac{1}{3}] \\cup [\\frac{2}{3},1]$\n",
    "- $\\mu_X(C_1)=\\mu_X((0,\\frac{1}{3}])+\\mu_X((\\frac{2}{3},1])=F_X(\\frac{1}{3})-F_X(0)+F_X(1)-F_X(\\frac{2}{3})=1$ "
   ]
  },
  {
   "cell_type": "markdown",
   "id": "0d3cde12-b3fa-4e70-b856-6890a6adeee1",
   "metadata": {},
   "source": [
    "정리하면 아래와 같다. "
   ]
  },
  {
   "cell_type": "markdown",
   "id": "b478b13f-739a-47dd-86a4-9f289071bd51",
   "metadata": {},
   "source": [
    "|$n$|$C_n$|$\\mu_X(C_n)$|\n",
    "|:-:|:-:|:-:|\n",
    "|$0$|$[0,1]$|$1$|\n",
    "|$1$|$[0,\\frac{1}{3}] \\cup [\\frac{2}{3},1]$|$1$|\n",
    "|$2$|$[0,\\frac{1}{9}]\\cup[\\frac{2}{9},\\frac{1}{3}] \\cup[\\frac{2}{3},\\frac{7}{9}]\\cup [\\frac{8}{9},1]$|$1$|\n",
    "|$\\dots$|$\\dots$|$1$|"
   ]
  },
  {
   "cell_type": "markdown",
   "id": "e5c5c9cb-2939-4b45-9db3-bd655677ce62",
   "metadata": {},
   "source": [
    "그런데 $\\lambda({\\cal C})=0$ 이지만 $\\mu_X(\\lim_{n\\to \\infty}C_n)=\\mu_X({\\cal C})=1$ 이므로 $\\mu<<\\lambda$에 모순이다. "
   ]
  },
  {
   "cell_type": "markdown",
   "id": "8cebc9c1-2610-4df9-a1cb-b4d205191210",
   "metadata": {},
   "source": [
    "## 라돈니코딤 정리 "
   ]
  },
  {
   "cell_type": "markdown",
   "id": "efe105dd-17e7-4fd0-8b37-f1cb96b33641",
   "metadata": {},
   "source": [
    "`-` **이론**: 분포함수 $F_X:\\mathbb{R} \\to [0,1]$가 (르벡메져에 대하여) 절대연속이라면 아래를 만족하는 함수 $f_X:\\mathbb{R} \\to \\mathbb{R}^+$가 존재한다. \n",
    "\n",
    "$$F_X = \\int_{(-\\infty,x]}f_Xd\\lambda$$ "
   ]
  },
  {
   "cell_type": "markdown",
   "id": "c4f86484-8dc8-4e84-830f-f23b2adf2945",
   "metadata": {},
   "source": [
    "여기에서 함수 $f_X$를 $F_X$의 밀도함수 (density function) 이라고 한다. 일반적으로 밀도함수 $f_X$는 유일하지 않지만, 르벡측도로 재었을때 0인 집합을 제외한 부분에서는 유일하게 결정된다. (요약: 분포함수 $F_X$가 절대연속이면 밀도함수 $f_X$가 존재하고, ***거의*** 유일함) "
   ]
  },
  {
   "cell_type": "markdown",
   "id": "2a0fb01e-4701-47f3-a5e0-7b69dc01edbb",
   "metadata": {},
   "source": [
    "> 위에서 \"르벡측도로 재었을때 0인 집합을 제외한 부분에서는 유일하게 결정된다\"라는 부분은 \"르벡메져 $\\lambda$에 대하여 ***거의 유일하다***\" 라고 이해해도 무방. 엄밀하게 쓰면 \"분포함수 $F_X$가 있다면 밀도함수의 정의하는 만족하는 함수가 반드시 하나는 존재한다. 만약에 두 함수 $f$와 $g$가 모두 밀도함수의 정의를 만족한다면 '$f=g$ ***a.e. with respect to*** $\\lambda$' 가 성립한다.\" 와 같은 식으로 쓸 수 있음. "
   ]
  },
  {
   "cell_type": "markdown",
   "id": "bb91e050-96db-4e7d-9eff-8c89b68cb7a7",
   "metadata": {},
   "source": [
    "> 위에서 $f$의 공역이 $\\mathbb{R}^+$인 이유는 $F_X$가 증가함수라서.."
   ]
  },
  {
   "cell_type": "markdown",
   "id": "1cd35a82-0df7-463d-bc3c-128b1a4f287a",
   "metadata": {},
   "source": [
    "`-` **Thm** (라돈니코딤 정리)[@durrett2019probability, Thm A.4.8.]: 가측공간 $(S,{\\cal S})$를 고려하자. 그리고 $\\mu$와 $\\lambda$가 $(S,{\\cal S})$에서의 $\\sigma$-finite measure 라고 하자. 만약에 $\\mu << \\lambda$ 이라면 아래를 만족하는 가측함수 $f:(S,{\\cal S}) \\to (S,{\\cal S})$가 **거의 유일하게 (w.r.t. $\\lambda$)** 존재한다. \n",
    "\n",
    "$$\\forall B \\in {\\cal S}:~ \\mu(B) = \\int_B f d\\lambda.$$\n",
    "\n",
    "여기에서 $f$를 ***Radon-Nikodym derivative of $\\mu$ w.r.t. $\\lambda$*** 라고 하며, 이러한 의미에서 $f=\\frac{d\\mu}{d\\lambda}$와 같이 표현하기도 한다."
   ]
  },
  {
   "cell_type": "markdown",
   "id": "0d8404f3-8728-4dec-96e7-a3e03816f1b1",
   "metadata": {},
   "source": [
    "`-` 예제1 -- 균등분포 \n",
    "\n",
    "아래와 같은 함수를 고려하자. \n",
    "\n",
    "$$F_X(x) = \\begin{cases} \n",
    "0 & x<0 \\\\ \n",
    "x & 0\\leq  x \\leq  1 \\\\ \n",
    "1 & x> 1 \\\\ \n",
    "\\end{cases}$$\n",
    "\n",
    "또한 아래와 같은 함수 $f_X: \\mathbb{R} \\to \\mathbb{R}$ 를 고려하자. \n",
    "\n",
    "$$f_X(x) = \\begin{cases} 1 & 0 \\leq x \\leq 1 \\\\ 0 & o.w. \\end{cases}$$\n",
    "\n",
    "$f_X(x)$가 $F_X(x)$의 라돈니코딤 도함수임을 설명하라."
   ]
  },
  {
   "cell_type": "markdown",
   "id": "03b8e32a-dd14-4143-a2cf-bf87dc0e4b38",
   "metadata": {},
   "source": [
    "(해설) \n",
    "\n",
    "1. $\\mu_X$와 $\\lambda$는 모두 $(\\mathbb{R},{\\cal R})$에서 $\\sigma$-finite 하다. \n",
    "2. $\\mu_X << \\lambda$이다. 따라서 적당한 ${\\cal R} \\to {\\cal R}$ measurable function이 존재하여 라돈니코딤 도함수의 조건을 만족함을 알 수 있다. \n",
    "3. 우리가 생각하는 후보는 $f_X$인데 이것이 만약에 (1) ${\\cal R} \\to {\\cal R}$ 가측함수이고 (2) 라돈니코딤 도함수의 조건을 만족한다면 $f_X$는 $F_X$의 거의 유일한 (***w.r.t. $\\lambda$***) 밀도함수라고 주장할 수 있다. \n",
    "4. $f_X$는 simple function이므로 ${\\cal R} \\to {\\cal R}$ 가측함수이다. \n",
    "5. 임의의 $x$에 대하여 $F_X(x)=\\mu_X((-\\infty,x])=\\int_{(-\\infty,x]}f_Xd\\lambda$ 이 성립한다. \n",
    "6. 5와 $\\pi$-$\\lambda$ thm을 이용하면 모든 $B \\in {\\cal R}$에 대하여 $\\mu_X(B) = \\int_B f_X d\\lambda$ 가 성립한다. [(풀이참고)](https://github.com/guebin/AP2023/blob/main/posts/II.%20%ED%99%95%EB%A5%A0%EB%A1%A0%EA%B8%B0%EC%B4%88/supp_13wk_1.pdf)\n",
    "7. 따라서 $f_X$는 $F_X$의 밀도함수이다. "
   ]
  },
  {
   "cell_type": "markdown",
   "id": "8b67881a-31eb-47e2-b1ff-97dc56346758",
   "metadata": {},
   "source": [
    "`-` 예제2 -- 베르누이 분포\n",
    "\n",
    "아래와 같은 함수를 고려하자. \n",
    "\n",
    "$$F_X(x) = \\begin{cases} \n",
    "0 & x<0 \\\\ \n",
    "\\frac{1}{2} & 0 \\leq  x <1 \\\\\n",
    "1 & x \\geq 1\n",
    "\\end{cases}$$"
   ]
  },
  {
   "cell_type": "markdown",
   "id": "6e610321-f209-4289-a3d2-64c3d5513fc9",
   "metadata": {},
   "source": [
    "이 함수에 대응하는 $\\mu_X$를 아래와 같이 정의하자. \n",
    "\n",
    "- $\\mu_X(\\emptyset)=0$\n",
    "- $\\mu_X(\\{0\\})=\\frac{1}{2}$ \n",
    "- $\\mu_X(\\{1\\})=\\frac{1}{2}$ \n",
    "- $\\mu_X(\\{0,1\\})=1$ \n",
    "- $\\mu_X(B)=0$ , $B \\in {\\cal R} - \\{0,1\\} - \\{0\\} - \\{1\\}$"
   ]
  },
  {
   "cell_type": "markdown",
   "id": "4a4177bd-5fa9-4e50-a2d2-b7585fc38812",
   "metadata": {},
   "source": [
    "$\\mu_X$는 $\\lambda$에 대한 라돈니코딤 도함수를 가지지 않음을 보여라. "
   ]
  },
  {
   "cell_type": "markdown",
   "id": "d6a42afe-a859-4bb8-ba5a-b275bb06e246",
   "metadata": {},
   "source": [
    "(해설) -- 절대연속이 안되는걸? "
   ]
  }
 ],
 "metadata": {
  "kernelspec": {
   "display_name": "Python 3",
   "language": "python",
   "name": "python3"
  },
  "language_info": {
   "codemirror_mode": {
    "name": "ipython",
    "version": 3
   },
   "file_extension": ".py",
   "mimetype": "text/x-python",
   "name": "python",
   "nbconvert_exporter": "python",
   "pygments_lexer": "ipython3",
   "version": "3.8.16"
  }
 },
 "nbformat": 4,
 "nbformat_minor": 5
}
