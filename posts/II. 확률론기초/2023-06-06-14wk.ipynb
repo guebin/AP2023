{
 "cells": [
  {
   "cell_type": "code",
   "execution_count": null,
   "id": "f33d24a5-0d12-4e74-8e4c-f5a527ce7e0a",
   "metadata": {},
   "outputs": [],
   "source": []
  },
  {
   "cell_type": "markdown",
   "id": "f98b5195-51ca-4af3-8ac3-5b1076995eba",
   "metadata": {},
   "source": [
    "# 일반화된 밀도함수"
   ]
  },
  {
   "cell_type": "markdown",
   "id": "46b87ffd-49c3-46a3-857f-48ea72b7ab71",
   "metadata": {},
   "source": [
    "`-` 라돈니코딤 정리는 꼭 르벡메져일 경우에만 성립하는 것이 아니다. "
   ]
  },
  {
   "cell_type": "markdown",
   "id": "7feb5e0c-1973-4e06-9317-39b200955599",
   "metadata": {},
   "source": [
    "## 이산확률변수"
   ]
  },
  {
   "cell_type": "markdown",
   "id": "b1283dd7-3b35-49e3-8d09-5902c113835c",
   "metadata": {},
   "source": [
    "`-` 예제1 -- 베르누이 (with 카운팅메져)\n",
    "\n",
    "아래와 같은 함수를 고려하자. \n",
    "\n",
    "$$F_X(x) = \\begin{cases} \n",
    "0 & x<0 \\\\ \n",
    "\\frac{1}{2} & 0 \\leq  x <1 \\\\\n",
    "1 & x \\geq 1\n",
    "\\end{cases}$$"
   ]
  },
  {
   "cell_type": "markdown",
   "id": "33c7d9e3-9f06-4ff9-b13f-b04e78e9a357",
   "metadata": {},
   "source": [
    "이제 $S=\\{0,1\\}$, ${\\cal S}=\\{\\emptyset, \\{0\\},\\{1\\},\\{1,2\\}\\}$로 구성된 measurable space $(S,{\\cal S})$를 생각하자. 함수 $\\mu: {\\cal S} \\to [0,1]$를 아래와 같이 정의하면 \n",
    "\n",
    "- $\\mu(\\emptyset)= 0$ \n",
    "- $\\mu(\\{0\\})= \\frac{1}{2}$ \n",
    "- $\\mu(\\{1\\})= \\frac{1}{2}$ \n",
    "- $\\mu(\\{0,1\\})= 1$ \n",
    "\n",
    "함수 $\\mu$는 $(S,{\\cal S})$에서의 메져가 되며, 이것은 $F_X$의 분포함수와 같은 역할을 한다. 이제 measurable space $(S,{\\cal S})$에 대하여 아래와 같은 함수 $\\#: {\\cal S} \\to \\mathbb{R}$을 고려하자. \n",
    "\n",
    "- $\\#(\\emptyset)=0$ \n",
    "- $\\#(\\{0\\})= 1$ \n",
    "- $\\#(\\{1\\})= 1$ \n",
    "- $\\#(\\{0,1\\})= 2$ \n"
   ]
  },
  {
   "cell_type": "markdown",
   "id": "8e67d1d4-af37-44ac-b2b6-76c76780232a",
   "metadata": {},
   "source": [
    "이때 함수 $\\#$은 $(S,{\\cal S})$ 에서의 메져가 되며, 이러한 메져를 특별히 ***카운팅메져(counting measure)*** 라고 한다. 이제 아래의 함수 $f_X:S \\to \\mathbb{R}$를 고려하자. \n",
    "\n",
    "- $f_X(0)=\\frac{1}{2}$\n",
    "- $f_X(1)=\\frac{1}{2}$\n",
    "\n",
    "함수 $f_X$는 카운팅메져 $\\#$에 대한 $\\mu$의 라돈니코딤 도함수임을 보여라. "
   ]
  },
  {
   "cell_type": "markdown",
   "id": "b4c29dd2-89f4-4c5c-8d26-a18dbf7ff93f",
   "metadata": {},
   "source": [
    "(해설) "
   ]
  },
  {
   "cell_type": "markdown",
   "id": "5007b8c3-d926-4887-9455-0b7768d52b94",
   "metadata": {},
   "source": [
    "1. $\\mu$, $\\#$는 모두 $(S,{\\cal S})$ 에서의 $\\sigma$-finite 메져이다. \n",
    "2. $\\mu << \\#$이 성립한다. 따라서 적당한 ${\\cal S} \\to {\\cal S}$ measurable function이 존재하여 라돈니코딤 도함수의 조건을 만족함을 알 수 있다. \n",
    "3. 우리가 생각하는 후보는 $f_X$인데 이것이 만약에 (1) ${\\cal S} \\to {\\cal S}$ 가측함수이고 (2) 라돈니코딤 도함수의 조건을 만족한다면 $f_X$는 카운팅메져 $\\#$에 대한 $\\mu$의 거의 유일한 (***w.r.t. $\\#$***) 밀도함수라고 주장할 수 있다.\n",
    "4. $f_X$는 ${\\cal S} \\to {\\cal S}$ 가측함수이다.\n",
    "5. $\\forall B \\in {\\cal S}: \\mu(B)=\\int_B f_X d\\#=\\sum_{x \\in B} f_X(x)$ 를 만족한다. "
   ]
  },
  {
   "cell_type": "markdown",
   "id": "5ee84cc3-98e9-4443-be76-deb8c4481cae",
   "metadata": {},
   "source": [
    "`-` 예제1에서 제안한 $f_X$의 경우 어떠한 의미에서는 **밀도함수**라고 해석할 수 있다. \n",
    "\n",
    "1. 학부수준의 이해: 이산형확률변수는 확률질량함수를 가지며, 연속형확률변수는 확률밀도함수를 가진다. \n",
    "2. 대학원수준의 이해: 이산형확률변수의 밀도함수는 $\\#$에 대한 라돈니코딤 도함수로 해석할 수 있으며, 연속형확률변수의 밀도함수는 $\\lambda$에 대한 라돈니코딤 도함수로 해석할 수 있다. "
   ]
  },
  {
   "cell_type": "markdown",
   "id": "b87085f6-4126-48b6-9f62-6e7c5e8e4428",
   "metadata": {},
   "source": [
    "`-` 의문1: 예제1에서는 왜 $\\mu_X$ 대신에 $\\mu$를 사용했을까? "
   ]
  },
  {
   "cell_type": "markdown",
   "id": "981b918a-db60-4d81-834b-ca4745d965aa",
   "metadata": {},
   "source": [
    "사실 예제1에서의 $\\mu_X$는 $F_X$에 대응하는 distribution 과 유사하지만 미세한 차이가 있음"
   ]
  },
  {
   "cell_type": "markdown",
   "id": "3522c209-099c-4ace-bd4f-6346fb4b7925",
   "metadata": {},
   "source": [
    "**$\\mu_X:{\\cal R} \\to [0,1]$**\n",
    "\n",
    "- $\\mu_X(\\emptyset)=0$\n",
    "- $\\mu_X(\\{0\\})=\\frac{1}{2}$ \n",
    "- $\\mu_X(\\{1\\})=\\frac{1}{2}$ \n",
    "- $\\mu_X(\\{0,1\\})=1$ \n",
    "- $\\mu_X(B)=0$ , $B \\in {\\cal R} - \\{0,1\\} - \\{0\\} - \\{1\\}$"
   ]
  },
  {
   "cell_type": "markdown",
   "id": "63cb74c3-0411-4002-b4ac-066c873ab695",
   "metadata": {},
   "source": [
    "**$\\mu:{\\cal S} \\to [0,1]$**\n",
    "\n",
    "- $\\mu(\\emptyset)= 0$ \n",
    "- $\\mu(\\{0\\})= \\frac{1}{2}$ \n",
    "- $\\mu(\\{1\\})= \\frac{1}{2}$ \n",
    "- $\\mu(\\{0,1\\})= 1$ \n"
   ]
  },
  {
   "cell_type": "markdown",
   "id": "68818adb-2387-444d-ab60-da7d41a88c01",
   "metadata": {},
   "source": [
    "`-` 의문2: 예제1에서는 왜 $(\\mathbb{R},{\\cal R})$를 고려하지 않고 $(S,{\\cal S})$를 고려하였을까? "
   ]
  },
  {
   "cell_type": "markdown",
   "id": "b8075285-0e07-40ab-b3f2-d0d8a3ac31b1",
   "metadata": {},
   "source": [
    "> 이건 사실 $\\mu_X$대신 $\\mu$를 쓴 이유와 연관이 있다. $\\mu_X$는 ${\\cal R}$에서 정의되고 $\\mu$는 ${\\cal S}$에서 정의되는데 예제에서는 $\\mu_X$대신 $\\mu$를 썻기 때문에 자연스럽게 $(\\mathbb{R}, {\\cal R})$ 대신에 $(S,{\\cal S})$를 고려하게 되는 것 "
   ]
  },
  {
   "cell_type": "markdown",
   "id": "0b8bdb89-dfa1-4366-ad58-60e6972d7980",
   "metadata": {},
   "source": [
    "`-` 해결: 예제1에서 $\\mu_X$를 쓰지 않은 이유는 카운팅메져 $\\#$이 $(S,{\\cal S})$ 에서는 $\\sigma$-finite 하지만 $(\\mathbb{R},{\\cal R})$ 에서는 $\\sigma$-finite 하지 않기 때문이다. 따라서 이때는 라돈니코딤 도함수의 존재를 보장할 수 없다. "
   ]
  },
  {
   "cell_type": "markdown",
   "id": "fbfba891-d812-49bf-a310-34f0f1e89a3f",
   "metadata": {},
   "source": [
    "`-` 예제2 -- 베르누이 (with 디렉메져)\n",
    "\n",
    "아래와 같은 함수를 고려하자. \n",
    "\n",
    "$$F_X(x) = \\begin{cases} \n",
    "0 & x<0 \\\\ \n",
    "\\frac{1}{2} & 0 \\leq  x <1 \\\\\n",
    "1 & x \\geq 1\n",
    "\\end{cases}$$"
   ]
  },
  {
   "cell_type": "markdown",
   "id": "3dd24af9-74e4-4a9b-a378-fb9957d5e2c3",
   "metadata": {},
   "source": [
    "$F_X$에 대응하는 분포 $\\mu_X:{\\cal R} \\to [0,1]$를 고려하자. 그리고 아래와 같은 메져를 고려하라. $\\delta_X: {\\cal R} \\to \\mathbb{N}$ 을 고려하자. \n",
    "\n",
    "- $\\delta_X(\\emptyset)=0$ \n",
    "- $\\delta_X(\\{0\\})=1$ \n",
    "- $\\delta_X(\\{1\\})=1$ \n",
    "- $\\delta_X(\\{0,1\\})=2$ \n",
    "- $\\delta_X(B)=0$, $B \\in {\\cal R}-\\{0,1\\}-\\{0\\}-\\{1\\}$ \n"
   ]
  },
  {
   "cell_type": "markdown",
   "id": "79e8474f-bca3-46d1-a286-7fd85aeb798c",
   "metadata": {},
   "source": [
    "이때 함수 $\\delta_X$는 $(\\mathbb{R},{\\cal R})$ 에서의 메져가 된다. 이 경우 $\\mu_X << \\delta_X$ 가 성립한다. 이제 아래의 함수 $f_X:S \\to \\mathbb{R}$를 고려하자. \n",
    "\n",
    "- $f_X(0)=\\frac{1}{2}$\n",
    "- $f_X(1)=\\frac{1}{2}$\n",
    "\n",
    "함수 $f_X$는 $\\delta_X$에 대한 $\\mu_X$의 라돈니코딤 도함수이다. "
   ]
  },
  {
   "cell_type": "markdown",
   "id": "31eb2b9b-0467-40af-b4d4-ef4882c2f095",
   "metadata": {},
   "source": [
    "`-` **정의** (디렉메져): 가측공간 $(\\Omega, {\\cal F})$에서 디렉메져는 \n",
    "\n",
    "$$\\delta_{\\omega}(A)=\\mathbb{1}_A(\\omega)$$\n",
    "\n",
    "로 정의되는 메져이다. 여기에서 $A$는 ${\\cal F}$-measurable 한 집합이다."
   ]
  },
  {
   "cell_type": "markdown",
   "id": "3fc51b8c-6ccd-4d91-9db3-5cb6bfa0242b",
   "metadata": {},
   "source": [
    "`-` 디랙메져의 표현법에 따르면 예제2의 경우 $\\delta_X := \\delta_0 + \\delta_1$ 로 표현할 수 있다. 여기에서 $\\delta_x$는 $(\\mathbb{R},{\\cal R})$에서의 디랙메져이다. "
   ]
  },
  {
   "cell_type": "markdown",
   "id": "035885bb-03bf-4462-af65-b13e60a6e574",
   "metadata": {},
   "source": [
    "`-` 꼭 베르누이와 같은 상황이 아니라도 임의의 이산확률변수 $X$에 대한 분포 $\\mu_X$를 dominating하는 적절한 $\\sigma$-finite한 메져 $\\delta_X$를 $(\\mathbb{R}, {\\cal R})$에서 정의할 수 있다. 예를들면 주사위예제의 경우 \n",
    "\n",
    "$$\\delta_X = \\delta_1+\\delta_2+\\delta_3+\\delta_4+\\delta_5+\\delta_6$$\n",
    "\n",
    "와 같은 방식으로 정의할 수 있다. 즉 임의의 이산확률변수 $X$에 대하여 아래를 만족하는 $\\delta_X$를 항상 잡을 수 있다. \n",
    "\n",
    "1. $\\delta_X$ is $\\sigma$-finite\n",
    "2. $\\mu_X << \\delta_X$ \n",
    "\n",
    "따라서 $\\frac{d\\mu_X}{d\\delta_X}$는 언제나 잘 정의되며 이는 우리가 알고 있는 pmf의 정의와 일치한다. "
   ]
  },
  {
   "cell_type": "markdown",
   "id": "5e2a9f6f-d210-4ab7-95c0-95d0dbb00d73",
   "metadata": {},
   "source": [
    "참고로 여기에서 $\\delta_X$는 디렉메져의 합으로 정의할 수 있다. 가측공간 $(\\Omega, {\\cal F})$에서 디렉메져는 $\\delta_{\\omega}(A)=\\mathbb{1}_A(\\omega)$로 정의되는 메져이다. 여기에서 $A$는 ${\\cal F}$-measurable 한 집합이다. 이 예제의 경우 $\\delta_X = \\delta_0 + \\delta_1$ 로 정의할 수 있다. 이 예제 뿐 아니라 임의의 이산확률변수에 대하여서도 $\\delta_X$를 정의할 수 있다. 예를들면 주사위를 던지는 예제라면"
   ]
  },
  {
   "cell_type": "markdown",
   "id": "90577359-82d0-41db-ba50-6e5e63ef6a0e",
   "metadata": {},
   "source": [
    "`-` 결국 이산형 확률변수의 밀도함수를 설명하는 방법은 크게 3가지가 있는 셈이다. "
   ]
  },
  {
   "cell_type": "markdown",
   "id": "e05df6c7-deae-4ba5-8445-14f5199c9baa",
   "metadata": {},
   "source": [
    "1. 이산형확률변수는 밀도함수가 없다. \n",
    "2. 이산형확률변수의 밀도함수는 $\\frac{d\\mu}{d\\#}$ 으로 정의할 수 있다. \n",
    "2. 이산형확률변수의 밀도함수는 $\\frac{d\\mu_X}{d\\delta_X}$ 으로 정의할 수 있다. "
   ]
  },
  {
   "cell_type": "markdown",
   "id": "a6600761-b525-4e86-a9cc-525e7823211c",
   "metadata": {},
   "source": [
    "설명1,2,3은 각각의 장단점이 있다. "
   ]
  },
  {
   "cell_type": "markdown",
   "id": "8c94e618-8e41-4cd4-b501-ac54e73a3d55",
   "metadata": {},
   "source": [
    "**설명1**: 라돈니코딤 도함수에 대한 이해가 없어도 된다는 점에서 장점이 있다. (그래서 가장 일반적으로 사용하는 설명) \n",
    "\n",
    "**설명2**: 연속형은 르벡메져에 대한 라돈니코딤 도함수, 이산형은 카운팅메져에 대한 라돈니코딤 도함수로 구분하여 설명할 수 있다는 점에서는 클리어하지만 분포함수 $\\mu_X$를 활용하지 못한다는 점과 그에 따라서 이산형 확률변수의 support $S$에 맞추어 가측공간 $(S,{\\cal S})$를 재설정해야한다는 불편함이 있다. 이러한 방식으로 유도되는 베르누이 분포의 pmf는 아래와 같이 정의된다. \n",
    "\n",
    "- $f_X(x)=p_X(x)=\\begin{cases} 1-p & x=0 \\\\ p & x=1 \\end{cases}$\n",
    "\n",
    "**설명3**: 연속형은 르벡메져에 대한 라돈니코딤 도함수, 이산형은 카운팅메져에 대한 라돈니코딤 도함수로 구분하여 설명할 수는 없으며 확률변수 $X$에 따라서 $\\delta_X$를 그때 그때 정의해야하는 지저분함이 있다. 하지만 분포함수 $\\mu_X$를 활용할 수 있고 가측공간 $(\\mathbb{R},{\\cal R})$를 그대로 활용한다는 장점이 있다. 이러한 방식으로 유도되는 베르누이분포의 pmf는 아래와 같이 정의된다. \n",
    "\n",
    "- $f_X(x)=p_X(x)=\\begin{cases} 1-p & x=0 \\\\ p & x=1 \\\\ 0 & o.w.  \\end{cases}$"
   ]
  },
  {
   "cell_type": "markdown",
   "id": "b6afa45d-a210-4dbe-86eb-107338e22723",
   "metadata": {},
   "source": [
    "## 혼합형확률변수 "
   ]
  },
  {
   "cell_type": "markdown",
   "id": "550cdb5a-c185-48eb-9113-cd16bd1b802d",
   "metadata": {},
   "source": [
    "`-` 예제1: 아래와 같은 분포함수 $F_X$를 고려하자."
   ]
  },
  {
   "cell_type": "markdown",
   "id": "7c241777-ec4b-4571-9ca2-7ca9a0820be8",
   "metadata": {},
   "source": [
    "$$F_X(x) = \\begin{cases} 0 & x< 0 \\\\ \\frac{1}{2} & 0 \\leq x < \\frac{1}{2} \\\\ x & \\frac{1}{2} \\leq x \\leq 1 \\\\ 0 & o.w. \\end{cases}$$"
   ]
  },
  {
   "cell_type": "markdown",
   "id": "b2203cff-2ebb-4ce7-8691-c3d7588c99cc",
   "metadata": {},
   "source": [
    "이 분포함수는 동전을 던져 앞면이 나오면 $X=0$으로 결정하고 뒷면이 나오면 균등분포 $[0.5,1]$에서 확률변수 $X$를 생성하는 실험을 상상하면 쉽게 이해할 수 있다. 아래와 같은 함수 \n",
    "\n",
    "$$f_X(x) = \\begin{cases} \\frac{1}{2} & x=0 \\\\ 1 & \\frac{1}{2} \\leq x \\leq 1 \\\\ 0 & o.w. \\end{cases}$$\n",
    "\n",
    "가 $F_X$의 밀도함수가 될 수 있음을 설명하라. "
   ]
  },
  {
   "cell_type": "markdown",
   "id": "b2e1e8ea-0bca-4f5b-8e3e-cd14a14da137",
   "metadata": {},
   "source": [
    "(해설) "
   ]
  },
  {
   "cell_type": "markdown",
   "id": "b9806e29-b14a-4bd4-87c5-a57971d5c12b",
   "metadata": {},
   "source": [
    "1. $\\nu:= \\lambda + \\delta_0$ 이라고 정의하자. \n",
    "2. $\\nu$는 $\\sigma$-finite 하며 $\\mu_X << \\nu$ 를 만족한다. \n",
    "3. 함수 $f_X(x)$는 $\\forall B \\in {\\cal R}$에 대하여 아래를 만족한다. \n",
    "\n",
    "$$\\mu_X(B)=\\int_B f_X d\\nu =\\int_B f_X d\\nu=\\int_B f_X d\\lambda + \\int_B f_X d\\delta_X$$ "
   ]
  },
  {
   "cell_type": "markdown",
   "id": "6c763c16-1d73-40c0-9f0f-8863d8520b8a",
   "metadata": {},
   "source": [
    "> $B = (-\\infty,x]$와 같은 꼴에서만 성립함을 보이고 나머지는 $\\pi$-$\\lambda$ thm 쓰면 되죠?"
   ]
  },
  {
   "cell_type": "markdown",
   "id": "62efb0f2-7a10-4087-9a98-1e370bd4b058",
   "metadata": {},
   "source": [
    "## 조건부확률밀도함수 "
   ]
  },
  {
   "cell_type": "markdown",
   "id": "64a49507-2201-4034-b36e-3512441829da",
   "metadata": {},
   "source": [
    "# 르벡분해정리 "
   ]
  },
  {
   "cell_type": "markdown",
   "id": "ed860765-ee8e-40aa-83ba-3abe4ffb000c",
   "metadata": {},
   "source": [
    "## 르벡분해정리"
   ]
  },
  {
   "cell_type": "markdown",
   "id": "6e53e03e-6bca-4ca8-9c8c-515b1cf73cac",
   "metadata": {},
   "source": [
    "## 르벡분해정리의 응용 "
   ]
  },
  {
   "cell_type": "markdown",
   "id": "021ed412-2fb1-4d27-9855-ee4f8f06cd6d",
   "metadata": {},
   "source": [
    "# Appendix: 생존분석 강의노트 "
   ]
  }
 ],
 "metadata": {
  "kernelspec": {
   "display_name": "Python 3",
   "language": "python",
   "name": "python3"
  },
  "language_info": {
   "codemirror_mode": {
    "name": "ipython",
    "version": 3
   },
   "file_extension": ".py",
   "mimetype": "text/x-python",
   "name": "python",
   "nbconvert_exporter": "python",
   "pygments_lexer": "ipython3",
   "version": "3.8.16"
  }
 },
 "nbformat": 4,
 "nbformat_minor": 5
}
