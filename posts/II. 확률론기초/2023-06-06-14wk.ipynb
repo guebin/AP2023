{
 "cells": [
  {
   "cell_type": "raw",
   "id": "3be075fa-6a5f-40a9-a915-f08fa0fe924e",
   "metadata": {},
   "source": [
    "---\n",
    "title: \"14wk: 이산형과 연속형의 통합\"\n",
    "author: \"최규빈\"\n",
    "date: \"06/06/2023\"\n",
    "bibliography: ref.bib\n",
    "---"
   ]
  },
  {
   "cell_type": "markdown",
   "id": "f98b5195-51ca-4af3-8ac3-5b1076995eba",
   "metadata": {},
   "source": [
    "# 일반화된 밀도함수"
   ]
  },
  {
   "cell_type": "markdown",
   "id": "46b87ffd-49c3-46a3-857f-48ea72b7ab71",
   "metadata": {},
   "source": [
    "`-` 라돈니코딤 정리는 꼭 르벡메져일 경우에만 성립하는 것이 아니다. "
   ]
  },
  {
   "cell_type": "markdown",
   "id": "7feb5e0c-1973-4e06-9317-39b200955599",
   "metadata": {},
   "source": [
    "## 이산확률변수"
   ]
  },
  {
   "cell_type": "markdown",
   "id": "b1283dd7-3b35-49e3-8d09-5902c113835c",
   "metadata": {},
   "source": [
    "`-` 예제1 -- 베르누이 (with 카운팅메져)\n",
    "\n",
    "아래와 같은 함수를 고려하자. \n",
    "\n",
    "$$F_X(x) = \\begin{cases} \n",
    "0 & x<0 \\\\ \n",
    "\\frac{1}{2} & 0 \\leq  x <1 \\\\\n",
    "1 & x \\geq 1\n",
    "\\end{cases}$$"
   ]
  },
  {
   "cell_type": "markdown",
   "id": "33c7d9e3-9f06-4ff9-b13f-b04e78e9a357",
   "metadata": {},
   "source": [
    "이제 $S=\\{0,1\\}$, ${\\cal S}=\\{\\emptyset, \\{0\\},\\{1\\},\\{1,2\\}\\}$로 구성된 measurable space $(S,{\\cal S})$를 생각하자. 함수 $\\tilde{\\mu}_X: {\\cal S} \\to [0,1]$를 아래와 같이 정의하면 \n",
    "\n",
    "- $\\tilde{\\mu}_X(\\emptyset)= 0$ \n",
    "- $\\tilde{\\mu}_X(\\{0\\})= \\frac{1}{2}$ \n",
    "- $\\tilde{\\mu}_X(\\{1\\})= \\frac{1}{2}$ \n",
    "- $\\tilde{\\mu}_X(\\{0,1\\})= 1$ \n",
    "\n",
    "함수 $\\tilde{\\mu}_X$는 $(S,{\\cal S})$에서의 메져가 되며, 이것은 $F_X$에 대응하는 분포 ${\\mu}_X$와 같은 역할을 한다. 이제 measurable space $(S,{\\cal S})$에 대하여 아래와 같은 함수 $\\#: {\\cal S} \\to \\mathbb{R}$을 고려하자. \n",
    "\n",
    "- $\\#(\\emptyset)=0$ \n",
    "- $\\#(\\{0\\})= 1$ \n",
    "- $\\#(\\{1\\})= 1$ \n",
    "- $\\#(\\{0,1\\})= 2$ \n"
   ]
  },
  {
   "cell_type": "markdown",
   "id": "8e67d1d4-af37-44ac-b2b6-76c76780232a",
   "metadata": {},
   "source": [
    "이때 함수 $\\#$은 $(S,{\\cal S})$ 에서의 메져가 되며, 이러한 메져를 특별히 ***카운팅메져(counting measure)*** 라고 한다. 이제 아래의 함수 $f_X:S \\to \\mathbb{R}$를 고려하자. \n",
    "\n",
    "- $f_X(0)=\\frac{1}{2}$\n",
    "- $f_X(1)=\\frac{1}{2}$\n",
    "\n",
    "함수 $f_X$는 카운팅메져 $\\#$에 대한 $\\tilde{\\mu}_X$의 라돈니코딤 도함수임을 보여라. "
   ]
  },
  {
   "cell_type": "markdown",
   "id": "b4c29dd2-89f4-4c5c-8d26-a18dbf7ff93f",
   "metadata": {},
   "source": [
    "(해설) "
   ]
  },
  {
   "cell_type": "markdown",
   "id": "5007b8c3-d926-4887-9455-0b7768d52b94",
   "metadata": {},
   "source": [
    "1. $\\tilde{\\mu}_X$, $\\#$는 모두 $(S,{\\cal S})$ 에서의 $\\sigma$-finite 메져이다. \n",
    "2. $\\tilde{\\mu}_X << \\#$이 성립한다. 따라서 적당한 ${\\cal S} - {\\cal R}^+$ measurable function이 존재하여 라돈니코딤 도함수의 조건을 만족함을 알 수 있다. \n",
    "3. 우리가 생각하는 후보는 $f_X$인데 이것이 만약에 (1) ${\\cal S} - {\\cal R}^+$ 가측함수이고 (2) 라돈니코딤 도함수의 조건^[$\\forall B \\in {\\cal S}: \\mu(B)=\\int_B f_X d\\#$]을 만족한다면 $f_X$는 카운팅메져 $\\#$에 대한 $\\mu$의 거의 유일한 (***w.r.t. $\\#$***) 밀도함수라고 주장할 수 있다.\n",
    "4. $f_X$는 ${\\cal S} \\to {\\cal R}^+$ 가측함수이다. (simple function)\n",
    "5. $\\forall B \\in {\\cal S}: \\mu(B)=\\int_B f_X d\\#=\\sum_{x \\in B} f_X(x)$ 를 만족한다. "
   ]
  },
  {
   "cell_type": "markdown",
   "id": "5ee84cc3-98e9-4443-be76-deb8c4481cae",
   "metadata": {},
   "source": [
    "`-` 예제1에서 제안한 $f_X$의 경우 어떠한 의미에서는 **밀도함수**라고 해석할 수 있다. \n",
    "\n",
    "1. 학부수준의 이해: 이산형확률변수는 확률질량함수를 가지며, 연속형확률변수는 확률밀도함수를 가진다. \n",
    "2. 대학원수준의 이해: 이산형확률변수의 밀도함수는 $\\#$에 대한 라돈니코딤 도함수로 해석할 수 있으며, 연속형확률변수의 밀도함수는 $\\lambda$에 대한 라돈니코딤 도함수로 해석할 수 있다. "
   ]
  },
  {
   "cell_type": "markdown",
   "id": "b87085f6-4126-48b6-9f62-6e7c5e8e4428",
   "metadata": {},
   "source": [
    "`-` 찝찝한점1: 예제1에서는 왜 $\\mu_X$ 대신에 $\\tilde{\\mu}_X$를 사용했을까? "
   ]
  },
  {
   "cell_type": "markdown",
   "id": "981b918a-db60-4d81-834b-ca4745d965aa",
   "metadata": {},
   "source": [
    "사실 예제1에서의 $\\tilde{\\mu}_X$는 $F_X$에 대응하는 distribution $\\mu_X$와 유사하지만 미세한 차이가 있음"
   ]
  },
  {
   "cell_type": "markdown",
   "id": "3522c209-099c-4ace-bd4f-6346fb4b7925",
   "metadata": {},
   "source": [
    "**$\\mu_X:{\\cal R} \\to [0,1]$**\n",
    "\n",
    "- $\\mu_X(\\emptyset)=0$\n",
    "- $\\mu_X(\\{0\\})=\\frac{1}{2}$ \n",
    "- $\\mu_X(\\{1\\})=\\frac{1}{2}$ \n",
    "- $\\mu_X(\\{0,1\\})=1$ \n",
    "- $\\mu_X(B)=0$ , $B \\in {\\cal R} - \\{0,1\\} - \\{0\\} - \\{1\\}$"
   ]
  },
  {
   "cell_type": "markdown",
   "id": "63cb74c3-0411-4002-b4ac-066c873ab695",
   "metadata": {},
   "source": [
    "**$\\tilde{\\mu}_X:{\\cal S} \\to [0,1]$**\n",
    "\n",
    "- $\\tilde{\\mu}_X(\\emptyset)= 0$ \n",
    "- $\\tilde{\\mu}_X(\\{0\\})= \\frac{1}{2}$ \n",
    "- $\\tilde{\\mu}_X(\\{1\\})= \\frac{1}{2}$ \n",
    "- $\\tilde{\\mu}_X(\\{0,1\\})= 1$ \n"
   ]
  },
  {
   "cell_type": "markdown",
   "id": "68818adb-2387-444d-ab60-da7d41a88c01",
   "metadata": {},
   "source": [
    "`-` 찝찝한점2: 예제1에서는 왜 $(\\mathbb{R},{\\cal R})$를 고려하지 않고 $(S,{\\cal S})$를 고려하였을까? "
   ]
  },
  {
   "cell_type": "markdown",
   "id": "b8075285-0e07-40ab-b3f2-d0d8a3ac31b1",
   "metadata": {},
   "source": [
    "> 이건 사실 $\\mu_X$대신 $\\tilde{\\mu}_X$를 쓴 이유와 연관이 있다. $\\mu_X$는 ${\\cal R}$에서 정의되고 $\\tilde{\\mu}_X$는 ${\\cal S}$에서 정의되는데 예제에서는 $\\mu_X$대신 $\\tilde{\\mu}_X$를 썻기 때문에 자연스럽게 $(\\mathbb{R}, {\\cal R})$ 대신에 $(S,{\\cal S})$를 고려하게 되는 것 "
   ]
  },
  {
   "cell_type": "markdown",
   "id": "0b8bdb89-dfa1-4366-ad58-60e6972d7980",
   "metadata": {},
   "source": [
    "`-` 찝찝한점의 해결: \n",
    "\n",
    "1. 라돈니코딤 도함수의 존재에 필요한 조건 중 하나는 라돈니코딤 도함수를 정의하는 두개의 메져^[분자, 분모에 들어가는 두개의 메져] $\\sigma$-finite measure이어야 한다는 것임.\n",
    "2. $\\mu_X,\\lambda$ on $(\\mathbb{R},{\\cal R})$을 고려 $\\Rightarrow$ $\\mu_X,\\lambda$ 은 모두 $(\\mathbb{R},{\\cal R})$에서 $\\sigma$-finite 조건을 만족함. \n",
    "3. $\\tilde{\\mu}_X,\\#$ on $(S,{\\cal S})$을 고려 $\\Rightarrow$ $\\tilde{\\mu}_X,\\#$ 은 모두 $(S,{\\cal S})$에서 $\\sigma$-finite 조건을 만족함. \n",
    "4. $\\mu_X, \\#$ on $(\\mathbb{R},{\\cal R})$을 고려 $\\Rightarrow$ $\\mu_X$ 는 $(\\mathbb{R},{\\cal R})$에서 $\\sigma$-finite 하지만 $\\#$는 $(\\mathbb{R},{\\cal R})$에서 $\\sigma$-finite 하지 않음."
   ]
  },
  {
   "cell_type": "markdown",
   "id": "a543174d-9e12-4e38-8635-90ecb3590a57",
   "metadata": {},
   "source": [
    "따라서, $(\\mathbb{R},{\\cal R})$에서의 두 메져 $\\mu_X,\\lambda$를 고려하거나, $(S,{\\cal S})$에서의 두 메져 $\\tilde{\\mu}_X,\\#$ 를 고려해야 라돈니코딤 도함수를 따져볼 수 있다. "
   ]
  },
  {
   "cell_type": "markdown",
   "id": "28c16c68-8b6e-4ab0-b7d6-ff07032a738e",
   "metadata": {},
   "source": [
    "모티브: 그런데 $(S,{\\cal S})$ 말고 그냥 $(\\mathbb{R},{\\cal R})$에서 적당히 $\\mu_X, \\tilde{\\#}$를 고려할 수는 없을까? "
   ]
  },
  {
   "cell_type": "markdown",
   "id": "fbfba891-d812-49bf-a310-34f0f1e89a3f",
   "metadata": {},
   "source": [
    "`-` 예제2 -- 베르누이 (with 디렉메져)\n",
    "\n",
    "아래와 같은 함수를 고려하자. \n",
    "\n",
    "$$F_X(x) = \\begin{cases} \n",
    "0 & x<0 \\\\ \n",
    "\\frac{1}{2} & 0 \\leq  x <1 \\\\\n",
    "1 & x \\geq 1\n",
    "\\end{cases}$$"
   ]
  },
  {
   "cell_type": "markdown",
   "id": "3dd24af9-74e4-4a9b-a378-fb9957d5e2c3",
   "metadata": {},
   "source": [
    "$F_X$에 대응하는 분포 $\\mu_X:{\\cal R} \\to [0,1]$를 고려하자. \n",
    "\n",
    "- $\\mu_X(\\emptyset)=0$\n",
    "- $\\mu_X(\\{0\\})=\\frac{1}{2}$ \n",
    "- $\\mu_X(\\{1\\})=\\frac{1}{2}$ \n",
    "- $\\mu_X(\\{0,1\\})=1$ \n",
    "- $\\mu_X(B)=0$ , $B \\in {\\cal R} - \\{0,1\\} - \\{0\\} - \\{1\\}$\n",
    "\n",
    "그리고 아래와 같은 메져를 고려하라. $\\#_X: {\\cal R} \\to \\mathbb{N}$ 을 고려하자. \n",
    "\n",
    "- $\\#_X(\\emptyset)=0$ \n",
    "- $\\#_X(\\{0\\})=1$ \n",
    "- $\\#_X(\\{1\\})=1$ \n",
    "- $\\#_X(\\{0,1\\})=2$ \n",
    "- $\\#_X(B)=0$, $B \\in {\\cal R}-\\{0,1\\}-\\{0\\}-\\{1\\}$ \n"
   ]
  },
  {
   "cell_type": "markdown",
   "id": "79e8474f-bca3-46d1-a286-7fd85aeb798c",
   "metadata": {},
   "source": [
    "이때 함수 $\\#_X:{\\cal R} \\to \\mathbb{N}$ 는 $(\\mathbb{R},{\\cal R})$ 에서의 $\\sigma$-finite 메져가 된다. 또한 $\\mu_X << \\#_X$ 가 성립한다.^[함수 $\\#_X$은 확률변수 $X$의 support 에서만 값이 정의되는 카운팅메져라고 생각할 수 있음] 이제 아래의 함수 $f_X:\\mathbb{R} \\to \\mathbb{R}^+$를 고려하자. \n",
    "\n",
    "$$f_X(x)=\\begin{cases}\n",
    "\\frac{1}{2} & x=0,1 \\\\\n",
    "0 & o.w.\n",
    "\\end{cases}$$\n",
    "\n",
    "함수 $f_X$는 ${\\cal R}-{\\cal R}^+$ 가측함수이고 (simple function 이므로)\n",
    "\n",
    "$$\\forall B \\in {\\cal R}: \\mu_X(B)= \\int fd\\#_X$$\n",
    "\n",
    "를 만족한다. 따라서 \n",
    "\n",
    "$$f_X=\\frac{d\\mu_X}{d\\#_X}$$\n",
    "\n",
    "이다. 즉 $f_X$는 $\\#_X$에 대한 $\\mu_X$의 라돈니코딤 도함수로 해석할 수 있다. "
   ]
  },
  {
   "cell_type": "markdown",
   "id": "31eb2b9b-0467-40af-b4d4-ef4882c2f095",
   "metadata": {},
   "source": [
    "`-` **정의** (디렉메져): 가측공간 $(\\Omega, {\\cal F})$에서 디렉메져는 \n",
    "\n",
    "$$\\delta_{\\omega}(A)=\\mathbb{1}_A(\\omega)$$\n",
    "\n",
    "로 정의되는 메져이다. 여기에서 $A$는 ${\\cal F}$-measurable 한 집합이다."
   ]
  },
  {
   "cell_type": "markdown",
   "id": "3fc51b8c-6ccd-4d91-9db3-5cb6bfa0242b",
   "metadata": {},
   "source": [
    "`-` 디랙메져의 표현법에 따르면 예제2의 경우 $\\#_X := \\delta_0 + \\delta_1$ 로 표현할 수 있다. 여기에서 $\\delta_x$는 $(\\mathbb{R},{\\cal R})$에서의 디랙메져이다. "
   ]
  },
  {
   "cell_type": "markdown",
   "id": "035885bb-03bf-4462-af65-b13e60a6e574",
   "metadata": {},
   "source": [
    "`-` 꼭 베르누이와 같은 상황이 아니라도 임의의 이산확률변수 $X$에 대한 분포 $\\mu_X$를 dominating하는 적절한 $\\sigma$-finite한 메져 $\\#_X$를 $(\\mathbb{R}, {\\cal R})$에서 정의할 수 있다. 예를들면 주사위예제의 경우 \n",
    "\n",
    "$$\\#_X = \\delta_1+\\delta_2+\\delta_3+\\delta_4+\\delta_5+\\delta_6$$\n",
    "\n",
    "와 같은 방식으로 정의할 수 있다. 즉 임의의 이산확률변수 $X$에 대하여 아래를 만족하는 $\\delta_X$를 항상 잡을 수 있다. \n",
    "\n",
    "1. $\\#_X$ is $\\sigma$-finite\n",
    "2. $\\mu_X << \\#_X$ \n",
    "\n",
    "따라서 $\\frac{d\\mu_X}{d\\#_X}$는 언제나 잘 정의되며 이는 우리가 알고 있는 pmf의 정의와 일치한다. "
   ]
  },
  {
   "cell_type": "markdown",
   "id": "90577359-82d0-41db-ba50-6e5e63ef6a0e",
   "metadata": {},
   "source": [
    "`-` 결국 이산형 확률변수의 밀도함수를 설명하는 방법은 크게 3가지가 있는 셈이다. "
   ]
  },
  {
   "cell_type": "markdown",
   "id": "e05df6c7-deae-4ba5-8445-14f5199c9baa",
   "metadata": {},
   "source": [
    "1. 이산형확률변수는 밀도함수가 없다. \n",
    "2. 이산형확률변수의 밀도함수는 $\\frac{d}{d\\#}\\tilde{\\mu}_X$ 으로 정의할 수 있다. \n",
    "2. 이산형확률변수의 밀도함수는 $\\frac{d}{d\\#_X}\\mu_X$ 으로 정의할 수 있다. "
   ]
  },
  {
   "cell_type": "markdown",
   "id": "a6600761-b525-4e86-a9cc-525e7823211c",
   "metadata": {},
   "source": [
    "설명1,2,3은 각각의 장단점이 있다. "
   ]
  },
  {
   "cell_type": "markdown",
   "id": "8c94e618-8e41-4cd4-b501-ac54e73a3d55",
   "metadata": {},
   "source": [
    "**설명1**: 라돈니코딤 도함수에 대한 이해가 없어도 된다는 점에서 장점이 있다. (그래서 학부수준에서는 가장 일반적으로 사용하는 설명) \n",
    "\n",
    "**설명2**: 연속형은 르벡메져에 대한 라돈니코딤 도함수, 이산형은 카운팅메져에 대한 라돈니코딤 도함수로 구분하여 설명할 수 있다는 점에서는 클리어하지만 분포함수 $\\mu_X$를 활용하지 못한다는 점과 그에 따라서 이산형 확률변수의 support $S$에 맞추어 가측공간 $(S,{\\cal S})$를 재설정해야한다는 불편함이 있다. 이러한 방식으로 유도되는 베르누이 분포의 pmf는 아래와 같이 정의된다. \n",
    "\n",
    "- $f_X(x)=p_X(x)=\\begin{cases} 1-p & x=0 \\\\ p & x=1 \\end{cases}$\n",
    "\n",
    "**설명3**: 연속형은 르벡메져에 대한 라돈니코딤 도함수, 이산형은 카운팅메져에 대한 라돈니코딤 도함수로 구분하여 설명할 수는 없으며 확률변수 $X$에 따라서 $\\#_X$를 그때 그때 정의해야하는 지저분함이 있다. 하지만 분포함수 $\\mu_X$를 활용할 수 있고 가측공간 $(\\mathbb{R},{\\cal R})$를 그대로 활용한다는 장점이 있다. 이러한 방식으로 유도되는 베르누이분포의 pmf는 아래와 같이 정의된다. \n",
    "\n",
    "- $f_X(x)=p_X(x)=\\begin{cases} 1-p & x=0 \\\\ p & x=1 \\\\ 0 & o.w.  \\end{cases}$"
   ]
  },
  {
   "cell_type": "markdown",
   "id": "50e9d8d6-7ded-4c48-aa02-f31074e34702",
   "metadata": {},
   "source": [
    "> 여기에서 $p_X(x)$는 학부때 배우는 pmf"
   ]
  },
  {
   "cell_type": "markdown",
   "id": "b6afa45d-a210-4dbe-86eb-107338e22723",
   "metadata": {},
   "source": [
    "## 혼합형확률변수 "
   ]
  },
  {
   "cell_type": "markdown",
   "id": "550cdb5a-c185-48eb-9113-cd16bd1b802d",
   "metadata": {},
   "source": [
    "`-` 예제1: 아래와 같은 분포함수 $F_X$를 고려하자."
   ]
  },
  {
   "cell_type": "markdown",
   "id": "7c241777-ec4b-4571-9ca2-7ca9a0820be8",
   "metadata": {},
   "source": [
    "$$F_X(x) = \\begin{cases} 0 & x< 0 \\\\ \\frac{1}{2} & 0 \\leq x < \\frac{1}{2} \\\\ x & \\frac{1}{2} \\leq x \\leq 1 \\\\ 0 & o.w. \\end{cases}$$"
   ]
  },
  {
   "cell_type": "markdown",
   "id": "b2203cff-2ebb-4ce7-8691-c3d7588c99cc",
   "metadata": {},
   "source": [
    "이 분포함수는 동전을 던져 앞면이 나오면 $X=0$으로 결정하고 뒷면이 나오면 균등분포 $[0.5,1]$에서 확률변수 $X$를 생성하는 실험을 상상하면 쉽게 이해할 수 있다. 아래와 같은 함수 \n",
    "\n",
    "$$f_X(x) = \\begin{cases} \\frac{1}{2} & x=0 \\\\ 1 & \\frac{1}{2} \\leq x \\leq 1 \\\\ 0 & o.w. \\end{cases}$$\n",
    "\n",
    "가 $F_X$의 밀도함수가 될 수 있음을 설명하라. "
   ]
  },
  {
   "cell_type": "markdown",
   "id": "b2e1e8ea-0bca-4f5b-8e3e-cd14a14da137",
   "metadata": {},
   "source": [
    "(해설) "
   ]
  },
  {
   "cell_type": "markdown",
   "id": "b9806e29-b14a-4bd4-87c5-a57971d5c12b",
   "metadata": {},
   "source": [
    "1. $\\nu:= \\lambda + \\delta_0$ 이라고 정의하자. \n",
    "2. $\\nu$는 $\\sigma$-finite 하며 $\\mu_X << \\nu$ 를 만족한다. \n",
    "3. 함수 $f_X(x)$는 가측함수이며 (simple function) $\\forall B \\in {\\cal R}$에 대하여 아래를 만족한다. \n",
    "\n",
    "$$\\mu_X(B)=\\int_B f_X d\\nu =\\int_B f_X d(\\lambda+\\delta_0)=\\int_B f_X d\\lambda + \\int_B f_X d\\delta_0$$ "
   ]
  },
  {
   "cell_type": "markdown",
   "id": "6c763c16-1d73-40c0-9f0f-8863d8520b8a",
   "metadata": {},
   "source": [
    "> $B = (-\\infty,x]$와 같은 꼴에서만 성립함을 보이고 나머지는 $\\pi$-$\\lambda$ thm 쓰면 되죠?"
   ]
  },
  {
   "cell_type": "markdown",
   "id": "64a49507-2201-4034-b36e-3512441829da",
   "metadata": {},
   "source": [
    "# 르벡분해정리 "
   ]
  },
  {
   "cell_type": "markdown",
   "id": "0e46adb5-34b9-446c-97ec-cc3b3b1d5617",
   "metadata": {},
   "source": [
    "`-` **Thm**: 분포함수의 정의를 만족하는 임의의 $F$는 항상 아래와 같이 분해가능하다.\n",
    "\n",
    "$$F = F_{ac}+F_{pp}+F_{sing}$$"
   ]
  },
  {
   "cell_type": "markdown",
   "id": "ca759f19-ce4f-407d-82dd-6bcd0540ee61",
   "metadata": {},
   "source": [
    "여기에서 $F_{ac}$는 르벡메져에 대하여 절대연속이고 $F_{pp}$는 카운팅메져에 대하여 절대연속이다. 따라서 $F_{ac}$와 $F_{pp}$는 각각 르벡메져와 카운팅메져에 대응하는 밀도함수가 존재한다. $F_{sing}$는 칸토어분포와 같이 밀도함수가 존재하지 않는 경우이다. "
   ]
  },
  {
   "cell_type": "markdown",
   "id": "c2087039-ec9d-4704-83a9-97657b7dc41c",
   "metadata": {},
   "source": [
    "`-` 의미: $F_{ac}$는 우리가 일반적으로 생각하는 singular하지 않은 연속함수를 상상하면 된다.^[칸토어처럼 이상한 연속함수 말고 상식적인 수준의 연속함수라는 의미] $F_{pp}$는 완벽한 불연속이며 오직 jump를 통해서만 증가하는 함수라 생각하면 된다. 즉 우리가 익숙한 이산형확률변수의 cdf를 상상하면 된다. "
   ]
  },
  {
   "cell_type": "markdown",
   "id": "5e62e288-3a50-494c-b847-8e066bbc591e",
   "metadata": {},
   "source": [
    "`-` 이론: $F_{pp}$는 기껏해야 countable한 불연속점을 가진다. (jump 하는 point는 countable이라는 의미, 결국 이산형확률변수의 support는 countable이라는 의미)"
   ]
  },
  {
   "cell_type": "markdown",
   "id": "60d78936-51b7-469c-92a9-f85146a989ef",
   "metadata": {},
   "source": [
    "`-` 이론: 분포함수 정의를 만족하는 임의의 $F$가 아래와 같다면 \n",
    "\n",
    "$$F=F_{ac}$$\n",
    "\n",
    "$F$에 대응하는 연속형 확률변수 $X$가 존재하고 그에 대응하는 pdf가 존재한다. "
   ]
  },
  {
   "cell_type": "markdown",
   "id": "3d3e904f-6b36-42e8-9a56-a64a7b469f98",
   "metadata": {},
   "source": [
    "`-` 이론: 분포함수 정의를 만족하는 임의의 $F$가 아래와 같다면 \n",
    "\n",
    "$$F=F_{pp}$$\n",
    "\n",
    "$F$에 대응하는 이산형 확률변수 $X$가 존재하고 그에 대응하는 (일반화된) pdf 혹은 pmf가 존재한다. "
   ]
  },
  {
   "cell_type": "markdown",
   "id": "e8ef5527-c20a-4cb3-9b6f-ac7ad27e3426",
   "metadata": {},
   "source": [
    "`-` 이론: 분포함수 정의를 만족하는 임의의 $F$가 아래와 같다면 \n",
    "\n",
    "$$F=F_{ac}+F_{pp}$$\n",
    "\n",
    "$F$에 대응하는 혼합형 확률변수 $X$가 존재하고 그에 대응하는 (일반화된) pdf가 존재한다. "
   ]
  },
  {
   "cell_type": "markdown",
   "id": "81d1c481-b45c-4f05-95fc-8258912d39bd",
   "metadata": {
    "tags": []
   },
   "source": [
    "# 기대값"
   ]
  },
  {
   "cell_type": "markdown",
   "id": "78686434-9b4a-4f0a-aa36-c91b0c10f08d",
   "metadata": {},
   "source": [
    "`-` 예제1: $(\\Omega,{\\cal F},P)$를 확률공간이라고 하고 $\\Omega=\\{H,T\\}$, ${\\cal F}=2^\\Omega$, $P(H)=P(T)=\\frac{1}{2}$라고 하자.^[이렇게 정의해도 되는 이유는 카라테오도리 확장정리덕분] 확률변수 $X(H)=0$, $X(T)=1$를 정의하자. 이 확률변수의 기대값 $\\mathbb{E}(X)$를 계산하여 보자. "
   ]
  },
  {
   "cell_type": "markdown",
   "id": "ccbb8f21-a653-4c7b-9cc8-0b9ec01cc962",
   "metadata": {},
   "source": [
    "|$X$|$X=0$|$X=1$|\n",
    "|:-:|:-:|:-:|\n",
    "|$P(X=x)$|$\\frac{1}{2}$|$\\frac{1}{2}$|"
   ]
  },
  {
   "cell_type": "markdown",
   "id": "e515b0ce-01c6-4539-bef2-d9416c5ebb3b",
   "metadata": {},
   "source": [
    "(풀이) "
   ]
  },
  {
   "cell_type": "markdown",
   "id": "b69b2902-9589-4c40-b972-d6c6c2c13710",
   "metadata": {},
   "source": [
    "아래와 같이 계산할 수 있다. (고등학교 수준)"
   ]
  },
  {
   "cell_type": "markdown",
   "id": "e0f5489d-4868-4e30-9225-63e0de3f6704",
   "metadata": {},
   "source": [
    "$$\\mathbb{E}(X)= 0 \\times \\frac{1}{2} + 1\\times \\frac{1}{2}$$"
   ]
  },
  {
   "cell_type": "markdown",
   "id": "1434e2b1-1bbe-41d6-bd86-3e250eada746",
   "metadata": {},
   "source": [
    "이를 다른표현으로 써보면 "
   ]
  },
  {
   "cell_type": "markdown",
   "id": "344ce0b8-c82f-4c55-909e-c485ebab085c",
   "metadata": {},
   "source": [
    "1. $\\mathbb{E}(X)= 0 \\times (P\\circ X^{-1})(\\{0\\}) + 1\\times (P\\circ X^{-1})(\\{1\\})$\n",
    "2. $\\mathbb{E}(X)= 0 \\times \\mu_X(\\{0\\}) + 1\\times \\mu_X(\\{1\\})$\n",
    "3. $\\mathbb{E}(X)= \\sum_{x=0}^{1} x \\times \\mu_X(\\{x\\})$\n",
    "5. $\\mathbb{E}(X)= \\int_{\\mathbb{R}} x d\\mu_X:=\\int_{\\mathbb{R}}xdF_X$\n",
    "6. $\\mathbb{E}(X)= \\int_{\\mathbb{R}} x \\frac{d\\mu_X}{d \\#_X}d\\#_X$\n",
    "7. $\\mathbb{E}(X)= \\int_{\\mathbb{R}} x p_X(x)\n",
    "d\\#_X$\n",
    "8. $\\mathbb{E}(X)= \\int_{\\{0,1\\}} x p_X(x)\n",
    "d\\#_X$\n",
    "9. $\\mathbb{E}(X)= \\sum_{x=0}^{1} xp_X(x)$"
   ]
  },
  {
   "cell_type": "markdown",
   "id": "5b621278-b60f-4bbb-b37a-de7c7154ef87",
   "metadata": {},
   "source": [
    "또는 아래와 같이 볼 수 도 있다. "
   ]
  },
  {
   "cell_type": "markdown",
   "id": "df54e866-9217-452f-bf45-094cf80ca8c1",
   "metadata": {},
   "source": [
    "1. $\\mathbb{E}(X)= 0 \\times (P\\circ X^{-1})(\\{0\\}) + 1\\times (P\\circ X^{-1})(\\{1\\})$\n",
    "2. $\\mathbb{E}(X)= X(H) \\times P(\\{H\\}) + X(T)\\times P(\\{T\\})$\n",
    "3. $\\mathbb{E}(X)= \\int X dP = \\int_{\\Omega} X dP = \\int_{\\omega \\in \\Omega}X(\\omega)dP(\\omega)$"
   ]
  },
  {
   "cell_type": "markdown",
   "id": "0cd3e1e0-3f50-4eda-bdf0-6c09ca9c8661",
   "metadata": {},
   "source": [
    "`-` 예제2: $(\\Omega,{\\cal F},P)$를 확률공간이라고 하고 $\\Omega=[0,2\\pi)$, ${\\cal F}={\\cal R} \\cap [0,2\\pi)$^[${\\cal R} \\cap [0,2\\pi) := \\{B \\cap [0,2\\pi): B \\in {\\cal R}\\}$], $P([0,x))=\\frac{x}{2\\pi}$라고 하자.^[이렇게 정의해도 되는 이유는 카라테오도리 확장정리덕분] 확률변수 $X(\\omega)=\\omega$에 대한 기대값 $\\mathbb{E}(X)$를 계산하여 보자. "
   ]
  },
  {
   "cell_type": "markdown",
   "id": "927c2b4b-8438-47bc-9fa2-687cdc856b29",
   "metadata": {},
   "source": [
    "(풀이) "
   ]
  },
  {
   "cell_type": "markdown",
   "id": "99a8ab4f-af86-4301-994a-2540d2dfc971",
   "metadata": {},
   "source": [
    "아래와 같이 계산할 수 있다. (고등학교 수준)"
   ]
  },
  {
   "cell_type": "markdown",
   "id": "586193c7-a321-4e4d-9962-46e831909f5f",
   "metadata": {},
   "source": [
    "$$\\mathbb{E}(X)=\\int_0^{2\\pi} x \\frac{1}{2\\pi}dx$$"
   ]
  },
  {
   "cell_type": "markdown",
   "id": "420d389f-ffbe-47b6-827a-63c05e55a3cb",
   "metadata": {},
   "source": [
    "이는 아래와 같이 변형할 수 있다. "
   ]
  },
  {
   "cell_type": "markdown",
   "id": "2d347261-b7db-4f25-99f6-f75e8e9a8253",
   "metadata": {},
   "source": [
    "1. $\\mathbb{E}(X)= \\int_0^{2\\pi}xf_X(x)dx$, where $f_X(x)=\\frac{1}{2\\pi}$.\n",
    "2. $\\mathbb{E}(X)= \\int_{\\mathbb{R}}xf_Xd\\lambda$. \n",
    "3. $\\mathbb{E}(X)= \\int_{\\mathbb{R}}x\\frac{d\\mu_X}{d\\lambda}d\\lambda$. \n",
    "4. $\\mathbb{E}(X)= \\int_{\\mathbb{R}}xd\\mu_X:=\\int_{\\mathbb{R}}xdF_X$."
   ]
  },
  {
   "cell_type": "markdown",
   "id": "67123fc9-b57d-4a1b-995e-f60ca13ebaee",
   "metadata": {},
   "source": [
    "혹은 아래와 같이 변형할 수 있다. \n",
    "\n",
    "1. $\\mathbb{E}(X)= \\int_{\\mathbb{R}} xd\\mu_X=\\int_{[0,2\\pi)}xd\\mu_X(x)$\n",
    "2. $\\mathbb{E}(X)= \\int_\\Omega X(\\omega)dP(\\omega)=\\int X dP$"
   ]
  },
  {
   "cell_type": "markdown",
   "id": "53c12aca-cfc0-4ae8-b032-4c544447e805",
   "metadata": {},
   "source": [
    "`-` 정의: $X$가 확률공간 $(\\Omega,{\\cal F},P)$에서 정의된 확률변수라고 할때 그 기대값 $\\mathbb{E}(X)$는 아래와 같이 정의한다.\n",
    "\n",
    "$$\\mathbb{E}(X) = \\int_{\\Omega} X dP$$\n",
    "\n",
    "여기에서 $X$는 이산형, 연속형, 혼합형등 어떠한 형태의 확률변수라도 상관없다. 위의 기대값은 항상 아래와 같이 표현할 수 있다. \n",
    "\n",
    "$$\\mathbb{E}(X) = \\int_{\\mathbb{R}} x d\\mu_X:=\\int_{\\mathbb{R}} x dF_X$$\n",
    "\n",
    "만약 $F_X$가 절대연속인 경우 (즉 $\\mu_X << \\lambda$ 인 경우) 아래와 같이 표현가능하다. \n",
    "\n",
    "$$\\mathbb{E}(X) = \\int_{-\\infty}^{\\infty} xf_X(x)dx$$\n",
    "\n",
    "만약에 $F_X$가 countable한 jump로만 구성되어 있다면 $\\mu_X$는 jump point에서 support로 가지는 디렉메져 $\\delta_X$에 대하여 절대연속이 되며 (즉 $\\mu_X << \\delta_X$) 이 경우 기대값은 아래와 같이 표현가능하다. \n",
    "\n",
    "$$\\mathbb{E}(X) = \\sum_{x}x p_X(x)$$\n",
    "\n",
    "여기에서 $f_X(x)$와 $p_X(x)$는 각각 확률변수 $X$의 pdf, pmf가 된다. (혹은 $\\lambda$와 $\\delta_X$에 대한 라돈니코딤 도함수)"
   ]
  },
  {
   "cell_type": "markdown",
   "id": "18807445-ecc6-4160-8f6f-4edc3dbde47e",
   "metadata": {},
   "source": [
    "`-` 요약"
   ]
  },
  {
   "cell_type": "markdown",
   "id": "977f6f28-f5e7-440b-953c-a2e1bd843a79",
   "metadata": {},
   "source": [
    "- 학부수준: 연속형확률변수의 기대값과 이산형확률변수의 기대값이 서로 다르게 정의된다. \n",
    "- 대학원수준: 두 경우 모두 $\\mathbb{E}(X) = \\int X dP$로 정의된다. "
   ]
  },
  {
   "cell_type": "markdown",
   "id": "22bcdac6-04e7-40fd-ab15-06bd75814b9c",
   "metadata": {},
   "source": [
    "# 마무리 "
   ]
  },
  {
   "cell_type": "markdown",
   "id": "617c8ecc-7736-44e9-aabb-c3e9d141d550",
   "metadata": {},
   "source": [
    "`-` 한 학기동안 수고하셨습니다. "
   ]
  },
  {
   "cell_type": "markdown",
   "id": "0c7f6d81-e8a4-4887-ad63-1035307138ea",
   "metadata": {},
   "source": [
    "`-` 강의의 의의\n",
    "\n",
    "1. 확률론^[학부의 확률론과 다릅니다]은 LLN, CLT 등을 엄밀하게 다루며^[\"대부분의 통계교재에서 조금 더 엄밀한 내용은 학부과정을 벗어나므로 이 교재에서는 생략한다.\"라는식으로 써진경우가 많은데요, 이를 이해하기 위해서 필요한 과목이 확률론입니다] 이는 다른 통계 모든 과목을 이해하는데 밑바탕이 된다. \n",
    "\n",
    "2. 그런데 그 확률론을 잘 이해하기 위해서는 해석학,실해석학(=측도론)을 중심으로 위상수학, 대수, 집합론 등 수학 전반에 대한 폭넓은 이해가 필요하다. 따라서 확률론을 원활하게 이해하기 위한 예비과정을 선행하기는 수학과 학생이 아니면 거의 불가능하다. \n",
    "\n",
    "3. 본 교과의 목표는 이러한 수학적지식과 기초확률론을 소개함으로써 (1) 통계학과에서 필요한 여러 수학이론을 리뷰하고 (2) 확률, 확률변수, 기대값등을 엄밀한 언어로 재정의한다. "
   ]
  },
  {
   "cell_type": "markdown",
   "id": "1c45cb23-7b0f-4e5c-9181-1a0dd16dc81e",
   "metadata": {},
   "source": [
    "`-` 강의를 만든 진짜 목적: 공부를 함에 있어써 필요한 언어를 소개. \n",
    "\n",
    "- 공부를 할 때 내가 이해할 수 있는 언어가 많을 수록 유리함. \n",
    "- 예를들어 한국어만 읽을 수 있고 영어를 전혀 할 줄 모른다면 공부를 하기 힘듦. 내가 R코드만 이해할 수 있고 파이썬코드는 이해할 수 없다면 특정분야의 기술을 습득하는데 한계점이 존재함. \n",
    "- 경험1: 어떠한 증명을 위해서 다른 논문을 참고할 일이 있었는데 제목만 영어로 되어있고 내용을 보니 러시아로 되어있었음. (그래도 식만보면서 울면서 읽었음) 너무 힘들었음. \n",
    "- 경험2: R만 써서 박사학위 받았는데, 다른 연구하려고 참고자료를 찾아보니 다 파이썬으로 구현해놓음. 그래서 R로 구현된 코드를 찾으려 시도했으나 없어서 포기하고 내가 파이썬을 배웠음. \n",
    "- 경험3: 통계학 관련 공부나 연구활동을 할때마다 이상한 수학용어 및 기호때문에 막히는 적이 많았음. 그래서 쉬운언어로 쓰여진 책을 찾아서 공부하려다가 포기하고 내가 수학을 배웠음. "
   ]
  },
  {
   "cell_type": "markdown",
   "id": "d26a10f5-9bc7-4b57-9931-dc186b134eb9",
   "metadata": {},
   "source": [
    "`-` 경험3의 예시: Appendix \n",
    "\n",
    "- 생존분석 강의노트: 갑자기 라돈니코딤 도함수..\n",
    "- WGAN: 꼭 이렇게 쓸 필요가 있었을까? 싶음. 그렇지만 이건 논문 쓰는 사람 마음이지 않을까? (이 사람은 이게 편할 수 있으니까)\n",
    "- 시계열교재: 이 한줄 때문에 고생좀 했어요 \n",
    "- 기타등등 무수히^[countable many?] 많음~"
   ]
  },
  {
   "cell_type": "markdown",
   "id": "c7b931c9-f127-4f74-957f-d2d4330a4f8a",
   "metadata": {},
   "source": [
    "`-` 학습 및 연구에 필요한 언어를 배우는 것이 어려운점\n",
    "\n",
    "1. 시계열분석, 공간자료분석, 텍스트마이닝과 같이 \"데이터\"가 중심이 되는 다른 교과목과 다르게 독학이 어렵다. 즉 쪽집게처방(pinpoint remedy)을 독학하는 것은 수월하지만 상대적으로 이론교과를 독학하는 것에는 시간이 오래 걸린다. \n",
    "2. 독학할 교재가 마땅치 않다. (통계에 잘쓰이는 영어가 따로 있고, 통계에 잘 쓰이는 파이썬 패키지가 따로 있으며, 통계에 잘 쓰이는 수학이 따로 있음) 그래서 여러교재를 참고해야 한다. \n",
    "3. 교재들과의 연결, 그리고 본인연구와의 연결은 스스로 해야한다. "
   ]
  },
  {
   "cell_type": "markdown",
   "id": "77915c89-6037-4fcf-b240-653306a5e0ed",
   "metadata": {},
   "source": [
    "`-` 본인만의 무기: 흡수가능한 것은 무기가 될 수 없음. \n",
    "\n",
    "- 전제: 경쟁상대를 통계학과에서 한정짓지 말것 \n",
    "- 경험1: 코드를 못 짜는 사람 -> 잘하는 사람 옆에서 4~5년 지내면 잘해짐\n",
    "- 경험2: 데이터를 읽는 센스 + 시각화에 대한 감각이 없는 사람 -> 잘하는 사람 옆에서 4~5년 지내면 잘해짐^[솔직히 데이터분석은 경험인듯. 많이해볼수록 잘함. 현업에서 오래근무한 사람이 교수보다 분석 잘할 수 있음]\n",
    "- 경험3: 논문을 못 읽는 사람 -> 평생 못 읽음. CS출신은 WGAN와 같은 논문을 원문으로는 평생 읽을 수 없다고 생각함.\n",
    "- 저의 무기: "
   ]
  },
  {
   "cell_type": "markdown",
   "id": "021ed412-2fb1-4d27-9855-ee4f8f06cd6d",
   "metadata": {},
   "source": [
    "# Appendix"
   ]
  },
  {
   "cell_type": "markdown",
   "id": "6aee60b8-8df5-49dc-a666-3957e9c7d9c5",
   "metadata": {},
   "source": [
    "`-` [생존분석 강의노트](https://github.com/guebin/AP2023/blob/main/posts/II.%20%ED%99%95%EB%A5%A0%EB%A1%A0%EA%B8%B0%EC%B4%88/supp_14wk_surv.pdf)"
   ]
  },
  {
   "cell_type": "markdown",
   "id": "14189be5-d3dd-40ad-b25d-196c38fe5725",
   "metadata": {},
   "source": [
    "`-` [WGAN](https://github.com/guebin/AP2023/blob/main/posts/II.%20%ED%99%95%EB%A5%A0%EB%A1%A0%EA%B8%B0%EC%B4%88/supp_14wk_WGAN.pdf)"
   ]
  },
  {
   "cell_type": "markdown",
   "id": "e287f80e-2b5a-49f0-8dc7-4828d3de2acc",
   "metadata": {},
   "source": [
    "`-` [시계열교재](https://github.com/guebin/AP2023/blob/main/posts/II.%20%ED%99%95%EB%A5%A0%EB%A1%A0%EA%B8%B0%EC%B4%88/supp_14wk_ts.pdf)"
   ]
  }
 ],
 "metadata": {
  "kernelspec": {
   "display_name": "Python 3",
   "language": "python",
   "name": "python3"
  },
  "language_info": {
   "codemirror_mode": {
    "name": "ipython",
    "version": 3
   },
   "file_extension": ".py",
   "mimetype": "text/x-python",
   "name": "python",
   "nbconvert_exporter": "python",
   "pygments_lexer": "ipython3",
   "version": "3.8.16"
  }
 },
 "nbformat": 4,
 "nbformat_minor": 5
}
