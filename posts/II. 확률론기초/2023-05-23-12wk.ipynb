{
 "cells": [
  {
   "cell_type": "raw",
   "id": "578eb329-9c70-4fb6-9f6f-8a9edd9bb6f6",
   "metadata": {},
   "source": [
    "---\n",
    "title: \"12wk: 적분 (2)\"\n",
    "author: \"최규빈\"\n",
    "date: \"05/23/2023\"\n",
    "bibliography: ref.bib\n",
    "title-block-style: none\n",
    "title-block-banner: false\n",
    "---"
   ]
  },
  {
   "cell_type": "markdown",
   "id": "ff9f4bb9-f542-4e4f-adb9-638e9aa4781b",
   "metadata": {},
   "source": [
    "# 강의영상 "
   ]
  },
  {
   "cell_type": "markdown",
   "id": "3448ae45-e490-4b42-bc2c-7b77e7850cdd",
   "metadata": {},
   "source": [
    "> youtube: <https://youtube.com/playlist?list=PLQqh36zP38-xwz12M1ec2nmB2kDOpzoXj>"
   ]
  },
  {
   "cell_type": "markdown",
   "id": "f5317752-47c0-4399-9daf-8bf755dd0bf9",
   "metadata": {},
   "source": [
    "# 적분 "
   ]
  },
  {
   "cell_type": "markdown",
   "id": "910fb987-29b0-4acd-a802-b94175217a51",
   "metadata": {},
   "source": [
    "`-` ref: @durrett2019probability, Sec 1.4"
   ]
  },
  {
   "cell_type": "markdown",
   "id": "3c1e0cdd-f0ea-49b5-b985-cd010c2f5969",
   "metadata": {},
   "source": [
    "`-` 개론: 두 개의 잴 수 있는 공간 $(\\Omega, {\\cal F})$, $(\\mathbb{R}, {\\cal R})$을 고려하자. 함수 $\\mu:{\\cal F} \\to [0,\\infty]$을 $(\\Omega, {\\cal F})$에서 정의된 $\\sigma$-finite measure 라고 하자. 또한 함수 $f$를 ${\\cal F}-{\\cal R}$ measurable fucntion 이라고 하자. 이러한 공간에서 아래와 같은 표현 \n",
    "\n",
    "$$\\int f d\\mu$$ \n",
    "\n",
    "을 정의하고자 한다. "
   ]
  },
  {
   "cell_type": "markdown",
   "id": "53022e11-6b4c-4c06-888c-c0be8435ea12",
   "metadata": {},
   "source": [
    "## simple function "
   ]
  },
  {
   "cell_type": "markdown",
   "id": "3c32e02c-5f18-4ffb-92e9-1456f90945bc",
   "metadata": {},
   "source": [
    "`-` **정의**: $(\\Omega,{\\cal F})$가 잴 수 있는 공간이라고 하자. 함수 $f:\\Omega \\to \\mathbb{R}$가 아래와 같이 표현된다면 $f$를 simple function 이라고 한다. \n",
    "\n",
    "$$f(\\omega)=\\sum_{i=1}^{n} \\alpha_i \\mathbb{1}_{A_i}(\\omega)$$\n",
    "\n",
    "여기에서 $A_1,A_2,\\dots, A_n \\in {\\cal F}$ 은 서로소인 집합열, $\\mathbb{1}_{A_1} = \\begin{cases} 1 & \\omega \\in A_1 \\\\ 0 & \\omega \\not \\in A_1 \\end{cases}$, 그리고  $\\alpha_1,\\alpha_2,\\dots, \\alpha_n \\in \\mathbb{R}$ 이다. 보통은 위를 간단하게 아래와 같이 사용한다. \n",
    "\n",
    "$$f = \\sum_{i=1}^{n} \\alpha_i \\mathbb{1}_{A_i}$$\n",
    "\n"
   ]
  },
  {
   "cell_type": "markdown",
   "id": "0c7521e2-5776-41ec-8910-fc09f6807291",
   "metadata": {},
   "source": [
    "`-` 이론: $f$는 ${\\cal F}-{\\cal R}$ measurable map 이다. "
   ]
  },
  {
   "cell_type": "markdown",
   "id": "9bdb2464-03cc-493a-a526-8add00801b66",
   "metadata": {},
   "source": [
    "`-` Note: 가측공간 $(\\Omega, {\\cal F})$에서 정의된 가측함수 $f$가 finite한 치역을 가진다면 $f$는 simple function 이다. "
   ]
  },
  {
   "cell_type": "markdown",
   "id": "873c08f9-9f6f-4ec2-b85a-f1614085aeeb",
   "metadata": {},
   "source": [
    "`-` **정의**: $(\\Omega,{\\cal F})$가 잴 수 있는 공간이라고 하자. 함수 $\\mu:{\\cal F} \\to [0,\\infty]$을 $(\\Omega, {\\cal F})$에서 정의된 $\\sigma$-finite measure 라고 하자. 또한 함수 $f$를 ${\\cal F}-{\\cal R}$ measurable fucntion 이라고 하자. 만약 $f$가 아래와 같이 표현된다면\n",
    "\n",
    "$$f=\\sum_{i=1}^{n}\\alpha_i \\mathbb{1}_{A_i}$$ \n",
    "\n",
    "즉, $f$가 simple function 이라면 \"$f$의 $\\mu$에 대한 적분 ***(intergral of $f$ w.r.t. $\\mu$)***\"을 아래와 같이 정의한다. \n",
    "\n",
    "$$\\int f d\\mu = \\sum_{i=1}^{n}\\alpha_i \\mu(A_i)$$ "
   ]
  },
  {
   "cell_type": "markdown",
   "id": "9a6b3c5e-544d-4387-a67d-8a7969bfb7e0",
   "metadata": {},
   "source": [
    "`-` 참고: 동일한 simple function $f$에 대한 표현 $\\sum_{i=1}^{n}\\alpha_i \\mu(A_i)$ 는 유일하지 않다. (왜냐하면 $\\alpha_i$가 서로 다른값이라는 가정을 한 것은 아니므로) 아래를 관찰하면 그 이유를 쉽게 알 수 있다. \n",
    "\n",
    "$$\\alpha\\mathbb{1}_{(0,2]}=\\alpha\\mathbb{1}_{(0,1]}+\\alpha\\mathbb{1}_{(1,2]}$$ \n",
    "\n",
    "하지만 앞으로의 논리전개에서 이러한 점은 별로 문제되지 않는다. 찝찝하다면 아래의 이론을 확인하고 넘어가도 무방. "
   ]
  },
  {
   "cell_type": "markdown",
   "id": "b723283f-1da3-4370-a2c2-e92697a524fc",
   "metadata": {},
   "source": [
    "`-` **이론**:  $(\\Omega,{\\cal F})$가 잴 수 있는 공간이라고 하자. 함수 $\\mu:{\\cal F} \\to [0,\\infty]$을 $(\\Omega, {\\cal F})$에서 정의된 $\\sigma$-finite measure 라고 하자. 또한 함수 $f$를 ${\\cal F}-{\\cal R}$ measurable fucntion 이라고 하자. 만약 $f$를 아래와 같은 두가지 방법으로 표현 가능하다면 \n",
    "\n",
    "$$f=\\sum_{i=1}^{m}\\alpha_i \\mathbb{1}_{A_i}=\\sum_{j=1}^{n}\\beta_j \\mathbb{1}_{B_j}$$ \n",
    "\n",
    "아래가 성립한다. \n",
    "\n",
    "$$\\sum_{i=1}^{m}\\alpha_i\\mu(A_i)=\\sum_{j=1}^{n}\\beta_j \\mu(B_j)$$ \n",
    "\n",
    "즉 $f$가 서로 다른 형태의 simple function으로 표현될 수 있으나 $\\int f d\\mu$가 지칭하는 값은 같다."
   ]
  },
  {
   "cell_type": "markdown",
   "id": "5e83ae42-0b54-41aa-b99f-08633bc49e71",
   "metadata": {},
   "source": [
    "`-` 하여튼 $f$가 simple function일 경우는 $\\int f d\\mu$ 가 의미하는 것이 아주 명확하다는 의미. "
   ]
  },
  {
   "cell_type": "markdown",
   "id": "887b4c40-d21b-4e41-b26d-2a90d49c292d",
   "metadata": {},
   "source": [
    "`-` **(예제1)** -- 사각형의 넓이 "
   ]
  },
  {
   "cell_type": "markdown",
   "id": "5bee5261-2e9e-4436-94c3-b8093997ec46",
   "metadata": {},
   "source": [
    "두개의 잴 수 있는 공간 $(\\mathbb{R}, {\\cal R})$와 $(\\mathbb{R}, {\\cal R})$을 고려하자. $\\lambda:{\\cal R} \\to [0,\\infty]$를 르벡메져라고 하자. 함수 $f:\\mathbb{R} \\to \\mathbb{R}$를 아래와 같이 표현하자. \n",
    "\n",
    "$$f(x) = \\begin{cases} 1 & 0\\leq x \\leq 1 \\\\ 0 & o.w. \\end{cases}$$"
   ]
  },
  {
   "cell_type": "markdown",
   "id": "195cf1d2-7096-4320-8811-0ebd3696efad",
   "metadata": {},
   "source": [
    "$\\int f d\\lambda$ 는 잘 정의되는가? 만약 그렇다면 $\\int f d\\lambda$의 값은 어떻게 계산할 수 있는가? "
   ]
  },
  {
   "cell_type": "markdown",
   "id": "9214cff9-c2a4-4adf-a087-243bb0a345ea",
   "metadata": {},
   "source": [
    "note: 현재는 $(\\Omega, {\\cal F})=(\\mathbb{R}, {\\cal R})$인 상황이다. "
   ]
  },
  {
   "cell_type": "markdown",
   "id": "83733ed8-be18-4acc-a7a8-69213082720b",
   "metadata": {},
   "source": [
    "(해설)\n",
    "\n",
    "1. $\\lambda$는 $(\\mathbb{R}, {\\cal R})$에서의 시그마유한측도이다. \n",
    "2. $A=[0,1]$ 일때 함수 $f$는 $f(x) = 1\\times \\mathbb{1}_A(x)$ 이므로 $f$는 simple function 이고 따라서 ${\\cal R}-{\\cal R}$ 가측함수이다. \n",
    "3. 1-2에 의하여 우선 $f$와 $\\lambda$는 $\\int f d\\lambda$라는 기호를 논의할 자격이 있다. \n",
    "4. $f$가 simple function 일 경우는 $\\int f d\\lambda$ 의 값이 잘 정의되며 그 값은 $\\lambda(A)=1$이다. "
   ]
  },
  {
   "cell_type": "markdown",
   "id": "3c7eaf62-b61d-47fe-813c-83ce881256e7",
   "metadata": {},
   "source": [
    "`-` **(예제2)** -- "
   ]
  },
  {
   "cell_type": "markdown",
   "id": "a718c12e-ab1c-4f8f-80d9-fc69b738c4ca",
   "metadata": {},
   "source": [
    "두개의 잴 수 있는 공간 $(\\mathbb{R}, {\\cal R})$와 $(\\mathbb{R}, {\\cal R})$을 고려하자. $\\lambda:{\\cal R} \\to [0,\\infty]$를 르벡메져라고 하자. 함수 $f:\\mathbb{R} \\to \\mathbb{R}$를 아래와 같이 표현하자. "
   ]
  },
  {
   "cell_type": "markdown",
   "id": "ee8cca26-6cee-4ad0-9210-53f04bb7562b",
   "metadata": {},
   "source": [
    "$$f(x) = \\begin{cases} 1 & x \\in [0,1] \\cap \\mathbb{Q}  \\\\ 2 & x \\in [0,1] \\cap \\mathbb{Q}^c \\\\ 0 & o.w. \\end{cases}$$ "
   ]
  },
  {
   "cell_type": "markdown",
   "id": "4b640e49-974f-456b-90e2-7c37c063d865",
   "metadata": {},
   "source": [
    "$\\int f d\\lambda$ 는 잘 정의되는가? 만약 그렇다면 $\\int f d\\lambda$의 값은 어떻게 계산할 수 있는가? "
   ]
  },
  {
   "cell_type": "markdown",
   "id": "48d6aaf6-70d3-4f01-9c55-ec15da502a17",
   "metadata": {},
   "source": [
    "(해설)\n",
    "\n",
    "1. $\\lambda$는 $(\\mathbb{R}, {\\cal R})$에서의 시그마유한측도이다. \n",
    "2. $A_1=[0,1]\\cap \\mathbb{Q}$, $A_2=[0,1]\\cap \\mathbb{Q}^c$ 일때 함수 $f$는 $f(x) = 1\\times \\mathbb{1}_{A_1}(x)+ 2\\times \\mathbb{1}_{A_2}(x)$ 이므로 $f$는 simple function 이고 따라서 ${\\cal R}-{\\cal R}$ 가측함수이다. \n",
    "3. 1-2에 의하여 우선 $f$와 $\\lambda$는 $\\int f d\\lambda$라는 기호를 논의할 자격이 있다. \n",
    "4. $f$가 simple function 일 경우는 $\\int f d\\lambda$ 의 값이 잘 정의되며 그 값은 $\\lambda(A_1)+2\\lambda(A_2)=2$이다. "
   ]
  },
  {
   "cell_type": "markdown",
   "id": "d10f98a1-9126-4d2a-9c77-7dd2206225d6",
   "metadata": {},
   "source": [
    "`-` 앞으로의 논리전개: $f$를 simple function을 이용하여 근사할 수 있을 경우 르벡적분값 $\\int f d\\mu$가 모순없이 잘 정의됨. "
   ]
  },
  {
   "cell_type": "markdown",
   "id": "5b28cc75-1e23-4e44-ae98-41bced934ac0",
   "metadata": {},
   "source": [
    "## non-negative function "
   ]
  },
  {
   "cell_type": "markdown",
   "id": "092c1447-076b-4005-bfee-ca96a9d0cd22",
   "metadata": {},
   "source": [
    "`-` **정의**: $(\\Omega,{\\cal F})$가 잴 수 있는 공간이라고 하자. 함수 $\\mu:{\\cal F} \\to [0,\\infty]$을 $(\\Omega, {\\cal F})$에서 정의된 $\\sigma$-finite measure 라고 하자. 또한 함수 $f:(\\Omega,{\\cal F})\\to(\\mathbb{R},{\\cal R})$ non-negative (***w.r.t. $\\mu$***) function 이라고 하고 $\\varphi:(\\Omega,{\\cal F})\\to(\\mathbb{R},{\\cal R})$ simple function이라고 하자. 그러면 \"$f$의 $\\mu$에 대한 적분 ***(intergral of $f$ w.r.t. $\\mu$)***\"을 아래와 같이 정의할 수 있다. \n",
    "\n",
    "$$\\int f d\\mu := \\sup\\Big\\{\\int \\varphi d\\mu: 0\\leq \\varphi \\leq f, ~\\text{a.e. with respect to } \\mu \\Big\\}$$"
   ]
  },
  {
   "cell_type": "markdown",
   "id": "092a0c08-6bec-48a9-9b74-b3404fbf2f18",
   "metadata": {},
   "source": [
    "`-` 정의상 $\\int f d\\mu$는 무한대의 값을 가질 수 있다. 이 경우에도 $\\int f d\\mu$의 값은 모순 없이 잘 정의된다. "
   ]
  },
  {
   "cell_type": "markdown",
   "id": "2beed1b4-f906-46c5-903b-d0061fe7a6bf",
   "metadata": {},
   "source": [
    "`-` **(예제1)** "
   ]
  },
  {
   "cell_type": "markdown",
   "id": "92b8f438-353c-4bbe-9923-f0f08e3ae889",
   "metadata": {},
   "source": [
    "두개의 잴 수 있는 공간 $(\\mathbb{R}, {\\cal R})$와 $(\\mathbb{R}, {\\cal R})$을 고려하자. $\\lambda:{\\cal R} \\to [0,\\infty]$를 르벡메져라고 하자. 함수 $f:\\mathbb{R} \\to \\mathbb{R}$를 아래와 같이 표현하자. "
   ]
  },
  {
   "cell_type": "markdown",
   "id": "5887ccfa-a70a-412b-b857-660017c94892",
   "metadata": {},
   "source": [
    "$$f(x) = \\begin{cases} x & x \\in [0,1] \\\\ 0 & o.w. \\end{cases}$$ "
   ]
  },
  {
   "cell_type": "markdown",
   "id": "7b42710c-398e-414f-b3b7-6f8878c920b4",
   "metadata": {},
   "source": [
    "$\\int f d\\lambda$ 는 잘 정의되는가? 만약 그렇다면 $\\int f d\\lambda$의 값은 어떻게 계산할 수 있는가? "
   ]
  },
  {
   "cell_type": "markdown",
   "id": "7f17dffa-42aa-4091-a24b-1cd5c5f1640e",
   "metadata": {},
   "source": [
    "(해설)\n",
    "\n",
    "1. $\\lambda$는 $(\\mathbb{R}, {\\cal R})$에서의 시그마유한측도이다. \n",
    "2. $f(x)$는 가측함수이다. \n",
    "3. 따라서 $\\int f d\\mu$라는 기호를 논의할 자격은 있다. \n",
    "4. 1에서 0으로 등간격으로 감소하고 길이가 $n$인 적당한 수열 $a_1,\\dots,a_n$에 대하여 서로소인 집합열 $A_n = \\{x: f(x)>a_n\\}-A_{n-1}$ 를 설정하자. 단 $A_0=\\emptyset$. \n",
    "5. 함수 $\\varphi_n(x)=\\sum_{k=1}^{n} a_k \\times \\mathbb{1}_{A_k}(x)$를 고려하자. \n",
    "6. 이때 $0\\leq \\varphi_n(x) \\leq f$ a.e. ***w.r.t. $\\lambda$***. \n",
    "7. 모든 $n \\in \\mathbb{N}$ 에 대하여 $\\int \\varphi_nd \\lambda$의 값은 잘 정의된다. (simple function 이므로) \n",
    "8. 따라서 집합 $\\big\\{\\int \\varphi_n(x)d\\lambda\\big\\}$ 역시 잘 정의되며 $\\sup\\big\\{\\int \\varphi_n(x)d\\lambda\\big\\}=\\frac{1}{2}$ 역시 잘 정의된다. "
   ]
  },
  {
   "cell_type": "markdown",
   "id": "98e41cfb-04d8-48f0-b740-cebb45337664",
   "metadata": {},
   "source": [
    "`-` 임의의 양의함수에 대하여서도 아래와 같은 방식으로 근사할 수 있다."
   ]
  },
  {
   "cell_type": "markdown",
   "id": "bce65ce4-ad89-4c81-bc22-eb60dba877cf",
   "metadata": {},
   "source": [
    "![위키에서 긁은 그림: 구불구불한 $f$를 simple function의 합으로 근사할 수 있다.](https://upload.wikimedia.org/wikipedia/commons/thumb/2/2f/Lebesgueintegralsimplefunctions_finer-dotted.svg/800px-Lebesgueintegralsimplefunctions_finer-dotted.svg.png)"
   ]
  },
  {
   "cell_type": "markdown",
   "id": "e3de0f7b-37e1-47cd-b2b0-2c65174424f7",
   "metadata": {},
   "source": [
    "## measurable function "
   ]
  },
  {
   "cell_type": "markdown",
   "id": "580d963d-5054-4ecb-8853-945f4b0fd148",
   "metadata": {},
   "source": [
    "`-` 지금까지의 스토리: $\\sigma$-finite measurable space $(\\Omega, {\\cal F}, \\mu)$ 를 고려하자. 아래의 경우 $\\int f d\\mu$ 의 값이 모순없이 잘 정의되었다. \n",
    "\n",
    "1. $f:(\\Omega, {\\cal F}) \\to (\\mathbb{R}, {\\cal R})$인 simple function \n",
    "2. $f:(\\Omega, {\\cal F}) \\to (\\mathbb{R}, {\\cal R})$인 non-negative (***w.r.t. $\\mu$***) function "
   ]
  },
  {
   "cell_type": "markdown",
   "id": "5889ce26-b6b9-416d-b8c7-5b331e98faa5",
   "metadata": {},
   "source": [
    "이제 일반적인 $f:(\\Omega,{\\cal F}) \\to (\\mathbb{R}, {\\cal R})$ 에 대하여 $\\int f d\\mu$ 의 값이 모순없이 잘 정의되는 조건을 살펴보겠다. "
   ]
  },
  {
   "cell_type": "markdown",
   "id": "f84f5f4a-cccf-431b-959c-f949207fd33c",
   "metadata": {},
   "source": [
    "`-` 임의의 함수 $f:\\Omega \\to \\mathbb{R}$에 대하여 아래와 같은 함수를 관찰하자. \n",
    "\n",
    "- $f^+ = \\max(0,f)$ \n",
    "- $f^- = \\max(0,-f)$ \n",
    "\n",
    "함수 $f^+$ 와 $f^-$는 아래의 성질이 성립한다. \n",
    "\n",
    "1. $f^+, f^-$ 는 모두 양수이다. \n",
    "2. $|f| = f^+ + f^-$\n",
    "3. $f = f^+ - f^-$ \n"
   ]
  },
  {
   "cell_type": "markdown",
   "id": "5f3feb08-b78c-4eaf-b4c6-ca228760b847",
   "metadata": {},
   "source": [
    "`-` **이론** 만약에 $f:(\\Omega, {\\cal F}) \\to (\\mathbb{R},{\\cal R})$ 이면 \n",
    "\n",
    "- $f^+: (\\Omega, {\\cal F}) \\to (\\mathbb{R},{\\cal R})$\n",
    "- $f^: (\\Omega, {\\cal F}) \\to (\\mathbb{R},{\\cal R})$\n",
    "\n",
    "이다. "
   ]
  },
  {
   "cell_type": "markdown",
   "id": "ba16189b-a880-49d6-89f5-c990f9eb835a",
   "metadata": {},
   "source": [
    "`-` **정의**: $\\sigma$-finite measurable space $(\\Omega, {\\cal F}, \\mu)$ 를 고려하자. 일반적인 가측함수 $f:(\\Omega, {\\cal F}) \\to (\\mathbb{R},{\\cal R})$의 $\\mu$에 대한 적분 ***(intergral of $f$ w.r.t. $\\mu$)*** 은 아래와 같이 생각할 수 있다. \n",
    "\n",
    "$$\\int f d\\mu := \\int f^+ d\\mu - \\int f^- d\\mu$$\n",
    "\n",
    "이 값은 잘 정의될 수도 있고, 그렇지 않을 수도 있다. 구체적으로 아래와 같다. \n",
    "\n",
    "1. $\\int f^+ d\\mu < \\infty$ and $\\int f^- d\\mu < \\infty$ $\\Rightarrow$ $\\int f d\\mu = \\int f^+ d\\mu - \\int f^- d\\mu$ 로 정의 \n",
    "2. $\\int f^+ d\\mu = \\infty$ and $\\int f^- d\\mu < \\infty$ $\\Rightarrow$ $\\int f d\\mu = \\infty$ 로 정의 \n",
    "3. $\\int f^+ d\\mu < \\infty$ and $\\int f^- d\\mu = \\infty$ $\\Rightarrow$ $\\int f d\\mu = -\\infty$ 로 정의 \n",
    "4. $\\int f^+ d\\mu = \\infty$ and $\\int f^- d\\mu = \\infty$ $\\Rightarrow$ $\\int f d\\mu$ 는 정의할 수 없음. \n",
    "\n",
    "이중에서 1,2,3에 해당하는 경우는 ***\"$\\int f d\\mu$가 존재한다 (exist)\"*** 고 표현하며, 4의 경우는 ***\"$\\int f d\\mu$ 가 존재하지 않는다\"***고 표현한다. 이때 1의 경우를 특별하게 ***\"$f$ is integrable w.r.t. $\\mu$\"*** 라고 표현한다. "
   ]
  },
  {
   "cell_type": "markdown",
   "id": "889ab9d9-eeee-4317-bac6-be6ab1bffc96",
   "metadata": {},
   "source": [
    "> 헷갈려: 언뜻 생각하면 \"$f$가 $\\mu$에 대하여 적분가능하지 않다\"라는 의미가 \"$\\int f d\\mu$ 의 값을 모순없이 잘 정의할 수 없다\" 라는 의미로 이해할 수 있는데 그렇지 않다."
   ]
  },
  {
   "cell_type": "markdown",
   "id": "9f78926f-80b8-4eff-91c1-b6f027ceae9f",
   "metadata": {},
   "source": [
    "`-` 위의 정의에서 $\\int f^+ d\\mu$ 혹은 $\\int f^- d\\mu$ 라는 표현이 잘 정의되는 이유는 $f^+, f^-$이 모두 $(\\Omega, {\\cal F}) \\to \\mathbb{R}, {\\cal R})$인 non-negative (***w.r.t. $\\mu$***) function 이기 때문이다. "
   ]
  },
  {
   "cell_type": "markdown",
   "id": "a66c3543-ab81-4b00-a267-ff4f654c72c7",
   "metadata": {},
   "source": [
    "## NOTATIONS ($\\star\\star\\star\\star\\star$) "
   ]
  },
  {
   "cell_type": "markdown",
   "id": "da801528-35bc-4a1c-b4ee-54fb7a2149a4",
   "metadata": {},
   "source": [
    "`-` $(\\Omega, {\\cal F}, \\mu)$ 가 $(\\mathbb{R}, {\\cal R}, \\lambda)$ 이면\n",
    "\n",
    "1. $\\int f(x)dx = \\int f d\\lambda$ \n",
    "2. $\\int_a^b f(x)dx = \\int_E fd\\lambda$\n",
    "\n",
    "와 같이 사용한다. 단, 여기에서 $E=[a,b]$. [@durrett2019probability, p 23]"
   ]
  },
  {
   "cell_type": "markdown",
   "id": "ce9381f8-3e04-4c3c-9d22-af181c386795",
   "metadata": {},
   "source": [
    "`-` $\\int_E fd\\lambda$는 종종 \n",
    "\n",
    "- $\\int_E f(x)\\lambda(dx)=\\int_E f(x)d\\lambda(x)$ \n",
    "- $\\int_E f(y)\\lambda(dy)=\\int_E f(y)d\\lambda(y)$ \n",
    "\n",
    "와 같이 표현하기도 한다. 이러한 표현은 때때로 유용하다. 예를들어 \n",
    "\n",
    "- $\\int_{(0,1)}x^y \\lambda(dx)=\\int_{(0,1)}x^y d\\lambda(x)$ 는 함수 $x \\mapsto x^y$ 에 대한 적분을 \n",
    "- $\\int_{(0,1)}x^y \\lambda(dy)=\\int_{(0,1)}x^y d\\lambda(y)$ 는 함수 $y \\mapsto x^y$ 에 대한 적분을\n",
    "\n",
    "의미한다. [@makarov2013real, p 125], [@durrett2019probability, p 32, p 38]"
   ]
  },
  {
   "cell_type": "markdown",
   "id": "c1a77cc5-463a-490b-a247-a47174ff4c16",
   "metadata": {},
   "source": [
    "`-` $(\\Omega, {\\cal F}, \\mu)$ 가 $(\\mathbb{R}, {\\cal R}, \\mu_X)$ 이고 $F_X = \\mu_X((-\\infty,x])$ 라면\n",
    "\n",
    "- $\\int g d\\mu_X= \\int g dF_X= \\int g(x) dF_X(x)$ \n",
    "\n",
    "와 같이 사용할 수 있다. 만약에 $F_X(x)$가 ***density function*** $f_X(x)$를 가진다면 \n",
    "\n",
    "- $\\int g(x) dF_X(x) = \\int g(x)f_X(x)dx$ \n",
    "\n",
    "와 같이 사용할 수 있다. 표현 $\\int g(x) dF_X(x)$ 와 $\\int g(x)f_X(x)dx$ 는 모두 $\\mathbb{E}[g(X)]$ 를 의미하지만 $\\int g(x) dF_X(x)$는 확률변수 $X$의 density가 존재하지 않을 때에도 표현가능하다는 장점이 있다. [@durrett2019probability, p 23]"
   ]
  },
  {
   "cell_type": "markdown",
   "id": "c72aedfb-9ad6-4ede-bfa3-5bc4e78c3d75",
   "metadata": {},
   "source": [
    "`-` $(\\Omega,{\\cal F},\\mu)$ 에서 \n",
    "\n",
    "1. $\\Omega$: a countable set\n",
    "2. ${\\cal F}$: $2^\\Omega$\n",
    "3. $\\#$: counting measure \n",
    "\n",
    "라고 하자. 그러면 \n",
    "\n",
    "- $\\int f d\\# = \\sum_{i \\in \\Omega} f(i)$ \n",
    "\n",
    "이 성립한다. [@durrett2019probability, p 23]"
   ]
  },
  {
   "cell_type": "markdown",
   "id": "36a51224-f8df-4ddf-a9a5-e3c2e0ea3be0",
   "metadata": {},
   "source": [
    "`-` 예시1: $(\\mathbb{N}, 2^{\\mathbb{N}}, \\#)$ 를 고려하자. 여기에서 $\\#$는 counting measure 이다. 그렇다면 \n",
    "           \n",
    "$$\\sum_{i=1}^{\\infty} 1/2^n = \\int 1/2^n d\\#$$\n",
    "\n",
    "와 같이 표현할 수 있다. 이는 이전에 수행하였던 르벡적분이 \n",
    "\n",
    "1. 치역을 쪼갠다. \n",
    "2. 쪼개진 치역에 대한 정의역의 길이를 측정한다. \n",
    "3. 1과 2를 곱한뒤 모두 더한다\n",
    "\n",
    "의 과정을 수행한다는 사실을 떠올리면 쉽게 이해할 수 있다."
   ]
  },
  {
   "cell_type": "markdown",
   "id": "b074c70c-8c61-47db-80b3-5331e2971d37",
   "metadata": {},
   "source": [
    "`-` 가장 중요한 응용: $(\\Omega, {\\cal F}, \\mu)$가 확률공간일 경우! "
   ]
  },
  {
   "cell_type": "markdown",
   "id": "cd2284ce-5616-4b0c-8714-0e5641273f29",
   "metadata": {},
   "source": [
    "# 시벤코정리 "
   ]
  },
  {
   "cell_type": "markdown",
   "id": "9df71597-cb31-49bf-8d1d-6035eae39779",
   "metadata": {},
   "source": [
    "`-` ref: [Approximation by Superpositions of a Sigmoidal Function](https://github.com/guebin/AP2023/blob/main/posts/II.%20%ED%99%95%EB%A5%A0%EB%A1%A0%EA%B8%B0%EC%B4%88/PAPER_Cybenko.pdf) [@cybenko1989approximation]"
   ]
  },
  {
   "cell_type": "markdown",
   "id": "8f4a0b61-8ec5-44ef-adaa-8cb0f5e63416",
   "metadata": {},
   "source": [
    "`-` meaure, measurable function, $\\int_E f(x)d\\mu(x)$ 의 표현이 등장 "
   ]
  },
  {
   "cell_type": "markdown",
   "id": "a92799ac-4011-4ea3-9f3d-a40fd14501c6",
   "metadata": {},
   "source": [
    "`-` 임의의 연속함수 $f$를 sigmoidal function의 가중합으로 근사가능하다는 의미 "
   ]
  }
 ],
 "metadata": {
  "kernelspec": {
   "display_name": "Python 3",
   "language": "python",
   "name": "python3"
  },
  "language_info": {
   "codemirror_mode": {
    "name": "ipython",
    "version": 3
   },
   "file_extension": ".py",
   "mimetype": "text/x-python",
   "name": "python",
   "nbconvert_exporter": "python",
   "pygments_lexer": "ipython3",
   "version": "3.8.16"
  }
 },
 "nbformat": 4,
 "nbformat_minor": 5
}
