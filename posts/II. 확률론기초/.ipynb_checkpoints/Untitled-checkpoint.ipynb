{
 "cells": [
  {
   "cell_type": "code",
   "execution_count": null,
   "id": "7efc8391-6bb5-41f7-994d-373bfc7b8f6e",
   "metadata": {},
   "outputs": [],
   "source": []
  },
  {
   "cell_type": "markdown",
   "id": "d895581d-f7c9-4d7d-8a5c-68120d8e036b",
   "metadata": {},
   "source": [
    "`-` 이론: 두 개의 잴 수 있는 공간 $(\\Omega, {\\cal F})$, $(\\mathbb{R}, {\\cal R})$을 고려하자. 함수 $f,g$가 ***$\\mathbb{R}$-valued measurable function*** 이라고 하자. 아래는 모두 ***$\\mathbb{R}$-valued measurable function*** 이다. \n",
    "\n",
    "1. $h:=f+g$ \n",
    "2. $h:=f-g$\n",
    "3. $h:=\\max(f,g)$, where $h: \\omega \\mapsto \\max(f(\\omega),g(\\omega))$\n",
    "4. $h:=\\min(f,g)$, where $h: \\omega \\mapsto \\min(f(\\omega),g(\\omega))$"
   ]
  },
  {
   "cell_type": "markdown",
   "id": "34ecc933-7618-42f1-b6c2-030c19bffa42",
   "metadata": {},
   "source": [
    "`-` **이론** [@durrett2019probability, Thm 1.3.5]: 두 개의 잴 수 있는 공간 $(\\Omega, {\\cal F})$, $(\\mathbb{R}, {\\cal R})$을 고려하자. 함수열 $\\{f_n: n \\in \\mathbb{N}\\}$의 모든 원소가 ***$\\mathbb{R}$-valued measurable function*** 이라고 하자. 그렇다면 아래는 모두 ***${\\cal F}-{\\cal R}$ measurable*** 한 함수이다. \n",
    "\n",
    "- $h:=\\inf f_n$, where $h: \\omega \\mapsto \\inf\\big\\{f_1(\\omega),f_2(\\omega),\\dots \\big\\}$\n",
    "- $h:=\\sup f_n$, where $h: \\omega \\mapsto \\sup\\big\\{f_1(\\omega),f_2(\\omega),\\dots \\big\\}$"
   ]
  }
 ],
 "metadata": {
  "kernelspec": {
   "display_name": "Python 3",
   "language": "python",
   "name": "python3"
  },
  "language_info": {
   "codemirror_mode": {
    "name": "ipython",
    "version": 3
   },
   "file_extension": ".py",
   "mimetype": "text/x-python",
   "name": "python",
   "nbconvert_exporter": "python",
   "pygments_lexer": "ipython3",
   "version": "3.8.16"
  }
 },
 "nbformat": 4,
 "nbformat_minor": 5
}
