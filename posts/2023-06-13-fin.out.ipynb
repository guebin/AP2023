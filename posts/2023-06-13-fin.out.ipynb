{
  "cells": [
    {
      "cell_type": "markdown",
      "metadata": {},
      "source": [
        "# 15wk: 기말고사\n",
        "\n",
        "최규빈  \n",
        "2023-06-13\n",
        "\n",
        "# `1`. 다음을 읽고 참거짓을 판단하라. (30점)\n",
        "\n",
        "`(1)` 유리수집합 $\\mathbb{Q}$는 가산집합이며 유리수집합을 르벡메져로\n",
        "측정하면 그 길이가 0이다. 즉 $\\lambda(\\mathbb{Q})=0$ 이다."
      ],
      "id": "ee6b66b5-e3b8-4c49-9e05-30eb7c83be58"
    },
    {
      "cell_type": "code",
      "execution_count": 1,
      "metadata": {},
      "outputs": [],
      "source": [
        "True"
      ],
      "id": "ba3f80e9-a5b4-4497-9ddf-c29c556ef10f"
    },
    {
      "cell_type": "markdown",
      "metadata": {},
      "source": [
        "`(2)` 르벡메져 $\\lambda$는 $\\mathbb{R}$의 모든 부분집합에 대하여 그\n",
        "길이를 모순없이 정의가능하다. 즉 르벡메져는\n",
        "$(\\mathbb{R},2^{\\mathbb{R}})$ 에서의 메져가 된다."
      ],
      "id": "33eaae46-c4ee-45bc-b7b9-1dfa650ead1e"
    },
    {
      "cell_type": "code",
      "execution_count": 3,
      "metadata": {},
      "outputs": [],
      "source": [
        "False # 비탈리집합"
      ],
      "id": "5a7668f9-b5a0-44a5-bd52-bdba36ddf4f1"
    },
    {
      "cell_type": "markdown",
      "metadata": {},
      "source": [
        "`(3)` 르벡메져 $\\lambda$는 임의의 $B \\in {\\cal R}$의 길이를 모순없이\n",
        "정의가능하다. 즉 르벡메져는 $(\\mathbb{R},{\\cal R})$ 에서의 메져가 된다."
      ],
      "id": "3cba19b7-1504-40cc-b038-45ea97dd9411"
    },
    {
      "cell_type": "code",
      "execution_count": 4,
      "metadata": {},
      "outputs": [],
      "source": [
        "True"
      ],
      "id": "6a06d6dd-921a-4fe4-8255-324fe11c91f7"
    },
    {
      "cell_type": "markdown",
      "metadata": {},
      "source": [
        "`(4)` 집합 $\\Omega$의 부분집합을 원소로 가지는 collection ${\\cal F}$를\n",
        "고려하자. 만약에 ${\\cal F}$가 파이시스템이면서 동시에 람다시스템이라면\n",
        "${\\cal F}$는 시그마필드이다."
      ],
      "id": "d06c7f0c-a2fa-40be-aeb9-ef0e93a26eaa"
    },
    {
      "cell_type": "code",
      "execution_count": 5,
      "metadata": {},
      "outputs": [],
      "source": [
        "True"
      ],
      "id": "0f394b39-8363-468c-be57-3d52dc515a52"
    },
    {
      "cell_type": "markdown",
      "metadata": {},
      "source": [
        "`(5)` 아래와 같은 함수 $f$를 고려하자.\n",
        "\n",
        "$$f(x) = \\begin{cases} 1 & x \\in \\mathbb{Q}\\\\  0 & x \\in \\mathbb{R}-\\mathbb{Q}\\end{cases}$$\n",
        "\n",
        "위의 함수에 대한 르벡적분값은 무한대이다. 즉\n",
        "$\\int_{\\mathbb{R}} f d\\lambda = \\infty$ 이다."
      ],
      "id": "e2303a60-ba26-4fff-ad2a-91880e3197e6"
    },
    {
      "cell_type": "code",
      "execution_count": 6,
      "metadata": {},
      "outputs": [],
      "source": [
        "False"
      ],
      "id": "a65e8337-4f25-4f36-9384-b1208e4778e3"
    },
    {
      "cell_type": "markdown",
      "metadata": {},
      "source": [
        "`(6)` $X$가 가측공간 $(\\Omega,{\\cal F})$ 에서의 확률변수라는 의미는 모든\n",
        "$B \\in {\\cal B}$ 에 대하여 $\\{\\omega: X(\\omega) \\in B\\} \\in {\\cal F}$ 를\n",
        "만족한다는 의미이다."
      ],
      "id": "d5d7f5fa-461e-45c1-9543-65f9a5a0c704"
    },
    {
      "cell_type": "code",
      "execution_count": 7,
      "metadata": {},
      "outputs": [],
      "source": [
        "None # 문제오류. ${\\cal B}$가 아니라 ${\\cal R}$ "
      ],
      "id": "14fcb911-25fc-4187-abd5-863bcd69619a"
    },
    {
      "cell_type": "markdown",
      "metadata": {},
      "source": [
        "`(7)` $X$가 가측공간 $(\\Omega,{\\cal F})$ 에서의 확률변수라면 $X$에\n",
        "대응하는 분포(distribution) $\\mu_X$가 반드시 존재하며\n",
        "$\\mu_X:=P \\circ X^{-1}$로 정의가능하다."
      ],
      "id": "57e1af00-cf7c-42ff-9ae4-9b691199276b"
    },
    {
      "cell_type": "code",
      "execution_count": 8,
      "metadata": {},
      "outputs": [],
      "source": [
        "True"
      ],
      "id": "14661586-9714-4e99-a8bb-54904d078406"
    },
    {
      "cell_type": "markdown",
      "metadata": {},
      "source": [
        "`(8)` $X$가 가측공간 $(\\Omega,{\\cal F})$ 에서의 확률변수이고, $X$에\n",
        "대응하는 분포가 $\\mu_X$라고 하자. $\\mu_X$는 측도의 정의를 만족하지만\n",
        "확률측도의 정의를 만족하지는 않는다."
      ],
      "id": "78cae2b3-abdd-43dc-a86f-22528b965965"
    },
    {
      "cell_type": "code",
      "execution_count": 10,
      "metadata": {},
      "outputs": [],
      "source": [
        "False # 확률측도의 정의도 만족"
      ],
      "id": "0ae96c35-4aab-4a97-bce7-364dac1e1f11"
    },
    {
      "cell_type": "markdown",
      "metadata": {},
      "source": [
        "`(9)` $X$가 가측공간 $(\\Omega,{\\cal F})$ 에서의 확률변수이고, $X$에\n",
        "대응하는 분포가 $\\mu_X$라고 하자. $\\mu_X$에 대응하는 분포함수\n",
        "$F_X(x) = \\mu_X((-\\infty,x])$는 항상 존재한다."
      ],
      "id": "5f1f1d3c-3833-40f6-8138-0cdf7d757c17"
    },
    {
      "cell_type": "code",
      "execution_count": 11,
      "metadata": {},
      "outputs": [],
      "source": [
        "True"
      ],
      "id": "7552bcad-1304-47e5-b45c-4c64d49f52f5"
    },
    {
      "cell_type": "markdown",
      "metadata": {},
      "source": [
        "`(10)` $X$가 가측공간 $(\\Omega,{\\cal F})$ 에서의 확률변수이고 $F_X$가\n",
        "$X$에 대응하는 분포함수라고 하자. 분포함수 $F_X$가 절대연속이라면\n",
        "대응하는 $X$는 연속형확률변수이며 그 밀도함수 $f_X$가 존재한다."
      ],
      "id": "a895cd86-c814-42e3-9172-da669f1112d5"
    },
    {
      "cell_type": "code",
      "execution_count": 12,
      "metadata": {},
      "outputs": [],
      "source": [
        "False"
      ],
      "id": "c90a59ac-1e0a-44ae-94bc-340cd1382dfc"
    },
    {
      "cell_type": "markdown",
      "metadata": {},
      "source": [
        "# `2`. 확률 (40점)\n",
        "\n",
        "`(1)` $\\Omega=\\{1,2,3,4\\}$ 이라고 하고\n",
        "${\\cal A} = \\{\\emptyset, \\{1\\},\\{2\\},\\{3,4\\},\\Omega\\}$ 이라고 하자. 함수\n",
        "$\\tilde{P}:{\\cal A} \\to [0,1]$를 아래와 같이 정의하자.\n",
        "\n",
        "-   $\\tilde{P}(\\emptyset) = 0$\n",
        "-   $\\tilde{P}(\\{1\\}) = 1/4$\n",
        "-   $\\tilde{P}(\\{2\\}) = 1/2$\n",
        "-   $\\tilde{P}(\\{3,4\\}) = 1/4$\n",
        "-   $\\tilde{P}(\\Omega) = 1$\n",
        "\n",
        "${\\cal A}$에서 $\\tilde{P}$와 일치하는 확률메져 $P$가 가측공간\n",
        "$(\\Omega,\\sigma({\\cal A}))$ 에서 유일하게 존재하는가?\n",
        "\n",
        "`(풀이)`\n",
        "\n",
        "유일하게 존재한다. ${\\cal F}:=\\sigma({\\cal A})$라고 하고 아래와 같은\n",
        "함수 $P: {\\cal F} \\to [0,1]$를 고려하자.\n",
        "\n",
        "-   $\\forall A \\in {\\cal A}:~ P(A)=\\tilde{P}(A)$\n",
        "-   $P(\\{1,2\\})=P(\\{2,3,4\\})=\\frac{3}{4}$\n",
        "-   $P(\\{1,3,4\\})=\\frac{1}{2}$\n",
        "\n",
        "$P$는 $(\\Omega,{\\cal F})$ 에서의 prob-msr 이다. 이때 ${\\cal A}$는\n",
        "파이시스템이므로 $P$의 유일성이 보장된다.\n",
        "\n",
        "`(2)` $\\Omega=\\{1,2,3,4\\}$ 이라고 하고\n",
        "${\\cal A} = \\{\\emptyset, \\{1,2\\},\\{2,3\\}, \\Omega\\}$ 라고 하자. 함수\n",
        "$\\tilde{P}:{\\cal A} \\to [0,1]$를 아래와 같이 정의하자.\n",
        "\n",
        "-   $\\tilde{P}(\\emptyset) = 0$\n",
        "-   $\\tilde{P}(\\{1,2\\}) = 1/2$\n",
        "-   $\\tilde{P}(\\{2,3\\}) = 1/2$\n",
        "-   $\\tilde{P}(\\Omega) = 1$\n",
        "\n",
        "${\\cal A}$에서 $\\tilde{P}$와 일치하는 확률메져 $P$가 가측공간\n",
        "$(\\Omega,\\sigma({\\cal A}))$ 에서 유일하게 존재하는가?\n",
        "\n",
        "`(풀이)`\n",
        "\n",
        "${\\cal A}$가 파이시스템이 아니므로 유일성을 보장할 수 없다.\n",
        "\n",
        "반례를 위해서 ${\\cal A}'=\\{\\emptyset, \\{1,2\\}, \\{2,3\\},\\{2\\},\\Omega\\}$를\n",
        "고려하자. ${\\cal A}'$은 세미알지브라가 되며, ${\\cal A}'$에서 정의된\n",
        "아래와 같은 $\\tilde{P}_1,\\tilde{P}_2$를 고려하자.\n",
        "\n",
        "-   $\\forall A \\in {\\cal A}:~\\tilde{P}_1(A)=\\tilde{P}_2(A)=\\tilde{P}(A)$\n",
        "-   $\\tilde{P}_1(\\{2\\})=a$ and $\\tilde{P}_2(\\{2\\})=b$, where\n",
        "    $a,b \\in [0,1/2]$ and $a\\neq b$.\n",
        "\n",
        "$\\tilde{P}_1, \\tilde{P}_2$는 모두 ${\\cal A}'$에서 finite msr 이고[1],\n",
        "add를 만족하므로[2] 카라테오도리의 확장정리에 의하여 $\\tilde{P}_1$,\n",
        "$\\tilde{P}_2$는 $(\\Omega,\\sigma({\\cal A}))$에서의 유일한 extension\n",
        "$P_1,P_2$를 가진다. 그리고 이러한 $P_1,P_2$는 분명\n",
        "$A \\in {\\cal A}$에서는 일치하지만 $P_1(\\{2\\})\\neq P_2(\\{2\\})$ 이다.\n",
        "\n",
        "# `3`. 확률변수, 밀도함수, 기대값 (30점)\n",
        "\n",
        "아래와 같은 확률공간 $(\\Omega,{\\cal F},P)$를 고려하라.\n",
        "\n",
        "-   $\\Omega=[0,2\\pi)$\n",
        "-   ${\\cal F} = {\\cal R}\\cap [0,2\\pi) := \\{B\\cap [0,2\\pi): B \\in {\\cal R}\\}$\n",
        "-   $\\forall A \\in {\\cal F}:~ P(A)=\\frac{\\lambda (A)}{2\\pi}$\n",
        "\n",
        "> **이것이 확률공간인 이유 (문제로 낼려다가..)**\n",
        ">\n",
        "> $(\\Omega, {\\cal F}, P)$가 확률공간임을 보이기 위해서는 (1)\n",
        "> ${\\cal F}$가 $\\sigma$-field 이고 (2) $P$가 prob-msr on\n",
        "> $(\\Omega, {\\cal F})$임을 보이면 된다.\n",
        ">\n",
        "> **(1) ${\\cal F}$ is $\\sigma$-filed of $\\Omega$**\n",
        ">\n",
        "> ${\\cal F}$는 $\\pi$-system 이고 $\\lambda$-system 이므로 시그마필드이다.\n",
        "> (6주차 Dynkin’s $\\pi-\\lambda$ theorem 증명을 위한 준비학습 참고)[3]\n",
        ">\n",
        "> **(2) $P$ is prob-msr on $(\\Omega, {\\cal F})$**\n",
        ">\n",
        "> $\\lambda$가 ${\\cal F}$에서의 measure이므로, $P:=\\frac{1}{2\\pi}\\lambda$\n",
        "> 역시 ${\\cal F}$에서의 measure가 된다. 이때 $P$는 $P(\\Omega)=1$을\n",
        "> 만족하므로 prob-msr가 된다.\n",
        "\n",
        "`(1)` 함수 $X:\\Omega \\to \\mathbb{R}$을 아래와 같이 정의할때\n",
        "\n",
        "$$X(\\omega) = \\begin{cases} 0 & \\omega \\in \\Omega \\cap \\mathbb{Q}^c \\\\ 1 & \\omega \\in \\Omega \\cap \\mathbb{Q} \\end{cases}$$\n",
        "\n",
        "$X$가 확률변수임을 보여라.\n",
        "\n",
        "`(풀이)`\n",
        "\n",
        "$X$는 simple function 이므로 확률변수이다.\n",
        "\n",
        "`(2)` $\\mu_X << \\nu$ 를 만족하는 $\\sigma$-finite measure $\\nu$ 를\n",
        "가측공간 $(\\mathbb{R}, {\\cal R})$에서 정의하고, $\\mu_X$의 Radon-Nikodym\n",
        "derivative (***w.r.t. $\\nu$***)\n",
        "\n",
        "$$f:=\\frac{d\\mu_X}{d\\nu}$$\n",
        "\n",
        "를 제시하라. 단, 여기에서 $\\mu_X : P \\circ X^{-1}$ 이다.\n",
        "\n",
        "`(풀이)`\n",
        "\n",
        "아래가 성립함을 관찰하라.\n",
        "\n",
        "$$P(X=1)=P(\\{\\omega: X(\\omega) = 1\\})=P(\\Omega\\cap \\mathbb{Q}^c)=1$$\n",
        "\n",
        "따라서 $X$에 대응하는 $\\mu_X$와 $F_x$는 아래와 같다.\n",
        "\n",
        "-   $\\forall B \\in {\\cal R}:~\\mu_X(B)=\\begin{cases} 1 & 0 \\in B \\\\ 0 & o.w \\end{cases}$\n",
        "-   $F_X(x)= \\begin{cases} 0 & x<0 \\\\ 1 & x\\geq 0 \\end{cases}$\n",
        "\n",
        "따라서 $\\nu=\\mu_X$ 으로 설정하면 $\\mu_X<<\\nu$ 가 성립하며 함수\n",
        "\n",
        "$$f_X(x)=\\begin{cases} 1 & x=0 \\\\ 0 & o.w \\end{cases}$$\n",
        "\n",
        "는 $\\nu=\\delta_0$에 대한 $\\mu_X$의 라돈니코딤 도함수이다. 즉 모든\n",
        "$B\\in {\\cal R}$에 대하여\n",
        "\n",
        "$$\\mu_X(B)=\\int_B f_X(x) d\\nu$$\n",
        "\n",
        "가 성립한다. (왜냐하면 $0\\in B$ 인 경우 양변이 모두 1로 같으며\n",
        "$0 \\notin B$ 인 경우 양변이 모두 0으로 같기 때문)\n",
        "\n",
        "`(3)` $X$의 평균을 구하라. 즉 $\\mathbb{E}(X)$를 계산하라.\n",
        "\n",
        "`(풀이)`\n",
        "\n",
        "$\\mathbb{E}(X) = \\int X dP = \\int_{\\Omega \\cap \\mathbb{Q}^c} 0 dP + \\int_{\\Omega \\cap \\mathbb{Q}} 1dP =0$\n",
        "\n",
        "[1] 그래서 $\\sigma$-finite 함\n",
        "\n",
        "[2] finite 한 케이스이므로 additivity 가 $\\sigma$-additive 를 imply함\n",
        "\n",
        "[3] 혹은 정석대로 시그마필드의 정의에 넣고 따져도 된다. 그런데 보통\n",
        "그거보다 파이시스템과 람다시스템을 따지는게 더 편리하다."
      ],
      "id": "37fe24b4-3bcf-420f-8617-7fc37d869ddf"
    }
  ],
  "nbformat": 4,
  "nbformat_minor": 5,
  "metadata": {
    "kernelspec": {
      "name": "python3",
      "display_name": "Python 3",
      "language": "python"
    },
    "language_info": {
      "name": "python",
      "codemirror_mode": {
        "name": "ipython",
        "version": "3"
      },
      "file_extension": ".py",
      "mimetype": "text/x-python",
      "nbconvert_exporter": "python",
      "pygments_lexer": "ipython3",
      "version": "3.8.16"
    }
  }
}