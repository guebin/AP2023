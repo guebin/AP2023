{
 "cells": [
  {
   "cell_type": "raw",
   "id": "02b24722-7c26-4811-86fd-e0b0aad86013",
   "metadata": {},
   "source": [
    "---\n",
    "title: \"7wk: 측도론 (3)\"\n",
    "author: \"최규빈\"\n",
    "date: \"04/11/2023\"\n",
    "---"
   ]
  },
  {
   "cell_type": "markdown",
   "id": "c12e4e38-1621-4bb3-83cc-e2e4ae40f49a",
   "metadata": {},
   "source": [
    "# 파이시스템에서의 확장이론 (메져버전) "
   ]
  },
  {
   "cell_type": "markdown",
   "id": "0074a0ba-8700-48d7-9ad8-52fdb0f3276a",
   "metadata": {},
   "source": [
    "## 복습 & Motivating EX "
   ]
  },
  {
   "cell_type": "markdown",
   "id": "5dd5f309-879d-4b1a-ab64-bab1ea59476e",
   "metadata": {},
   "source": [
    "`-` 귀찮아서 만든 이론2: 운이 좋다면, ${\\cal A}$ 에서 확률의 공리를 만족하는 적당한 함수 $\\tilde{P}:{\\cal A} \\to [0,1]$를 $(\\Omega, \\sigma({\\cal A}))$ 에서의 확률측도 $P$로 업그레이드 할 수 있으며 업그레이드 결과는 유일하다. "
   ]
  },
  {
   "cell_type": "markdown",
   "id": "0eef1402-ed83-453b-b207-7c491337d657",
   "metadata": {},
   "source": [
    "`-` **<U>이론</U>**: $(\\Omega, \\sigma({\\cal A}), P)$를 확률공간이라고 하자. 여기에서 ${\\cal A}$는 파이시스템이라고 가정하자. 그렇다면 확률측도 $P:\\sigma({\\cal A}) \\to [0,1]$의 값은 $P: {\\cal A} \\to [0,1]$의 값에 의하여 유일하게 결정된다. "
   ]
  },
  {
   "cell_type": "markdown",
   "id": "199984b5-7372-4d35-82e3-e78846dfdcd2",
   "metadata": {},
   "source": [
    "`-` 이 이론은 확률측도일 경우만 성립하고 측도일 경우는 실패했었다. "
   ]
  },
  {
   "cell_type": "markdown",
   "id": "53a9eb8a-32f7-4932-be48-284bf5faa057",
   "metadata": {},
   "source": [
    "**(예제1)** "
   ]
  },
  {
   "cell_type": "markdown",
   "id": "09322a7e-de38-4aa9-b017-5f3dbc01fc65",
   "metadata": {},
   "source": [
    "$\\Omega=\\{a,b\\}$ 이라고 하고 ${\\cal A} = \\{\\{a\\}\\}$ 라고 하자. 가측공간 $(\\Omega,\\sigma({\\cal A}))$에서 정의가능한 모든 확률측도 $P$는 ${\\cal A}$에서의 값으로 유일하게 결정됨을 확인하였다. 하지만 가측공간 $(\\Omega,\\sigma({\\cal A}))$에서 정의가능한 측도 $m$은 ${\\cal A}$에서의 값으로 유일하게 결정되지 않는다."
   ]
  },
  {
   "cell_type": "markdown",
   "id": "3ae628ba-6c8b-4de1-ac96-ac08c05f156f",
   "metadata": {},
   "source": [
    "||$m_1$|$m_2$|\n",
    "|:-:|:-:|:-:|\n",
    "|$\\{a\\}$|$\\frac{1}{2}$ | $\\frac{1}{2}$|\n",
    "|$-$|$-$|$-$|\n",
    "|$\\emptyset$|$0$|$0$|\n",
    "|$\\{b\\}$|$\\frac{1}{2}$|$1$|\n",
    "|$\\Omega$|$1$|$\\frac{3}{2}$|"
   ]
  },
  {
   "cell_type": "markdown",
   "id": "2fecc393-916c-4a0b-9724-032f22cb3d97",
   "metadata": {},
   "source": [
    "`-` 직관: 그냥 ${\\cal A}$에 $\\Omega$가 있었다면 되는거 아닌가? 예를들어 아래와 같이 설정한다면? "
   ]
  },
  {
   "cell_type": "markdown",
   "id": "60a64efb-37a4-4b82-a49b-b7ab27afe5bc",
   "metadata": {},
   "source": [
    "||$m_1$|$m_2$|\n",
    "|:-:|:-:|:-:|\n",
    "|$\\{a\\}$|$\\frac{1}{2}$ | $\\frac{1}{2}$|\n",
    "|$\\Omega$|$\\frac{3}{2}$|$\\frac{3}{2}$|\n",
    "|$-$|$-$|$-$|\n",
    "|$\\emptyset$|$0$|$0$|\n",
    "|$\\{b\\}$|$1$|$1$|\n"
   ]
  },
  {
   "cell_type": "markdown",
   "id": "7f7ea066-de5e-47f1-92e2-4630f1d59acd",
   "metadata": {},
   "source": [
    "$m_1(\\{b\\})=m_2(\\{b\\})=1$ 일 수밖에 없지 않을까? "
   ]
  },
  {
   "cell_type": "markdown",
   "id": "b43e2def-e95f-40c5-b6db-861246a1fd58",
   "metadata": {},
   "source": [
    "`-` 혹시 아래와 같이 이론을 수정하면 되지 않을까? "
   ]
  },
  {
   "cell_type": "markdown",
   "id": "6d10ab30-99a5-4dab-b63c-20b01e45b812",
   "metadata": {},
   "source": [
    "> $(\\Omega, \\sigma({\\cal A}))$을 잴 수 있는 공간이라고 하고, $m$을 이 공간에서의 메져라고 하자. 만약에 ${\\cal A}$가 \"전체집합을 포함하는 파이시스템\" 이라면 메져 $m:\\sigma({\\cal A}) \\to [0,1]$의 값은 $m: {\\cal A} \\to [0,1]$의 값에 의하여 유일하게 결정된다. (거의 맞는데 한 조건이 빠져서 틀렸음)  "
   ]
  },
  {
   "cell_type": "markdown",
   "id": "601c3c0b-b2fa-4896-9274-9eea0a32842d",
   "metadata": {},
   "source": [
    "**(예제2)**"
   ]
  },
  {
   "cell_type": "markdown",
   "id": "63c79608-6f89-4ed2-9ec6-4d386d131e97",
   "metadata": {},
   "source": [
    "$\\Omega=\\{a,b,c\\}$ 이라고 하고 ${\\cal A} = \\{\\{a\\},\\Omega\\}$ 라고 하자. 여기에서 ${\\cal A}$는 \"$\\Omega$가 포함된 파이시스템\"이다. 가측공간 $(\\Omega,\\sigma({\\cal A}))$에서 정의가능한측도 $m$은 ${\\cal A}$에서의 값으로 유일하게 결정될까? "
   ]
  },
  {
   "cell_type": "markdown",
   "id": "82620384-5516-4432-bee4-498e05ddc0a1",
   "metadata": {},
   "source": [
    "(풀이) 아래의 반례가 존재함. "
   ]
  },
  {
   "cell_type": "markdown",
   "id": "9be32d48-f2f8-419b-b32d-305399c3574d",
   "metadata": {},
   "source": [
    "||$m_1$|$m_2$|\n",
    "|:-:|:-:|:-:|\n",
    "|$\\{a\\}$|$\\frac{1}{2}$ | $\\frac{1}{2}$|\n",
    "|$\\Omega$|$\\infty$|$\\infty$|\n",
    "|$-$|$-$|$-$|\n",
    "|$\\emptyset$|$0$|$0$|\n",
    "|$\\{b\\}$|$1$|$\\infty$|\n",
    "|$\\{c\\}$|$\\infty$|$5$|\n",
    "|$\\{a,b\\}$|$\\frac{3}{2}$|$\\infty$|\n",
    "|$\\{a,c\\}$|$\\infty$|$\\frac{11}{2}$|\n",
    "|$\\{b,c\\}$|$\\infty$|$\\infty$|"
   ]
  },
  {
   "cell_type": "markdown",
   "id": "abb01492-d22c-4a72-a0af-651ba7a0840c",
   "metadata": {},
   "source": [
    "`-` **<U>이론</U>**: $(\\Omega, \\sigma({\\cal A}))$을 잴 수 있는 공간이라고 하고, $m$을 이 공간에서의 유한측도라고 하자. 그리고 ${\\cal A}$는 전제집합을 포함하는 파이시스템이라고 하자. 그렇다면 메져 $m:\\sigma({\\cal A}) \\to [0,M]$의 값은 $m: {\\cal A} \\to [0,M]$의 값에 의하여 유일하게 결정된다. (단, $M=m(\\Omega)<\\infty$)"
   ]
  },
  {
   "cell_type": "markdown",
   "id": "11647608-7155-49d6-9d3f-bb7f5d0a519b",
   "metadata": {},
   "source": [
    "**(예제3)** -- ${\\cal A}$가 $\\Omega$를 포함하지 않는데, 메져가 유일하게 결정될 것 같은 예제 "
   ]
  },
  {
   "cell_type": "markdown",
   "id": "3554766a-1ee7-4d6f-b86f-84b57e9b1c8c",
   "metadata": {},
   "source": [
    "$\\Omega = \\mathbb{Z}$ 이라고 하자. $\\Omega$의 부분집합들로 이루어진 수열 $A_1,A_2,\\dots$ 를 아래와 같이 정의하자. \n",
    "\n",
    "- $A_{1} = [-\\frac{1}{2}, \\frac{2}{2}] \\cap \\mathbb{Z} = \\{0, 1\\}$\n",
    "- $A_{2} = [-\\frac{2}{2}, \\frac{3}{2}] \\cap \\mathbb{Z} = \\{-1, 0, 1\\}$\n",
    "- $A_{3} = [-\\frac{3}{2}, \\frac{4}{2}] \\cap \\mathbb{Z} = \\{-1, 0, 1, 2\\}$\n",
    "- $A_{4} = [-\\frac{4}{2}, \\frac{5}{2}] \\cap \\mathbb{Z} = \\{-2, -1, 0, 1, 2\\}$\n",
    "- $A_{5} = [-\\frac{5}{2}, \\frac{6}{2}] \\cap \\mathbb{Z} = \\{-2, -1, 0, 1, 2, 3\\}$\n",
    "\n",
    "- $\\dots$"
   ]
  },
  {
   "cell_type": "markdown",
   "id": "52bab8d9-02c7-4ad3-bc40-c0b1ca0523d2",
   "metadata": {},
   "source": [
    "관심있는 집합들의 모임은 ${\\cal A}=\\{A_n:n \\in \\mathbb{N}\\}$로 정의하자. 가측공간 $(\\Omega,\\sigma({\\cal A}))$에서 정의가능한 측도 $m$은 ${\\cal A}$의 값으로 유일하게 결정될까? "
   ]
  },
  {
   "cell_type": "markdown",
   "id": "f2df343b-4cbd-43a3-98e7-7362b18b3714",
   "metadata": {},
   "source": [
    "(관찰) \n",
    "\n",
    "풀이에 앞서서 아래의 사실을 관찰해보자. "
   ]
  },
  {
   "cell_type": "markdown",
   "id": "a16fb49a-694e-4a47-a3e8-3ee316eedb95",
   "metadata": {},
   "source": [
    "1. ${\\cal A}$는 파이시스템이다. \n",
    "2. 집합열 $A_n$의 극한은 $\\Omega$이다. 집합열 $A_n$은 증가하는 수열이므로 이 경우 $A_n \\uparrow \\Omega$라고 표현할 수 있다. \n",
    "3. 모든 $A_n$이 ${\\cal A}$의 멤버라고 했으나 $A_n$의 극한 $\\Omega$가 ${\\cal A}$의 멤버라고 한 적은 없다. 따라서 ${\\cal A}$는 전체집합을 포함하지는 않는 파이시스템이다. "
   ]
  },
  {
   "cell_type": "markdown",
   "id": "f37680ff-c6b8-40d4-b1fe-7dfc98d14912",
   "metadata": {},
   "source": [
    "(풀이)"
   ]
  },
  {
   "cell_type": "markdown",
   "id": "c41a6667-40fc-4860-8f98-2808bd826a42",
   "metadata": {},
   "source": [
    "가능할 것 같다. (실제로 가능해) 왜냐하면 \n",
    "\n",
    "- $m(A_1),m(A_2), m(A_3) \\dots$ 의 값이 결정 $\\Rightarrow$ $m(\\{0,1\\})$, $m(\\{-1\\})$, $m(\\{2\\})$, $\\dots$ 의 값이 결정 \n",
    "\n",
    "이므로, 0과 1을 제외한 $\\mathbb{Z}$의 모든 원소의 길이가 유일하게 결정되니까. "
   ]
  },
  {
   "cell_type": "markdown",
   "id": "d442cdf6-4e6d-47c1-9ed8-57d56b2038f6",
   "metadata": {},
   "source": [
    "***생각의 시간***"
   ]
  },
  {
   "cell_type": "markdown",
   "id": "e78ed803-b0fd-479a-ac9e-a10d56717c83",
   "metadata": {},
   "source": [
    "아래의 이론을 다시 관찰하자. "
   ]
  },
  {
   "cell_type": "markdown",
   "id": "a34f5b42-379c-4e8c-8cf1-93f6967984a2",
   "metadata": {},
   "source": [
    "> **<U>이론</U>**: $(\\Omega, \\sigma({\\cal A}))$을 잴 수 있는 공간이라고 하고, $m$을 이 공간에서의 유한측도라고 하자. 그리고 ${\\cal A}$는 전제집합을 포함하는 파이시스템이라고 하자. 그렇다면 메져 $m:\\sigma({\\cal A}) \\to [0,M]$의 값은 $m: {\\cal A} \\to [0,M]$의 값에 의하여 유일하게 결정된다. (단, $M=m(\\Omega)<\\infty$)"
   ]
  },
  {
   "cell_type": "markdown",
   "id": "c360e2c7-18fe-40c9-8896-6d3599c444c4",
   "metadata": {},
   "source": [
    "(의문1) \n",
    "\n",
    "${\\cal A}$가 꼭 전체집합을 포함할 필요는 없어보인다. 즉 조건 $\\Omega \\in {\\cal A}$는 굳이 필요 없어보인다. 이 조건은 더 약한 아래의 조건으로 대치가능하다. \n",
    "\n",
    "- $\\exists A_1,A_2,\\dots \\in {\\cal A}$ such that $A_i \\uparrow \\Omega$\n",
    "\n",
    "만약에 $\\Omega \\in {\\cal A}$인 경우는 $A_1=\\Omega$로 잡으면 위 조건이 그냥 성립한다. 따라서 위의 조건은 $\\Omega \\in {\\cal A}$ 보다 약한 조건이다. 그리고 심지어 위의 조건은 다시 아래의 더 약한 조건으로 바꿀 수 있다. \n",
    "\n",
    "- $\\exists A_1,A_2,\\dots \\in {\\cal A}$ such that $\\cup_{i=1}^{\\infty} A_i = \\Omega$"
   ]
  },
  {
   "cell_type": "markdown",
   "id": "df7d4f56-568b-4a13-ac76-8568ed3d4ba8",
   "metadata": {},
   "source": [
    "(의문2) "
   ]
  },
  {
   "cell_type": "markdown",
   "id": "76306e81-310a-4c1d-ad09-0591318bd043",
   "metadata": {},
   "source": [
    "심지어 $m(\\Omega) = \\infty$ 이어도 상관없다.^[그리고 애초에 $\\Omega \\notin {\\cal A}$ 이므로, ${\\cal A}$ 에서는 $m(\\Omega)$의 값도 정의하지 않음.] 이 예제에서 \n",
    "\n",
    "- $m(\\{0,1\\})=2$\n",
    "- $m(\\{-1\\})=1$\n",
    "- $m(\\{2\\})=1$\n",
    "- $\\dots$ \n",
    "\n",
    "이라고 하면 $m$은 잴 수 있는 공간 $(\\Omega,\\sigma({\\cal A}))$에서의 카운팅메져가 되고, 그 $m$은 $A \\in {\\cal A}$에서의 값으로 유일하게 결정된다. 문제가 생길만한 것은 \n",
    "\n",
    "- $m(\\{0,1\\})=2$\n",
    "- $m(\\{-1\\})=1$\n",
    "- $m(\\{2\\})=\\infty$\n",
    "- $\\dots$ \n",
    "\n",
    "와 같은 경우이므로, 이 경우만 제약하면 된다. 즉 $m$이 시그마유한측도라고 제한하면 될 것 같다. "
   ]
  },
  {
   "cell_type": "markdown",
   "id": "e475ce2d-b913-4c2c-91a0-89431140366d",
   "metadata": {},
   "source": [
    "## state "
   ]
  },
  {
   "cell_type": "markdown",
   "id": "df2cc80a-9a84-47a5-bf04-3810ed096597",
   "metadata": {},
   "source": [
    "`-` **<U>Thm</U>**: $(\\Omega, \\sigma({\\cal A}),m)$을 시그마유한측도공간($\\sigma$-finite measure space)이라고 하자. ${\\cal A}$은 아래를 만족하는 파이시스템이라고 하자. \n",
    "\n",
    "1. $\\exists A_1,A_2,\\dots \\in {\\cal A}$ such that $\\cup_{i=1}^{\\infty} A_i = \\Omega$\n",
    "2. $\\forall i \\in \\mathbb{N}:~ m(A_i) <\\infty$\n",
    "\n",
    "그렇다면 메져 $m:\\sigma({\\cal A}) \\to [0,\\infty]$의 값은 $m: {\\cal A} \\to [0,\\infty]$의 값에 의하여 유일하게 결정된다."
   ]
  },
  {
   "cell_type": "markdown",
   "id": "f5ad426d-f5df-4fe9-89c2-bae00f7fa805",
   "metadata": {},
   "source": [
    "> 조건 1,2는 결국 $m$을 시그마유한측도로 만들어주는 그 집합열이 $\\sigma({\\cal A})-{\\cal A}$가 아니라 ${\\cal A}$에 있어야 한다는 의미임. "
   ]
  },
  {
   "cell_type": "markdown",
   "id": "8b24ea77-7c64-4893-82e1-7ef52b65bd56",
   "metadata": {
    "toc-hr-collapsed": true
   },
   "source": [
    "## 증명 "
   ]
  },
  {
   "cell_type": "markdown",
   "id": "f382dbe4-3072-46fd-bc93-70b7b6f76677",
   "metadata": {},
   "source": [
    "**LET** \n",
    "\n",
    "1. $(\\Omega, \\sigma({\\cal A}))$ 는 잴 수 있는 공간임. \n",
    "2. $m_1,m_2$는 $(\\Omega, \\sigma({\\cal A}))$에서의 시그마유한측도임. \n",
    "3. $m_1,m_2$는 \"$\\forall A \\in {\\cal A}: m_1(A)=m_2(A)$\"를 만족함.      "
   ]
  },
  {
   "cell_type": "markdown",
   "id": "d073976a-a32d-4d11-9359-e01bd10d8752",
   "metadata": {},
   "source": [
    "**WTS**: ${\\cal D} = \\{B \\in \\sigma({\\cal A}): m_1(B) = m_2(B) \\} = \\sigma({\\cal A})$"
   ]
  },
  {
   "cell_type": "markdown",
   "id": "d70cddd4-d4a8-4822-aa2b-3457a64fbcae",
   "metadata": {},
   "source": [
    "**ISTST**: for all $A \\in {\\cal A}$, ${\\cal D}_A = \\{B \\in \\sigma({\\cal A}): m_1(A\\cap B) = m_2(A \\cap B)\\} =\\sigma({\\cal A})$"
   ]
  },
  {
   "cell_type": "markdown",
   "id": "4a7def41-1e45-4109-beb9-d09b098fb52e",
   "metadata": {},
   "source": [
    "왜?? "
   ]
  },
  {
   "cell_type": "markdown",
   "id": "b9732fed-ac47-4d1d-a189-6a3a180ee377",
   "metadata": {},
   "source": [
    "(경우1): ${\\cal A}$가 $\\Omega$를 포함한다고 하자. $A =\\Omega$를 대입하면 ${\\cal D}_A = {\\cal D}$ 이다. 따라서 ${\\cal D}_A =\\sigma({\\cal A})$ 임을 보여도 ${\\cal D}=\\sigma({\\cal A})$ 임을 보이는 것과 같다. "
   ]
  },
  {
   "cell_type": "markdown",
   "id": "17cd65c0-45d7-4060-940f-686673005ae9",
   "metadata": {},
   "source": [
    "(경우2): ${\\cal A}$가 $\\Omega$를 포함하지는 않지만 $A_i \\uparrow \\Omega$ 인 $A_1,A_2,\\dots$을 모두 포함한다고 하자. 이제 $A = \\cup_{i=1}^{\\infty}A_i = \\uplus_{i=1}^{\\infty} C_i$ 를 대입하면 "
   ]
  },
  {
   "cell_type": "markdown",
   "id": "2a8c3286-b178-411f-9ace-97c991427bfb",
   "metadata": {},
   "source": [
    "- $m_1(B)=m_1\\big((\\uplus_{i=1}^{\\infty} C_i) \\cap  B\\big)= m_1\\big(\\uplus_{i=1}^{\\infty}( C_i \\cap  B)\\big)=\\sum_{i=1}^{\\infty}m_1(C_i\\cap B)$\n",
    "- $m_2(B)=m_2\\big((\\uplus_{i=1}^{\\infty} C_i) \\cap  B\\big)= m_2\\big(\\uplus_{i=1}^{\\infty}( C_i \\cap  B)\\big)=\\sum_{i=1}^{\\infty}m_2(C_i\\cap B)$"
   ]
  },
  {
   "cell_type": "markdown",
   "id": "47ae31a7-53e5-457a-8f18-aa2d964801d5",
   "metadata": {},
   "source": [
    "이므로 다시 경우1과 유사한 논리로 ${\\cal D}_A={\\cal D}$가 되고, ${\\cal D}_A=\\sigma({\\cal A})$를 보여도 충분하다. "
   ]
  },
  {
   "cell_type": "markdown",
   "id": "874bb1f0-0589-4aba-bad5-c2d1fa750ae7",
   "metadata": {},
   "source": [
    "(경우3): ${\\cal A}$가 $\\Omega$를 포함하지 않고, $\\cup_{i=1}^{\\infty} A_i = \\Omega$ 인 $A_1,A_2,A_3\\dots$를 모두 포함한다고 하자. 이러한 열을 이용하여 적당한 $\\tilde{A}_i\\uparrow \\Omega$를 만들 수 있으므로 경우2와 비슷한 논리로 ${\\cal D}_A = \\sigma(A)$를 보여도 충분하다. "
   ]
  },
  {
   "cell_type": "markdown",
   "id": "7fae2334-a959-45fc-8600-264c02094e67",
   "metadata": {},
   "source": [
    "**ISTST**: $\\forall A \\in {\\cal A}$: (1) ${\\cal D}_A \\subset \\sigma({\\cal A})$ (2) ${\\cal D}_A \\supset \\sigma({\\cal A})$ "
   ]
  },
  {
   "cell_type": "markdown",
   "id": "92d62f83-1251-4fd5-b3b4-9043c5b67c7c",
   "metadata": {},
   "source": [
    "**ISTST**: $\\forall A \\in {\\cal A}$: ${\\cal D}_A \\supset \\sigma({\\cal A})$ "
   ]
  },
  {
   "cell_type": "markdown",
   "id": "d18c68e2-1158-4484-9c54-87fff66d9cce",
   "metadata": {},
   "source": [
    "**NOTE**: for any $A$ in ${\\cal A}$:  **IF** (1) ${\\cal D}_A$ is containing ${\\cal A}$ (2) ${\\cal D}_A$ is $\\lambda$-system, **THEN** we can say ${\\cal D}_A \\supset \\sigma({\\cal A})=l({\\cal A})$"
   ]
  },
  {
   "cell_type": "markdown",
   "id": "5a36e2a6-9b72-4878-8091-4fe4b6b011d1",
   "metadata": {},
   "source": [
    "**ISTST**: (1) $\\forall A \\in {\\cal A}: ~{\\cal A} \\subset {\\cal D}_A$ (2) $\\forall A \\in {\\cal A}:~ {\\cal D}_A$ is $\\lambda$-system. "
   ]
  },
  {
   "cell_type": "markdown",
   "id": "b15df8c2-7604-435d-96d6-a9e033be0236",
   "metadata": {},
   "source": [
    "- for all $B \\in \\sigma({\\cal A})$: $B \\in {\\cal A} \\Rightarrow m_1(A\\cap B) = m_2(A\\cap B) \\Rightarrow B \\in {\\cal D}_A$. 따라서 (1)은 클리어. "
   ]
  },
  {
   "cell_type": "markdown",
   "id": "29aac66e-6f8f-4c84-9a0e-71a08ed2990e",
   "metadata": {},
   "source": [
    "**ISTST**: for all $A \\in {\\cal A}$: \n",
    "1. $\\Omega \\in {\\cal D}_A$\n",
    "2. $C,D \\in {\\cal D}_A, C\\subset D$ $\\Rightarrow$ $D-C \\in {\\cal D}$\n",
    "3. $\\forall C_1,C_2,\\dots, \\in {\\cal D}$, $\\uplus_{i=1}^{\\infty} C_i \\in {\\cal D}$"
   ]
  },
  {
   "cell_type": "markdown",
   "id": "da992ebe-72b0-4d68-84d7-acb594162c2a",
   "metadata": {},
   "source": [
    "**CHECK 1**: $\\big(\\forall A \\in {\\cal A}: \\Omega \\in {\\cal D}_A\\big) \\Leftrightarrow \\big(\\forall A \\in {\\cal A}: m_1(A \\cap \\Omega) = m_2(A \\cap \\Omega)\\big)$"
   ]
  },
  {
   "cell_type": "markdown",
   "id": "13fab66f-1a0b-460a-b289-959245541863",
   "metadata": {},
   "source": [
    "**CHECK 2**: \n",
    "\n",
    "- $\\forall A \\in {\\cal A}$: $\\big(C,D \\in {\\cal D}_A, C \\subset D \\big) \\Rightarrow \\big(D-C \\in {\\cal D}\\big)$\n",
    "- $\\Leftrightarrow$ $\\forall A \\in {\\cal A}$: $\\big(C,D \\in {\\cal D}_A, C \\subset D \\big) \\Rightarrow \\big(m_1(A \\cap (D-C)) = m_2(A \\cap (D-C))\\big)$\n",
    "- $\\Leftrightarrow$ $\\forall A \\in {\\cal A}$: $\\big(C,D \\in {\\cal D}_A, C \\subset D \\big) \\Rightarrow \\big(m_1(A \\cap D) - m_1( A\\cap C) = m_2(A \\cap D) - m_2(A \\cap C)\\big)$\n",
    "- 그런데, $C \\in {\\cal D}_A$ 이므로 $m_1(A\\cap C) = m_2(A\\cap C)$ 이다. 또한 $D \\in {\\cal D}_A$ 이므로 $m_1(A \\cap D) = m_2(A \\cap D)$ 이다. "
   ]
  },
  {
   "cell_type": "markdown",
   "id": "647c44c5-7b47-4356-8175-4fbff7e90337",
   "metadata": {},
   "source": [
    "**CHECK 3**: \n",
    "\n",
    "- $\\forall A \\in {\\cal A}:$ $\\big(\\forall C_1,C_2,\\dots, \\in {\\cal D}_A\\big) \\Rightarrow \\big(\\uplus_{i=1}^{\\infty} C_i \\in {\\cal D}_A\\big)$\n",
    "- $\\Leftrightarrow$ $\\forall A \\in {\\cal A}:$ $\\big(\\forall C_1,C_2,\\dots, \\in {\\cal D}_A\\big) \\Rightarrow m_1(A \\cap (\\uplus_{i=1}^{\\infty} C_i)) = m_2(A\\cap (\\uplus_{i=1}^{\\infty} C_i))$\n",
    "- $\\Leftrightarrow$ $\\forall A \\in {\\cal A}:$ $\\big(\\forall C_1,C_2,\\dots, \\in {\\cal D}_A\\big) \\Rightarrow \\sum_{i=1}^{\\infty} m_1(A \\cap C_i) = \\sum_{i=1}^{\\infty}m_2(A\\cap C_i)$"
   ]
  }
 ],
 "metadata": {
  "kernelspec": {
   "display_name": "Python 3",
   "language": "python",
   "name": "python3"
  },
  "language_info": {
   "codemirror_mode": {
    "name": "ipython",
    "version": 3
   },
   "file_extension": ".py",
   "mimetype": "text/x-python",
   "name": "python",
   "nbconvert_exporter": "python",
   "pygments_lexer": "ipython3",
   "version": "3.8.16"
  }
 },
 "nbformat": 4,
 "nbformat_minor": 5
}
