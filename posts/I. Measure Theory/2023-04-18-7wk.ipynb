{
 "cells": [
  {
   "cell_type": "raw",
   "id": "02b24722-7c26-4811-86fd-e0b0aad86013",
   "metadata": {},
   "source": [
    "---\n",
    "title: \"7wk: 측도론 (3)\"\n",
    "author: \"최규빈\"\n",
    "date: \"04/18/2023\"\n",
    "---"
   ]
  },
  {
   "cell_type": "markdown",
   "id": "02690f99-b83e-4780-b504-f5cc3e82f952",
   "metadata": {
    "slideshow": {
     "slide_type": "slide"
    }
   },
   "source": [
    "# 예비학습 "
   ]
  },
  {
   "cell_type": "markdown",
   "id": "861ff4f2-5f2b-4363-b90f-b57de2c64264",
   "metadata": {
    "slideshow": {
     "slide_type": "slide"
    }
   },
   "source": [
    "## 헷갈리는 표현: $\\infty$의 포함"
   ]
  },
  {
   "cell_type": "markdown",
   "id": "05af3fec-b564-4d51-baf0-5c14604b9e9d",
   "metadata": {
    "slideshow": {
     "slide_type": "fragment"
    }
   },
   "source": [
    "`-` 자연수집합 $\\mathbb{N}$은 $\\{\\infty\\}$를 포함하지 않는다. 마찬가지로 실수집합 $\\mathbb{R}$ 역시 $\\{-\\infty\\}, \\{\\infty\\}$를 포함하지 않는다. 만약에 이를 포함하고 싶을 경우는 아래와 같이 표현한다. \n",
    "\n",
    "- $\\mathbb{R} \\cup \\{-\\infty\\} \\cup \\{\\infty\\} = \\bar{\\mathbb{R}}$\n",
    "- $\\mathbb{N} \\cup \\{-\\infty\\}$ \n",
    "\n",
    "여기에서 $\\bar{\\mathbb{R}}$은 확장된 실수라고 부르는데 교재에따라 사용하기도 하고 사용하지 않기도 한다. "
   ]
  },
  {
   "cell_type": "markdown",
   "id": "f9ad4950-1498-4ac7-9d54-b966e687bd5c",
   "metadata": {
    "slideshow": {
     "slide_type": "slide"
    }
   },
   "source": [
    "`-` 만약에 $\\mathbb{N}$이 $\\{\\infty\\}$를 포함한다면 \n",
    "\n",
    "- $\\forall n \\in \\mathbb{N}:~  0<\\frac{1}{n} \\leq 1$ \n",
    "\n",
    "와 같은 표현은 불가능할 것이다. "
   ]
  },
  {
   "cell_type": "markdown",
   "id": "ecc82fe6-1d96-420d-b00b-17db40434d16",
   "metadata": {
    "slideshow": {
     "slide_type": "slide"
    }
   },
   "source": [
    "`-` 구간에 대한 표현들: 구간에 대한 몇가지 표현을 정리하면 아래와 같다.  \n",
    "\n",
    "- $(-\\infty, b] = \\{x: x\\leq b, ~x,b \\in \\mathbb{R}\\}$ \n",
    "- $(-\\infty, b) = \\{x: x < b,~ x,b \\in \\mathbb{R}\\}$ "
   ]
  },
  {
   "cell_type": "markdown",
   "id": "17506ed7-d976-477b-998a-c5343857fe7a",
   "metadata": {
    "slideshow": {
     "slide_type": "slide"
    }
   },
   "source": [
    "`-` 구긴에 대한 표현 응용: 아래와 같은 표현을 고려하자. (교재의 예제 1.1.8과 비슷한 표현)\n",
    "\n",
    "- ${\\cal A} = \\{(a,b]: -\\infty \\leq a < b \\leq \\infty\\}$ "
   ]
  },
  {
   "cell_type": "markdown",
   "id": "9aff30ac-d2ff-4e7b-ba90-d15625f9918f",
   "metadata": {
    "slideshow": {
     "slide_type": "fragment"
    }
   },
   "source": [
    "${\\cal A}$의 원소의 형태는 \n",
    "\n",
    "- $\\{x: a<x\\leq b,~ a,x,b \\in \\mathbb{R}\\}$\n",
    "- $\\{x: a<x,~ a,x \\in \\mathbb{R}\\}$\n",
    "- $\\{x: x\\leq b,~ x,b \\in \\mathbb{R}\\}$\n",
    "- $\\{x: x \\in \\mathbb{R}\\}$\n",
    "\n",
    "이다. "
   ]
  },
  {
   "cell_type": "markdown",
   "id": "2b6f369d-59b9-4ab9-90fa-1e0f0b43b587",
   "metadata": {
    "slideshow": {
     "slide_type": "slide"
    }
   },
   "source": [
    "> 약간 무식하게 생각하면 $[-\\infty, b) = (-\\infty,b)$ 로 해석하면 된다. 즉 $\\{-\\infty\\} \\notin [-\\infty,b)$ 이라는 의미! 보는것 처럼 $[-\\infty, b)$와 같은 표현은 엄청난 혼란을 불러오는 표현이므로 사용을 자제한다. "
   ]
  },
  {
   "cell_type": "markdown",
   "id": "ab670d09-4dd2-4b66-b8d9-64bd1c372a98",
   "metadata": {
    "slideshow": {
     "slide_type": "slide"
    }
   },
   "source": [
    "## 메져의 종류와 성질 "
   ]
  },
  {
   "cell_type": "markdown",
   "id": "113deba0-203d-46b7-a777-7fe0b7eda3b6",
   "metadata": {
    "slideshow": {
     "slide_type": "fragment"
    }
   },
   "source": [
    "`-` 메져의 종류와 성질 요약 "
   ]
  },
  {
   "cell_type": "markdown",
   "id": "18f50f55-b13a-46ee-a27c-7ab54168b665",
   "metadata": {
    "slideshow": {
     "slide_type": "fragment"
    }
   },
   "source": [
    "|분류|$m(\\emptyset)=0$|$\\sigma$-add|$A_i\\uparrow \\Omega$, $m(A_i)<\\infty$|$m(\\Omega)<\\infty$|$m(\\Omega)=1$| $.$|monotone |$\\sigma$-subadd|conti-below|conti-above|\n",
    "|:-:|:-:|:-:|:-:|:-:|:-:|:-:|:-:|:-:|:-:|:-:|\n",
    "|msr|$O$|$O$|$X$|$X$|$X$|$.$|$O$|$O$|$O$|$\\Delta$|\n",
    "|$\\sigma$-finite-msr|$O$|$O$|$O$|$X$|$X$|$.$|$O$|$O$|$O$|$\\Delta$|\n",
    "|finite-msr|$O$|$O$|$O$|$O$|$X$|$.$|$O$|$O$|$O$|$O$|\n",
    "|prob-msr|$O$|$O$|$O$|$O$|$O$|$.$|$O$|$O$|$O$|$O$|"
   ]
  },
  {
   "cell_type": "markdown",
   "id": "56c57b16-9616-406e-92e3-2cfc3e5ab3e7",
   "metadata": {
    "slideshow": {
     "slide_type": "slide"
    }
   },
   "source": [
    "`-` 용어들  \n",
    "\n",
    "- $\\sigma$-additive: $m(\\uplus_{i=1}^{\\infty} B_i) = \\sum_{i=1}^{\\infty} m(B_i)$ \n",
    "- monotone: $A\\subset B \\Rightarrow m(A) \\subset m(B)$ \n",
    "- $\\sigma$-subadditive: $m(\\cup_{i=1}^{\\infty} A_i) \\leq \\sum_{i=1}^{\\infty} m(A_i)$ \n",
    "- continuous from below: $A_i \\uparrow A$ $\\Rightarrow$ $m(\\lim_{n\\to\\infty}A_i)=\\lim_{n\\to\\infty}m(A_i)$\n",
    "- continuous from above: (1) $A_i \\downarrow A$ and (2) $m(A_1)<\\infty$ $\\Rightarrow$ $m(\\lim_{n\\to\\infty}A_i)=\\lim_{n\\to\\infty}m(A_i)$"
   ]
  },
  {
   "cell_type": "markdown",
   "id": "56b800ca",
   "metadata": {
    "slideshow": {
     "slide_type": "slide"
    }
   },
   "source": [
    "`-` $\\sigma$-finite msr 에 대한 동치조건: $m$이 $(\\Omega, {\\cal F})$에서의 msr이라면, 아래는 동치이다. (ref: <https://en.wikipedia.org/wiki/%CE%A3-finite_measure>)\n",
    "\n",
    "**언어버전**\n",
    "\n",
    "- The set $\\Omega$ can be covered with at most countably many measurable sets with finite measure. \n",
    "- The set $\\Omega$ can be covered with at most countably many measurable disjoint sets with finite measure. \n",
    "- The set $\\Omega$ can be covered with monotone sequence of measurable sets with finite measure. \n",
    "\n",
    "**수식버전** \n",
    "\n",
    "- There are sets $A_1,A_2,\\dots \\in {\\cal A}$ with $m(A_i)<\\infty$ such that $\\cup_{i=1}^{\\infty}A_i=\\Omega$ \n",
    "- There are sets $B_1,B_2,\\dots \\in {\\cal A}$ with $m(B_i)<\\infty$ and $B_1,B_2\\dots$ are disjoints such that $\\uplus_{i=1}^{\\infty}B_i=\\Omega$ \n",
    "- There are sets $C_1,C_2,\\dots \\in {\\cal A}$ with $m(C_i)<\\infty$ and $C_1 \\subset C_2 \\subset \\dots $ such that $\\cup_{i=1}^{\\infty}C_i=\\Omega$ "
   ]
  },
  {
   "cell_type": "markdown",
   "id": "110c7c2d-b442-497d-8570-c2e0e751e9e1",
   "metadata": {
    "slideshow": {
     "slide_type": "slide"
    }
   },
   "source": [
    "`-` 교재의 언급 (p2. Thm 1.1.1)"
   ]
  },
  {
   "cell_type": "markdown",
   "id": "c12e4e38-1621-4bb3-83cc-e2e4ae40f49a",
   "metadata": {
    "slideshow": {
     "slide_type": "slide"
    }
   },
   "source": [
    "# 파이시스템에서의 확장이론 (메져버전) "
   ]
  },
  {
   "cell_type": "markdown",
   "id": "0074a0ba-8700-48d7-9ad8-52fdb0f3276a",
   "metadata": {
    "slideshow": {
     "slide_type": "slide"
    }
   },
   "source": [
    "## 복습 & Motivating EX "
   ]
  },
  {
   "cell_type": "markdown",
   "id": "5dd5f309-879d-4b1a-ab64-bab1ea59476e",
   "metadata": {
    "slideshow": {
     "slide_type": "slide"
    }
   },
   "source": [
    "`-` 귀찮아서 만든 이론2: 운이 좋다면, ${\\cal A}$ 에서 확률의 공리를 만족하는 적당한 함수 $\\tilde{P}:{\\cal A} \\to [0,1]$를 $(\\Omega, \\sigma({\\cal A}))$ 에서의 확률측도 $P$로 업그레이드 할 수 있으며 업그레이드 결과는 유일하다. "
   ]
  },
  {
   "cell_type": "markdown",
   "id": "0eef1402-ed83-453b-b207-7c491337d657",
   "metadata": {
    "slideshow": {
     "slide_type": "fragment"
    }
   },
   "source": [
    "`-` **<U>이론</U>**: $(\\Omega, \\sigma({\\cal A}), P)$를 확률공간이라고 하자. 여기에서 ${\\cal A}$는 파이시스템이라고 가정하자. 그렇다면 확률측도 $P:\\sigma({\\cal A}) \\to [0,1]$의 값은 $P: {\\cal A} \\to [0,1]$의 값에 의하여 유일하게 결정된다. "
   ]
  },
  {
   "cell_type": "markdown",
   "id": "199984b5-7372-4d35-82e3-e78846dfdcd2",
   "metadata": {
    "slideshow": {
     "slide_type": "fragment"
    }
   },
   "source": [
    "`-` 이 이론은 확률측도일 경우만 성립하고 측도일 경우는 실패했었다. "
   ]
  },
  {
   "cell_type": "markdown",
   "id": "53a9eb8a-32f7-4932-be48-284bf5faa057",
   "metadata": {
    "slideshow": {
     "slide_type": "slide"
    }
   },
   "source": [
    "**(예제1)** -- 통계학과라서 행복했던 예제 \n",
    "\n",
    "$\\Omega=\\{a,b\\}$ 이라고 하고 ${\\cal A} = \\{\\{a\\}\\}$ 라고 하자. 가측공간 $(\\Omega,\\sigma({\\cal A}))$에서 정의가능한 모든 확률측도 $P$는 ${\\cal A}$에서의 값으로 유일하게 결정됨을 확인하였다. 하지만 가측공간 $(\\Omega,\\sigma({\\cal A}))$에서 정의가능한 측도 $m$은 ${\\cal A}$에서의 값으로 유일하게 결정되지 않는다."
   ]
  },
  {
   "cell_type": "markdown",
   "id": "3ae628ba-6c8b-4de1-ac96-ac08c05f156f",
   "metadata": {
    "slideshow": {
     "slide_type": "slide"
    }
   },
   "source": [
    "||$m_1$|$m_2$|\n",
    "|:-:|:-:|:-:|\n",
    "|$\\{a\\}$|$\\frac{1}{2}$ | $\\frac{1}{2}$|\n",
    "|$-$|$-$|$-$|\n",
    "|$\\emptyset$|$0$|$0$|\n",
    "|$\\{b\\}$|$\\frac{1}{2}$|$1$|\n",
    "|$\\Omega$|$1$|$\\frac{3}{2}$|"
   ]
  },
  {
   "cell_type": "markdown",
   "id": "2fecc393-916c-4a0b-9724-032f22cb3d97",
   "metadata": {
    "slideshow": {
     "slide_type": "slide"
    }
   },
   "source": [
    "`-` 직관: 그냥 ${\\cal A}$에 $\\Omega$가 있었다면 되는거 아닌가? 예를들어 아래와 같이 설정한다면? \n",
    "\n",
    "||$m_1$|$m_2$|\n",
    "|:-:|:-:|:-:|\n",
    "|$\\{a\\}$|$\\frac{1}{2}$ | $\\frac{1}{2}$|\n",
    "|$\\Omega$|$\\frac{3}{2}$|$\\frac{3}{2}$|\n",
    "|$-$|$-$|$-$|\n",
    "|$\\emptyset$|$0$|$0$|\n",
    "|$\\{b\\}$|$1$|$1$|\n",
    "\n",
    "$m_1(\\{b\\})=m_2(\\{b\\})=1$ 일 수밖에 없지 않을까? "
   ]
  },
  {
   "cell_type": "markdown",
   "id": "b43e2def-e95f-40c5-b6db-861246a1fd58",
   "metadata": {
    "slideshow": {
     "slide_type": "slide"
    }
   },
   "source": [
    "`-` 혹시 아래와 같이 이론을 수정하면 되지 않을까? \n",
    "\n",
    "> $(\\Omega, \\sigma({\\cal A}))$을 잴 수 있는 공간이라고 하고, $m$을 이 공간에서의 메져라고 하자. 만약에 ${\\cal A}$가 \"전체집합을 포함하는 파이시스템\" 이라면 메져 $m:\\sigma({\\cal A}) \\to [0,1]$의 값은 $m: {\\cal A} \\to [0,1]$의 값에 의하여 유일하게 결정된다. (거의 맞는데 한 조건이 빠져서 틀렸음)  "
   ]
  },
  {
   "cell_type": "markdown",
   "id": "601c3c0b-b2fa-4896-9274-9eea0a32842d",
   "metadata": {
    "slideshow": {
     "slide_type": "slide"
    }
   },
   "source": [
    "**(예제2)**"
   ]
  },
  {
   "cell_type": "markdown",
   "id": "63c79608-6f89-4ed2-9ec6-4d386d131e97",
   "metadata": {
    "slideshow": {
     "slide_type": "slide"
    }
   },
   "source": [
    "$\\Omega=\\{a,b,c\\}$ 이라고 하고 ${\\cal A} = \\{\\{a\\},\\Omega\\}$ 라고 하자. 여기에서 ${\\cal A}$는 \"$\\Omega$가 포함된 파이시스템\"이다. 가측공간 $(\\Omega,\\sigma({\\cal A}))$에서 정의가능한측도 $m$은 ${\\cal A}$에서의 값으로 유일하게 결정될까? "
   ]
  },
  {
   "cell_type": "markdown",
   "id": "82620384-5516-4432-bee4-498e05ddc0a1",
   "metadata": {
    "slideshow": {
     "slide_type": "slide"
    }
   },
   "source": [
    "(풀이) 아래의 반례가 존재함. \n",
    "\n",
    "||$m_1$|$m_2$|\n",
    "|:-:|:-:|:-:|\n",
    "|$\\{a\\}$|$\\frac{1}{2}$ | $\\frac{1}{2}$|\n",
    "|$\\Omega$|$\\infty$|$\\infty$|\n",
    "|$-$|$-$|$-$|\n",
    "|$\\emptyset$|$0$|$0$|\n",
    "|$\\{b\\}$|$1$|$\\infty$|\n",
    "|$\\{c\\}$|$\\infty$|$5$|\n",
    "|$\\{a,b\\}$|$\\frac{3}{2}$|$\\infty$|\n",
    "|$\\{a,c\\}$|$\\infty$|$\\frac{11}{2}$|\n",
    "|$\\{b,c\\}$|$\\infty$|$\\infty$|"
   ]
  },
  {
   "cell_type": "markdown",
   "id": "abb01492-d22c-4a72-a0af-651ba7a0840c",
   "metadata": {
    "slideshow": {
     "slide_type": "slide"
    }
   },
   "source": [
    "`-` **<U>이론</U>**: $(\\Omega, \\sigma({\\cal A}))$을 잴 수 있는 공간이라고 하고, $m$을 이 공간에서의 유한측도라고 하자. 그리고 ${\\cal A}$는 전제집합을 포함하는 파이시스템이라고 하자. 그렇다면 메져 $m:\\sigma({\\cal A}) \\to [0,M]$의 값은 $m: {\\cal A} \\to [0,M]$의 값에 의하여 유일하게 결정된다. (단, $M=m(\\Omega)<\\infty$)"
   ]
  },
  {
   "cell_type": "markdown",
   "id": "11647608-7155-49d6-9d3f-bb7f5d0a519b",
   "metadata": {
    "slideshow": {
     "slide_type": "slide"
    }
   },
   "source": [
    "**(예제3)** -- ${\\cal A}$가 $\\Omega$를 포함하지 않는데, 메져가 유일하게 결정될 것 같은 예제 \n",
    "\n",
    "$\\Omega = \\mathbb{Z}$ 이라고 하자. $\\Omega$의 부분집합들로 이루어진 수열 $A_1,A_2,\\dots$ 를 아래와 같이 정의하자. \n",
    "\n",
    "- $A_{1} = [-\\frac{1}{2}, \\frac{2}{2}] \\cap \\mathbb{Z} = \\{0, 1\\}$\n",
    "- $A_{2} = [-\\frac{2}{2}, \\frac{3}{2}] \\cap \\mathbb{Z} = \\{-1, 0, 1\\}$\n",
    "- $A_{3} = [-\\frac{3}{2}, \\frac{4}{2}] \\cap \\mathbb{Z} = \\{-1, 0, 1, 2\\}$\n",
    "- $A_{4} = [-\\frac{4}{2}, \\frac{5}{2}] \\cap \\mathbb{Z} = \\{-2, -1, 0, 1, 2\\}$\n",
    "- $A_{5} = [-\\frac{5}{2}, \\frac{6}{2}] \\cap \\mathbb{Z} = \\{-2, -1, 0, 1, 2, 3\\}$\n",
    "\n",
    "- $\\dots$"
   ]
  },
  {
   "cell_type": "markdown",
   "id": "52bab8d9-02c7-4ad3-bc40-c0b1ca0523d2",
   "metadata": {
    "slideshow": {
     "slide_type": "slide"
    }
   },
   "source": [
    "관심있는 집합들의 모임은 ${\\cal A}=\\{A_n:n \\in \\mathbb{N}\\}$로 정의하자. 가측공간 $(\\Omega,\\sigma({\\cal A}))$에서 정의가능한 측도 $m$은 ${\\cal A}$의 값으로 유일하게 결정될까? "
   ]
  },
  {
   "cell_type": "markdown",
   "id": "f2df343b-4cbd-43a3-98e7-7362b18b3714",
   "metadata": {
    "slideshow": {
     "slide_type": "slide"
    }
   },
   "source": [
    "(관찰) \n",
    "\n",
    "풀이에 앞서서 아래의 사실을 관찰해보자. \n",
    "\n",
    "1. ${\\cal A}$는 파이시스템이다. \n",
    "2. 집합열 $A_n$의 극한은 $\\Omega$이다. 집합열 $A_n$은 증가하는 수열이므로 이 경우 $A_n \\uparrow \\Omega$라고 표현할 수 있다. \n",
    "3. 모든 $A_n$이 ${\\cal A}$의 멤버라고 했으나 $A_n$의 극한 $\\Omega$가 ${\\cal A}$의 멤버라고 한 적은 없다. 따라서 ${\\cal A}$는 전체집합을 포함하지는 않는 파이시스템이다. "
   ]
  },
  {
   "cell_type": "markdown",
   "id": "f37680ff-c6b8-40d4-b1fe-7dfc98d14912",
   "metadata": {
    "slideshow": {
     "slide_type": "slide"
    }
   },
   "source": [
    "(풀이)\n",
    "\n",
    "가측공간 $(\\Omega,\\sigma({\\cal A}))$에서 정의가능한 측도 $m$은 ${\\cal A}$의 값으로 유일하게 결정하는 것이 가능할 것 같다. (실제로 가능해) 왜냐하면 \n",
    "\n",
    "- $m(A_1),m(A_2), m(A_3) \\dots$ 의 값이 결정 $\\Rightarrow$ $m(\\{0,1\\})$, $m(\\{-1\\})$, $m(\\{2\\})$, $\\dots$ 의 값이 결정 \n",
    "\n",
    "이므로, 0과 1을 제외한 $\\mathbb{Z}$의 모든 원소의 길이가 유일하게 결정되니까. "
   ]
  },
  {
   "cell_type": "markdown",
   "id": "d442cdf6-4e6d-47c1-9ed8-57d56b2038f6",
   "metadata": {
    "slideshow": {
     "slide_type": "slide"
    }
   },
   "source": [
    "***생각의 시간***\n",
    "\n",
    "아래의 이론을 다시 관찰하자. \n",
    "\n",
    "> **<U>이론</U>**: $(\\Omega, \\sigma({\\cal A}))$을 잴 수 있는 공간이라고 하고, $m$을 이 공간에서의 유한측도라고 하자. 그리고 ${\\cal A}$는 전제집합을 포함하는 파이시스템이라고 하자. 그렇다면 메져 $m:\\sigma({\\cal A}) \\to [0,M]$의 값은 $m: {\\cal A} \\to [0,M]$의 값에 의하여 유일하게 결정된다. (단, $M=m(\\Omega)<\\infty$)"
   ]
  },
  {
   "cell_type": "markdown",
   "id": "c360e2c7-18fe-40c9-8896-6d3599c444c4",
   "metadata": {
    "slideshow": {
     "slide_type": "slide"
    }
   },
   "source": [
    "(의문1) \n",
    "\n",
    "${\\cal A}$가 꼭 전체집합을 포함할 필요는 없어보인다. 즉 조건 $\\Omega \\in {\\cal A}$는 굳이 필요 없어보인다. 이 조건은 더 약한 아래의 조건으로 대치가능하다. \n",
    "\n",
    "- $\\exists A_1,A_2,\\dots \\in {\\cal A}$ such that $A_i \\uparrow \\Omega$\n",
    "\n",
    "만약에 $\\Omega \\in {\\cal A}$인 경우는 $A_1=\\Omega$로 잡으면 위 조건이 그냥 성립한다. 따라서 위의 조건은 $\\Omega \\in {\\cal A}$ 보다 약한 조건이다. 그리고 심지어 위의 조건은 다시 아래의 더 약한 조건으로 바꿀 수 있다. \n",
    "\n",
    "- $\\exists A_1,A_2,\\dots \\in {\\cal A}$ such that $\\cup_{i=1}^{\\infty} A_i = \\Omega$"
   ]
  },
  {
   "cell_type": "markdown",
   "id": "df7d4f56-568b-4a13-ac76-8568ed3d4ba8",
   "metadata": {
    "slideshow": {
     "slide_type": "slide"
    }
   },
   "source": [
    "(의문2) \n",
    "\n",
    "심지어 $m(\\Omega) = \\infty$ 이어도 상관없다.^[그리고 애초에 $\\Omega \\notin {\\cal A}$ 이므로, ${\\cal A}$ 에서는 $m(\\Omega)$의 값도 정의하지 않음.] 이 예제에서 \n",
    "\n",
    "- $m(\\{0,1\\})=2$\n",
    "- $m(\\{-1\\})=1$\n",
    "- $m(\\{2\\})=1$\n",
    "- $\\dots$ \n",
    "\n",
    "이라고 하면 $m$은 잴 수 있는 공간 $(\\Omega,\\sigma({\\cal A}))$에서의 카운팅메져가 되고, 그 $m$은 $A \\in {\\cal A}$에서의 값으로 유일하게 결정된다. 문제가 생길만한 것은 \n",
    "\n",
    "- $m(\\{0,1\\})=2$\n",
    "- $m(\\{-1\\})=1$\n",
    "- $m(\\{2\\})=\\infty$ <-- 이러면 곤란\n",
    "- $\\dots$ \n",
    "\n",
    "와 같은 경우이므로, 이 경우만 제약하면 된다. 즉 $m$이 시그마유한측도라고 제한하면 될 것 같다. "
   ]
  },
  {
   "cell_type": "markdown",
   "id": "6851f735",
   "metadata": {
    "slideshow": {
     "slide_type": "slide"
    }
   },
   "source": [
    "## state "
   ]
  },
  {
   "cell_type": "markdown",
   "id": "e475ce2d-b913-4c2c-91a0-89431140366d",
   "metadata": {
    "slideshow": {
     "slide_type": "slide"
    }
   },
   "source": [
    "`-` **<U>Thm</U>**: $(\\Omega, \\sigma({\\cal A}),m)$을 시그마유한측도공간($\\sigma$-finite measure space)이라고 하자. ${\\cal A}$은 아래를 만족하는 파이시스템이라고 하자. \n",
    "\n",
    "1. $\\exists A_1,A_2,\\dots \\in {\\cal A}$ such that $\\cup_{i=1}^{\\infty} A_i = \\Omega$\n",
    "2. $\\forall i \\in \\mathbb{N}:~ m(A_i) <\\infty$\n",
    "\n",
    "그렇다면 메져 $m:\\sigma({\\cal A}) \\to [0,\\infty]$의 값은 $m: {\\cal A} \\to [0,\\infty]$의 값에 의하여 유일하게 결정된다.\n",
    "\n",
    "> 조건 1,2는 결국 $m$을 시그마유한측도로 만들어주는 그 집합열이 $\\sigma({\\cal A})-{\\cal A}$가 아니라 ${\\cal A}$에 있어야 한다는 의미임. "
   ]
  },
  {
   "cell_type": "markdown",
   "id": "8b24ea77-7c64-4893-82e1-7ef52b65bd56",
   "metadata": {
    "toc-hr-collapsed": true
   },
   "source": [
    "## 증명 "
   ]
  },
  {
   "cell_type": "markdown",
   "id": "03ae64cd-a0bb-4154-9d51-d34a01979cbb",
   "metadata": {},
   "source": [
    "# 카라테오도리 확장이론 ($\\star\\star\\star$)"
   ]
  },
  {
   "cell_type": "markdown",
   "id": "2130d300-a906-4f74-8b03-7a9c091e7b80",
   "metadata": {},
   "source": [
    "## state "
   ]
  },
  {
   "cell_type": "code",
   "execution_count": null,
   "id": "0f2f777e-5761-4fc9-8c20-5b3619d16935",
   "metadata": {},
   "outputs": [],
   "source": []
  }
 ],
 "metadata": {
  "celltoolbar": "Slideshow",
  "kernelspec": {
   "display_name": "Python 3",
   "language": "python",
   "name": "python3"
  },
  "language_info": {
   "codemirror_mode": {
    "name": "ipython",
    "version": 3
   },
   "file_extension": ".py",
   "mimetype": "text/x-python",
   "name": "python",
   "nbconvert_exporter": "python",
   "pygments_lexer": "ipython3",
   "version": "3.8.16"
  }
 },
 "nbformat": 4,
 "nbformat_minor": 5
}
