{
 "cells": [
  {
   "cell_type": "raw",
   "id": "b6fc7968-cc29-4724-89af-e4fe56ffba40",
   "metadata": {},
   "source": [
    "---\n",
    "title: \"4wk: 측도론 (1)\"\n",
    "author: \"최규빈\"\n",
    "date: \"03/28/2023\"\n",
    "---"
   ]
  },
  {
   "cell_type": "code",
   "execution_count": null,
   "id": "9e8d0813-c1f3-40b0-be40-41aa2dc5a647",
   "metadata": {},
   "outputs": [],
   "source": []
  }
 ],
 "metadata": {
  "kernelspec": {
   "display_name": "Python 3",
   "language": "python",
   "name": "python3"
  },
  "language_info": {
   "codemirror_mode": {
    "name": "ipython",
    "version": 3
   },
   "file_extension": ".py",
   "mimetype": "text/x-python",
   "name": "python",
   "nbconvert_exporter": "python",
   "pygments_lexer": "ipython3",
   "version": "3.8.16"
  }
 },
 "nbformat": 4,
 "nbformat_minor": 5
}
