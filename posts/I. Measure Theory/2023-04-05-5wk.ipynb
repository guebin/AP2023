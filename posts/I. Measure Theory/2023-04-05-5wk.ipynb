{
 "cells": [
  {
   "cell_type": "raw",
   "id": "b6fc7968-cc29-4724-89af-e4fe56ffba40",
   "metadata": {},
   "source": [
    "---\n",
    "title: \"5wk: 측도론 (1)\"\n",
    "author: \"최규빈\"\n",
    "date: \"03/28/2023\"\n",
    "---"
   ]
  },
  {
   "cell_type": "markdown",
   "id": "36326cdf-3f73-4244-bcef-1285888f10fe",
   "metadata": {},
   "source": [
    "# 수학과의 표현"
   ]
  },
  {
   "cell_type": "markdown",
   "id": "bb121515-2601-4265-a5bc-45e18e43a2bd",
   "metadata": {},
   "source": [
    "## 수학과의 기호 "
   ]
  },
  {
   "cell_type": "markdown",
   "id": "bf3eccc5-f145-471e-ac8d-28775d180dd6",
   "metadata": {},
   "source": [
    "`-` 아래는 기호는 몇 가지 영어단어의 축약형이다. \n",
    "\n",
    "- for all: $\\forall$ \n",
    "- exists: $\\exists$ \n",
    "- such that, satisfying: ${\\sf s.t.}$, ${\\sf st}$\n",
    "- if-then, implies, therefore: $\\Rightarrow$ \n",
    "- if and only if: $\\Leftrightarrow$ \n",
    "- because: $\\because$\n",
    "- therefore: $\\therefore$ \n",
    "- quod erat: $\\square$, $\\blacksquare$ \n",
    "- contradiction: $\\contradiction$ "
   ]
  },
  {
   "cell_type": "markdown",
   "id": "4aa1f6a3-8f59-4f07-a4fe-3730596a6945",
   "metadata": {},
   "source": [
    "`-` 위는 수학기호로 해석하기보다 영어단어로 해석하는 것이 편리하다. "
   ]
  },
  {
   "cell_type": "markdown",
   "id": "344e907e-8e92-45ac-9c23-fb755982efa9",
   "metadata": {},
   "source": [
    "`-` 예시1: 모든 실수 $x$에 대하여, $x^2$은 양수이다. \n",
    "\n",
    "**언어** \n",
    "- for any $x$ in $\\mathbb{R}$, $x^2 \\geq 0$. \n",
    "- for arbitrary $x \\in \\mathbb{R}$, $x^2 \\geq 0$. \n",
    "- for any choice of $x \\in \\mathbb{R}$, $x^2 \\geq 0$. \n",
    "- for all $x \\in \\mathbb{R}$, $x^2 \\geq 0$. \n",
    "- if $x \\in \\mathbb{R}$, then $x^2 \\geq 0$. \n",
    "\n",
    "**기호** \n",
    "- $\\forall x \\in \\mathbb{R}$: $x^2\\geq 0$. \n",
    "- $\\forall x \\in \\mathbb{R}$, $x^2\\geq 0$. \n",
    "- $x^2 \\geq 0$, for all $x \\in \\mathbb{R}$. \n",
    "- $x^2 \\geq 0$, $\\forall x \\in \\mathbb{R}$. \n",
    "- $x \\in \\mathbb{R} \\Rightarrow x^2 \\geq 0$. "
   ]
  },
  {
   "cell_type": "markdown",
   "id": "7737fb75-f0c5-42e3-8c6d-3fad18355560",
   "metadata": {},
   "source": [
    "> 거의 쓰는 사람 마음임, 그런데 뉘앙스가 조금씩 다름. "
   ]
  },
  {
   "cell_type": "markdown",
   "id": "a207e58d-3839-4a1f-bf92-c73f8822559b",
   "metadata": {},
   "source": [
    "`-` 예시2: $\\Omega$의 임의의 부분집합 $A$,$B$에 대하여, $A=B$ 일 필요충분조건은 $A\\subset B$ 이고 $B \\subset A$ 이어야 한다. \n",
    "\n",
    "**언어**\n",
    "- for all $A,B \\subset \\Omega$, $A=B$ if and only if (1) $A \\subset B$ and (2) $B \\subset A$. \n",
    "\n",
    "**기호**\n",
    "- $A = B \\Leftrightarrow A \\subset B \\text{ and } B \\subset A, \\forall A,B \\in \\Omega$. \n",
    "- $A = B \\Leftrightarrow \\big(A \\subset B \\text{ and } B \\subset A\\big), \\forall A,B \\in \\Omega$. \n",
    "- $\\forall A,B \\subset \\Omega$: $A = B \\Leftrightarrow \\big(A \\subset B \\text{ and } B \\subset A\\big)$"
   ]
  },
  {
   "cell_type": "markdown",
   "id": "3a224d89-50ad-498a-a3f5-643febf1ccc3",
   "metadata": {},
   "source": [
    "> 의미가 때로는 모호할때가 있지만 눈치껏 알아먹어야 한다. "
   ]
  },
  {
   "cell_type": "markdown",
   "id": "c859664e-749a-453d-9fa7-85278de5458e",
   "metadata": {},
   "source": [
    "`-` 예시3: $ax^2+bx+c=0$ 의 꼴에서 $b^2-4ac>0$ 이라면 서로 다른 두 실근을 가진다. (단 $a$,$b$,$c$ 는 모두 실수)\n",
    "\n",
    "**언어**\n",
    "- In $ax^2+bx+c=0$ where $a,b,c \\in \\mathbb{R}$, there exists $x_1,x_2$ in $\\mathbb{R}$ such that (1) $x_1\\neq x_2$ and (2) $ax_1^2+bx_1+c=ax_2^2+bx_2+c=0$ if $b^2-4ac>0$\n",
    "- For any $a,b,c$ in $\\mathbb{R}$ such that $b^2-4ac >0$, there exists $x_1,x_2$ in $\\mathbb{R}$ such that (1) $x_1\\neq x_2$ and (2) $ax_1^2+bx_1+c=ax_2^2+bx_2+c=0$. \n",
    "- For any $a,b,c$ in $\\mathbb{R}$, the equation $ax^2 + bx + c = 0$ has two distint real roots if $b^2-4ac>0$.\n",
    "- $b^2-4ac >0$ implies the equation $ax^2 + bx + c = 0$ has two distint real roots where $a,b,c$ in $\\mathbb{R}$.\n",
    "- $b^2-4ac >0$, $a,b,c \\in \\mathbb{R}$ $\\Rightarrow$ The equation $ax^2 + bx + c = 0$ has two distinct real roots.\n",
    "\n",
    "**기호**\n",
    "- $\\forall a,b,c \\in \\mathbb{R}~s.t.~ b^2-4ac>0:$ $~\\exists x_1, x_2 \\in \\mathbb{R}$ such that (1) $x_1\\neq x_2$ (2) $ax_1^2+bx_1+c = ax_2^2+bx_2+c =0$. \n",
    "- $b^2-4ac>0$ $\\Rightarrow$ $\\big(~\\exists x_1, x_2 \\in \\mathbb{R}, x_1\\neq x_2 ~ s.t.~ ax_1^2+bx_1+c = ax_2^2+bx_2+c\\big)$, where $a,b,c \\in \\mathbb{R}$.\n",
    "- $\\forall x_1,x_2 \\in \\mathbb{R}~s.t.~ ax_1^2+bx_1+c = ax_2^2+bx_2+c =0:~b^2 -4ac >0 \\Rightarrow x_1 \\neq x_2$\n",
    "\n"
   ]
  },
  {
   "cell_type": "markdown",
   "id": "431afa69-15ef-422b-9def-8712f597ea77",
   "metadata": {},
   "source": [
    "> 이런거 state하는 방법은 진짜 무궁무진할듯."
   ]
  },
  {
   "cell_type": "markdown",
   "id": "ea2200fb-b854-43bd-88c1-0228ab499fd3",
   "metadata": {},
   "source": [
    "> 고백: 예전에 이런거 정리할 생각했었는데 어리석은 생각이었음. "
   ]
  },
  {
   "cell_type": "markdown",
   "id": "acf63036-3aad-4dbf-8210-8f07c711633a",
   "metadata": {},
   "source": [
    "## 기타 약어 및 상투적인 표현 "
   ]
  },
  {
   "cell_type": "markdown",
   "id": "2e3decd8-1d20-4c43-978f-a27008b2b9f5",
   "metadata": {},
   "source": [
    "`-` **약어** \n",
    "\n",
    "- ${\\sf WLOG}$: Without Loss Of Generality \n",
    "- ${\\sf WTS}$: What/Want To Show\n",
    "- ${\\sf iff}$: if and only if \n",
    "- ${\\sf Q.E.D.}$: 증명완료 (쓰지마..) "
   ]
  },
  {
   "cell_type": "markdown",
   "id": "1ccee1ef-fa43-4378-983e-59cf8fdad13d",
   "metadata": {},
   "source": [
    "`-` 자주쓰는 표현 \n",
    "\n",
    "- It "
   ]
  },
  {
   "cell_type": "markdown",
   "id": "976d5a9d-be59-4890-a681-d7d14b054707",
   "metadata": {},
   "source": [
    "# Classes of sets"
   ]
  },
  {
   "cell_type": "markdown",
   "id": "f1d8970d-5249-4fd0-bd2d-c0c7e0b042e3",
   "metadata": {},
   "source": [
    "## Before "
   ]
  },
  {
   "cell_type": "markdown",
   "id": "08b2eaca-c2e9-4179-8e17-bca1c529f760",
   "metadata": {},
   "source": [
    "`-` 아래의 기호를 약속\n",
    "\n",
    "- 전체집합: $\\Omega$\n",
    "- 관심있는 집합의 모임: ${\\cal A} \\subset 2^{\\Omega}$"
   ]
  },
  {
   "cell_type": "markdown",
   "id": "c7827b5f-2e4a-4ce7-8a93-72967cadd494",
   "metadata": {},
   "source": [
    "`-` $\\Omega \\neq \\emptyset$, ${\\cal A} \\neq \\emptyset$ 를 가정. "
   ]
  },
  {
   "cell_type": "markdown",
   "id": "99cb5b42-f1ec-416f-ada0-c8e7f9a9d734",
   "metadata": {},
   "source": [
    "`-` 약속: 집합 ${\\cal A} \\subset 2^{\\Omega}$에 대하여 아래와 같은 용어를 약속하자. \n",
    "\n",
    "- $\\cap$-closed (closed under intersection) or a **$\\pi$-system**: $\\forall A,B \\in {\\cal A}:~ A \\cap B \\in {\\cal A}$\n",
    "- $\\sigma$-$\\cap$-closed (closed under countable interserction): $\\forall \\{A_i\\}_{i=1}^{\\infty} \\subset {\\cal A}:~ \\cap_{i=1}^{\\infty} A_i \\in {\\cal A}$\n",
    "- $\\cup$-closed (closed under unions): $\\forall A,B \\in {\\cal A}:~  A\\cup B \\in {\\cal A}$\n",
    "- $\\sigma$-$\\cup$-closed (closed under countable unois): $\\forall \\{A_i\\}_{i=1}^{\\infty} \\subset {\\cal A}:~ \\cup_{i=1}^{\\infty}A_i \\in {\\cal A}$\n",
    "- $-$closed (closed under differences): $\\forall A,B \\in {\\cal A}:~ A-B \\in {\\cal A}$\n",
    "- $^c$-closed (closed under complements): $\\forall A \\in {\\cal A}:~ A^c \\in {\\cal A}$"
   ]
  },
  {
   "cell_type": "markdown",
   "id": "a06b70b4-a42b-4007-8050-71e76d660401",
   "metadata": {},
   "source": [
    "`-` 우리만의 약속: \n",
    "\n",
    "- 앞으로 서로소인 집합들에 대한 합집합은 기호로 $\\uplus$라고 표현하겠다. \n",
    "- 따라서 앞으로 $B_1 \\uplus B_2$의 의미는 (1) $B_1 \\cup B_2$ (2) $B_1 \\cap B_2 = \\emptyset$ 을 의미한다고 정의하겠다. (꼭 서로소임을 명시하지 않아도) \n",
    "- $\\sigma$-$\\uplus$-closed 의 의미는 $\\uplus_{i=1}^{\\infty}B_i \\in {\\cal A}, \\forall \\{B_i\\}_{i=1}^{\\infty} \\subset {\\cal A}:$ 의 의미이다. "
   ]
  },
  {
   "cell_type": "markdown",
   "id": "16c970a1-c626-42e0-9758-8fa1ec27a615",
   "metadata": {},
   "source": [
    "`-` 이론: ${\\cal A}\\subset 2^{\\Omega}$ 가 여집합에 닫혀있다면, 아래가 성립한다. \n",
    "\n",
    "- ${\\cal A}$가 교집합^[finite]에 닫혀있음. $\\Leftrightarrow$ ${\\cal A}$가 합집합^[finite]에 닫혀있음. \n",
    "- ${\\cal A}$가 가산교집합^[countable infinite]에 닫혀있음. $\\Leftrightarrow$ ${\\cal A}$가 가산합집합^[countable infite]에 닫혀있음. "
   ]
  },
  {
   "cell_type": "markdown",
   "id": "6626b16f-0873-4f4e-9f43-432682d23cd6",
   "metadata": {},
   "source": [
    "(증명) 생략 "
   ]
  },
  {
   "cell_type": "markdown",
   "id": "b93e9521-1194-44d1-bdb5-4cd34e1176aa",
   "metadata": {},
   "source": [
    "`-` 이론: ${\\cal A}\\subset 2^{\\Omega}$가 차집합에 닫혀있다면, 아래가 성립한다. \n",
    "\n",
    "- ${\\cal A}$는 교집합에 닫혀있다. \n",
    "- ${\\cal A}$가 가산합집합에 닫혀있다. $\\Rightarrow$ ${\\cal A}$가 가산교집합에 닫혀있다. \n",
    "- $\\forall \\{A_i\\} \\subset {\\cal A},~ \\exists \\{B_i\\} \\subset {\\cal A}$ such that $\\cup_{i=1}^{\\infty} A_i = \\uplus_{i=1}^{\\infty} B_i$.^[이건 차집합에 반쯤 닫혀있어도 성립함]"
   ]
  },
  {
   "cell_type": "markdown",
   "id": "79a97c6b-c1dc-44e1-93e9-ec0aaef7c7ba",
   "metadata": {},
   "source": [
    "(증명) 생략 "
   ]
  },
  {
   "cell_type": "markdown",
   "id": "e416cc9d-f63f-4e82-954a-de64b5cc7dad",
   "metadata": {},
   "source": [
    "> 차집합에 닫혀있다는게 엄청 좋은 거였음. "
   ]
  },
  {
   "cell_type": "markdown",
   "id": "e5a3c8a1-b731-4ed6-9921-f9e9e80956cf",
   "metadata": {},
   "source": [
    "## 시그마필드 ($\\star\\star\\star$)"
   ]
  },
  {
   "cell_type": "markdown",
   "id": "d73b8acb-1d0e-4702-92bb-2eaf3c8f6fe8",
   "metadata": {},
   "source": [
    "`-` **<U>정의</U>**: 시그마필드 ($\\sigma$-field, $\\sigma$-algebra) \n",
    "\n",
    "집합 ${\\cal F} \\subset 2^{\\Omega}$가 아래의 조건을 만족하면 ${\\cal F}$를 $\\Omega$에 대한 시그마필드라고 부른다. \n",
    "\n",
    "1. $\\Omega \\in {\\cal F}$.\n",
    "2. ${\\cal F}$는 여집합에 닫혀있다. \n",
    "3. ${\\cal F}$는 가산합집합에 닫혀있다. \n"
   ]
  },
  {
   "cell_type": "markdown",
   "id": "0fb01261-d1e1-4268-99fe-e17ca1f60bee",
   "metadata": {},
   "source": [
    "`-` 시그마필드의 정의에서 1을 생략하기도 한다. 이럴 경우는 특별히 ${\\cal F}\\neq\\emptyset$임을 강조한다. 1을 생략할 수 있는 논리는 아래와 같다. \n",
    "\n",
    "- ${\\cal F}$는 공집합이 아니므로 최소한 하나의 집합 $A$는 포함해야 한다. 즉 $A \\in {\\cal F}$. \n",
    "- 2번 원리에 의하여 $A^c \\in {\\cal F}$. \n",
    "- 시그마필드는 합집합에 닫혀있으므로 $A\\cup A^c \\in {\\cal F}$. "
   ]
  },
  {
   "cell_type": "markdown",
   "id": "83c3e5f2-403b-483b-9768-d1d399b6a2bf",
   "metadata": {},
   "source": [
    "## 알지브라, 필드"
   ]
  },
  {
   "cell_type": "markdown",
   "id": "92469404-db78-47b0-bc9c-b0dd7f11bfbf",
   "metadata": {},
   "source": [
    "`-` **<U>정의1</U>:** 알지브라, 필드 (algebra, field)\n",
    "\n",
    "집합 ${\\cal A}\\subset 2^{\\Omega}$가 아래의 조건을 만족하면 ${\\cal A}$를 $\\Omega$에 대한 대수라고 부른다. \n",
    "\n",
    "1. $\\Omega \\in {\\cal A}$.\n",
    "2. ${\\cal A}$는 차집합에 닫혀있다. \n",
    "3. ${\\cal A}$는 합집합에 닫혀있다. "
   ]
  },
  {
   "cell_type": "markdown",
   "id": "7bcc7b3c-b3fc-4b2a-be92-088bb8b60d45",
   "metadata": {},
   "source": [
    "`-` 알지브라 역시 1의 조건을 생략하기도 한다. "
   ]
  },
  {
   "cell_type": "markdown",
   "id": "bec10a2f-56c8-4921-b161-6d2f49243147",
   "metadata": {},
   "source": [
    "`-` 전체집합을 포함 $\\Rightarrow$ (차집합에 닫혀있음 $\\Leftrightarrow$ 여집합에 닫혀있음) $\\Rightarrow$ 따라서 대수는 여집합에 닫혀있다. "
   ]
  },
  {
   "cell_type": "markdown",
   "id": "c0adf2a4-3499-4a4a-acb0-7786e3afce30",
   "metadata": {},
   "source": [
    "`-` 차집합에 닫혀있음 $\\Rightarrow$ 교집합에 닫혀있게 된다. \n",
    "\n",
    "- 혹은 (여집합에 닫혀있음 \\& 합집합에 닫혀있음) $\\Rightarrow$ 교집합에 닫혀있음. "
   ]
  },
  {
   "cell_type": "markdown",
   "id": "e0e18fa1-b90f-4b2b-b0d8-1aa3143731b8",
   "metadata": {},
   "source": [
    "`-` **<U>정의2</U>:** 알지브라의 또 다른 정의\n",
    "\n",
    "집합 ${\\cal A}\\subset 2^{\\Omega}$가 아래의 조건을 만족하면 ${\\cal A}$를 $\\Omega$에 대한 대수라고 부른다. \n",
    "\n",
    "1. $\\Omega \\in {\\cal A}$.\n",
    "2. ${\\cal A}$는 교집합에 닫혀있다. \n",
    "3. ${\\cal A}$는 여집합에 닫혀있다. \n"
   ]
  },
  {
   "cell_type": "markdown",
   "id": "280db750-b642-44fa-b185-f28ab06e0f11",
   "metadata": {},
   "source": [
    "`-` 여집합에 닫혀있음 $\\Rightarrow$ (합집합에 닫혀있음 $\\Leftrightarrow$ 교집합에 닫혀있음) $\\Rightarrow$ 2번 조건을 합집합으로 바꿔도 무방 "
   ]
  },
  {
   "cell_type": "markdown",
   "id": "6938eca8-6cb6-4507-b444-1183620b1c17",
   "metadata": {},
   "source": [
    "`-` **<U>정의3</U>:** 알지브라의 또 또 다른 정의 (교재의 정의)\n",
    "\n",
    "집합 ${\\cal A}\\subset 2^{\\Omega}$가 아래의 조건을 만족하면 ${\\cal A}$를 $\\Omega$에 대한 대수라고 부른다. \n",
    "\n",
    "1. $\\Omega \\in {\\cal A}$.\n",
    "2. ${\\cal A}$는 여집합에 닫혀있다. \n",
    "3. ${\\cal A}$는 합집합에 닫혀있다. \n",
    "\n"
   ]
  },
  {
   "cell_type": "markdown",
   "id": "813bd688-c797-4086-8e53-7ba8c6f0cd30",
   "metadata": {},
   "source": [
    "`-` **most important example** of algebra\n",
    "\n",
    "- $\\Omega = \\{H,T\\}$, ${\\cal A} = 2^\\Omega$ 일때, ${\\cal A}$는 알지브라이다. ($|\\Omega| <\\infty$ 이라면 \"시그마필드 = 알지브라(필드)\" 이다.) "
   ]
  },
  {
   "cell_type": "markdown",
   "id": "daf891d7-8048-468f-b535-ffa017099277",
   "metadata": {},
   "source": [
    "## 링"
   ]
  },
  {
   "cell_type": "markdown",
   "id": "e4e9942f-8df0-4c59-8d54-99fe91db4d38",
   "metadata": {},
   "source": [
    "`-` **<U>정의</U>:** 링 (ring)\n",
    "\n",
    "집합 ${\\cal A}\\subset 2^{\\Omega}$가 아래의 조건을 만족하면 ${\\cal A}$를 $\\Omega$에 대한 링이라고 부른다. \n",
    "\n",
    "1. $\\emptyset \\in {\\cal A}$.\n",
    "2. ${\\cal A}$는 차집합에 닫혀있다.\n",
    "3. ${\\cal A}$는 합집합에 닫혀있다. "
   ]
  },
  {
   "cell_type": "markdown",
   "id": "f9916469-7d25-4fc1-98c0-3fda7a6457c3",
   "metadata": {},
   "source": [
    "`-` 여기에서 1의 조건을 생략할 수 있다. (이럴경우 특별히 ${\\cal A}\\neq \\emptyset$ 임을 강조한다.) \n",
    "\n",
    "- ${\\cal A}$는 공집합이 아니므로 최소한 하나의 원소 $A$는 가져야 한다.  \n",
    "- 조건2에 의하여 $A-A$ 역시 ${\\cal A}$의 원소이다. "
   ]
  },
  {
   "cell_type": "markdown",
   "id": "a59da7da-fb88-49a8-ac49-874e33e9e460",
   "metadata": {},
   "source": [
    "`-` 링은 차집합에 닫혀있음 $\\Rightarrow$ 링은 교집합에도 닫혀있음 $\\Rightarrow$ 링은 교집합과 합집합 모두에 닫혀 있다. "
   ]
  },
  {
   "cell_type": "markdown",
   "id": "f940226d-6b05-4228-bfbd-e6b1a3746a66",
   "metadata": {},
   "source": [
    "`-` 링과 알지브라의 차이는 전체집합이 포함되느냐 마느냐임 $\\Rightarrow$ 그런데 이 차이로 인해 알지브라는 여집합에 닫혀있지만 링은 여집합에 닫혀있지 않게 된다. "
   ]
  },
  {
   "cell_type": "markdown",
   "id": "f8b9d774-688d-4f88-8b08-4ff2fad57ad2",
   "metadata": {},
   "source": [
    "## 시그마링"
   ]
  },
  {
   "cell_type": "markdown",
   "id": "3288495e-7ccf-4a6e-a74e-69cf1caffcd5",
   "metadata": {},
   "source": [
    "`-` **<U>정의</U>:** 시그마링 ($\\sigma$-ring)\n",
    "\n",
    "집합 ${\\cal A}\\subset 2^{\\Omega}$가 아래의 조건을 만족하면 ${\\cal A}$를 $\\Omega$에 대한 링이라고 부른다. \n",
    "\n",
    "1. $\\emptyset \\in {\\cal A}$.\n",
    "2. ${\\cal A}$는 차집합에 닫혀있다.\n",
    "3. ${\\cal A}$는 가산합집합에 닫혀있다. "
   ]
  },
  {
   "cell_type": "markdown",
   "id": "20499ed4-78ec-4369-ad01-96022062a717",
   "metadata": {},
   "source": [
    "`-` 여기에서 1의 조건을 생략할 수 있다. "
   ]
  },
  {
   "cell_type": "markdown",
   "id": "61fe961e-aa37-4558-95b9-22bdc25a4a2a",
   "metadata": {},
   "source": [
    "## 세미알지브라 ($\\star$)"
   ]
  },
  {
   "cell_type": "markdown",
   "id": "55fcf690-ceb4-4128-92a3-1a92e09b787d",
   "metadata": {},
   "source": [
    "`-` **<U>정의1</U>:** 세미알지브라 (semi-algebra) // ref : [위키북스](https://en.wikibooks.org/wiki/Measure_Theory/Basic_Structures_And_Definitions/Semialgebras,_Algebras_and_%CF%83-algebras)\n",
    "\n",
    "집합 ${\\cal A}\\subset 2^{\\Omega}$가 아래의 조건을 만족하면 ${\\cal A}$를 $\\Omega$에 대한 세미알지브라 라고 부른다. \n",
    "\n",
    "1. $\\Omega \\in {\\cal A}$.\n",
    "2. ${\\cal A}$는 교집합에 닫혀있다. \n",
    "3. $\\forall A,B \\in {\\cal A}, \\exists \\{B_i\\}_{i=1}^{n} \\subset {\\cal A}$ such that $$A-B = \\uplus_{i=1}^{n} B_i.$$"
   ]
  },
  {
   "cell_type": "markdown",
   "id": "cd3f51af-6464-4c12-8efc-b507210e4bf7",
   "metadata": {},
   "source": [
    "> 3번을 ${\\cal A}$가 차집합에 반쯤 닫혀있다고 표현한다. 즉 차집합 자체가 ${\\cal A}$에 들어가는건 아니지만 차집합의 disjoint한 조각들은 모두 ${\\cal A}$에 들어간다. "
   ]
  },
  {
   "cell_type": "markdown",
   "id": "53c7a149-44e3-46c4-b97d-13954e014962",
   "metadata": {},
   "source": [
    "`-` 세미알지브라는 공집합을 포함한다. (이때 ${\\cal A}\\neq \\emptyset$임을 강조함)\n",
    "\n",
    "- ${\\cal A}$는 공집합이 아니므로 최소한 하나의 집합 $A$는 포함해야 한다. 즉 $A \\in {\\cal \bA}$. \n",
    "- $A \\in {\\cal A}$이면 조건3에 의하여 $A-A =\\emptyset$을 ${\\cal A}$의 원소들의 countable union으로 만들 수 있어야 한다. 이 조건을 만족하기 위해서는 $\\emptyset \\in {\\cal A}$이어야만 한다. "
   ]
  },
  {
   "cell_type": "markdown",
   "id": "bbbf484f-9bf9-4ddd-8209-3c61ac45fee0",
   "metadata": {},
   "source": [
    "`-` **<U>정의2</U>:** 세미알지브라의 또 다른 정의 // ref: [세미링의 위키에서 언급](https://en.wikipedia.org/wiki/Semiring), Durret의 정의.\n",
    "\n",
    "집합 ${\\cal A}\\subset 2^{\\Omega}$가 아래의 조건을 만족하면 ${\\cal A}$를 $\\Omega$에 대한 세미알지브라 라고 부른다. \n",
    "\n",
    "1. $\\Omega \\in {\\cal A}$\n",
    "1. ${\\cal A}$는 교집합에 닫혀있다. \n",
    "2. $\\forall A \\in {\\cal A}, \\exists \\{B_i\\}_{i=1}^{n} \\subset {\\cal A}$ such that $$A^c = \\uplus_{i=1}^{n} B_i.$$\n"
   ]
  },
  {
   "cell_type": "markdown",
   "id": "c7f77f5a-6be9-4213-b04f-c706e412e28f",
   "metadata": {},
   "source": [
    "> 3번을 ${\\cal A}$가 여집합에 반쯤 닫혀있다고 표현한다. 즉 여집합 자체가 ${\\cal A}$에 들어가는건 아니지만 차집합의 disjoint한 조각들은 모두 ${\\cal A}$에 들어간다. "
   ]
  },
  {
   "cell_type": "markdown",
   "id": "db17992a-d8fe-46e7-b61a-06fca215372a",
   "metadata": {},
   "source": [
    "`-` 이 정의에서도 세미알지브라는 공집합을 포함한다. (이때 ${\\cal A}\\neq \\emptyset$임을 강조함)\n",
    "\n",
    "- ${\\cal A}$는 공집합이 아니므로 최소한 하나의 집합 $A$는 포함해야 한다. 즉 $A \\in {\\cal A}$. \n",
    "- 3에 의하여 $A^c=\\uplus_{i=1}^{n}B_i$를 만족하는 $B_1,\\dots, B_n$ 역시 ${\\cal A}$에 포함되어야 한다. \n",
    "- 2에 의하여 $A \\cap B_1=\\emptyset$ 역시 ${\\cal A}$에 포함되어야 한다. "
   ]
  },
  {
   "cell_type": "markdown",
   "id": "932a22c6-e2b9-4d5c-937e-71c99236b415",
   "metadata": {},
   "source": [
    "`-` 교재의 정의: 정의2에서 $\\Omega \\in {\\cal A}$이 생략되어 있음. \n",
    "\n",
    "- 왜 생략할 수 있는지 모르겠음. (교재가 틀렸을 수도 있음) "
   ]
  },
  {
   "cell_type": "markdown",
   "id": "4ac9076b-7d6b-4670-8e02-d4d18aaba533",
   "metadata": {},
   "source": [
    "`-` **most important example** of semi-algebra\n",
    "\n",
    "- $\\Omega=\\mathbb{R}$, ${\\cal A} = \\{(a,b]: -\\infty \\leq a < b \\leq \\infty \\}$ 일때 ${\\cal A}$은 $\\Omega=\\mathbb{R}$에 대한 semi-algebra이다. "
   ]
  },
  {
   "cell_type": "markdown",
   "id": "21e18951-adcf-478a-a319-32817c4dd9f4",
   "metadata": {},
   "source": [
    "## 세미링 $(\\star)$"
   ]
  },
  {
   "cell_type": "markdown",
   "id": "f3a49321-90ee-470f-8b63-1bdc85eda3e2",
   "metadata": {},
   "source": [
    "`-` **<U>정의</U>:** 세미링\n",
    "\n",
    "집합 ${\\cal A}\\subset 2^{\\Omega}$가 아래의 조건을 만족하면 ${\\cal A}$를 $\\Omega$에 대한 세미링이라고 부른다. \n",
    "\n",
    "1. $\\emptyset \\in {\\cal A}$.\n",
    "2. ${\\cal A}$는 교집합에 닫혀있다. \n",
    "3. ${\\cal A}$는 차집합에 반쯤 닫혀있다. "
   ]
  },
  {
   "cell_type": "markdown",
   "id": "704cede0-0b17-4f9e-9053-a0c067bb0a71",
   "metadata": {},
   "source": [
    "## 파이시스템 ($\\star\\star$)"
   ]
  },
  {
   "cell_type": "markdown",
   "id": "6fe6e982-aae2-4a0e-94c6-b933baf56b59",
   "metadata": {},
   "source": [
    "`-` **<U>정의</U>:** $\\pi$-system\n",
    "\n",
    "집합 ${\\cal A}\\subset 2^{\\Omega}$가 아래의 조건을 만족하면 ${\\cal A}$를 $\\Omega$에 대한 파이스시템 이라고 부른다. \n",
    "\n",
    "1. ${\\cal A}$는 교집합에 닫혀있다. "
   ]
  },
  {
   "cell_type": "markdown",
   "id": "8991fa22-53ad-4657-9d7a-3fab274977c4",
   "metadata": {
    "tags": []
   },
   "source": [
    "## 람다시스템 ($\\star$)"
   ]
  },
  {
   "cell_type": "markdown",
   "id": "1ddb058f-365b-43c5-9893-840284537882",
   "metadata": {},
   "source": [
    "`-` **<U>정의</U>:** $\\lambda$-system\n",
    "\n",
    "집합 ${\\cal A}\\subset 2^{\\Omega}$가 아래의 조건을 만족하면 ${\\cal A}$를 $\\Omega$에 대한 람다시스템 이라고 부른다. \n",
    "\n",
    "1. $\\Omega \\in {\\cal A}$\n",
    "2. $\\forall A,B \\in {\\cal A}:~ A\\subset B \\Rightarrow B-A \\in {\\cal A}$\n",
    "3. $\\forall B_1,B_2,\\dots \\in {\\cal A}$ such that $B_1,B_2\\dots$ are disjoint: $$\\uplus_{i=1}^{\\infty} B_i \\in {\\cal A}$$"
   ]
  },
  {
   "cell_type": "markdown",
   "id": "179ae090-1dd6-45a6-8f0a-bb1b2dc9bd34",
   "metadata": {},
   "source": [
    "> 람다시스템은 1. 전체집합이 포함되고 2. 두 집합이 포함관계에 있는 경우 차집합에 닫혀있으며 3. 서로소인 가산합집합에 닫혀있다. "
   ]
  },
  {
   "cell_type": "markdown",
   "id": "3516df49-97b3-406a-a920-54b5db4a51d5",
   "metadata": {},
   "source": [
    "## 정리"
   ]
  },
  {
   "cell_type": "markdown",
   "id": "a85e5350-46e4-45c7-8740-0090a911574a",
   "metadata": {},
   "source": [
    "`-` 정리표 (hw): 물음표를 채워라"
   ]
  },
  {
   "cell_type": "markdown",
   "id": "11ab34f0-5457-49da-a990-2613a263d30a",
   "metadata": {},
   "source": [
    "||$A \\cap B$|$\\emptyset$|$A-B$|$\\cup_iA_i=\\uplus_i B_i$|$\\Omega$|$A^c$|$A\\cup B$|$\\cup_{i=1}^{\\infty}A_i$ |$\\uplus_{i=1}^{\\infty}B_i$|$\\cap_{i=1}^{\\infty}A_i$|\n",
    "|:-:|:-:|:-:|:-:|:-:|:-:|:-:|:-:|:-:|:-:|:-:|\n",
    "|$\\pi$-system|$O$|$X$|$X$|$X$|$X$|$X$|$X$|$X$|$X$|$X$|\n",
    "|semi-ring|$?$|$?$|$\\Delta$|$?$|$?$|$?$|$?$|$?$|$?$|$?$|\n",
    "|semi-algebra|$?$|$?$|$\\Delta$|$?$|$O$|$\\Delta$|$?$|$?$|$?$|$?$|\n",
    "|ring|$?$|$?$|$?$|$?$|$?$|$?$|$?$|$?$|$?$|$?$|\n",
    "|algebra|$?$|$?$|$?$|$?$|$?$|$?$|$?$|$?$|$?$|$?$|\n",
    "|$\\sigma$-ring|$?$|$?$|$?$|$?$|$?$|$?$|$?$|$?$|$?$|$?$|\n",
    "|$\\lambda$-system|$?$|$?$|$\\Delta'$|$?$|$?$|$?$|$?$|$?$|$?$|$?$|\n",
    "|$\\sigma$-field|$O$|$O$|$O$|$O$|$O$|$O$|$O$|$O$|$O$|$O$|\n"
   ]
  },
  {
   "cell_type": "markdown",
   "id": "599bd393-cec9-494c-9bfb-a1eec490d5fa",
   "metadata": {},
   "source": [
    "# 귀찮아서 만든 이론1의 증명 "
   ]
  },
  {
   "cell_type": "markdown",
   "id": "929dc3c2-d5e3-4895-a8d8-9ce2b3ff9780",
   "metadata": {},
   "source": [
    "## 준비"
   ]
  },
  {
   "cell_type": "markdown",
   "id": "78a80507-cacd-4fde-8f6c-3b74c09a6fb6",
   "metadata": {},
   "source": [
    "`-` 예제1: ($\\star$) 임의의 인덱스 집합 $I\\neq\\emptyset$를 고려하자. 여기에서 $I$는 uncountable set일 수도 있다. 아래의 사실에 대하여 참 거짓을 판단하라. \n",
    "\n",
    "- ${\\cal F}_i$가 모두 시그마필드라면, $\\cap_{i \\in I}{\\cal F_i}$ 역시 시그마필드이다. "
   ]
  },
  {
   "cell_type": "markdown",
   "id": "50f3272f-5ef7-4214-bb07-dcfd7d40d225",
   "metadata": {},
   "source": [
    "(증명) "
   ]
  },
  {
   "cell_type": "markdown",
   "id": "de9fdbe1-1ec3-48ea-8ebf-dbb3788b2458",
   "metadata": {},
   "source": [
    "편의상 ${\\cal F}= \\cap_{i \\in I} {\\cal F}_i$ 라고 하자. ${\\cal F}$가 시그마필드임을 보이기 위해서는 \n",
    "\n",
    "1. $A \\in {\\cal F} \\Rightarrow A^c \\in {\\cal F}$\n",
    "2. $A_1,A_2 \\dots \\in {\\cal F} \\Rightarrow \\cup_{i}A_i \\in {\\cal F}$\n",
    "\n",
    "만 보이면 된다. (이럴때는 전체집합 조건하나를 빼는게 유리하다)"
   ]
  },
  {
   "cell_type": "markdown",
   "id": "a64f557c-68c4-49a5-8ca7-8b3d17473c6b",
   "metadata": {},
   "source": [
    "**1번체크**"
   ]
  },
  {
   "cell_type": "markdown",
   "id": "2be1d615-ef8e-4f61-a2f5-b4a579c22a5f",
   "metadata": {},
   "source": [
    "$A \\in {\\cal F} \\Rightarrow \\forall i: A \\in {\\cal F}_i \\Rightarrow \\forall i: A^c \\in {\\cal F}_i \\Rightarrow A^c \\in {\\cal F}$"
   ]
  },
  {
   "cell_type": "markdown",
   "id": "bef81cea-3d1d-4ded-b0c6-a2f74029bb89",
   "metadata": {},
   "source": [
    "**2번체크**"
   ]
  },
  {
   "cell_type": "markdown",
   "id": "7ec3bb1f-e15d-4096-8467-b134bbb983d8",
   "metadata": {},
   "source": [
    "$A_1,A_2,\\dots \\in {\\cal F} \\Rightarrow \\forall i: A_1,A_2,\\dots \\in {\\cal F}_i \\Rightarrow \\forall i: \\cup_jA_j \\in {\\cal F}_i \\Rightarrow \\cup_jA_j \\in {\\cal F}$"
   ]
  },
  {
   "cell_type": "markdown",
   "id": "d9aff47e-a920-498d-b29e-f59ca014c678",
   "metadata": {},
   "source": [
    "## 증명 "
   ]
  },
  {
   "cell_type": "markdown",
   "id": "36f9d400-801e-4698-bd29-7a0d3a5cfd60",
   "metadata": {},
   "source": [
    "`-` 귀찮아서 만든 이론1: 모든 ${\\cal A} \\subset 2^{\\Omega}$ 에 대하여 smallest $\\sigma$-field containing ${\\cal A}$, 즉 $\\sigma({\\cal A})$는 존재한다. (그리고 당연히 `smallest` 조건에 의에서 유일성이 보장됨)"
   ]
  },
  {
   "cell_type": "markdown",
   "id": "33e92b2d-0277-49e8-a1b9-958dc7e7f3e2",
   "metadata": {},
   "source": [
    "(엄밀하지 않은 증명) \n",
    "\n",
    "**존재성** \n",
    "\n",
    "존재야 하겠지.. \n",
    "\n",
    "**유일성** \n",
    "\n",
    "${\\cal A}$를 포함하는 모든 시그마필드를 교집합하면 $\\sigma({\\cal A})$가 된다. "
   ]
  },
  {
   "cell_type": "markdown",
   "id": "0f537dee-2a8d-4d80-978a-46003a6b252c",
   "metadata": {},
   "source": [
    "${\\cal A}$를 포함하는 시그마필드를 구하고 ${\\cal F}_1$이라고 하자. 또 ${\\cal A}$를 포함하는 시그마필드를 구하고 ${\\cal F}_2$, ${\\cal F}_3$ 등으로 놓는다. "
   ]
  },
  {
   "cell_type": "markdown",
   "id": "d8e99b6c-0bf7-42ed-bbca-66bbbe7ae989",
   "metadata": {},
   "source": [
    "이제 ${\\cal F} = {\\cal F}_1 \\cap {\\cal F}_2 \\cap \\dots = \\bigcap_{i=1}^{\\infty} {\\cal F}_i$를 정의하자. "
   ]
  },
  {
   "cell_type": "markdown",
   "id": "2214cb3b-debd-47ba-82d0-87c2e211e54d",
   "metadata": {},
   "source": [
    "1. ${\\cal F}$는 ${\\cal A}$를 포함한다. 즉 ${\\cal A} \\subset {\\cal F}$ 이다. ($\\because A \\in {\\cal A} \\Rightarrow A \\in {\\cal F})$\n",
    "2. ${\\cal F}$는 시그마필드이다. "
   ]
  },
  {
   "cell_type": "markdown",
   "id": "f51a3a38-3599-4bc9-818a-ff17ee8e1746",
   "metadata": {},
   "source": [
    "(엄밀하지 않은 이유) "
   ]
  },
  {
   "cell_type": "markdown",
   "id": "718ec8c4-90d3-461f-bd51-50f20c83621e",
   "metadata": {},
   "source": [
    "위의 증명은 마치 ${\\cal A}$를 포함하는 시그마필드가 countable 인 것 같은 착각을 준다. 하지만 uncoutable도 가능하다. "
   ]
  },
  {
   "cell_type": "markdown",
   "id": "a4315689-5cba-4d79-82a0-4992a2cd402f",
   "metadata": {},
   "source": [
    "`-` 아래는 교재의 언급 (p3)"
   ]
  },
  {
   "attachments": {
    "31f7d231-d451-4723-948e-dd5b8dcec59a.png": {
     "image/png": "[encoded data removed]"
    }
   },
   "cell_type": "markdown",
   "id": "1db89614-5bfd-4df4-91bd-24ad812b9e69",
   "metadata": {},
   "source": [
    "![그림1: Durret교재에서 언급된 \"귀찮아서 만든 이론1\"](attachment:31f7d231-d451-4723-948e-dd5b8dcec59a.png)"
   ]
  },
  {
   "cell_type": "markdown",
   "id": "e88e2ac2-a338-45e8-8dc7-e670260bc36d",
   "metadata": {},
   "source": [
    "# Dynkin's $\\pi$-$\\lambda$ theorem"
   ]
  },
  {
   "cell_type": "markdown",
   "id": "7ef65ce0-7e95-464c-ac6c-58e6b960299c",
   "metadata": {},
   "source": [
    "## 준비과정 "
   ]
  },
  {
   "cell_type": "markdown",
   "id": "29814ba6-a47f-4cc5-967a-01dae1fc1872",
   "metadata": {},
   "source": [
    "`-` 이론: 임의의 인덱스 집합 $I\\neq\\emptyset$를 고려하자. 여기에서 $I$는 uncountable set일 수도 있다. 아래의 사실이 성립한다. \n",
    "\n",
    "1. ${\\cal F}_i$가 모두 시그마필드라면, $\\cap_{i \\in I}{\\cal F_i}$ 역시 시그마필드이다. \n",
    "2. ${\\cal A}_i$가 모두 시그마링, $\\cap_{i \\in I}{\\cal A_i}$ 역시 시그마링이다. \n",
    "3. ${\\cal A}_i$가 모두 알지브라라면, $\\cap_{i \\in I}{\\cal A_i}$ 역시 알지브라이다. \n",
    "4. ${\\cal A}_i$가 모두 링이라면, $\\cap_{i \\in I}{\\cal A_i}$ 역시 링이다. \n",
    "5. ${\\cal A}_i$가 모두 람다시스템이라면, $\\cap_{i \\in I}{\\cal A_i}$ 역시 람다시스템이다. "
   ]
  },
  {
   "cell_type": "markdown",
   "id": "0952cea0-988c-4c11-8e68-55aeefbc33a0",
   "metadata": {},
   "source": [
    "> 세미알지브라, 세미링은 성립안함. "
   ]
  },
  {
   "cell_type": "markdown",
   "id": "6efd5e25-705a-4a2f-8dd5-81162fe4462a",
   "metadata": {},
   "source": [
    "> 파이시스템은 애매함. $\\cap_{i \\in I}{\\cal A}_i$가 공집합이 아니면 성립함. "
   ]
  },
  {
   "cell_type": "markdown",
   "id": "4a41ff28-8348-4e6d-877c-b2baa0c0a6c5",
   "metadata": {},
   "source": [
    "`-` 예제1: 아래를 고려하자. \n",
    "\n",
    "- $\\Omega = \\{1,2,3,4\\}$\n",
    "- ${\\cal A}_1 = \\{\\emptyset, \\{1\\}, \\{2,3\\}, \\{4\\}, \\Omega\\}$\n",
    "- ${\\cal A}_2 = \\{\\emptyset, \\{1\\}, \\{2\\}, \\{3,4\\}, \\Omega\\}$"
   ]
  },
  {
   "cell_type": "markdown",
   "id": "1cf43347-8d19-41d5-818d-fd83a2b22f0a",
   "metadata": {},
   "source": [
    "${\\cal A}_1, {\\cal A}_2$는 모두 세미알지브라이다. 하지만 ${\\cal A}_1 \\cap {\\cal A}_2 = \\{\\emptyset, \\Omega, \\{1\\}\\}$은 세미알지브라가 아니다. "
   ]
  },
  {
   "cell_type": "markdown",
   "id": "8dbece23-ca46-40ea-8a69-6048cc9481d3",
   "metadata": {},
   "source": [
    "> 이 예제에서 `세미알지브라`를 `세미링`으로 바꾸고 읽어도 성립함. "
   ]
  },
  {
   "cell_type": "markdown",
   "id": "57f7cf69-b3a5-4887-bc27-713f594559dc",
   "metadata": {},
   "source": [
    "`-` 이론: 임의의 ${\\cal A}$에 대하여 아래는 존재한다.\n",
    "\n",
    "- ${\\cal A}$를 포함하는 가장 작은 시그마필드, $\\sigma({\\cal A})$ \n",
    "- ${\\cal A}$를 포함하는 가장 작은 시그마링\n",
    "- ${\\cal A}$를 포함하는 가장 작은 알지브라\n",
    "- ${\\cal A}$를 포함하는 가장 작은 링 \n",
    "- ${\\cal A}$를 포함하는 가장 작은 람다시스템, $l({\\cal A})$"
   ]
  },
  {
   "cell_type": "markdown",
   "id": "013de1bf-6a0f-4e46-abee-d5c1eb57024d",
   "metadata": {},
   "source": [
    "`-` 참고: \"${\\cal A}$를 포함하는 가장 작은 세미링\", 혹은 \"${\\cal A}$를 포함하는 가장 작은 세미알지브라\"와 같은 것은 존재하지 않음. "
   ]
  },
  {
   "cell_type": "markdown",
   "id": "f3856d7b-5006-4912-973a-17ac1692f78c",
   "metadata": {},
   "source": [
    "`-` 예제3: 아래를 고려하자. \n",
    "\n",
    "- $\\Omega = \\{1,2,3,4\\}$\n",
    "- ${\\cal A} = \\{\\emptyset, \\Omega, \\{1\\}\\}$\n",
    "\n",
    "이때 ${\\cal A}$를 포함하는 가장 작은 세미알지브라가 \n",
    "\n",
    "$${\\cal A}_1 = \\{\\emptyset, \\Omega, \\{1\\}, \\{2,3,4\\}\\}$$\n",
    "\n",
    "라고 주장할 수는 없음. 왜냐하면 \n",
    "\n",
    "$${\\cal A}_2 = \\{\\emptyset, \\Omega, \\{1\\}, \\{2\\},\\{3\\},\\{4\\}\\}$$\n",
    "\n",
    "역시 ${\\cal A}$를 포함하는 세미알지브라이지만 ${\\cal A}_1 \\not \\subset {\\cal A}_2$이므로. "
   ]
  },
  {
   "cell_type": "markdown",
   "id": "61cb516e-2398-487b-9ddc-4de589abd978",
   "metadata": {},
   "source": [
    "`-` 이론: ${\\cal P}$가 파이시스템이라고 하자. 아래가 성립한다. \n",
    "\n",
    "1. ${\\cal P}$를 포함하는 가장 작은 시그마필드는 그 자체로 파이시스템이다. (즉 $\\sigma({\\cal P})$는 파이시스템이다) \n",
    "2. ${\\cal P}$를 포함하는 가장 작은 시그마링은 그 자체로 파이시스템이다. \n",
    "3. ${\\cal P}$를 포함하는 가장 작은 알지브라는 그 자체로 파이시스템이다. \n",
    "4. ${\\cal P}$를 포함하는 가장 작은 링은 그 자체로 파이시스템이다. \n",
    "5. ${\\cal P}$를 포함하는 가장 작은 람다시스템은 그 자체로 파이시스템이다?? (즉 $l({\\cal P})$는 파이시스템이다?)"
   ]
  },
  {
   "cell_type": "markdown",
   "id": "a879618c-2a98-4482-91ed-471d49b208a9",
   "metadata": {},
   "source": [
    "`-` 1-4는 자명한데, 5는 자명하지 않다. 하지만 성립한다. (5의 증명은 복잡함. 그냥 암기하자.)"
   ]
  },
  {
   "cell_type": "markdown",
   "id": "863fa411-3345-42d6-b7e9-f8ac6c856cdb",
   "metadata": {},
   "source": [
    "`-` 이론: ${\\cal A}$가 람다시스템이다. $\\Rightarrow$ (${\\cal A}$는 시그마필드이다. $\\Leftrightarrow$ ${\\cal A}$는 파이시스템이다.)"
   ]
  },
  {
   "cell_type": "markdown",
   "id": "32ea5681-6f60-4fde-99c8-d02128bcc3db",
   "metadata": {},
   "source": [
    "(증명) 아래의 표를 살펴보면 간단하게 증명가능하다. "
   ]
  },
  {
   "cell_type": "markdown",
   "id": "11e1a7f2-bd0d-46b8-94a6-4d731959f6e3",
   "metadata": {},
   "source": [
    "||$A \\cap B$|$\\emptyset$|$A-B$|$\\cup_iA_i=\\uplus_i B_i$|$\\Omega$|$A^c$|$A\\cup B$|$\\cup_{i=1}^{\\infty}A_i$ |$\\uplus_{i=1}^{\\infty}B_i$|$\\cap_{i=1}^{\\infty}A_i$|\n",
    "|:-:|:-:|:-:|:-:|:-:|:-:|:-:|:-:|:-:|:-:|:-:|\n",
    "|$\\pi$-system|$O$|$X$|$X$|$X$|$X$|$X$|$X$|$X$|$X$|$X$|\n",
    "|$\\lambda$-system|$X$|$O$|$\\Delta'$|$X$|$O$|$O$|$X$|$X$|$O$|$X$|\n",
    "|$\\sigma$-field|$O$|$O$|$O$|$O$|$O$|$O$|$O$|$O$|$O$|$O$|\n"
   ]
  },
  {
   "cell_type": "markdown",
   "id": "804482f6-c302-4cf9-8525-c2589db2e350",
   "metadata": {},
   "source": [
    "## 딘킨의 $\\pi-\\lambda$ 정리 "
   ]
  },
  {
   "cell_type": "markdown",
   "id": "f39d36a5-d768-4dbe-995a-eb8ae14e9fdb",
   "metadata": {},
   "source": [
    "`-` **<U>이론</U>**: 딘킨의 $\\pi-\\lambda$ 정리 ver1. ($\\star$)\n",
    "\n",
    "${\\cal P}$가 파이시스템이면 $l({\\cal P})=\\sigma({\\cal P})$이다. "
   ]
  },
  {
   "cell_type": "markdown",
   "id": "df8bafc6-94cb-4817-bce9-0b2a7fd750ea",
   "metadata": {},
   "source": [
    "(증명) "
   ]
  },
  {
   "cell_type": "markdown",
   "id": "c2043beb-a4f7-457b-82c1-409e409f54be",
   "metadata": {},
   "source": [
    "$l(\\cal P) \\subset \\sigma({\\cal P})$ 임을 보이고, $l(\\cal P) \\supset \\sigma({\\cal P})$ 임을 보이면된다. "
   ]
  },
  {
   "cell_type": "markdown",
   "id": "db1d9129-9729-4dd7-a8df-908f0398384b",
   "metadata": {},
   "source": [
    "\"**$\\subset$**\": 당연하다.^[직접 만들어봐, 시그마필드가 당연히 조건이 더 복잡하므로 이거저것 추가할 것이 많음]"
   ]
  },
  {
   "cell_type": "markdown",
   "id": "97573aec-3a95-4a5a-97b0-3132b3feadb7",
   "metadata": {},
   "source": [
    "\"**$\\supset$**\": $l({\\cal P})$가 시그마필드임을 보이면 자동으로 $l({\\cal P}) \\supset \\sigma({\\cal P})$임이 보여진다. "
   ]
  },
  {
   "cell_type": "markdown",
   "id": "1f1a1c5d-fef9-4377-9a23-b9feadc2849c",
   "metadata": {},
   "source": [
    "$l({\\cal P})$이 시그마필드임은 아래를 조합하면 간단히 증명된다. \n",
    "\n",
    "1. 파이시스템 ${\\cal P}$를 포함하는 가장 작은 람다시스템 $l({\\cal P})$은 그 자체로 파이시스템이다. \n",
    "2. ${\\cal A}$가 람다시스템이다. $\\Rightarrow$ (${\\cal A}$는 시그마필드이다. $\\Leftrightarrow$ ${\\cal A}$는 파이시스템이다.)"
   ]
  },
  {
   "cell_type": "markdown",
   "id": "04e67d15-ba1c-4b67-8a1e-b05771c2a147",
   "metadata": {},
   "source": [
    "## 알 필요 없는 거 (책에 있어서 한다)"
   ]
  },
  {
   "cell_type": "markdown",
   "id": "3992ee7b-5d85-4ae1-a50a-be9d31931220",
   "metadata": {},
   "source": [
    "`-` **<U>이론</U>**: 딘킨의 $\\pi-\\lambda$ 정리 ver2. \n",
    "\n",
    "${\\cal P}$가 파이시스템이고 ${\\cal L}$이 ${\\cal P}$를 포함하는 람다시스템이라면 $\\sigma({\\cal P}) \\subset {\\cal L}$이다. "
   ]
  },
  {
   "cell_type": "markdown",
   "id": "76c34f79-8045-4a55-9ee9-ba08c8f0817d",
   "metadata": {},
   "source": [
    "(설명) "
   ]
  },
  {
   "cell_type": "markdown",
   "id": "8b25f3b4-53bf-4c8c-9819-879fe276463d",
   "metadata": {},
   "source": [
    "Durret에 나온 딘킨의 $\\pi-\\lambda$ thm 이다. 굉장히 불친절한 편인데, ver2가 증명되면 ver1은 자명하게^[솔직히 그렇게 안자명해] 임플라이 되므로 ver2를 대신 state한 것이다."
   ]
  },
  {
   "cell_type": "markdown",
   "id": "35f63c5b-b6be-47db-b62a-91101821df4c",
   "metadata": {},
   "source": [
    "> ver2가 ver1를 임플라이 하는 이유: ver1의 $l({\\cal P}) \\subset \\sigma({\\cal P})$은 당연하고 $l({\\cal P}) \\supset \\sigma({\\cal P})$만 보이면 되는데, 이미 $\\sigma({\\cal P}) \\subset {\\cal L}$임을 보였으므로 $l({\\cal P})$의 정의에 의하여 ${\\cal L} \\supset l({\\cal P}) \\supset \\sigma({\\cal P})$이 성립한다. "
   ]
  },
  {
   "cell_type": "markdown",
   "id": "930d1c0e-6248-42c2-b070-fb6e7e0bc6bf",
   "metadata": {},
   "source": [
    "# 귀찮아서 만든 이론 2의 \"유일성\" 증명 "
   ]
  },
  {
   "cell_type": "markdown",
   "id": "b85a0014-9023-40d2-b9b6-6a82c32ce2c5",
   "metadata": {},
   "source": [
    "## 확률공간 "
   ]
  },
  {
   "cell_type": "markdown",
   "id": "44b91a5a-e7fe-4795-b270-500f7653612f",
   "metadata": {},
   "source": [
    "`-` $P:{\\cal F} \\to [0,1]$ 가 잴 수 있는 공간 $(\\Omega, {\\cal F})$ 에서의 확률측도라면, $(\\Omega, {\\cal F}, P)$ 를 확률공간이라 선언할 수 있다. "
   ]
  },
  {
   "cell_type": "markdown",
   "id": "7cc2b8c7-884b-49f7-8348-804417b0b3ee",
   "metadata": {},
   "source": [
    "`-` $(\\Omega, {\\cal F})$가 잴수 있는 공간이라는 선언은 ${\\cal F}$가 $\\Omega$에 대한 시그마필드라는 것이 내포되어 있다. "
   ]
  },
  {
   "cell_type": "markdown",
   "id": "0dd2aa0a-674b-4ce9-a014-02e790599b8c",
   "metadata": {},
   "source": [
    "`-` $(\\Omega, {\\cal F}, P)$가 확률공간이라는 선언에는 \n",
    "\n",
    "- ${\\cal F}$는 $\\Omega$에 대한 시그마필드이며, \n",
    "- $P$는 $(\\Omega, {\\cal F})$에서의 확률측도임이 내포되어 있다. "
   ]
  },
  {
   "cell_type": "markdown",
   "id": "72a61fb2-0c4d-4358-89f8-8b0f9b49cd97",
   "metadata": {},
   "source": [
    "`-` 교재의 언급 (p1)"
   ]
  },
  {
   "cell_type": "markdown",
   "id": "8d80c323-eab4-4c42-bc9b-7553b57d0cdb",
   "metadata": {},
   "source": [
    "## 귀찮아서 만든 이론2의 \"유일성\""
   ]
  },
  {
   "cell_type": "markdown",
   "id": "a2634a4b-80ca-45e9-940e-b97ef5708fa9",
   "metadata": {},
   "source": [
    "`-` 귀찮아서 만든 이론2: 운이 좋다면, ${\\cal A}$ 에서 확률의 공리를 만족하는 적당한 함수 $\\tilde{P}:{\\cal A} \\to [0,1]$를 $(\\Omega, \\sigma({\\cal A}))$ 에서의 확률측도 $P$로 업그레이드 할 수 있으며 업그레이드 결과는 유일하다. "
   ]
  },
  {
   "cell_type": "markdown",
   "id": "878d3a05-174c-47fb-965c-e5cf0a8261ee",
   "metadata": {},
   "source": [
    "`-` 귀찮아서 만든 이론2는 (1) 업그레이드가 가능하냐 (2) 그 업그레이드가 유일하냐 를 따져야하는데 이중 유일성만을 따져보자. "
   ]
  },
  {
   "cell_type": "markdown",
   "id": "7ae296af-9e8e-494d-99fb-26ef702b2ed1",
   "metadata": {},
   "source": [
    "`-` **<U>이론</U>**: $(\\Omega, \\sigma({\\cal A}), P)$를 확률공간이라고 하자. 여기에서 ${\\cal A}$는 파이시스템이라고 가정하자. 그렇다면 확률측도 $P:\\sigma({\\cal A}) \\to [0,1]$의 값은 $P: {\\cal A} \\to [0,1]$의 값에 의하여 유일하게 결정된다. "
   ]
  },
  {
   "cell_type": "markdown",
   "id": "bcebf4f3-abfc-4c33-9c7f-68c008683b0e",
   "metadata": {},
   "source": [
    "> ${\\cal A}$가 파이시스템이라면, ${\\cal A}$에서는 agree하지만 $\\sigma({\\cal A})$에서는 agree하지 않는 확률측도 $P:\\sigma({\\cal A}) \\to [0,1]$는 존재할 수 없다는 의미이다. "
   ]
  },
  {
   "cell_type": "markdown",
   "id": "65a4daf2-997b-4016-8fd1-b40ece83fbd8",
   "metadata": {},
   "source": [
    "`-` 교재의 언급 "
   ]
  },
  {
   "cell_type": "markdown",
   "id": "1fb1e4fe-5bed-4c90-aba8-4e4d4d4e3417",
   "metadata": {},
   "source": [
    "## 활용예제 ($\\star$)"
   ]
  },
  {
   "cell_type": "markdown",
   "id": "936bf9ca-3f82-45a0-884b-48995c5f9966",
   "metadata": {},
   "source": [
    "**(예제1)** -- 4주차에서 했던 예제에요"
   ]
  },
  {
   "cell_type": "markdown",
   "id": "51df0256-695c-466b-99cf-5c17ab5081de",
   "metadata": {},
   "source": [
    "`-` $\\Omega=\\{1,2,3,4\\}$이라고 하고 ${\\cal A} = \\{\\emptyset, \\{1\\},\\{2\\},\\{3,4\\},\\Omega\\}$ 라고 하자. "
   ]
  },
  {
   "cell_type": "markdown",
   "id": "7b237859-8705-4598-8787-c99849211bce",
   "metadata": {},
   "source": [
    "`-` ${\\cal A}$는 파이시스템이다. "
   ]
  },
  {
   "cell_type": "markdown",
   "id": "fd7b5218-2041-4678-9ae3-e4632449d658",
   "metadata": {},
   "source": [
    "`-` 아래표의 왼쪽의 $P$와 같은 확률 측도를 고려하자. "
   ]
  },
  {
   "cell_type": "markdown",
   "id": "31fa24d4-239a-43dc-be0e-dc4787db21db",
   "metadata": {},
   "source": [
    "||$P$|$P'$|\n",
    "|:-:|:-:|:-:|\n",
    "|$\\emptyset$|$0$|$0$|\n",
    "|$\\{1\\}$|$\\frac{1}{4}$ | $\\frac{1}{4}$| \n",
    "|$\\{2\\}$|$\\frac{1}{2}$ | $\\frac{1}{2}$| \n",
    "|$\\{3,4\\}$|$\\frac{1}{4}$ | $\\frac{1}{4}$| \n",
    "|$\\Omega$|$1$ | $1$|\n",
    "|$-$|$-$|$-$|\n",
    "|$\\{1,2\\}$|$\\frac{3}{4}$ | $\\frac{3}{4}$ 이 아닐 수 있어? |\n",
    "|$\\{1,3,4\\}$|$\\frac{1}{2}$ | $\\frac{1}{2}$ 이 아닐 수 있어? |\n",
    "|$\\{2,3,4\\}$|$\\frac{3}{4}$ | $\\frac{3}{4}$ 이 아닐 수 있어? |"
   ]
  },
  {
   "cell_type": "markdown",
   "id": "d004548f-89e3-4966-841d-39f8ae3f840e",
   "metadata": {},
   "source": [
    "${\\cal A}$에서는 $P$와 그 값이 같지만 $\\sigma({\\cal A})-{\\cal A}$에서는 다른값을 가질 수도 있는 $(\\Omega, \\sigma({\\cal A}))$ 에서의 확률측도 $P'$는 존재하지 않는다. "
   ]
  },
  {
   "cell_type": "markdown",
   "id": "7bf9ad7b-d05b-49fe-9966-c2e80db20439",
   "metadata": {},
   "source": [
    "즉 ${\\cal A}$가 파이시스템이라면, $(\\Omega,\\sigma({\\cal A}))$에의 모든 확률측도 $P$는 ${\\cal A}$에서의 값만 define하면 나머지 $\\sigma({\\cal A})-{\\cal A}$에서의 값은 유니크하게 결정된다. "
   ]
  },
  {
   "cell_type": "markdown",
   "id": "217ea5cb-67a3-42a2-bd05-88130290e68a",
   "metadata": {},
   "source": [
    "`-` 이 이론에 대한 짧은 생각 \n",
    "\n",
    "- 생각1: 일단 $(\\Omega,\\sigma({\\cal A})$에서의 확률측도 $P$의 존재성은 가정하고 들어간다. 즉 \"존재한다면 유일하다\"는 의미이지, \"유일하게 존재한다\"의 의미는 아니다.\n",
    "- 생각2: 따라서 이 정리는 \"${\\cal A}$가 파이시스템일 경우, 함수 $\\tilde{P}:{\\cal A} \\to [0,1]$가 $(\\Omega,\\sigma({\\cal A}))$에서의 확률측도 $P$로 업그레이드가 가능하다면 그 결과는 유일하다\" 정도로 해석할 수 있다. "
   ]
  },
  {
   "cell_type": "markdown",
   "id": "610eeebc-678b-4ec1-aa19-9eebc919a646",
   "metadata": {},
   "source": [
    "**(예제2)** -- 이것도 4주차에서 했던 예제입니다. "
   ]
  },
  {
   "cell_type": "markdown",
   "id": "5a034fcd-44c6-4d4c-b3c1-11fedd43bd24",
   "metadata": {},
   "source": [
    "`-` $\\Omega=\\{1,2,3,4\\}$ 이라고 하고 ${\\cal A} = \\{\\emptyset, \\{1,2\\},\\{2,3\\}, \\Omega\\}$ 라고 하자. \n",
    "\n",
    "`-` 여기에서 ${\\cal A}$는 파이시스템이 아니다. 따라서 ${\\cal A}$에서의 값은 agree하지만 $(\\Omega, \\sigma({\\cal A}))$에서 agree하지 않는 서로 다른 확률측도가 존재할 수 있다. "
   ]
  },
  {
   "cell_type": "markdown",
   "id": "3766acb5-19f9-4be1-bf41-b800b0859978",
   "metadata": {},
   "source": [
    "||$P_1$|$P_2$|\n",
    "|:-:|:-:|:-:|\n",
    "|$\\emptyset$|$0$|$0$|\n",
    "|$\\{1,2\\}$|$\\frac{1}{2}$ | $\\frac{1}{2}$|\n",
    "|$\\{2,3\\}$|$\\frac{1}{2}$ | $\\frac{1}{2}$|\n",
    "|$\\Omega$|$1$ | $1$|\n",
    "|$-$|$-$|$-$|\n",
    "|$\\{1\\}$|$0$ | $\\frac{1}{2}$|\n",
    "|$\\{2\\}$|$\\frac{1}{2}$ | $0$|\n",
    "|$\\{3\\}$|$0$ | $\\frac{1}{2}$|\n",
    "|$\\{4\\}$|$\\frac{1}{2}$ | $0$|\n",
    "|$\\{1,3\\}$|$0$ | $1$| \n",
    "|$\\{1,4\\}$|$\\frac{1}{2}$ | $\\frac{1}{2}$|\n",
    "|$\\{2,4\\}$|$1$ | $0$|\n",
    "|$\\{3,4\\}$|$\\frac{1}{2}$ | $\\frac{1}{2}$|\n",
    "|$\\{2,3,4\\}$|$1$ | $\\frac{1}{2}$|\n",
    "|$\\{1,3,4\\}$|$\\frac{1}{2}$ | $1$|\n",
    "|$\\{1,2,4\\}$|$1$ | $\\frac{1}{2}$|\n",
    "|$\\{1,2,3\\}$|$\\frac{1}{2}$ | $1$|"
   ]
  },
  {
   "cell_type": "markdown",
   "id": "3cb555ef-aadb-4ffb-8b04-f138797af16e",
   "metadata": {},
   "source": [
    "`-` 만약에 이 예제에서 ${\\cal A}$를 아래와 같이 수정한다면 \n",
    "\n",
    "$${\\cal A}=\\{\\emptyset, \\{1,2\\}, \\{2,3\\}, \\{2\\}\\}$$\n",
    "\n",
    "이번에는 ${\\cal A}$는 파이시스템이 된다. 따라서 이 경우 $(\\Omega, \\sigma({\\cal A}))$에서의 모든 확률측도 $P$는 ${\\cal A}$의 값에 의하여 유일하게 결정된다. "
   ]
  },
  {
   "cell_type": "markdown",
   "id": "bab5ac4e-8613-4ec6-9926-b73cb0b962c9",
   "metadata": {},
   "source": [
    "**(예제3)** "
   ]
  },
  {
   "cell_type": "markdown",
   "id": "f0b54b4a-e329-453d-8e6b-3e02637ec82c",
   "metadata": {},
   "source": [
    "`-` $\\Omega=\\{H,T\\}$ 이라고 하고 ${\\cal A} = \\{\\{H\\}\\}$ 라고 하자. "
   ]
  },
  {
   "cell_type": "markdown",
   "id": "664f2107-d4b7-4cca-a428-c2341031bf1c",
   "metadata": {},
   "source": [
    "`-` 여기에서 ${\\cal A}$은 파이시스템이므로 가측공간 $(\\Omega,\\sigma({\\cal A}))$에서 정의가능한 모든 확률측도 $P$는 ${\\cal A}$에서의 값으로만 정의해도 무방하다.^[그래도 유일하게 결정되니까]"
   ]
  },
  {
   "cell_type": "markdown",
   "id": "17471fab-92dc-4d50-a01a-f5d48fc2308b",
   "metadata": {},
   "source": [
    "**(예제4)** -- 통계학과라서 행복해 "
   ]
  },
  {
   "cell_type": "markdown",
   "id": "848ee853-2f4a-482a-9548-d304b48fb8de",
   "metadata": {},
   "source": [
    "`-` $\\Omega=\\{a,b\\}$ 이라고 하고 ${\\cal A} = \\{\\{a\\}\\}$ 라고 하자. "
   ]
  },
  {
   "cell_type": "markdown",
   "id": "3f2f6f56-8527-451e-b5ae-cf4f72cbb441",
   "metadata": {},
   "source": [
    "`-` 여기에서 ${\\cal A}$은 파이시스템이다. "
   ]
  },
  {
   "cell_type": "markdown",
   "id": "27630bc5-6c1d-43af-b3af-4889a0717043",
   "metadata": {},
   "source": [
    "`-` 가측공간 $(\\Omega,\\sigma({\\cal A}))$에서 정의가능한 모든 확률측도 $P$는 ${\\cal A}$에서의 값으로 유일하게 결정된다. "
   ]
  },
  {
   "cell_type": "markdown",
   "id": "82c2e530-33d1-4d9e-ad13-0f8b8eb175d2",
   "metadata": {},
   "source": [
    "`-` 그렇지만 가측공간 $(\\Omega,\\sigma({\\cal A})$에서 정의가능한 \"측도\" $m$은 ${\\cal A}$에서의 값으로 유일하게 결정되지 않는다.^[그렇지만 우리가 알바는 아님]"
   ]
  },
  {
   "cell_type": "markdown",
   "id": "52e23d4e-d971-436d-adc2-d9ac621e4ecd",
   "metadata": {},
   "source": [
    "||$m_1$|$m_2$|\n",
    "|:-:|:-:|:-:|\n",
    "|$\\{a\\}$|$\\frac{1}{2}$ | $\\frac{1}{2}$|\n",
    "|$-$|$-$|$-$|\n",
    "|$\\emptyset$|$0$|$0$|\n",
    "|$\\{b\\}$|$\\frac{1}{2}$|$1$|\n",
    "|$\\Omega$|$1$|$\\frac{3}{2}$|"
   ]
  },
  {
   "cell_type": "markdown",
   "id": "385d360d-ef18-47bd-aae7-a4222a2df90f",
   "metadata": {},
   "source": [
    "## 증명"
   ]
  },
  {
   "cell_type": "markdown",
   "id": "e0eb3f83-6702-426c-8c34-25ca32115dea",
   "metadata": {},
   "source": [
    "***증명을 하려는 이유***"
   ]
  },
  {
   "cell_type": "markdown",
   "id": "6995db4d-c692-48e3-ba8d-5177d5a456e1",
   "metadata": {},
   "source": [
    "`-` 안하려다가 합니다. 왜냐하면 이 증명이 \"딘킨의 $\\pi-\\lambda$ 정리\"를 활용하는 아주 유명한 증명이라서요. "
   ]
  },
  {
   "cell_type": "markdown",
   "id": "f13ccd3a-f130-44f8-bbd9-8b329c8121c5",
   "metadata": {},
   "source": [
    "`-` 교재의 언급 "
   ]
  },
  {
   "cell_type": "markdown",
   "id": "be5f179a-43ef-466d-862d-eb8e7f58f17b",
   "metadata": {},
   "source": [
    "***증명 (측도가 아닌 확률측도라는 가정을 추가하여 교재의 버전을 살짝 쉽게 만듬)*** "
   ]
  },
  {
   "cell_type": "markdown",
   "id": "f1583821-a531-45d2-bb53-0700a0e30b5b",
   "metadata": {},
   "source": [
    "`!` 아래와 같은 확률측도 $P_1$, $P_2$가 있다고 하자. ($P_1,P_2$는 $(\\Omega, \\sigma({\\cal A}))$에서의 확률측도이다.) \n",
    "\n",
    "1. $P_1(A) = P_2(A), \\forall A \\in {\\cal A}$\n",
    "2. $\\exists B \\in \\sigma({\\cal A}) ~{\\sf st}~ P_1(B) \\neq P_2(B)$"
   ]
  },
  {
   "cell_type": "markdown",
   "id": "5383d31f-0aee-4f5a-b704-1e61885fec34",
   "metadata": {},
   "source": [
    "이제 아래와 같은 알고리즘을 이용하여 집합 ${\\cal C}_B$를 만든다고 하자. "
   ]
  },
  {
   "cell_type": "markdown",
   "id": "939cf40a-31a7-450f-9ae1-ee59770cc737",
   "metadata": {},
   "source": [
    "for $A$ in $\\sigma({\\cal A})$: \n",
    "    \n",
    "    for"
   ]
  },
  {
   "cell_type": "code",
   "execution_count": null,
   "id": "dc3d1a07-09fa-4460-9041-7daff555d3ca",
   "metadata": {},
   "outputs": [],
   "source": []
  }
 ],
 "metadata": {
  "kernelspec": {
   "display_name": "Python 3",
   "language": "python",
   "name": "python3"
  },
  "language_info": {
   "codemirror_mode": {
    "name": "ipython",
    "version": 3
   },
   "file_extension": ".py",
   "mimetype": "text/x-python",
   "name": "python",
   "nbconvert_exporter": "python",
   "pygments_lexer": "ipython3",
   "version": "3.8.16"
  }
 },
 "nbformat": 4,
 "nbformat_minor": 5
}
