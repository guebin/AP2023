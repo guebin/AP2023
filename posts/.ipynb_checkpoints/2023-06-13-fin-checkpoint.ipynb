{
 "cells": [
  {
   "cell_type": "raw",
   "id": "38f1aa41-0818-4b58-82ea-02e2c77fc7e4",
   "metadata": {},
   "source": [
    "---\n",
    "title: \"15wk: 기말고사\"\n",
    "author: \"최규빈\"\n",
    "date: \"06/13/2023\"\n",
    "---"
   ]
  },
  {
   "cell_type": "markdown",
   "id": "1f606d44-e4f2-48ae-b683-bd92fb5d477e",
   "metadata": {},
   "source": [
    "# `1`. 다음을 읽고 참거짓을 판단하라. (30점)"
   ]
  },
  {
   "cell_type": "markdown",
   "id": "5736a752-1294-40d4-b9ba-04a65147947a",
   "metadata": {},
   "source": [
    "`(1)` 유리수집합 $\\mathbb{Q}$는 가산집합이며 유리수집합을 르벡메져로 측정하면 그 길이가 0이다. 즉 $\\lambda(\\mathbb{Q})=0$ 이다. "
   ]
  },
  {
   "cell_type": "code",
   "execution_count": 1,
   "id": "ba3f80e9-a5b4-4497-9ddf-c29c556ef10f",
   "metadata": {},
   "outputs": [
    {
     "data": {
      "text/plain": [
       "True"
      ]
     },
     "execution_count": 1,
     "metadata": {},
     "output_type": "execute_result"
    }
   ],
   "source": [
    "True"
   ]
  },
  {
   "cell_type": "markdown",
   "id": "9cf6d07c-e419-4fe8-9bb0-d882cd751815",
   "metadata": {},
   "source": [
    "`(2)` 르벡메져 $\\lambda$는 $\\mathbb{R}$의 모든 부분집합에 대하여 그 길이를 모순없이 정의가능하다. 즉 르벡메져는 $(\\mathbb{R},2^{\\mathbb{R}})$ 에서의 메져가 된다. "
   ]
  },
  {
   "cell_type": "code",
   "execution_count": 3,
   "id": "5a7668f9-b5a0-44a5-bd52-bdba36ddf4f1",
   "metadata": {},
   "outputs": [
    {
     "data": {
      "text/plain": [
       "False"
      ]
     },
     "execution_count": 3,
     "metadata": {},
     "output_type": "execute_result"
    }
   ],
   "source": [
    "False # 비탈리집합"
   ]
  },
  {
   "cell_type": "markdown",
   "id": "6c0a091f-4d5a-4969-b558-7801bd3dc67e",
   "metadata": {},
   "source": [
    "`(3)` 르벡메져 $\\lambda$는 임의의 $B \\in {\\cal R}$의 길이를 모순없이 정의가능하다. 즉 르벡메져는 $(\\mathbb{R},{\\cal R})$ 에서의 메져가 된다. "
   ]
  },
  {
   "cell_type": "code",
   "execution_count": 4,
   "id": "6a06d6dd-921a-4fe4-8255-324fe11c91f7",
   "metadata": {},
   "outputs": [
    {
     "data": {
      "text/plain": [
       "True"
      ]
     },
     "execution_count": 4,
     "metadata": {},
     "output_type": "execute_result"
    }
   ],
   "source": [
    "True"
   ]
  },
  {
   "cell_type": "markdown",
   "id": "7aa84d9b-ce05-4246-9fc7-b153f0190962",
   "metadata": {},
   "source": [
    "`(4)` 집합 $\\Omega$의 부분집합을 원소로 가지는 collection ${\\cal F}$를 고려하자. 만약에 ${\\cal F}$가 파이시스템이면서 동시에 람다시스템이라면 ${\\cal F}$는 시그마필드이다. "
   ]
  },
  {
   "cell_type": "code",
   "execution_count": 5,
   "id": "0f394b39-8363-468c-be57-3d52dc515a52",
   "metadata": {},
   "outputs": [
    {
     "data": {
      "text/plain": [
       "True"
      ]
     },
     "execution_count": 5,
     "metadata": {},
     "output_type": "execute_result"
    }
   ],
   "source": [
    "True"
   ]
  },
  {
   "cell_type": "markdown",
   "id": "224743ab-550c-48b0-8e7a-0e5206fe00b3",
   "metadata": {},
   "source": [
    "`(5)` 아래와 같은 함수 $f$를 고려하자. \n",
    "\n",
    "$$f(x) = \\begin{cases} 1 & x \\in \\mathbb{Q}\\\\  0 & x \\in \\mathbb{R}-\\mathbb{Q}\\end{cases}$$\n",
    "\n",
    "위의 함수에 대한 르벡적분값은 무한대이다. 즉 $\\int_{\\mathbb{R}} f d\\lambda = \\infty$ 이다. "
   ]
  },
  {
   "cell_type": "code",
   "execution_count": 6,
   "id": "a65e8337-4f25-4f36-9384-b1208e4778e3",
   "metadata": {},
   "outputs": [
    {
     "data": {
      "text/plain": [
       "False"
      ]
     },
     "execution_count": 6,
     "metadata": {},
     "output_type": "execute_result"
    }
   ],
   "source": [
    "False"
   ]
  },
  {
   "cell_type": "markdown",
   "id": "6c520009-e84c-43ce-ae1a-edcaee61c849",
   "metadata": {},
   "source": [
    "`(6)` $X$가 가측공간 $(\\Omega,{\\cal F})$ 에서의 확률변수라는 의미는 모든 $B \\in {\\cal B}$ 에 대하여 $\\{\\omega: X(\\omega) \\in B\\} \\in {\\cal F}$ 를 만족한다는 의미이다. "
   ]
  },
  {
   "cell_type": "code",
   "execution_count": 7,
   "id": "14fcb911-25fc-4187-abd5-863bcd69619a",
   "metadata": {},
   "outputs": [],
   "source": [
    "None # 문제오류. ${\\cal B}$가 아니라 ${\\cal R}$ "
   ]
  },
  {
   "cell_type": "markdown",
   "id": "89b18076-f4e0-44f4-9589-5b1677776702",
   "metadata": {},
   "source": [
    "`(7)` $X$가 가측공간 $(\\Omega,{\\cal F})$ 에서의 확률변수라면 $X$에 대응하는 분포(distribution) $\\mu_X$가 반드시 존재하며 $\\mu_X:=P \\circ X^{-1}$로 정의가능하다."
   ]
  },
  {
   "cell_type": "code",
   "execution_count": 8,
   "id": "14661586-9714-4e99-a8bb-54904d078406",
   "metadata": {},
   "outputs": [
    {
     "data": {
      "text/plain": [
       "True"
      ]
     },
     "execution_count": 8,
     "metadata": {},
     "output_type": "execute_result"
    }
   ],
   "source": [
    "True"
   ]
  },
  {
   "cell_type": "markdown",
   "id": "9ac11140-f391-40c7-bb54-f97a7a56694b",
   "metadata": {},
   "source": [
    "`(8)` $X$가 가측공간 $(\\Omega,{\\cal F})$ 에서의 확률변수이고, $X$에 대응하는 분포가  $\\mu_X$라고 하자. $\\mu_X$는 측도의 정의를 만족하지만 확률측도의 정의를 만족하지는 않는다. "
   ]
  },
  {
   "cell_type": "code",
   "execution_count": 10,
   "id": "0ae96c35-4aab-4a97-bce7-364dac1e1f11",
   "metadata": {},
   "outputs": [
    {
     "data": {
      "text/plain": [
       "False"
      ]
     },
     "execution_count": 10,
     "metadata": {},
     "output_type": "execute_result"
    }
   ],
   "source": [
    "False # 확률측도의 정의도 만족"
   ]
  },
  {
   "cell_type": "markdown",
   "id": "831b4d1e-b25d-4ecf-8e4e-b702dbd6a218",
   "metadata": {},
   "source": [
    "`(9)` $X$가 가측공간 $(\\Omega,{\\cal F})$ 에서의 확률변수이고, $X$에 대응하는 분포가  $\\mu_X$라고 하자. $\\mu_X$에 대응하는 분포함수 $F_X(x) = \\mu_X((-\\infty,x])$는 항상 존재한다. "
   ]
  },
  {
   "cell_type": "code",
   "execution_count": 11,
   "id": "7552bcad-1304-47e5-b45c-4c64d49f52f5",
   "metadata": {},
   "outputs": [
    {
     "data": {
      "text/plain": [
       "True"
      ]
     },
     "execution_count": 11,
     "metadata": {},
     "output_type": "execute_result"
    }
   ],
   "source": [
    "True"
   ]
  },
  {
   "cell_type": "markdown",
   "id": "8471f797-38bf-4631-8df3-f640e2c825f2",
   "metadata": {},
   "source": [
    "`(10)` $X$가 가측공간 $(\\Omega,{\\cal F})$ 에서의 확률변수이고 $F_X$가 $X$에 대응하는 분포함수라고 하자. 분포함수 $F_X$가 절대연속이라면 대응하는 $X$는 연속형확률변수이며 그 밀도함수 $f_X$가 존재한다. "
   ]
  },
  {
   "cell_type": "code",
   "execution_count": 12,
   "id": "c90a59ac-1e0a-44ae-94bc-340cd1382dfc",
   "metadata": {},
   "outputs": [
    {
     "data": {
      "text/plain": [
       "False"
      ]
     },
     "execution_count": 12,
     "metadata": {},
     "output_type": "execute_result"
    }
   ],
   "source": [
    "False"
   ]
  },
  {
   "cell_type": "markdown",
   "id": "1ccdbab2-3adb-4efc-9348-592aa4f211db",
   "metadata": {},
   "source": [
    "# `2`. 확률 (40점)"
   ]
  },
  {
   "cell_type": "markdown",
   "id": "180a0c2c-b1de-4aec-af32-fa498a47876a",
   "metadata": {},
   "source": [
    "`(1)` $\\Omega=\\{1,2,3,4\\}$ 이라고 하고 ${\\cal A} = \\{\\emptyset, \\{1\\},\\{2\\},\\{3,4\\},\\Omega\\}$ 이라고 하자. 함수 $\\tilde{P}:{\\cal A} \\to [0,1]$를 아래와 같이 정의하자."
   ]
  },
  {
   "cell_type": "markdown",
   "id": "4dcfc7d1-4b49-403a-9203-883590613184",
   "metadata": {},
   "source": [
    "- $\\tilde{P}(\\emptyset) = 0$\n",
    "- $\\tilde{P}(\\{1\\}) = 1/4$\n",
    "- $\\tilde{P}(\\{2\\}) = 1/2$\n",
    "- $\\tilde{P}(\\{3,4\\}) = 1/4$\n",
    "- $\\tilde{P}(\\Omega) = 1$"
   ]
  },
  {
   "cell_type": "markdown",
   "id": "6f0d760d-62a6-4fd8-a717-fcf0dd627d53",
   "metadata": {},
   "source": [
    "${\\cal A}$에서 $\\tilde{P}$와 일치하는 확률메져 $P$가 가측공간 $(\\Omega,\\sigma({\\cal A}))$ 에서 유일하게 존재하는가? "
   ]
  },
  {
   "cell_type": "markdown",
   "id": "0cd62acd-5f0c-47e1-9287-d618efb93841",
   "metadata": {},
   "source": [
    "`(풀이)`"
   ]
  },
  {
   "cell_type": "markdown",
   "id": "a007a259-7fa6-46a3-bcab-4ff6faee95ae",
   "metadata": {},
   "source": [
    "유일하게 존재한다. ${\\cal F}:=\\sigma({\\cal A})$라고 하고 아래와 같은 함수 $P: {\\cal F} \\to [0,1]$를 고려하자. \n",
    "\n",
    "- $\\forall A \\in {\\cal A}:~ P(A)=\\tilde{P}(A)$\n",
    "- $P(\\{1,2\\})=P(\\{2,3,4\\})=\\frac{3}{4}$\n",
    "- $P(\\{1,3,4\\})=\\frac{1}{2}$\n",
    "\n",
    "$P$는 $(\\Omega,{\\cal F})$ 에서의 prob-msr 이다. 이때 ${\\cal A}$는 파이시스템이므로 $P$의 유일성이 보장된다."
   ]
  },
  {
   "cell_type": "markdown",
   "id": "767ca68a-693d-4c42-b78e-bb302e1b0da9",
   "metadata": {},
   "source": [
    "`(2)` $\\Omega=\\{1,2,3,4\\}$ 이라고 하고 ${\\cal A} = \\{\\emptyset, \\{1,2\\},\\{2,3\\}, \\Omega\\}$ 라고 하자. 함수 $\\tilde{P}:{\\cal A} \\to [0,1]$를 아래와 같이 정의하자."
   ]
  },
  {
   "cell_type": "markdown",
   "id": "75a3df57-c5ac-4235-b788-276bea00ed34",
   "metadata": {},
   "source": [
    "- $\\tilde{P}(\\emptyset) = 0$\n",
    "- $\\tilde{P}(\\{1,2\\}) = 1/2$\n",
    "- $\\tilde{P}(\\{2,3\\}) = 1/2$\n",
    "- $\\tilde{P}(\\Omega) = 1$"
   ]
  },
  {
   "cell_type": "markdown",
   "id": "f7d6a202-0dca-480e-957b-677e652d65f4",
   "metadata": {},
   "source": [
    "${\\cal A}$에서 $\\tilde{P}$와 일치하는 확률메져 $P$가 가측공간 $(\\Omega,\\sigma({\\cal A}))$ 에서 유일하게 존재하는가? "
   ]
  },
  {
   "cell_type": "markdown",
   "id": "aa41b553-e4a0-41e0-91a2-583f701449a6",
   "metadata": {},
   "source": [
    "`(풀이)`"
   ]
  },
  {
   "cell_type": "markdown",
   "id": "02005bf6-5a9c-41a3-ae39-da36d8eb3ec5",
   "metadata": {},
   "source": [
    "${\\cal A}$가 파이시스템이 아니므로 유일성을 보장할 수 없다. \n",
    "\n",
    "반례를 위해서 ${\\cal A}'=\\{\\emptyset, \\{1,2\\}, \\{2,3\\},\\{2\\},\\Omega\\}$를 고려하자. ${\\cal A}'$은 세미알지브라가 되며, ${\\cal A}'$에서 정의된 아래와 같은 $\\tilde{P}_1,\\tilde{P}_2$를 고려하자. \n",
    "\n",
    "- $\\forall A \\in {\\cal A}:~\\tilde{P}_1(A)=\\tilde{P}_2(A)=\\tilde{P}(A)$\n",
    "- $\\tilde{P}_1(\\{2\\})=a$ and $\\tilde{P}_2(\\{2\\})=b$, where $a,b \\in [0,1/2]$ and $a\\neq b$. \n",
    "\n",
    "$\\tilde{P}_1, \\tilde{P}_2$는 모두 ${\\cal A}'$에서 finite msr 이고^[그래서 $\\sigma$-finite 함], add를 만족하므로^[finite 한 케이스이므로 additivity 가 $\\sigma$-additive 를 imply함] 카라테오도리의 확장정리에 의하여 $\\tilde{P}_1$, $\\tilde{P}_2$는 $(\\Omega,\\sigma({\\cal A}))$에서의 유일한 extension $P_1,P_2$를 가진다. 그리고 이러한 $P_1,P_2$는 분명 $A \\in {\\cal A}$에서는 일치하지만 $P_1(\\{2\\})\\neq P_2(\\{2\\})$ 이다. "
   ]
  },
  {
   "cell_type": "markdown",
   "id": "497af28f-eb39-4df9-b5bf-67482b46593a",
   "metadata": {},
   "source": [
    "# `3`. 확률변수, 밀도함수, 기대값 (30점)"
   ]
  },
  {
   "cell_type": "markdown",
   "id": "d64430ef-f6fc-4e9c-8b92-3c088eee1d3d",
   "metadata": {},
   "source": [
    "아래와 같은 확률공간 $(\\Omega,{\\cal F},P)$를 고려하라. \n",
    "\n",
    "- $\\Omega=[0,2\\pi)$\n",
    "- ${\\cal F} = {\\cal R}\\cap [0,2\\pi) := \\{B\\cap [0,2\\pi): B \\in {\\cal R}\\}$\n",
    "- $\\forall A \\in {\\cal F}:~ P(A)=\\frac{\\lambda (A)}{2\\pi}$"
   ]
  },
  {
   "cell_type": "markdown",
   "id": "5a0aabdf-3657-4ccb-b98c-8314b98d8d94",
   "metadata": {
    "tags": []
   },
   "source": [
    "::: {.callout-note}\n",
    "## 이것이 확률공간인 이유 (문제로 낼려다가..)\n",
    "\n",
    "$(\\Omega, {\\cal F}, P)$가 확률공간임을 보이기 위해서는 (1) ${\\cal F}$가 $\\sigma$-field 이고 (2) $P$가 prob-msr on $(\\Omega, {\\cal F})$임을 보이면 된다. \n",
    "\n",
    "**(1) ${\\cal F}$ is $\\sigma$-filed of $\\Omega$**\n",
    "\n",
    "${\\cal F}$는 $\\pi$-system 이고 $\\lambda$-system 이므로 시그마필드이다. (6주차 Dynkin's $\\pi-\\lambda$ theorem 증명을 위한 준비학습 참고)^[혹은 정석대로 시그마필드의 정의에 넣고 따져도 된다. 그런데 보통 그거보다 파이시스템과 람다시스템을 따지는게 더 편리하다.]\n",
    "\n",
    "**(2) $P$ is prob-msr on $(\\Omega, {\\cal F})$**\n",
    "\n",
    "$\\lambda$가 ${\\cal F}$에서의 measure이므로, $P:=\\frac{1}{2\\pi}\\lambda$ 역시 ${\\cal F}$에서의 measure가 된다. 이때 $P$는 $P(\\Omega)=1$을 만족하므로 prob-msr가 된다. \n",
    ":::\n"
   ]
  },
  {
   "cell_type": "markdown",
   "id": "a21ed1e5-ec7c-48e3-a796-5330861560c5",
   "metadata": {},
   "source": [
    "`(1)` 함수 $X:\\Omega \\to \\mathbb{R}$을 아래와 같이 정의할때\n",
    "\n",
    "$$X(\\omega) = \\begin{cases} 0 & \\omega \\in \\Omega \\cap \\mathbb{Q}^c \\\\ 1 & \\omega \\in \\Omega \\cap \\mathbb{Q} \\end{cases}$$"
   ]
  },
  {
   "cell_type": "markdown",
   "id": "bf05aeb9-d676-44b5-9387-6eb20a083ca5",
   "metadata": {},
   "source": [
    "$X$가 확률변수임을 보여라. "
   ]
  },
  {
   "cell_type": "markdown",
   "id": "af4fa164-9ea4-4737-8d3d-f655c4d15d1e",
   "metadata": {},
   "source": [
    "`(풀이)`"
   ]
  },
  {
   "cell_type": "markdown",
   "id": "f6ea3abb-ab45-4081-8e80-06af3bdfe9fd",
   "metadata": {},
   "source": [
    "$X$는 simple function 이므로 확률변수이다."
   ]
  },
  {
   "cell_type": "markdown",
   "id": "ba37f668-cee6-4d10-bad3-9630843653f3",
   "metadata": {},
   "source": [
    "`(2)` $\\mu_X << \\nu$ 를 만족하는 $\\sigma$-finite measure $\\nu$ 를 가측공간 $(\\mathbb{R}, {\\cal R})$에서 정의하고, $\\mu_X$의 Radon-Nikodym derivative (***w.r.t. $\\nu$***) \n",
    "\n",
    "$$f:=\\frac{d\\mu_X}{d\\nu}$$\n",
    "\n",
    "를 제시하라. 단, 여기에서 $\\mu_X : P \\circ X^{-1}$ 이다."
   ]
  },
  {
   "cell_type": "markdown",
   "id": "30cb7e16-e36a-42d5-8bff-c433e692f130",
   "metadata": {},
   "source": [
    "`(풀이)`"
   ]
  },
  {
   "cell_type": "markdown",
   "id": "00e3dc35-2c75-4dcc-a5d7-bbaf3922576e",
   "metadata": {},
   "source": [
    "아래가 성립함을 관찰하라. "
   ]
  },
  {
   "cell_type": "markdown",
   "id": "eb273eb0-3d44-461b-9fee-bca8e01e2787",
   "metadata": {},
   "source": [
    "$$P(X=1)=P(\\{\\omega: X(\\omega) = 1\\})=P(\\Omega\\cap \\mathbb{Q}^c)=1$$\n",
    "\n",
    "따라서 $X$에 대응하는 $\\mu_X$와 $F_x$는 아래와 같다.\n",
    "\n",
    "- $\\forall B \\in {\\cal R}:~\\mu_X(B)=\\begin{cases} 1 & 0 \\in B  \\\\ 0 & o.w \\end{cases}$ \n",
    "- $F_X(x)= \\begin{cases} 0 & x<0 \\\\ 1 & x\\geq 0 \\end{cases}$"
   ]
  },
  {
   "cell_type": "markdown",
   "id": "8ace2a32-c3f7-47f8-94ae-b3f8710dde7d",
   "metadata": {},
   "source": [
    "따라서 $\\nu=\\mu_X$ 으로 설정하면 $\\mu_X<<\\nu$ 가 성립하며 함수 \n",
    "\n",
    "$$f_X(x)=\\begin{cases} 1 & x=0 \\\\ 0 & o.w \\end{cases}$$\n",
    "\n",
    "는 $\\nu=\\delta_0$에 대한 $\\mu_X$의 라돈니코딤 도함수이다. 즉 모든 $B\\in {\\cal R}$에 대하여\n",
    "\n",
    "$$\\mu_X(B)=\\int_B f_X(x) d\\nu$$\n",
    "\n",
    "가 성립한다. (왜냐하면 $0\\in B$ 인 경우 양변이 모두 1로 같으며 $0 \\notin B$ 인 경우 양변이 모두 0으로 같기 때문) "
   ]
  },
  {
   "cell_type": "markdown",
   "id": "bf9cda89-80d5-41eb-b39e-6d439eec8906",
   "metadata": {},
   "source": [
    "`(3)` $X$의 평균을 구하라. 즉 $\\mathbb{E}(X)$를 계산하라. "
   ]
  },
  {
   "cell_type": "markdown",
   "id": "ba57fc43-b1b6-4088-9987-b1ad6cc74eac",
   "metadata": {},
   "source": [
    "`(풀이)`"
   ]
  },
  {
   "cell_type": "markdown",
   "id": "7a02d7ab-8ba1-4042-8c9e-170d4b1f701c",
   "metadata": {},
   "source": [
    "$\\mathbb{E}(X) = \\int X dP = \\int_{\\Omega \\cap \\mathbb{Q}^c} 0 dP +  \\int_{\\Omega \\cap \\mathbb{Q}} 1dP =0$"
   ]
  }
 ],
 "metadata": {
  "kernelspec": {
   "display_name": "Python 3",
   "language": "python",
   "name": "python3"
  },
  "language_info": {
   "codemirror_mode": {
    "name": "ipython",
    "version": 3
   },
   "file_extension": ".py",
   "mimetype": "text/x-python",
   "name": "python",
   "nbconvert_exporter": "python",
   "pygments_lexer": "ipython3",
   "version": "3.8.16"
  }
 },
 "nbformat": 4,
 "nbformat_minor": 5
}
