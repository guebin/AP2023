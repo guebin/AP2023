{
 "cells": [
  {
   "cell_type": "raw",
   "id": "38f1aa41-0818-4b58-82ea-02e2c77fc7e4",
   "metadata": {},
   "source": [
    "---\n",
    "title: \"15wk: 기말고사\"\n",
    "author: \"최규빈\"\n",
    "date: \"06/13/2023\"\n",
    "---"
   ]
  },
  {
   "cell_type": "markdown",
   "id": "1f606d44-e4f2-48ae-b683-bd92fb5d477e",
   "metadata": {},
   "source": [
    "# `1`. 다음을 읽고 참거짓을 판단하라. (30점)"
   ]
  },
  {
   "cell_type": "markdown",
   "id": "5736a752-1294-40d4-b9ba-04a65147947a",
   "metadata": {},
   "source": [
    "`(1)` 자연수집합 $\\mathbb{N}$와 짝수의집합 $\\{2,4,6,\\dots\\}$의 cardinality는 동일하다."
   ]
  },
  {
   "cell_type": "markdown",
   "id": "7aa84d9b-ce05-4246-9fc7-b153f0190962",
   "metadata": {},
   "source": [
    "`(2)` 카운팅메져 $\\#$는 가측공간 $(\\mathbb{N},2^{\\mathbb{N}})$에서 $\\sigma$-finite measure이다. "
   ]
  },
  {
   "cell_type": "markdown",
   "id": "d83f99e8-d630-4c0c-b882-71e78e9dcb9d",
   "metadata": {},
   "source": [
    "`(3)` "
   ]
  },
  {
   "cell_type": "markdown",
   "id": "7e7ca9fa-79e2-4ce0-a7a5-db11919f9cd6",
   "metadata": {},
   "source": [
    "`(4)` "
   ]
  },
  {
   "cell_type": "markdown",
   "id": "6c520009-e84c-43ce-ae1a-edcaee61c849",
   "metadata": {},
   "source": [
    "`(5)` "
   ]
  },
  {
   "cell_type": "markdown",
   "id": "89b18076-f4e0-44f4-9589-5b1677776702",
   "metadata": {},
   "source": [
    "`(6)` "
   ]
  },
  {
   "cell_type": "markdown",
   "id": "9ac11140-f391-40c7-bb54-f97a7a56694b",
   "metadata": {},
   "source": [
    "`(7)` "
   ]
  },
  {
   "cell_type": "markdown",
   "id": "831b4d1e-b25d-4ecf-8e4e-b702dbd6a218",
   "metadata": {},
   "source": [
    "`(8)` "
   ]
  },
  {
   "cell_type": "markdown",
   "id": "8471f797-38bf-4631-8df3-f640e2c825f2",
   "metadata": {},
   "source": [
    "`(9)` "
   ]
  },
  {
   "cell_type": "markdown",
   "id": "4b17efde-fa63-45fb-8f31-e57967cfe398",
   "metadata": {},
   "source": [
    "`(10)` "
   ]
  },
  {
   "cell_type": "markdown",
   "id": "1ccdbab2-3adb-4efc-9348-592aa4f211db",
   "metadata": {},
   "source": [
    "# `2`. 확률 (40점)"
   ]
  },
  {
   "cell_type": "markdown",
   "id": "180a0c2c-b1de-4aec-af32-fa498a47876a",
   "metadata": {},
   "source": [
    "`(1)` $\\Omega=\\{1,2,3,4\\}$ 이라고 하고 ${\\cal A} = \\{\\emptyset, \\{1\\},\\{2\\},\\{3,4\\},\\Omega\\}$ 이라고 하자. 함수 $\\tilde{P}:{\\cal A} \\to [0,1]$를 아래와 같이 정의하자."
   ]
  },
  {
   "cell_type": "markdown",
   "id": "4dcfc7d1-4b49-403a-9203-883590613184",
   "metadata": {},
   "source": [
    "- $\\tilde{P}(\\emptyset) = 0$\n",
    "- $\\tilde{P}(\\{1\\}) = 1/4$\n",
    "- $\\tilde{P}(\\{2\\}) = 1/2$\n",
    "- $\\tilde{P}(\\{3,4\\}) = 1/4$\n",
    "- $\\tilde{P}(\\Omega) = 1$"
   ]
  },
  {
   "cell_type": "markdown",
   "id": "6f0d760d-62a6-4fd8-a717-fcf0dd627d53",
   "metadata": {},
   "source": [
    "${\\cal A}$에서 $\\tilde{P}$와 일치하는 확률메져 $P$가 가측공간 $(\\Omega,\\sigma({\\cal A}))$ 에서 유일하게 존재하는가? "
   ]
  },
  {
   "cell_type": "markdown",
   "id": "767ca68a-693d-4c42-b78e-bb302e1b0da9",
   "metadata": {},
   "source": [
    "`(2)` $\\Omega=\\{1,2,3,4\\}$ 이라고 하고 ${\\cal A} = \\{\\emptyset, \\{1,2\\},\\{2,3\\}, \\Omega\\}$ 라고 하자. 함수 $\\tilde{P}:{\\cal A} \\to [0,1]$를 아래와 같이 정의하자."
   ]
  },
  {
   "cell_type": "markdown",
   "id": "75a3df57-c5ac-4235-b788-276bea00ed34",
   "metadata": {},
   "source": [
    "- $\\tilde{P}(\\emptyset) = 0$\n",
    "- $\\tilde{P}(\\{1,2\\}) = 1/2$\n",
    "- $\\tilde{P}(\\{2,3\\}) = 1/2$\n",
    "- $\\tilde{P}(\\Omega) = 1$"
   ]
  },
  {
   "cell_type": "markdown",
   "id": "f7d6a202-0dca-480e-957b-677e652d65f4",
   "metadata": {},
   "source": [
    "${\\cal A}$에서 $\\tilde{P}$와 일치하는 확률메져 $P$가 가측공간 $(\\Omega,\\sigma({\\cal A}))$ 에서 유일하게 존재하는가? "
   ]
  },
  {
   "cell_type": "markdown",
   "id": "88122d19-a87b-46e0-ae86-90ac37c6a2b5",
   "metadata": {},
   "source": [
    "::: {.callout-warning}\n",
    "## 주의사항 \n",
    "\n",
    "`1`. 위의 두 문제는 정답만 쓸 경우 답안으로 인정하지 않음. (1번답: 유일하게 존재함 <-- 이러면 0점) \n",
    "\n",
    "`2`. 유일하게 존재하는 (혹은 존재하지 않는) 이유를 설명하고, 그러한 확률측도를 예시로 제시해야함. \n",
    "\n",
    "`3`. 즉 유일하게 존재하는 경우는 아래를 만족하는 $P$를 제시하고, \n",
    "\n",
    "1. $P$ is probability measure on $(\\Omega,\\sigma({\\cal A}))$ \n",
    "2. $\\forall A \\in {\\cal A}: ~ P(A) = \\tilde{P}(A)$\n",
    "\n",
    "유일하게 존재하지 않는 경우는 아래를 만족하는 서로 다른 2개의 측도 $P_1,P_2$를 제시해야함. \n",
    "\n",
    "1. $P_1,P_2$ are probability measures on $(\\Omega,\\sigma({\\cal A}))$ \n",
    "2. $\\forall A \\in {\\cal A}: ~ P_1(A) =P_2(A) = \\tilde{P}(A)$\n",
    "3. $\\exists B \\in \\sigma({\\cal A}):~ P_1(B) \\neq P_2(B)$ \n",
    "\n",
    ":::"
   ]
  },
  {
   "cell_type": "markdown",
   "id": "497af28f-eb39-4df9-b5bf-67482b46593a",
   "metadata": {},
   "source": [
    "# `3`. 확률변수, 밀도함수, 기대값 (30점)"
   ]
  },
  {
   "cell_type": "markdown",
   "id": "d64430ef-f6fc-4e9c-8b92-3c088eee1d3d",
   "metadata": {},
   "source": [
    "아래와 같은 확률공간 $(\\Omega,{\\cal F},P)$를 고려하라. \n",
    "\n",
    "- $\\Omega=[0,2\\pi)$\n",
    "- ${\\cal F} = {\\cal R}\\cap [0,2\\pi) := \\{B\\cap [0,2\\pi): B \\in {\\cal R}\\}$\n",
    "- $\\forall A \\in {\\cal F}:~ P(A)=\\frac{\\lambda (A)}{2\\pi}$"
   ]
  },
  {
   "cell_type": "markdown",
   "id": "5a0aabdf-3657-4ccb-b98c-8314b98d8d94",
   "metadata": {},
   "source": [
    "::: {.callout-note}\n",
    "## 이것이 확률공간인 이유 (문제로 낼려다가..)\n",
    "\n",
    "$(\\Omega, {\\cal F}, P)$가 확률공간임을 보이기 위해서는 (1) ${\\cal F}$가 $\\sigma$-field 이고 (2) $P$가 prob-msr on $(\\Omega, {\\cal F})$임을 보이면 된다. \n",
    "\n",
    "**(1) ${\\cal F}$ is $\\sigma$-filed of $\\Omega$**\n",
    "\n",
    "${\\cal F}$는 $\\pi$-system 이고 $\\lambda$-system 이므로 시그마필드이다. (6주차 Dynkin's $\\pi-\\lambda$ theorem 증명을 위한 준비학습 참고)^[혹은 정석대로 시그마필드의 정의에 넣고 따져도 된다. 그런데 보통 그거보다 파이시스템과 람다시스템을 따지는게 더 편리하다.]\n",
    "\n",
    "**(2) $P$ is prob-msr on $(\\Omega, {\\cal F})$**\n",
    "\n",
    "$\\lambda$가 ${\\cal F}$에서의 measure이므로, $P:=\\frac{1}{2\\pi}\\lambda$ 역시 ${\\cal F}$에서의 measure가 된다. 이때 $P$는 $P(\\Omega)=1$을 만족하므로 prob-msr가 된다. \n",
    ":::\n"
   ]
  },
  {
   "cell_type": "markdown",
   "id": "a21ed1e5-ec7c-48e3-a796-5330861560c5",
   "metadata": {},
   "source": [
    "`(1)` 함수 $X:\\Omega \\to \\mathbb{R}$을 아래와 같이 정의할때\n",
    "\n",
    "$$X(\\omega) = \\begin{cases} 0 & \\omega \\in \\Omega \\cap \\mathbb{Q}^c \\\\ 1 & \\omega \\in \\Omega \\cap \\mathbb{Q} \\end{cases}$$"
   ]
  },
  {
   "cell_type": "markdown",
   "id": "bf05aeb9-d676-44b5-9387-6eb20a083ca5",
   "metadata": {},
   "source": [
    "$X$가 확률변수임을 보여라. "
   ]
  },
  {
   "cell_type": "markdown",
   "id": "ba37f668-cee6-4d10-bad3-9630843653f3",
   "metadata": {},
   "source": [
    "`(2)` $\\mu_X << \\nu$ 를 만족하는 $\\sigma$-finite measure $\\nu$ 를 제시하고, $\\mu_X$의 Radon-Nikodym derivative (***w.r.t. $\\nu$***) \n",
    "\n",
    "$$f:=\\frac{d\\mu_X}{d\\nu}$$\n",
    "\n",
    "를 제시하라. 단, 여기에서 $\\mu_X : P \\circ X^{-1}$ 이다."
   ]
  },
  {
   "cell_type": "markdown",
   "id": "bf9cda89-80d5-41eb-b39e-6d439eec8906",
   "metadata": {},
   "source": [
    "`(3)` $X$의 평균을 구하라. 즉 $\\mathbb{E}(X)$를 계산하라. "
   ]
  }
 ],
 "metadata": {
  "kernelspec": {
   "display_name": "Python 3",
   "language": "python",
   "name": "python3"
  },
  "language_info": {
   "codemirror_mode": {
    "name": "ipython",
    "version": 3
   },
   "file_extension": ".py",
   "mimetype": "text/x-python",
   "name": "python",
   "nbconvert_exporter": "python",
   "pygments_lexer": "ipython3",
   "version": "3.8.16"
  }
 },
 "nbformat": 4,
 "nbformat_minor": 5
}
